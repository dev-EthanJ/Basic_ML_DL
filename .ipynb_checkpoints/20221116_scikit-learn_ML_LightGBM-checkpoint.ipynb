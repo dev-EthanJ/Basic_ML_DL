{
 "cells": [
  {
   "cell_type": "markdown",
   "metadata": {
    "colab_type": "text",
    "id": "view-in-github"
   },
   "source": [
    "<a href=\"https://colab.research.google.com/github/dev-EthanJ/scikit-learn_Machine_Learning/blob/main/20221116_scikit-learn_ML_LightGBM.ipynb\" target=\"_parent\"><img src=\"https://colab.research.google.com/assets/colab-badge.svg\" alt=\"Open In Colab\"/></a>"
   ]
  },
  {
   "cell_type": "markdown",
   "metadata": {
    "id": "-krp0d22LM0v"
   },
   "source": [
    "# scikit-learn Machine Learning LightGBM <br> 사이킷런 머신러닝 LightGBM"
   ]
  },
  {
   "cell_type": "code",
   "execution_count": 1,
   "metadata": {
    "id": "RqK-L66CTCRS"
   },
   "outputs": [],
   "source": [
    "import pandas as pd\n",
    "import numpy as np\n",
    "import matplotlib.pyplot as plt\n",
    "import seaborn as sns"
   ]
  },
  {
   "cell_type": "markdown",
   "metadata": {
    "id": "QIAUAXwTaWah"
   },
   "source": [
    "## Data Collection"
   ]
  },
  {
   "cell_type": "code",
   "execution_count": 2,
   "metadata": {
    "colab": {
     "base_uri": "https://localhost:8080/",
     "height": 577
    },
    "id": "slsoQWNOMgmh",
    "outputId": "e6beb052-02f6-4cf8-977c-8c6c2d5f61f9"
   },
   "outputs": [
    {
     "data": {
      "text/html": [
       "<div>\n",
       "<style scoped>\n",
       "    .dataframe tbody tr th:only-of-type {\n",
       "        vertical-align: middle;\n",
       "    }\n",
       "\n",
       "    .dataframe tbody tr th {\n",
       "        vertical-align: top;\n",
       "    }\n",
       "\n",
       "    .dataframe thead th {\n",
       "        text-align: right;\n",
       "    }\n",
       "</style>\n",
       "<table border=\"1\" class=\"dataframe\">\n",
       "  <thead>\n",
       "    <tr style=\"text-align: right;\">\n",
       "      <th></th>\n",
       "      <th>trans_date_trans_time</th>\n",
       "      <th>cc_num</th>\n",
       "      <th>merchant</th>\n",
       "      <th>category</th>\n",
       "      <th>amt</th>\n",
       "      <th>first</th>\n",
       "      <th>last</th>\n",
       "      <th>gender</th>\n",
       "      <th>street</th>\n",
       "      <th>city</th>\n",
       "      <th>...</th>\n",
       "      <th>lat</th>\n",
       "      <th>long</th>\n",
       "      <th>city_pop</th>\n",
       "      <th>job</th>\n",
       "      <th>dob</th>\n",
       "      <th>trans_num</th>\n",
       "      <th>unix_time</th>\n",
       "      <th>merch_lat</th>\n",
       "      <th>merch_long</th>\n",
       "      <th>is_fraud</th>\n",
       "    </tr>\n",
       "  </thead>\n",
       "  <tbody>\n",
       "    <tr>\n",
       "      <th>0</th>\n",
       "      <td>2019-01-01 00:00:18</td>\n",
       "      <td>2703186189652095</td>\n",
       "      <td>fraud_Rippin, Kub and Mann</td>\n",
       "      <td>misc_net</td>\n",
       "      <td>4.97</td>\n",
       "      <td>Jennifer</td>\n",
       "      <td>Banks</td>\n",
       "      <td>F</td>\n",
       "      <td>561 Perry Cove</td>\n",
       "      <td>Moravian Falls</td>\n",
       "      <td>...</td>\n",
       "      <td>36.0788</td>\n",
       "      <td>-81.1781</td>\n",
       "      <td>3495</td>\n",
       "      <td>Psychologist, counselling</td>\n",
       "      <td>1988-03-09</td>\n",
       "      <td>0b242abb623afc578575680df30655b9</td>\n",
       "      <td>1325376018</td>\n",
       "      <td>36.011293</td>\n",
       "      <td>-82.048315</td>\n",
       "      <td>0</td>\n",
       "    </tr>\n",
       "    <tr>\n",
       "      <th>1</th>\n",
       "      <td>2019-01-01 00:00:44</td>\n",
       "      <td>630423337322</td>\n",
       "      <td>fraud_Heller, Gutmann and Zieme</td>\n",
       "      <td>grocery_pos</td>\n",
       "      <td>107.23</td>\n",
       "      <td>Stephanie</td>\n",
       "      <td>Gill</td>\n",
       "      <td>F</td>\n",
       "      <td>43039 Riley Greens Suite 393</td>\n",
       "      <td>Orient</td>\n",
       "      <td>...</td>\n",
       "      <td>48.8878</td>\n",
       "      <td>-118.2105</td>\n",
       "      <td>149</td>\n",
       "      <td>Special educational needs teacher</td>\n",
       "      <td>1978-06-21</td>\n",
       "      <td>1f76529f8574734946361c461b024d99</td>\n",
       "      <td>1325376044</td>\n",
       "      <td>49.159047</td>\n",
       "      <td>-118.186462</td>\n",
       "      <td>0</td>\n",
       "    </tr>\n",
       "    <tr>\n",
       "      <th>2</th>\n",
       "      <td>2019-01-01 00:00:51</td>\n",
       "      <td>38859492057661</td>\n",
       "      <td>fraud_Lind-Buckridge</td>\n",
       "      <td>entertainment</td>\n",
       "      <td>220.11</td>\n",
       "      <td>Edward</td>\n",
       "      <td>Sanchez</td>\n",
       "      <td>M</td>\n",
       "      <td>594 White Dale Suite 530</td>\n",
       "      <td>Malad City</td>\n",
       "      <td>...</td>\n",
       "      <td>42.1808</td>\n",
       "      <td>-112.2620</td>\n",
       "      <td>4154</td>\n",
       "      <td>Nature conservation officer</td>\n",
       "      <td>1962-01-19</td>\n",
       "      <td>a1a22d70485983eac12b5b88dad1cf95</td>\n",
       "      <td>1325376051</td>\n",
       "      <td>43.150704</td>\n",
       "      <td>-112.154481</td>\n",
       "      <td>0</td>\n",
       "    </tr>\n",
       "    <tr>\n",
       "      <th>3</th>\n",
       "      <td>2019-01-01 00:01:16</td>\n",
       "      <td>3534093764340240</td>\n",
       "      <td>fraud_Kutch, Hermiston and Farrell</td>\n",
       "      <td>gas_transport</td>\n",
       "      <td>45.00</td>\n",
       "      <td>Jeremy</td>\n",
       "      <td>White</td>\n",
       "      <td>M</td>\n",
       "      <td>9443 Cynthia Court Apt. 038</td>\n",
       "      <td>Boulder</td>\n",
       "      <td>...</td>\n",
       "      <td>46.2306</td>\n",
       "      <td>-112.1138</td>\n",
       "      <td>1939</td>\n",
       "      <td>Patent attorney</td>\n",
       "      <td>1967-01-12</td>\n",
       "      <td>6b849c168bdad6f867558c3793159a81</td>\n",
       "      <td>1325376076</td>\n",
       "      <td>47.034331</td>\n",
       "      <td>-112.561071</td>\n",
       "      <td>0</td>\n",
       "    </tr>\n",
       "    <tr>\n",
       "      <th>4</th>\n",
       "      <td>2019-01-01 00:03:06</td>\n",
       "      <td>375534208663984</td>\n",
       "      <td>fraud_Keeling-Crist</td>\n",
       "      <td>misc_pos</td>\n",
       "      <td>41.96</td>\n",
       "      <td>Tyler</td>\n",
       "      <td>Garcia</td>\n",
       "      <td>M</td>\n",
       "      <td>408 Bradley Rest</td>\n",
       "      <td>Doe Hill</td>\n",
       "      <td>...</td>\n",
       "      <td>38.4207</td>\n",
       "      <td>-79.4629</td>\n",
       "      <td>99</td>\n",
       "      <td>Dance movement psychotherapist</td>\n",
       "      <td>1986-03-28</td>\n",
       "      <td>a41d7549acf90789359a9aa5346dcb46</td>\n",
       "      <td>1325376186</td>\n",
       "      <td>38.674999</td>\n",
       "      <td>-78.632459</td>\n",
       "      <td>0</td>\n",
       "    </tr>\n",
       "  </tbody>\n",
       "</table>\n",
       "<p>5 rows × 22 columns</p>\n",
       "</div>"
      ],
      "text/plain": [
       "  trans_date_trans_time            cc_num                            merchant  \\\n",
       "0   2019-01-01 00:00:18  2703186189652095          fraud_Rippin, Kub and Mann   \n",
       "1   2019-01-01 00:00:44      630423337322     fraud_Heller, Gutmann and Zieme   \n",
       "2   2019-01-01 00:00:51    38859492057661                fraud_Lind-Buckridge   \n",
       "3   2019-01-01 00:01:16  3534093764340240  fraud_Kutch, Hermiston and Farrell   \n",
       "4   2019-01-01 00:03:06   375534208663984                 fraud_Keeling-Crist   \n",
       "\n",
       "        category     amt      first     last gender  \\\n",
       "0       misc_net    4.97   Jennifer    Banks      F   \n",
       "1    grocery_pos  107.23  Stephanie     Gill      F   \n",
       "2  entertainment  220.11     Edward  Sanchez      M   \n",
       "3  gas_transport   45.00     Jeremy    White      M   \n",
       "4       misc_pos   41.96      Tyler   Garcia      M   \n",
       "\n",
       "                         street            city  ...      lat      long  \\\n",
       "0                561 Perry Cove  Moravian Falls  ...  36.0788  -81.1781   \n",
       "1  43039 Riley Greens Suite 393          Orient  ...  48.8878 -118.2105   \n",
       "2      594 White Dale Suite 530      Malad City  ...  42.1808 -112.2620   \n",
       "3   9443 Cynthia Court Apt. 038         Boulder  ...  46.2306 -112.1138   \n",
       "4              408 Bradley Rest        Doe Hill  ...  38.4207  -79.4629   \n",
       "\n",
       "   city_pop                                job         dob  \\\n",
       "0      3495          Psychologist, counselling  1988-03-09   \n",
       "1       149  Special educational needs teacher  1978-06-21   \n",
       "2      4154        Nature conservation officer  1962-01-19   \n",
       "3      1939                    Patent attorney  1967-01-12   \n",
       "4        99     Dance movement psychotherapist  1986-03-28   \n",
       "\n",
       "                          trans_num   unix_time  merch_lat  merch_long  \\\n",
       "0  0b242abb623afc578575680df30655b9  1325376018  36.011293  -82.048315   \n",
       "1  1f76529f8574734946361c461b024d99  1325376044  49.159047 -118.186462   \n",
       "2  a1a22d70485983eac12b5b88dad1cf95  1325376051  43.150704 -112.154481   \n",
       "3  6b849c168bdad6f867558c3793159a81  1325376076  47.034331 -112.561071   \n",
       "4  a41d7549acf90789359a9aa5346dcb46  1325376186  38.674999  -78.632459   \n",
       "\n",
       "   is_fraud  \n",
       "0         0  \n",
       "1         0  \n",
       "2         0  \n",
       "3         0  \n",
       "4         0  \n",
       "\n",
       "[5 rows x 22 columns]"
      ]
     },
     "execution_count": 2,
     "metadata": {},
     "output_type": "execute_result"
    }
   ],
   "source": [
    "# https://www.kaggle.com/datasets/kartik2112/fraud-detection\n",
    "\n",
    "file_url = 'https://media.githubusercontent.com/media/musthave-ML10/data_source/main/fraud.csv'\n",
    "df = pd.read_csv(file_url)\n",
    "\n",
    "df.head()"
   ]
  },
  {
   "cell_type": "code",
   "execution_count": 3,
   "metadata": {
    "colab": {
     "base_uri": "https://localhost:8080/"
    },
    "id": "3xN8sFjwS_ZZ",
    "outputId": "e95eaaca-a5f4-4093-b84e-7a20670e585c"
   },
   "outputs": [
    {
     "data": {
      "text/plain": [
       "Index(['trans_date_trans_time', 'cc_num', 'merchant', 'category', 'amt',\n",
       "       'first', 'last', 'gender', 'street', 'city', 'state', 'zip', 'lat',\n",
       "       'long', 'city_pop', 'job', 'dob', 'trans_num', 'unix_time', 'merch_lat',\n",
       "       'merch_long', 'is_fraud'],\n",
       "      dtype='object')"
      ]
     },
     "execution_count": 3,
     "metadata": {},
     "output_type": "execute_result"
    }
   ],
   "source": [
    "df.columns"
   ]
  },
  {
   "cell_type": "markdown",
   "metadata": {
    "id": "POvtvVa-VeSL"
   },
   "source": [
    "- `trans_date_trans_time` : 거래 시간\n",
    "- `cc_num` : 카드 번호. 고윳값이기 때문에 여기서는 id처럼 활용할 수 있음\n",
    "- `merchant` : 거래 상점\n",
    "- `category` : 거래 상점의 범주(애완용품, 여행, 엔터테인먼트 등)\n",
    "- `amt`: 거래금액 (amount)\n",
    "- `first`, `last` : 이름\n",
    "- `gender` : 성별\n",
    "- `street`, `state`, `zip` : 고객 거주지 정보\n",
    "- `lat` ,`long` : 고객주소에 대한 위도 및 경도\n",
    "- `city_pop` : 고객의 zipcode 속하는 인구 수\n",
    "- `job` : 직업\n",
    "- `dob` : 생년월일\n",
    "- `trans_num` : 거래번호\n",
    "- `unix_time` : 거래시간 (유닉스 타임스탬프)\n",
    "- `merch_lat`, `merch_long` : 상점의 위경도\n",
    "- `is_fraud` : 사기거래 여부 (이상거래 여부): target"
   ]
  },
  {
   "cell_type": "code",
   "execution_count": 4,
   "metadata": {
    "colab": {
     "base_uri": "https://localhost:8080/"
    },
    "id": "iw6Pha_RV52X",
    "outputId": "b14c5c72-d8db-4a1f-8389-7e0abfb3b042"
   },
   "outputs": [
    {
     "name": "stdout",
     "output_type": "stream",
     "text": [
      "<class 'pandas.core.frame.DataFrame'>\n",
      "RangeIndex: 1852394 entries, 0 to 1852393\n",
      "Data columns (total 22 columns):\n",
      " #   Column                 Dtype  \n",
      "---  ------                 -----  \n",
      " 0   trans_date_trans_time  object \n",
      " 1   cc_num                 int64  \n",
      " 2   merchant               object \n",
      " 3   category               object \n",
      " 4   amt                    float64\n",
      " 5   first                  object \n",
      " 6   last                   object \n",
      " 7   gender                 object \n",
      " 8   street                 object \n",
      " 9   city                   object \n",
      " 10  state                  object \n",
      " 11  zip                    int64  \n",
      " 12  lat                    float64\n",
      " 13  long                   float64\n",
      " 14  city_pop               int64  \n",
      " 15  job                    object \n",
      " 16  dob                    object \n",
      " 17  trans_num              object \n",
      " 18  unix_time              int64  \n",
      " 19  merch_lat              float64\n",
      " 20  merch_long             float64\n",
      " 21  is_fraud               int64  \n",
      "dtypes: float64(5), int64(5), object(12)\n",
      "memory usage: 310.9+ MB\n"
     ]
    }
   ],
   "source": [
    "df.info()"
   ]
  },
  {
   "cell_type": "code",
   "execution_count": 5,
   "metadata": {
    "colab": {
     "base_uri": "https://localhost:8080/"
    },
    "id": "lBkD8o4-ZwUJ",
    "outputId": "bcdf9fc7-3ef9-4426-c1c0-c43295de3371"
   },
   "outputs": [
    {
     "name": "stdout",
     "output_type": "stream",
     "text": [
      "<class 'pandas.core.frame.DataFrame'>\n",
      "RangeIndex: 1852394 entries, 0 to 1852393\n",
      "Data columns (total 22 columns):\n",
      " #   Column                 Non-Null Count    Dtype  \n",
      "---  ------                 --------------    -----  \n",
      " 0   trans_date_trans_time  1852394 non-null  object \n",
      " 1   cc_num                 1852394 non-null  int64  \n",
      " 2   merchant               1852394 non-null  object \n",
      " 3   category               1852394 non-null  object \n",
      " 4   amt                    1852394 non-null  float64\n",
      " 5   first                  1852394 non-null  object \n",
      " 6   last                   1852394 non-null  object \n",
      " 7   gender                 1852394 non-null  object \n",
      " 8   street                 1852394 non-null  object \n",
      " 9   city                   1852394 non-null  object \n",
      " 10  state                  1852394 non-null  object \n",
      " 11  zip                    1852394 non-null  int64  \n",
      " 12  lat                    1852394 non-null  float64\n",
      " 13  long                   1852394 non-null  float64\n",
      " 14  city_pop               1852394 non-null  int64  \n",
      " 15  job                    1852394 non-null  object \n",
      " 16  dob                    1852394 non-null  object \n",
      " 17  trans_num              1852394 non-null  object \n",
      " 18  unix_time              1852394 non-null  int64  \n",
      " 19  merch_lat              1852394 non-null  float64\n",
      " 20  merch_long             1852394 non-null  float64\n",
      " 21  is_fraud               1852394 non-null  int64  \n",
      "dtypes: float64(5), int64(5), object(12)\n",
      "memory usage: 310.9+ MB\n"
     ]
    }
   ],
   "source": [
    "df.info(show_counts=True)"
   ]
  },
  {
   "cell_type": "code",
   "execution_count": 6,
   "metadata": {
    "colab": {
     "base_uri": "https://localhost:8080/",
     "height": 364
    },
    "id": "Sz7ycyoLfR3A",
    "outputId": "52b908da-68c4-4ba0-a41b-26ccfc35dba2"
   },
   "outputs": [
    {
     "data": {
      "text/html": [
       "<div>\n",
       "<style scoped>\n",
       "    .dataframe tbody tr th:only-of-type {\n",
       "        vertical-align: middle;\n",
       "    }\n",
       "\n",
       "    .dataframe tbody tr th {\n",
       "        vertical-align: top;\n",
       "    }\n",
       "\n",
       "    .dataframe thead th {\n",
       "        text-align: right;\n",
       "    }\n",
       "</style>\n",
       "<table border=\"1\" class=\"dataframe\">\n",
       "  <thead>\n",
       "    <tr style=\"text-align: right;\">\n",
       "      <th></th>\n",
       "      <th>cc_num</th>\n",
       "      <th>amt</th>\n",
       "      <th>zip</th>\n",
       "      <th>lat</th>\n",
       "      <th>long</th>\n",
       "      <th>city_pop</th>\n",
       "      <th>unix_time</th>\n",
       "      <th>merch_lat</th>\n",
       "      <th>merch_long</th>\n",
       "      <th>is_fraud</th>\n",
       "    </tr>\n",
       "  </thead>\n",
       "  <tbody>\n",
       "    <tr>\n",
       "      <th>count</th>\n",
       "      <td>1852394.00</td>\n",
       "      <td>1852394.00</td>\n",
       "      <td>1852394.00</td>\n",
       "      <td>1852394.00</td>\n",
       "      <td>1852394.00</td>\n",
       "      <td>1852394.00</td>\n",
       "      <td>1852394.00</td>\n",
       "      <td>1852394.00</td>\n",
       "      <td>1852394.00</td>\n",
       "      <td>1852394.00</td>\n",
       "    </tr>\n",
       "    <tr>\n",
       "      <th>mean</th>\n",
       "      <td>417386038394006464.00</td>\n",
       "      <td>70.06</td>\n",
       "      <td>48813.26</td>\n",
       "      <td>38.54</td>\n",
       "      <td>-90.23</td>\n",
       "      <td>88643.67</td>\n",
       "      <td>1358674218.83</td>\n",
       "      <td>38.54</td>\n",
       "      <td>-90.23</td>\n",
       "      <td>0.01</td>\n",
       "    </tr>\n",
       "    <tr>\n",
       "      <th>std</th>\n",
       "      <td>1309115265318020352.00</td>\n",
       "      <td>159.25</td>\n",
       "      <td>26881.85</td>\n",
       "      <td>5.07</td>\n",
       "      <td>13.75</td>\n",
       "      <td>301487.62</td>\n",
       "      <td>18195081.39</td>\n",
       "      <td>5.11</td>\n",
       "      <td>13.76</td>\n",
       "      <td>0.07</td>\n",
       "    </tr>\n",
       "    <tr>\n",
       "      <th>min</th>\n",
       "      <td>60416207185.00</td>\n",
       "      <td>1.00</td>\n",
       "      <td>1257.00</td>\n",
       "      <td>20.03</td>\n",
       "      <td>-165.67</td>\n",
       "      <td>23.00</td>\n",
       "      <td>1325376018.00</td>\n",
       "      <td>19.03</td>\n",
       "      <td>-166.67</td>\n",
       "      <td>0.00</td>\n",
       "    </tr>\n",
       "    <tr>\n",
       "      <th>25%</th>\n",
       "      <td>180042946491150.00</td>\n",
       "      <td>9.64</td>\n",
       "      <td>26237.00</td>\n",
       "      <td>34.67</td>\n",
       "      <td>-96.80</td>\n",
       "      <td>741.00</td>\n",
       "      <td>1343016823.75</td>\n",
       "      <td>34.74</td>\n",
       "      <td>-96.90</td>\n",
       "      <td>0.00</td>\n",
       "    </tr>\n",
       "    <tr>\n",
       "      <th>50%</th>\n",
       "      <td>3521417320836166.00</td>\n",
       "      <td>47.45</td>\n",
       "      <td>48174.00</td>\n",
       "      <td>39.35</td>\n",
       "      <td>-87.48</td>\n",
       "      <td>2443.00</td>\n",
       "      <td>1357089331.00</td>\n",
       "      <td>39.37</td>\n",
       "      <td>-87.44</td>\n",
       "      <td>0.00</td>\n",
       "    </tr>\n",
       "    <tr>\n",
       "      <th>75%</th>\n",
       "      <td>4642255475285942.00</td>\n",
       "      <td>83.10</td>\n",
       "      <td>72042.00</td>\n",
       "      <td>41.94</td>\n",
       "      <td>-80.16</td>\n",
       "      <td>20328.00</td>\n",
       "      <td>1374581485.25</td>\n",
       "      <td>41.96</td>\n",
       "      <td>-80.25</td>\n",
       "      <td>0.00</td>\n",
       "    </tr>\n",
       "    <tr>\n",
       "      <th>max</th>\n",
       "      <td>4992346398065154048.00</td>\n",
       "      <td>28948.90</td>\n",
       "      <td>99921.00</td>\n",
       "      <td>66.69</td>\n",
       "      <td>-67.95</td>\n",
       "      <td>2906700.00</td>\n",
       "      <td>1388534374.00</td>\n",
       "      <td>67.51</td>\n",
       "      <td>-66.95</td>\n",
       "      <td>1.00</td>\n",
       "    </tr>\n",
       "  </tbody>\n",
       "</table>\n",
       "</div>"
      ],
      "text/plain": [
       "                      cc_num        amt        zip        lat       long  \\\n",
       "count             1852394.00 1852394.00 1852394.00 1852394.00 1852394.00   \n",
       "mean   417386038394006464.00      70.06   48813.26      38.54     -90.23   \n",
       "std   1309115265318020352.00     159.25   26881.85       5.07      13.75   \n",
       "min           60416207185.00       1.00    1257.00      20.03    -165.67   \n",
       "25%       180042946491150.00       9.64   26237.00      34.67     -96.80   \n",
       "50%      3521417320836166.00      47.45   48174.00      39.35     -87.48   \n",
       "75%      4642255475285942.00      83.10   72042.00      41.94     -80.16   \n",
       "max   4992346398065154048.00   28948.90   99921.00      66.69     -67.95   \n",
       "\n",
       "        city_pop     unix_time  merch_lat  merch_long   is_fraud  \n",
       "count 1852394.00    1852394.00 1852394.00  1852394.00 1852394.00  \n",
       "mean    88643.67 1358674218.83      38.54      -90.23       0.01  \n",
       "std    301487.62   18195081.39       5.11       13.76       0.07  \n",
       "min        23.00 1325376018.00      19.03     -166.67       0.00  \n",
       "25%       741.00 1343016823.75      34.74      -96.90       0.00  \n",
       "50%      2443.00 1357089331.00      39.37      -87.44       0.00  \n",
       "75%     20328.00 1374581485.25      41.96      -80.25       0.00  \n",
       "max   2906700.00 1388534374.00      67.51      -66.95       1.00  "
      ]
     },
     "execution_count": 6,
     "metadata": {},
     "output_type": "execute_result"
    }
   ],
   "source": [
    "pd.options.display.float_format = '{:.2f}'.format\n",
    "\n",
    "df.describe()"
   ]
  },
  {
   "cell_type": "markdown",
   "metadata": {
    "id": "alxR_IXrZtot"
   },
   "source": [
    "## Data pre-processing"
   ]
  },
  {
   "cell_type": "markdown",
   "metadata": {
    "id": "4jJqKDm5bOwr"
   },
   "source": [
    "### 의미 없는 Data 제거"
   ]
  },
  {
   "cell_type": "code",
   "execution_count": 7,
   "metadata": {
    "colab": {
     "base_uri": "https://localhost:8080/"
    },
    "id": "u1fT2AOZbS7D",
    "outputId": "2bfa9d13-8a68-4d04-f062-8e9666c227c6"
   },
   "outputs": [
    {
     "data": {
      "text/plain": [
       "Index(['trans_date_trans_time', 'cc_num', 'category', 'amt', 'gender', 'lat',\n",
       "       'long', 'city_pop', 'dob', 'merch_lat', 'merch_long', 'is_fraud'],\n",
       "      dtype='object')"
      ]
     },
     "execution_count": 7,
     "metadata": {},
     "output_type": "execute_result"
    }
   ],
   "source": [
    "df = df.drop(columns=['first', 'last', 'street', 'city', 'state', 'zip',\n",
    "                      'trans_num', 'unix_time', 'job', 'merchant'])\n",
    "\n",
    "df.columns"
   ]
  },
  {
   "cell_type": "code",
   "execution_count": 8,
   "metadata": {
    "colab": {
     "base_uri": "https://localhost:8080/"
    },
    "id": "gJ14_4SBbmyk",
    "outputId": "144e852d-1e81-4bea-f0a0-6543f31c057a"
   },
   "outputs": [
    {
     "name": "stdout",
     "output_type": "stream",
     "text": [
      "<class 'pandas.core.frame.DataFrame'>\n",
      "RangeIndex: 1852394 entries, 0 to 1852393\n",
      "Data columns (total 12 columns):\n",
      " #   Column                 Dtype         \n",
      "---  ------                 -----         \n",
      " 0   trans_date_trans_time  datetime64[ns]\n",
      " 1   cc_num                 int64         \n",
      " 2   category               object        \n",
      " 3   amt                    float64       \n",
      " 4   gender                 object        \n",
      " 5   lat                    float64       \n",
      " 6   long                   float64       \n",
      " 7   city_pop               int64         \n",
      " 8   dob                    object        \n",
      " 9   merch_lat              float64       \n",
      " 10  merch_long             float64       \n",
      " 11  is_fraud               int64         \n",
      "dtypes: datetime64[ns](1), float64(5), int64(3), object(3)\n",
      "memory usage: 169.6+ MB\n"
     ]
    }
   ],
   "source": [
    "df['trans_date_trans_time'] = pd.to_datetime(df['trans_date_trans_time'])\n",
    "\n",
    "df.info()"
   ]
  },
  {
   "cell_type": "markdown",
   "metadata": {
    "id": "iFoWPgXrbzHb"
   },
   "source": [
    "### feature engineering\n",
    "\n",
    "- 고객의 원래 거래 패턴에서 벗어나는 거래 탐지"
   ]
  },
  {
   "cell_type": "markdown",
   "metadata": {
    "id": "VoO2y1Djb9lo"
   },
   "source": [
    "#### 결제 금액\n",
    "\n",
    "- 정규분포 Z점수: $\\frac{x-\\bar{x}}{\\sigma}$\n",
    "\n",
    "- `df.groupby().agg([list of value])`: 계산된 통계값을 묶어서 표현\n",
    "\n",
    "    - `mean`: 평균, `std`: 표준편차, `amt`: 결제금액"
   ]
  },
  {
   "cell_type": "code",
   "execution_count": 9,
   "metadata": {
    "colab": {
     "base_uri": "https://localhost:8080/",
     "height": 206
    },
    "id": "EzxqjW3ydPQo",
    "outputId": "0b8b9138-5eed-485a-af54-65271db98c98"
   },
   "outputs": [
    {
     "name": "stderr",
     "output_type": "stream",
     "text": [
      "C:\\Users\\EthanJ\\AppData\\Local\\Temp\\ipykernel_14708\\3458248078.py:2: FutureWarning: ['trans_date_trans_time', 'category', 'gender', 'dob'] did not aggregate successfully. If any error is raised this will raise in a future version of pandas. Drop these columns/ops to avoid this warning.\n",
      "  amt_info = df.groupby('cc_num').agg(['mean', 'std'])['amt'].reset_index()\n"
     ]
    },
    {
     "data": {
      "text/html": [
       "<div>\n",
       "<style scoped>\n",
       "    .dataframe tbody tr th:only-of-type {\n",
       "        vertical-align: middle;\n",
       "    }\n",
       "\n",
       "    .dataframe tbody tr th {\n",
       "        vertical-align: top;\n",
       "    }\n",
       "\n",
       "    .dataframe thead th {\n",
       "        text-align: right;\n",
       "    }\n",
       "</style>\n",
       "<table border=\"1\" class=\"dataframe\">\n",
       "  <thead>\n",
       "    <tr style=\"text-align: right;\">\n",
       "      <th></th>\n",
       "      <th>cc_num</th>\n",
       "      <th>mean</th>\n",
       "      <th>std</th>\n",
       "    </tr>\n",
       "  </thead>\n",
       "  <tbody>\n",
       "    <tr>\n",
       "      <th>0</th>\n",
       "      <td>60416207185</td>\n",
       "      <td>59.26</td>\n",
       "      <td>142.87</td>\n",
       "    </tr>\n",
       "    <tr>\n",
       "      <th>1</th>\n",
       "      <td>60422928733</td>\n",
       "      <td>65.48</td>\n",
       "      <td>92.04</td>\n",
       "    </tr>\n",
       "    <tr>\n",
       "      <th>2</th>\n",
       "      <td>60423098130</td>\n",
       "      <td>96.38</td>\n",
       "      <td>1000.69</td>\n",
       "    </tr>\n",
       "    <tr>\n",
       "      <th>3</th>\n",
       "      <td>60427851591</td>\n",
       "      <td>107.49</td>\n",
       "      <td>131.01</td>\n",
       "    </tr>\n",
       "    <tr>\n",
       "      <th>4</th>\n",
       "      <td>60487002085</td>\n",
       "      <td>64.10</td>\n",
       "      <td>153.21</td>\n",
       "    </tr>\n",
       "  </tbody>\n",
       "</table>\n",
       "</div>"
      ],
      "text/plain": [
       "        cc_num   mean     std\n",
       "0  60416207185  59.26  142.87\n",
       "1  60422928733  65.48   92.04\n",
       "2  60423098130  96.38 1000.69\n",
       "3  60427851591 107.49  131.01\n",
       "4  60487002085  64.10  153.21"
      ]
     },
     "execution_count": 9,
     "metadata": {},
     "output_type": "execute_result"
    }
   ],
   "source": [
    "# 각 카드번호별 '결제금액'의 평균, 표준편차\n",
    "amt_info = df.groupby('cc_num').agg(['mean', 'std'])['amt'].reset_index()\n",
    "\n",
    "amt_info.head()"
   ]
  },
  {
   "cell_type": "code",
   "execution_count": 10,
   "metadata": {
    "colab": {
     "base_uri": "https://localhost:8080/"
    },
    "id": "vMXvetYXdeit",
    "outputId": "a7ed3b10-5091-4f90-e251-ec8436a2e6e9"
   },
   "outputs": [
    {
     "data": {
      "text/plain": [
       "Index(['trans_date_trans_time', 'cc_num', 'category', 'amt', 'gender', 'lat',\n",
       "       'long', 'city_pop', 'dob', 'merch_lat', 'merch_long', 'is_fraud',\n",
       "       'mean', 'std'],\n",
       "      dtype='object')"
      ]
     },
     "execution_count": 10,
     "metadata": {},
     "output_type": "execute_result"
    }
   ],
   "source": [
    "df = df.merge(amt_info, on='cc_num', how='left')\n",
    "\n",
    "df.columns"
   ]
  },
  {
   "cell_type": "code",
   "execution_count": 11,
   "metadata": {
    "colab": {
     "base_uri": "https://localhost:8080/",
     "height": 206
    },
    "id": "BUEVcAR9ehvF",
    "outputId": "1abc4927-ff13-4a74-a977-0e1038fb313f"
   },
   "outputs": [
    {
     "data": {
      "text/html": [
       "<div>\n",
       "<style scoped>\n",
       "    .dataframe tbody tr th:only-of-type {\n",
       "        vertical-align: middle;\n",
       "    }\n",
       "\n",
       "    .dataframe tbody tr th {\n",
       "        vertical-align: top;\n",
       "    }\n",
       "\n",
       "    .dataframe thead th {\n",
       "        text-align: right;\n",
       "    }\n",
       "</style>\n",
       "<table border=\"1\" class=\"dataframe\">\n",
       "  <thead>\n",
       "    <tr style=\"text-align: right;\">\n",
       "      <th></th>\n",
       "      <th>cc_num</th>\n",
       "      <th>amt</th>\n",
       "      <th>mean</th>\n",
       "      <th>std</th>\n",
       "    </tr>\n",
       "  </thead>\n",
       "  <tbody>\n",
       "    <tr>\n",
       "      <th>0</th>\n",
       "      <td>2703186189652095</td>\n",
       "      <td>4.97</td>\n",
       "      <td>89.41</td>\n",
       "      <td>127.53</td>\n",
       "    </tr>\n",
       "    <tr>\n",
       "      <th>1</th>\n",
       "      <td>630423337322</td>\n",
       "      <td>107.23</td>\n",
       "      <td>56.08</td>\n",
       "      <td>159.20</td>\n",
       "    </tr>\n",
       "    <tr>\n",
       "      <th>2</th>\n",
       "      <td>38859492057661</td>\n",
       "      <td>220.11</td>\n",
       "      <td>69.92</td>\n",
       "      <td>116.69</td>\n",
       "    </tr>\n",
       "    <tr>\n",
       "      <th>3</th>\n",
       "      <td>3534093764340240</td>\n",
       "      <td>45.00</td>\n",
       "      <td>80.09</td>\n",
       "      <td>280.08</td>\n",
       "    </tr>\n",
       "    <tr>\n",
       "      <th>4</th>\n",
       "      <td>375534208663984</td>\n",
       "      <td>41.96</td>\n",
       "      <td>95.34</td>\n",
       "      <td>94.32</td>\n",
       "    </tr>\n",
       "  </tbody>\n",
       "</table>\n",
       "</div>"
      ],
      "text/plain": [
       "             cc_num    amt  mean    std\n",
       "0  2703186189652095   4.97 89.41 127.53\n",
       "1      630423337322 107.23 56.08 159.20\n",
       "2    38859492057661 220.11 69.92 116.69\n",
       "3  3534093764340240  45.00 80.09 280.08\n",
       "4   375534208663984  41.96 95.34  94.32"
      ]
     },
     "execution_count": 11,
     "metadata": {},
     "output_type": "execute_result"
    }
   ],
   "source": [
    "df[['cc_num', 'amt', 'mean', 'std']].head()"
   ]
  },
  {
   "cell_type": "code",
   "execution_count": 12,
   "metadata": {
    "colab": {
     "base_uri": "https://localhost:8080/"
    },
    "id": "Z-dag-pgeoZs",
    "outputId": "f09d06c9-d22b-4b9a-d0e4-517597342b1f"
   },
   "outputs": [
    {
     "data": {
      "text/plain": [
       "0   -0.66\n",
       "1    0.32\n",
       "2    1.29\n",
       "3   -0.13\n",
       "4   -0.57\n",
       "Name: amt_z_score, dtype: float64"
      ]
     },
     "execution_count": 12,
     "metadata": {},
     "output_type": "execute_result"
    }
   ],
   "source": [
    "df['amt_z_score'] = (df['amt'] - df['mean']) / df['std']\n",
    "\n",
    "df['amt_z_score'].head()"
   ]
  },
  {
   "cell_type": "code",
   "execution_count": 13,
   "metadata": {
    "colab": {
     "base_uri": "https://localhost:8080/"
    },
    "id": "c7W8J02ehJ6U",
    "outputId": "f7117716-5604-4330-ea82-57a52ce17ade"
   },
   "outputs": [
    {
     "data": {
      "text/plain": [
       "Index(['trans_date_trans_time', 'cc_num', 'category', 'amt', 'gender', 'lat',\n",
       "       'long', 'city_pop', 'dob', 'merch_lat', 'merch_long', 'is_fraud',\n",
       "       'amt_z_score'],\n",
       "      dtype='object')"
      ]
     },
     "execution_count": 13,
     "metadata": {},
     "output_type": "execute_result"
    }
   ],
   "source": [
    "df = df.drop(columns=['mean', 'std'])\n",
    "\n",
    "df.columns"
   ]
  },
  {
   "cell_type": "markdown",
   "metadata": {
    "id": "Nn-GVmv8fKUF"
   },
   "source": [
    "### `category`별 `amt`(결제금액)"
   ]
  },
  {
   "cell_type": "code",
   "execution_count": 14,
   "metadata": {
    "colab": {
     "base_uri": "https://localhost:8080/",
     "height": 206
    },
    "id": "ZdXYLoL6f5Ip",
    "outputId": "cb2dd97b-1d9b-4b82-88bf-603dc4997360"
   },
   "outputs": [
    {
     "name": "stderr",
     "output_type": "stream",
     "text": [
      "C:\\Users\\EthanJ\\AppData\\Local\\Temp\\ipykernel_14708\\2233020675.py:1: FutureWarning: ['trans_date_trans_time', 'gender', 'dob'] did not aggregate successfully. If any error is raised this will raise in a future version of pandas. Drop these columns/ops to avoid this warning.\n",
      "  category_info = df.groupby(['cc_num', 'category']).agg(['mean', 'std'])['amt'].reset_index()\n"
     ]
    },
    {
     "data": {
      "text/html": [
       "<div>\n",
       "<style scoped>\n",
       "    .dataframe tbody tr th:only-of-type {\n",
       "        vertical-align: middle;\n",
       "    }\n",
       "\n",
       "    .dataframe tbody tr th {\n",
       "        vertical-align: top;\n",
       "    }\n",
       "\n",
       "    .dataframe thead th {\n",
       "        text-align: right;\n",
       "    }\n",
       "</style>\n",
       "<table border=\"1\" class=\"dataframe\">\n",
       "  <thead>\n",
       "    <tr style=\"text-align: right;\">\n",
       "      <th></th>\n",
       "      <th>cc_num</th>\n",
       "      <th>category</th>\n",
       "      <th>mean</th>\n",
       "      <th>std</th>\n",
       "    </tr>\n",
       "  </thead>\n",
       "  <tbody>\n",
       "    <tr>\n",
       "      <th>0</th>\n",
       "      <td>60416207185</td>\n",
       "      <td>entertainment</td>\n",
       "      <td>51.84</td>\n",
       "      <td>65.49</td>\n",
       "    </tr>\n",
       "    <tr>\n",
       "      <th>1</th>\n",
       "      <td>60416207185</td>\n",
       "      <td>food_dining</td>\n",
       "      <td>26.74</td>\n",
       "      <td>46.38</td>\n",
       "    </tr>\n",
       "    <tr>\n",
       "      <th>2</th>\n",
       "      <td>60416207185</td>\n",
       "      <td>gas_transport</td>\n",
       "      <td>59.78</td>\n",
       "      <td>15.76</td>\n",
       "    </tr>\n",
       "    <tr>\n",
       "      <th>3</th>\n",
       "      <td>60416207185</td>\n",
       "      <td>grocery_net</td>\n",
       "      <td>52.15</td>\n",
       "      <td>17.69</td>\n",
       "    </tr>\n",
       "    <tr>\n",
       "      <th>4</th>\n",
       "      <td>60416207185</td>\n",
       "      <td>grocery_pos</td>\n",
       "      <td>101.56</td>\n",
       "      <td>21.89</td>\n",
       "    </tr>\n",
       "  </tbody>\n",
       "</table>\n",
       "</div>"
      ],
      "text/plain": [
       "        cc_num       category   mean   std\n",
       "0  60416207185  entertainment  51.84 65.49\n",
       "1  60416207185    food_dining  26.74 46.38\n",
       "2  60416207185  gas_transport  59.78 15.76\n",
       "3  60416207185    grocery_net  52.15 17.69\n",
       "4  60416207185    grocery_pos 101.56 21.89"
      ]
     },
     "execution_count": 14,
     "metadata": {},
     "output_type": "execute_result"
    }
   ],
   "source": [
    "category_info = df.groupby(['cc_num', 'category']).agg(['mean', 'std'])['amt'].reset_index()\n",
    "\n",
    "category_info.head()"
   ]
  },
  {
   "cell_type": "code",
   "execution_count": 15,
   "metadata": {
    "id": "qHxcywKogFHe"
   },
   "outputs": [],
   "source": [
    "df = df.merge(category_info, on=['cc_num', 'category'], how='left')"
   ]
  },
  {
   "cell_type": "code",
   "execution_count": 16,
   "metadata": {
    "colab": {
     "base_uri": "https://localhost:8080/"
    },
    "id": "NHXleAAphiJq",
    "outputId": "a292ef58-7b38-4e0b-a734-165349b28a18"
   },
   "outputs": [
    {
     "data": {
      "text/plain": [
       "Index(['trans_date_trans_time', 'cc_num', 'category', 'amt', 'gender', 'lat',\n",
       "       'long', 'city_pop', 'dob', 'merch_lat', 'merch_long', 'is_fraud',\n",
       "       'amt_z_score', 'mean', 'std'],\n",
       "      dtype='object')"
      ]
     },
     "execution_count": 16,
     "metadata": {},
     "output_type": "execute_result"
    }
   ],
   "source": [
    "df.columns"
   ]
  },
  {
   "cell_type": "code",
   "execution_count": 17,
   "metadata": {
    "colab": {
     "base_uri": "https://localhost:8080/",
     "height": 206
    },
    "id": "xA8nQPbQhzyT",
    "outputId": "be200fa7-1348-4d96-b0b9-5722ed7a0526"
   },
   "outputs": [
    {
     "data": {
      "text/html": [
       "<div>\n",
       "<style scoped>\n",
       "    .dataframe tbody tr th:only-of-type {\n",
       "        vertical-align: middle;\n",
       "    }\n",
       "\n",
       "    .dataframe tbody tr th {\n",
       "        vertical-align: top;\n",
       "    }\n",
       "\n",
       "    .dataframe thead th {\n",
       "        text-align: right;\n",
       "    }\n",
       "</style>\n",
       "<table border=\"1\" class=\"dataframe\">\n",
       "  <thead>\n",
       "    <tr style=\"text-align: right;\">\n",
       "      <th></th>\n",
       "      <th>cc_num</th>\n",
       "      <th>category</th>\n",
       "      <th>amt</th>\n",
       "      <th>mean</th>\n",
       "      <th>std</th>\n",
       "    </tr>\n",
       "  </thead>\n",
       "  <tbody>\n",
       "    <tr>\n",
       "      <th>0</th>\n",
       "      <td>2703186189652095</td>\n",
       "      <td>misc_net</td>\n",
       "      <td>4.97</td>\n",
       "      <td>84.86</td>\n",
       "      <td>116.07</td>\n",
       "    </tr>\n",
       "    <tr>\n",
       "      <th>1</th>\n",
       "      <td>630423337322</td>\n",
       "      <td>grocery_pos</td>\n",
       "      <td>107.23</td>\n",
       "      <td>99.64</td>\n",
       "      <td>23.90</td>\n",
       "    </tr>\n",
       "    <tr>\n",
       "      <th>2</th>\n",
       "      <td>38859492057661</td>\n",
       "      <td>entertainment</td>\n",
       "      <td>220.11</td>\n",
       "      <td>46.65</td>\n",
       "      <td>60.39</td>\n",
       "    </tr>\n",
       "    <tr>\n",
       "      <th>3</th>\n",
       "      <td>3534093764340240</td>\n",
       "      <td>gas_transport</td>\n",
       "      <td>45.00</td>\n",
       "      <td>61.54</td>\n",
       "      <td>15.75</td>\n",
       "    </tr>\n",
       "    <tr>\n",
       "      <th>4</th>\n",
       "      <td>375534208663984</td>\n",
       "      <td>misc_pos</td>\n",
       "      <td>41.96</td>\n",
       "      <td>35.48</td>\n",
       "      <td>4.93</td>\n",
       "    </tr>\n",
       "  </tbody>\n",
       "</table>\n",
       "</div>"
      ],
      "text/plain": [
       "             cc_num       category    amt  mean    std\n",
       "0  2703186189652095       misc_net   4.97 84.86 116.07\n",
       "1      630423337322    grocery_pos 107.23 99.64  23.90\n",
       "2    38859492057661  entertainment 220.11 46.65  60.39\n",
       "3  3534093764340240  gas_transport  45.00 61.54  15.75\n",
       "4   375534208663984       misc_pos  41.96 35.48   4.93"
      ]
     },
     "execution_count": 17,
     "metadata": {},
     "output_type": "execute_result"
    }
   ],
   "source": [
    "df[['cc_num', 'category', 'amt', 'mean', 'std']].head()"
   ]
  },
  {
   "cell_type": "code",
   "execution_count": 18,
   "metadata": {
    "colab": {
     "base_uri": "https://localhost:8080/"
    },
    "id": "6ZOiOrYMga20",
    "outputId": "5093817b-ddd4-46bf-bb8d-b60713413556"
   },
   "outputs": [
    {
     "data": {
      "text/plain": [
       "0   -0.69\n",
       "1    0.32\n",
       "2    2.87\n",
       "3   -1.05\n",
       "4    1.31\n",
       "Name: cate_z_score, dtype: float64"
      ]
     },
     "execution_count": 18,
     "metadata": {},
     "output_type": "execute_result"
    }
   ],
   "source": [
    "df['cate_z_score'] = (df['amt'] - df['mean']) / df['std']\n",
    "\n",
    "df['cate_z_score'].head()"
   ]
  },
  {
   "cell_type": "code",
   "execution_count": 19,
   "metadata": {
    "colab": {
     "base_uri": "https://localhost:8080/"
    },
    "id": "D4nlw36BiCGy",
    "outputId": "55c34bf4-aef1-447f-cf36-04cb105cccd4"
   },
   "outputs": [
    {
     "data": {
      "text/plain": [
       "Index(['trans_date_trans_time', 'cc_num', 'category', 'amt', 'gender', 'lat',\n",
       "       'long', 'city_pop', 'dob', 'merch_lat', 'merch_long', 'is_fraud',\n",
       "       'amt_z_score', 'cate_z_score'],\n",
       "      dtype='object')"
      ]
     },
     "execution_count": 19,
     "metadata": {},
     "output_type": "execute_result"
    }
   ],
   "source": [
    "df = df.drop(columns=['mean', 'std'])\n",
    "\n",
    "df.columns"
   ]
  },
  {
   "cell_type": "markdown",
   "metadata": {
    "id": "KQapGCpziBRr"
   },
   "source": [
    "### `distance`"
   ]
  },
  {
   "cell_type": "code",
   "execution_count": 20,
   "metadata": {
    "id": "Nu7TazohiSWw"
   },
   "outputs": [],
   "source": [
    "import geopy.distance"
   ]
  },
  {
   "cell_type": "markdown",
   "metadata": {
    "id": "ElTiL6mYiaN1"
   },
   "source": [
    "- 두 지점간의 거리 (위도, 경도)\n",
    "\n",
    "    - `geopy.distance.distance((lat1, long1), (lat2, long2))`"
   ]
  },
  {
   "cell_type": "markdown",
   "metadata": {
    "id": "QYn7Iy8MiheV"
   },
   "source": [
    "- `coordinate` 좌표, 위치: (위도, 경도)\n",
    "\n",
    "    - 상점의 위치: merchant_coordinate > `merch_coor`\n",
    "\n",
    "    - 고객의 위치: customer_coordinate > `custo_coor`"
   ]
  },
  {
   "cell_type": "code",
   "execution_count": 21,
   "metadata": {
    "id": "YOEFsqvsjBR5"
   },
   "outputs": [],
   "source": [
    "df['merch_coor'] = pd.Series(zip(df['merch_lat'], df['merch_long']))\n",
    "df['custo_coor'] = pd.Series(zip(df['lat'], df['long']))"
   ]
  },
  {
   "cell_type": "code",
   "execution_count": 22,
   "metadata": {
    "colab": {
     "base_uri": "https://localhost:8080/"
    },
    "id": "0Q6NcmWJlqS1",
    "outputId": "a4d79548-adef-4bc1-ac8f-50ff341eaaf7"
   },
   "outputs": [
    {
     "data": {
      "text/plain": [
       "0    78.77\n",
       "1    30.22\n",
       "2   108.10\n",
       "3    95.69\n",
       "4    77.70\n",
       "Name: distance, dtype: float64"
      ]
     },
     "execution_count": 22,
     "metadata": {},
     "output_type": "execute_result"
    }
   ],
   "source": [
    "df['distance'] = df.apply(lambda x: geopy.distance.distance(x['merch_coor'], x['custo_coor']).km, axis=1)\n",
    "df['distance'].head()"
   ]
  },
  {
   "cell_type": "markdown",
   "metadata": {
    "id": "I65W87EqkMGP"
   },
   "source": [
    "- `distance().km`: float data type"
   ]
  },
  {
   "cell_type": "code",
   "execution_count": 23,
   "metadata": {
    "colab": {
     "base_uri": "https://localhost:8080/",
     "height": 206
    },
    "id": "blO2BZGUkuD_",
    "outputId": "4e6df00c-2e6a-4a9e-f3ab-d08954453004"
   },
   "outputs": [
    {
     "name": "stderr",
     "output_type": "stream",
     "text": [
      "C:\\Users\\EthanJ\\AppData\\Local\\Temp\\ipykernel_14708\\2201206611.py:1: FutureWarning: ['trans_date_trans_time', 'category', 'gender', 'dob', 'merch_coor', 'custo_coor'] did not aggregate successfully. If any error is raised this will raise in a future version of pandas. Drop these columns/ops to avoid this warning.\n",
      "  distance_info = df.groupby('cc_num').agg(['mean', 'std'])['distance'].reset_index()\n"
     ]
    },
    {
     "data": {
      "text/html": [
       "<div>\n",
       "<style scoped>\n",
       "    .dataframe tbody tr th:only-of-type {\n",
       "        vertical-align: middle;\n",
       "    }\n",
       "\n",
       "    .dataframe tbody tr th {\n",
       "        vertical-align: top;\n",
       "    }\n",
       "\n",
       "    .dataframe thead th {\n",
       "        text-align: right;\n",
       "    }\n",
       "</style>\n",
       "<table border=\"1\" class=\"dataframe\">\n",
       "  <thead>\n",
       "    <tr style=\"text-align: right;\">\n",
       "      <th></th>\n",
       "      <th>cc_num</th>\n",
       "      <th>mean</th>\n",
       "      <th>std</th>\n",
       "    </tr>\n",
       "  </thead>\n",
       "  <tbody>\n",
       "    <tr>\n",
       "      <th>0</th>\n",
       "      <td>60416207185</td>\n",
       "      <td>73.53</td>\n",
       "      <td>28.70</td>\n",
       "    </tr>\n",
       "    <tr>\n",
       "      <th>1</th>\n",
       "      <td>60422928733</td>\n",
       "      <td>78.99</td>\n",
       "      <td>29.30</td>\n",
       "    </tr>\n",
       "    <tr>\n",
       "      <th>2</th>\n",
       "      <td>60423098130</td>\n",
       "      <td>77.83</td>\n",
       "      <td>28.19</td>\n",
       "    </tr>\n",
       "    <tr>\n",
       "      <th>3</th>\n",
       "      <td>60427851591</td>\n",
       "      <td>75.71</td>\n",
       "      <td>28.98</td>\n",
       "    </tr>\n",
       "    <tr>\n",
       "      <th>4</th>\n",
       "      <td>60487002085</td>\n",
       "      <td>79.44</td>\n",
       "      <td>28.77</td>\n",
       "    </tr>\n",
       "  </tbody>\n",
       "</table>\n",
       "</div>"
      ],
      "text/plain": [
       "        cc_num  mean   std\n",
       "0  60416207185 73.53 28.70\n",
       "1  60422928733 78.99 29.30\n",
       "2  60423098130 77.83 28.19\n",
       "3  60427851591 75.71 28.98\n",
       "4  60487002085 79.44 28.77"
      ]
     },
     "execution_count": 23,
     "metadata": {},
     "output_type": "execute_result"
    }
   ],
   "source": [
    "distance_info = df.groupby('cc_num').agg(['mean', 'std'])['distance'].reset_index()\n",
    "\n",
    "distance_info.head()"
   ]
  },
  {
   "cell_type": "code",
   "execution_count": 24,
   "metadata": {
    "colab": {
     "base_uri": "https://localhost:8080/"
    },
    "id": "uhaKXuLSk8jz",
    "outputId": "c57058e1-94c7-45de-96d1-6dfbf4abe6fa"
   },
   "outputs": [
    {
     "data": {
      "text/plain": [
       "0    0.03\n",
       "1   -1.48\n",
       "2    1.16\n",
       "3    0.82\n",
       "4    0.06\n",
       "Name: distance_z_score, dtype: float64"
      ]
     },
     "execution_count": 24,
     "metadata": {},
     "output_type": "execute_result"
    }
   ],
   "source": [
    "df = df.merge(distance_info, on='cc_num', how='left')\n",
    "df['distance_z_score'] = (df['distance'] - df['mean']) / df['std']\n",
    "\n",
    "df['distance_z_score'].head()"
   ]
  },
  {
   "cell_type": "code",
   "execution_count": 25,
   "metadata": {
    "colab": {
     "base_uri": "https://localhost:8080/",
     "height": 357
    },
    "id": "SlKrdmaTmNQr",
    "outputId": "d2b470c1-73cf-45c3-e12c-f7333192f565"
   },
   "outputs": [
    {
     "data": {
      "text/html": [
       "<div>\n",
       "<style scoped>\n",
       "    .dataframe tbody tr th:only-of-type {\n",
       "        vertical-align: middle;\n",
       "    }\n",
       "\n",
       "    .dataframe tbody tr th {\n",
       "        vertical-align: top;\n",
       "    }\n",
       "\n",
       "    .dataframe thead th {\n",
       "        text-align: right;\n",
       "    }\n",
       "</style>\n",
       "<table border=\"1\" class=\"dataframe\">\n",
       "  <thead>\n",
       "    <tr style=\"text-align: right;\">\n",
       "      <th></th>\n",
       "      <th>trans_date_trans_time</th>\n",
       "      <th>cc_num</th>\n",
       "      <th>category</th>\n",
       "      <th>amt</th>\n",
       "      <th>gender</th>\n",
       "      <th>lat</th>\n",
       "      <th>long</th>\n",
       "      <th>city_pop</th>\n",
       "      <th>dob</th>\n",
       "      <th>merch_lat</th>\n",
       "      <th>merch_long</th>\n",
       "      <th>is_fraud</th>\n",
       "      <th>amt_z_score</th>\n",
       "      <th>cate_z_score</th>\n",
       "      <th>merch_coor</th>\n",
       "      <th>custo_coor</th>\n",
       "      <th>distance</th>\n",
       "      <th>distance_z_score</th>\n",
       "    </tr>\n",
       "  </thead>\n",
       "  <tbody>\n",
       "    <tr>\n",
       "      <th>0</th>\n",
       "      <td>2019-01-01 00:00:18</td>\n",
       "      <td>2703186189652095</td>\n",
       "      <td>misc_net</td>\n",
       "      <td>4.97</td>\n",
       "      <td>F</td>\n",
       "      <td>36.08</td>\n",
       "      <td>-81.18</td>\n",
       "      <td>3495</td>\n",
       "      <td>1988-03-09</td>\n",
       "      <td>36.01</td>\n",
       "      <td>-82.05</td>\n",
       "      <td>0</td>\n",
       "      <td>-0.66</td>\n",
       "      <td>-0.69</td>\n",
       "      <td>(36.011293, -82.048315)</td>\n",
       "      <td>(36.0788, -81.1781)</td>\n",
       "      <td>78.77</td>\n",
       "      <td>0.03</td>\n",
       "    </tr>\n",
       "    <tr>\n",
       "      <th>1</th>\n",
       "      <td>2019-01-01 00:00:44</td>\n",
       "      <td>630423337322</td>\n",
       "      <td>grocery_pos</td>\n",
       "      <td>107.23</td>\n",
       "      <td>F</td>\n",
       "      <td>48.89</td>\n",
       "      <td>-118.21</td>\n",
       "      <td>149</td>\n",
       "      <td>1978-06-21</td>\n",
       "      <td>49.16</td>\n",
       "      <td>-118.19</td>\n",
       "      <td>0</td>\n",
       "      <td>0.32</td>\n",
       "      <td>0.32</td>\n",
       "      <td>(49.159047, -118.186462)</td>\n",
       "      <td>(48.8878, -118.2105)</td>\n",
       "      <td>30.22</td>\n",
       "      <td>-1.48</td>\n",
       "    </tr>\n",
       "    <tr>\n",
       "      <th>2</th>\n",
       "      <td>2019-01-01 00:00:51</td>\n",
       "      <td>38859492057661</td>\n",
       "      <td>entertainment</td>\n",
       "      <td>220.11</td>\n",
       "      <td>M</td>\n",
       "      <td>42.18</td>\n",
       "      <td>-112.26</td>\n",
       "      <td>4154</td>\n",
       "      <td>1962-01-19</td>\n",
       "      <td>43.15</td>\n",
       "      <td>-112.15</td>\n",
       "      <td>0</td>\n",
       "      <td>1.29</td>\n",
       "      <td>2.87</td>\n",
       "      <td>(43.150704, -112.154481)</td>\n",
       "      <td>(42.1808, -112.262)</td>\n",
       "      <td>108.10</td>\n",
       "      <td>1.16</td>\n",
       "    </tr>\n",
       "    <tr>\n",
       "      <th>3</th>\n",
       "      <td>2019-01-01 00:01:16</td>\n",
       "      <td>3534093764340240</td>\n",
       "      <td>gas_transport</td>\n",
       "      <td>45.00</td>\n",
       "      <td>M</td>\n",
       "      <td>46.23</td>\n",
       "      <td>-112.11</td>\n",
       "      <td>1939</td>\n",
       "      <td>1967-01-12</td>\n",
       "      <td>47.03</td>\n",
       "      <td>-112.56</td>\n",
       "      <td>0</td>\n",
       "      <td>-0.13</td>\n",
       "      <td>-1.05</td>\n",
       "      <td>(47.034331, -112.561071)</td>\n",
       "      <td>(46.2306, -112.1138)</td>\n",
       "      <td>95.69</td>\n",
       "      <td>0.82</td>\n",
       "    </tr>\n",
       "    <tr>\n",
       "      <th>4</th>\n",
       "      <td>2019-01-01 00:03:06</td>\n",
       "      <td>375534208663984</td>\n",
       "      <td>misc_pos</td>\n",
       "      <td>41.96</td>\n",
       "      <td>M</td>\n",
       "      <td>38.42</td>\n",
       "      <td>-79.46</td>\n",
       "      <td>99</td>\n",
       "      <td>1986-03-28</td>\n",
       "      <td>38.67</td>\n",
       "      <td>-78.63</td>\n",
       "      <td>0</td>\n",
       "      <td>-0.57</td>\n",
       "      <td>1.31</td>\n",
       "      <td>(38.674999, -78.632459)</td>\n",
       "      <td>(38.4207, -79.4629)</td>\n",
       "      <td>77.70</td>\n",
       "      <td>0.06</td>\n",
       "    </tr>\n",
       "  </tbody>\n",
       "</table>\n",
       "</div>"
      ],
      "text/plain": [
       "  trans_date_trans_time            cc_num       category    amt gender   lat  \\\n",
       "0   2019-01-01 00:00:18  2703186189652095       misc_net   4.97      F 36.08   \n",
       "1   2019-01-01 00:00:44      630423337322    grocery_pos 107.23      F 48.89   \n",
       "2   2019-01-01 00:00:51    38859492057661  entertainment 220.11      M 42.18   \n",
       "3   2019-01-01 00:01:16  3534093764340240  gas_transport  45.00      M 46.23   \n",
       "4   2019-01-01 00:03:06   375534208663984       misc_pos  41.96      M 38.42   \n",
       "\n",
       "     long  city_pop         dob  merch_lat  merch_long  is_fraud  amt_z_score  \\\n",
       "0  -81.18      3495  1988-03-09      36.01      -82.05         0        -0.66   \n",
       "1 -118.21       149  1978-06-21      49.16     -118.19         0         0.32   \n",
       "2 -112.26      4154  1962-01-19      43.15     -112.15         0         1.29   \n",
       "3 -112.11      1939  1967-01-12      47.03     -112.56         0        -0.13   \n",
       "4  -79.46        99  1986-03-28      38.67      -78.63         0        -0.57   \n",
       "\n",
       "   cate_z_score                merch_coor            custo_coor  distance  \\\n",
       "0         -0.69   (36.011293, -82.048315)   (36.0788, -81.1781)     78.77   \n",
       "1          0.32  (49.159047, -118.186462)  (48.8878, -118.2105)     30.22   \n",
       "2          2.87  (43.150704, -112.154481)   (42.1808, -112.262)    108.10   \n",
       "3         -1.05  (47.034331, -112.561071)  (46.2306, -112.1138)     95.69   \n",
       "4          1.31   (38.674999, -78.632459)   (38.4207, -79.4629)     77.70   \n",
       "\n",
       "   distance_z_score  \n",
       "0              0.03  \n",
       "1             -1.48  \n",
       "2              1.16  \n",
       "3              0.82  \n",
       "4              0.06  "
      ]
     },
     "execution_count": 25,
     "metadata": {},
     "output_type": "execute_result"
    }
   ],
   "source": [
    "df = df.drop(['mean', 'std'], axis=1)\n",
    "\n",
    "df.head()"
   ]
  },
  {
   "cell_type": "code",
   "execution_count": 26,
   "metadata": {
    "colab": {
     "base_uri": "https://localhost:8080/"
    },
    "id": "2sXnGk28nUDz",
    "outputId": "a3dbd26d-1744-4626-abbc-2ae6eeb9344d"
   },
   "outputs": [
    {
     "data": {
      "text/plain": [
       "Index(['trans_date_trans_time', 'category', 'amt', 'gender', 'city_pop', 'dob',\n",
       "       'is_fraud', 'amt_z_score', 'cate_z_score', 'distance',\n",
       "       'distance_z_score'],\n",
       "      dtype='object')"
      ]
     },
     "execution_count": 26,
     "metadata": {},
     "output_type": "execute_result"
    }
   ],
   "source": [
    "df = df.drop(columns=['cc_num', 'lat', 'long', 'merch_lat', 'merch_long', 'merch_coor', 'custo_coor'])\n",
    "\n",
    "df.columns"
   ]
  },
  {
   "cell_type": "code",
   "execution_count": 27,
   "metadata": {
    "colab": {
     "base_uri": "https://localhost:8080/"
    },
    "id": "tdFREJE0mTVN",
    "outputId": "cff68055-e980-46d4-a2f7-7e942a91bcd2"
   },
   "outputs": [
    {
     "data": {
      "text/plain": [
       "trans_date_trans_time      0\n",
       "category                   0\n",
       "amt                        0\n",
       "gender                     0\n",
       "city_pop                   0\n",
       "dob                        0\n",
       "is_fraud                   0\n",
       "amt_z_score                0\n",
       "cate_z_score             219\n",
       "distance                   0\n",
       "distance_z_score           0\n",
       "dtype: int64"
      ]
     },
     "execution_count": 27,
     "metadata": {},
     "output_type": "execute_result"
    }
   ],
   "source": [
    "df.isna().sum()"
   ]
  },
  {
   "cell_type": "markdown",
   "metadata": {
    "id": "9VijvPKJmWqe"
   },
   "source": [
    "### `dob` > `age`"
   ]
  },
  {
   "cell_type": "code",
   "execution_count": 28,
   "metadata": {
    "colab": {
     "base_uri": "https://localhost:8080/"
    },
    "id": "tAdHvNw7mh5l",
    "outputId": "3812ae15-7039-46e8-d1c5-eee85f8af2d1"
   },
   "outputs": [
    {
     "data": {
      "text/plain": [
       "0    1988-03-09\n",
       "1    1978-06-21\n",
       "2    1962-01-19\n",
       "3    1967-01-12\n",
       "4    1986-03-28\n",
       "Name: dob, dtype: object"
      ]
     },
     "execution_count": 28,
     "metadata": {},
     "output_type": "execute_result"
    }
   ],
   "source": [
    "df['dob'].head()"
   ]
  },
  {
   "cell_type": "code",
   "execution_count": 29,
   "metadata": {
    "colab": {
     "base_uri": "https://localhost:8080/"
    },
    "id": "DUy_M2DBmoMt",
    "outputId": "cd7643f4-c467-4461-cb15-3ee1fe98ba5a"
   },
   "outputs": [
    {
     "data": {
      "text/plain": [
       "0         1988-03-09\n",
       "1         1978-06-21\n",
       "2         1962-01-19\n",
       "3         1967-01-12\n",
       "4         1986-03-28\n",
       "             ...    \n",
       "1852389   1966-02-13\n",
       "1852390   1999-12-27\n",
       "1852391   1981-11-29\n",
       "1852392   1965-12-15\n",
       "1852393   1993-05-10\n",
       "Name: dob, Length: 1852394, dtype: datetime64[ns]"
      ]
     },
     "execution_count": 29,
     "metadata": {},
     "output_type": "execute_result"
    }
   ],
   "source": [
    "df['dob'] = pd.to_datetime(df['dob'])\n",
    "\n",
    "df['dob']"
   ]
  },
  {
   "cell_type": "code",
   "execution_count": 30,
   "metadata": {
    "colab": {
     "base_uri": "https://localhost:8080/"
    },
    "id": "LrrZWvgVm05S",
    "outputId": "8e8a4259-20c0-4780-e83e-e39aaa1fed54"
   },
   "outputs": [
    {
     "data": {
      "text/plain": [
       "0          33\n",
       "1          43\n",
       "2          59\n",
       "3          54\n",
       "4          35\n",
       "           ..\n",
       "1852389    55\n",
       "1852390    22\n",
       "1852391    40\n",
       "1852392    56\n",
       "1852393    28\n",
       "Name: age, Length: 1852394, dtype: int64"
      ]
     },
     "execution_count": 30,
     "metadata": {},
     "output_type": "execute_result"
    }
   ],
   "source": [
    "# 만나이 계산\n",
    "df['age'] = 2021 - df['dob'].dt.year\n",
    "\n",
    "df['age']"
   ]
  },
  {
   "cell_type": "code",
   "execution_count": 31,
   "metadata": {
    "colab": {
     "base_uri": "https://localhost:8080/"
    },
    "id": "qNjmfA_Mm_EZ",
    "outputId": "53ee8fb6-155e-4aea-f48f-56a606c83f61"
   },
   "outputs": [
    {
     "name": "stdout",
     "output_type": "stream",
     "text": [
      "<class 'pandas.core.frame.DataFrame'>\n",
      "Int64Index: 1852394 entries, 0 to 1852393\n",
      "Data columns (total 11 columns):\n",
      " #   Column                 Dtype         \n",
      "---  ------                 -----         \n",
      " 0   trans_date_trans_time  datetime64[ns]\n",
      " 1   category               object        \n",
      " 2   amt                    float64       \n",
      " 3   gender                 object        \n",
      " 4   city_pop               int64         \n",
      " 5   is_fraud               int64         \n",
      " 6   amt_z_score            float64       \n",
      " 7   cate_z_score           float64       \n",
      " 8   distance               float64       \n",
      " 9   distance_z_score       float64       \n",
      " 10  age                    int64         \n",
      "dtypes: datetime64[ns](1), float64(5), int64(3), object(2)\n",
      "memory usage: 169.6+ MB\n"
     ]
    }
   ],
   "source": [
    "df = df.drop(columns=['dob'])\n",
    "\n",
    "df.info()"
   ]
  },
  {
   "cell_type": "markdown",
   "metadata": {
    "id": "M7jORa3ZnwV6"
   },
   "source": [
    "### `get_dummies()`"
   ]
  },
  {
   "cell_type": "code",
   "execution_count": 32,
   "metadata": {
    "colab": {
     "base_uri": "https://localhost:8080/",
     "height": 300
    },
    "id": "eCt1YEirn18h",
    "outputId": "bcbd6847-6279-4f18-9246-51c3cbca1172"
   },
   "outputs": [
    {
     "data": {
      "text/html": [
       "<div>\n",
       "<style scoped>\n",
       "    .dataframe tbody tr th:only-of-type {\n",
       "        vertical-align: middle;\n",
       "    }\n",
       "\n",
       "    .dataframe tbody tr th {\n",
       "        vertical-align: top;\n",
       "    }\n",
       "\n",
       "    .dataframe thead th {\n",
       "        text-align: right;\n",
       "    }\n",
       "</style>\n",
       "<table border=\"1\" class=\"dataframe\">\n",
       "  <thead>\n",
       "    <tr style=\"text-align: right;\">\n",
       "      <th></th>\n",
       "      <th>trans_date_trans_time</th>\n",
       "      <th>amt</th>\n",
       "      <th>city_pop</th>\n",
       "      <th>is_fraud</th>\n",
       "      <th>amt_z_score</th>\n",
       "      <th>cate_z_score</th>\n",
       "      <th>distance</th>\n",
       "      <th>distance_z_score</th>\n",
       "      <th>age</th>\n",
       "      <th>category_food_dining</th>\n",
       "      <th>...</th>\n",
       "      <th>category_health_fitness</th>\n",
       "      <th>category_home</th>\n",
       "      <th>category_kids_pets</th>\n",
       "      <th>category_misc_net</th>\n",
       "      <th>category_misc_pos</th>\n",
       "      <th>category_personal_care</th>\n",
       "      <th>category_shopping_net</th>\n",
       "      <th>category_shopping_pos</th>\n",
       "      <th>category_travel</th>\n",
       "      <th>gender_M</th>\n",
       "    </tr>\n",
       "  </thead>\n",
       "  <tbody>\n",
       "    <tr>\n",
       "      <th>1852389</th>\n",
       "      <td>2020-12-31 23:59:07</td>\n",
       "      <td>43.77</td>\n",
       "      <td>519</td>\n",
       "      <td>0</td>\n",
       "      <td>-0.17</td>\n",
       "      <td>-0.05</td>\n",
       "      <td>77.03</td>\n",
       "      <td>0.05</td>\n",
       "      <td>55</td>\n",
       "      <td>0</td>\n",
       "      <td>...</td>\n",
       "      <td>1</td>\n",
       "      <td>0</td>\n",
       "      <td>0</td>\n",
       "      <td>0</td>\n",
       "      <td>0</td>\n",
       "      <td>0</td>\n",
       "      <td>0</td>\n",
       "      <td>0</td>\n",
       "      <td>0</td>\n",
       "      <td>1</td>\n",
       "    </tr>\n",
       "    <tr>\n",
       "      <th>1852390</th>\n",
       "      <td>2020-12-31 23:59:09</td>\n",
       "      <td>111.84</td>\n",
       "      <td>28739</td>\n",
       "      <td>0</td>\n",
       "      <td>0.36</td>\n",
       "      <td>1.16</td>\n",
       "      <td>100.02</td>\n",
       "      <td>0.69</td>\n",
       "      <td>22</td>\n",
       "      <td>0</td>\n",
       "      <td>...</td>\n",
       "      <td>0</td>\n",
       "      <td>0</td>\n",
       "      <td>1</td>\n",
       "      <td>0</td>\n",
       "      <td>0</td>\n",
       "      <td>0</td>\n",
       "      <td>0</td>\n",
       "      <td>0</td>\n",
       "      <td>0</td>\n",
       "      <td>1</td>\n",
       "    </tr>\n",
       "    <tr>\n",
       "      <th>1852391</th>\n",
       "      <td>2020-12-31 23:59:15</td>\n",
       "      <td>86.88</td>\n",
       "      <td>3684</td>\n",
       "      <td>0</td>\n",
       "      <td>-0.02</td>\n",
       "      <td>0.44</td>\n",
       "      <td>80.89</td>\n",
       "      <td>0.29</td>\n",
       "      <td>40</td>\n",
       "      <td>0</td>\n",
       "      <td>...</td>\n",
       "      <td>0</td>\n",
       "      <td>0</td>\n",
       "      <td>1</td>\n",
       "      <td>0</td>\n",
       "      <td>0</td>\n",
       "      <td>0</td>\n",
       "      <td>0</td>\n",
       "      <td>0</td>\n",
       "      <td>0</td>\n",
       "      <td>0</td>\n",
       "    </tr>\n",
       "    <tr>\n",
       "      <th>1852392</th>\n",
       "      <td>2020-12-31 23:59:24</td>\n",
       "      <td>7.99</td>\n",
       "      <td>129</td>\n",
       "      <td>0</td>\n",
       "      <td>-0.59</td>\n",
       "      <td>-0.01</td>\n",
       "      <td>53.06</td>\n",
       "      <td>-0.73</td>\n",
       "      <td>56</td>\n",
       "      <td>0</td>\n",
       "      <td>...</td>\n",
       "      <td>0</td>\n",
       "      <td>0</td>\n",
       "      <td>0</td>\n",
       "      <td>0</td>\n",
       "      <td>0</td>\n",
       "      <td>0</td>\n",
       "      <td>0</td>\n",
       "      <td>0</td>\n",
       "      <td>1</td>\n",
       "      <td>1</td>\n",
       "    </tr>\n",
       "    <tr>\n",
       "      <th>1852393</th>\n",
       "      <td>2020-12-31 23:59:34</td>\n",
       "      <td>38.13</td>\n",
       "      <td>116001</td>\n",
       "      <td>0</td>\n",
       "      <td>-0.15</td>\n",
       "      <td>-0.38</td>\n",
       "      <td>72.38</td>\n",
       "      <td>-0.16</td>\n",
       "      <td>28</td>\n",
       "      <td>0</td>\n",
       "      <td>...</td>\n",
       "      <td>0</td>\n",
       "      <td>0</td>\n",
       "      <td>0</td>\n",
       "      <td>0</td>\n",
       "      <td>0</td>\n",
       "      <td>0</td>\n",
       "      <td>0</td>\n",
       "      <td>0</td>\n",
       "      <td>0</td>\n",
       "      <td>1</td>\n",
       "    </tr>\n",
       "  </tbody>\n",
       "</table>\n",
       "<p>5 rows × 23 columns</p>\n",
       "</div>"
      ],
      "text/plain": [
       "        trans_date_trans_time    amt  city_pop  is_fraud  amt_z_score  \\\n",
       "1852389   2020-12-31 23:59:07  43.77       519         0        -0.17   \n",
       "1852390   2020-12-31 23:59:09 111.84     28739         0         0.36   \n",
       "1852391   2020-12-31 23:59:15  86.88      3684         0        -0.02   \n",
       "1852392   2020-12-31 23:59:24   7.99       129         0        -0.59   \n",
       "1852393   2020-12-31 23:59:34  38.13    116001         0        -0.15   \n",
       "\n",
       "         cate_z_score  distance  distance_z_score  age  category_food_dining  \\\n",
       "1852389         -0.05     77.03              0.05   55                     0   \n",
       "1852390          1.16    100.02              0.69   22                     0   \n",
       "1852391          0.44     80.89              0.29   40                     0   \n",
       "1852392         -0.01     53.06             -0.73   56                     0   \n",
       "1852393         -0.38     72.38             -0.16   28                     0   \n",
       "\n",
       "         ...  category_health_fitness  category_home  category_kids_pets  \\\n",
       "1852389  ...                        1              0                   0   \n",
       "1852390  ...                        0              0                   1   \n",
       "1852391  ...                        0              0                   1   \n",
       "1852392  ...                        0              0                   0   \n",
       "1852393  ...                        0              0                   0   \n",
       "\n",
       "         category_misc_net  category_misc_pos  category_personal_care  \\\n",
       "1852389                  0                  0                       0   \n",
       "1852390                  0                  0                       0   \n",
       "1852391                  0                  0                       0   \n",
       "1852392                  0                  0                       0   \n",
       "1852393                  0                  0                       0   \n",
       "\n",
       "         category_shopping_net  category_shopping_pos  category_travel  \\\n",
       "1852389                      0                      0                0   \n",
       "1852390                      0                      0                0   \n",
       "1852391                      0                      0                0   \n",
       "1852392                      0                      0                1   \n",
       "1852393                      0                      0                0   \n",
       "\n",
       "         gender_M  \n",
       "1852389         1  \n",
       "1852390         1  \n",
       "1852391         0  \n",
       "1852392         1  \n",
       "1852393         1  \n",
       "\n",
       "[5 rows x 23 columns]"
      ]
     },
     "execution_count": 32,
     "metadata": {},
     "output_type": "execute_result"
    }
   ],
   "source": [
    "df = pd.get_dummies(df, columns=['category', 'gender'], drop_first=True)\n",
    "\n",
    "df.tail()"
   ]
  },
  {
   "cell_type": "code",
   "execution_count": 33,
   "metadata": {
    "colab": {
     "base_uri": "https://localhost:8080/"
    },
    "id": "YHw0yCjbn_Q7",
    "outputId": "3196aab1-179b-4a8f-9233-78538e95e31b"
   },
   "outputs": [
    {
     "name": "stdout",
     "output_type": "stream",
     "text": [
      "<class 'pandas.core.frame.DataFrame'>\n",
      "Int64Index: 1852394 entries, 0 to 1852393\n",
      "Data columns (total 23 columns):\n",
      " #   Column                   Dtype         \n",
      "---  ------                   -----         \n",
      " 0   trans_date_trans_time    datetime64[ns]\n",
      " 1   amt                      float64       \n",
      " 2   city_pop                 int64         \n",
      " 3   is_fraud                 int64         \n",
      " 4   amt_z_score              float64       \n",
      " 5   cate_z_score             float64       \n",
      " 6   distance                 float64       \n",
      " 7   distance_z_score         float64       \n",
      " 8   age                      int64         \n",
      " 9   category_food_dining     uint8         \n",
      " 10  category_gas_transport   uint8         \n",
      " 11  category_grocery_net     uint8         \n",
      " 12  category_grocery_pos     uint8         \n",
      " 13  category_health_fitness  uint8         \n",
      " 14  category_home            uint8         \n",
      " 15  category_kids_pets       uint8         \n",
      " 16  category_misc_net        uint8         \n",
      " 17  category_misc_pos        uint8         \n",
      " 18  category_personal_care   uint8         \n",
      " 19  category_shopping_net    uint8         \n",
      " 20  category_shopping_pos    uint8         \n",
      " 21  category_travel          uint8         \n",
      " 22  gender_M                 uint8         \n",
      "dtypes: datetime64[ns](1), float64(5), int64(3), uint8(14)\n",
      "memory usage: 166.1 MB\n"
     ]
    }
   ],
   "source": [
    "df.info()"
   ]
  },
  {
   "cell_type": "markdown",
   "metadata": {
    "id": "uhLWGrhRpF8X"
   },
   "source": [
    "### `set_index()`"
   ]
  },
  {
   "cell_type": "code",
   "execution_count": 34,
   "metadata": {
    "colab": {
     "base_uri": "https://localhost:8080/"
    },
    "id": "nx1kN9pOpbCL",
    "outputId": "33e77120-1ee9-4c40-f7c5-603b6b438230"
   },
   "outputs": [
    {
     "data": {
      "text/plain": [
       "DatetimeIndex(['2019-01-01 00:00:18', '2019-01-01 00:00:44',\n",
       "               '2019-01-01 00:00:51', '2019-01-01 00:01:16',\n",
       "               '2019-01-01 00:03:06', '2019-01-01 00:04:08',\n",
       "               '2019-01-01 00:04:42', '2019-01-01 00:05:08',\n",
       "               '2019-01-01 00:05:18', '2019-01-01 00:06:01',\n",
       "               ...\n",
       "               '2020-12-31 23:57:18', '2020-12-31 23:57:50',\n",
       "               '2020-12-31 23:57:56', '2020-12-31 23:58:04',\n",
       "               '2020-12-31 23:58:34', '2020-12-31 23:59:07',\n",
       "               '2020-12-31 23:59:09', '2020-12-31 23:59:15',\n",
       "               '2020-12-31 23:59:24', '2020-12-31 23:59:34'],\n",
       "              dtype='datetime64[ns]', name='trans_date_trans_time', length=1852394, freq=None)"
      ]
     },
     "execution_count": 34,
     "metadata": {},
     "output_type": "execute_result"
    }
   ],
   "source": [
    "df = df.set_index('trans_date_trans_time')\n",
    "\n",
    "df.index"
   ]
  },
  {
   "cell_type": "markdown",
   "metadata": {
    "id": "IeJ3GhnMpg3f"
   },
   "source": [
    "## Training Model"
   ]
  },
  {
   "cell_type": "code",
   "execution_count": 35,
   "metadata": {
    "id": "oIiENlr_pkot"
   },
   "outputs": [],
   "source": [
    "from sklearn.model_selection import train_test_split\n",
    "\n",
    "X = df.drop(columns=['is_fraud'])\n",
    "y = df['is_fraud']\n",
    "\n",
    "X_train, X_test, y_train, y_test = train_test_split(\n",
    "    X, y, test_size = 0.2, random_state = 814\n",
    ")"
   ]
  },
  {
   "cell_type": "code",
   "execution_count": 36,
   "metadata": {
    "id": "1fmB_mXDqCnH"
   },
   "outputs": [],
   "source": [
    "import lightgbm as lgb\n",
    "\n",
    "model = lgb.LGBMClassifier(random_state=np.random.randint(1000))\n",
    "model.fit(X_train, y_train)\n",
    "\n",
    "pred = model.predict(X_test)"
   ]
  },
  {
   "cell_type": "markdown",
   "metadata": {
    "id": "5H2JnKJhrMXe"
   },
   "source": [
    "## Evaluating Model"
   ]
  },
  {
   "cell_type": "code",
   "execution_count": 37,
   "metadata": {
    "colab": {
     "base_uri": "https://localhost:8080/"
    },
    "id": "WgCIVv1sqWrm",
    "outputId": "3f746c63-83b5-4661-c744-d52b182eb23f"
   },
   "outputs": [
    {
     "data": {
      "text/plain": [
       "0.9966016967223513"
      ]
     },
     "execution_count": 37,
     "metadata": {},
     "output_type": "execute_result"
    }
   ],
   "source": [
    "from sklearn.metrics import accuracy_score\n",
    "\n",
    "accuracy_score(y_test, pred)"
   ]
  },
  {
   "cell_type": "markdown",
   "metadata": {
    "id": "hzcygpk4ql40"
   },
   "source": [
    "- Data의 편향성"
   ]
  },
  {
   "cell_type": "code",
   "execution_count": 38,
   "metadata": {
    "colab": {
     "base_uri": "https://localhost:8080/"
    },
    "id": "lEuqd8SprUof",
    "outputId": "8f742fca-c3c2-449b-8ed5-de49367dc064"
   },
   "outputs": [
    {
     "data": {
      "text/plain": [
       "0.9947899852839083"
      ]
     },
     "execution_count": 38,
     "metadata": {},
     "output_type": "execute_result"
    }
   ],
   "source": [
    "1 - df['is_fraud'].mean()"
   ]
  },
  {
   "cell_type": "markdown",
   "metadata": {
    "id": "ozFc2pUvrXm_"
   },
   "source": [
    "## Visualizing Data"
   ]
  },
  {
   "cell_type": "code",
   "execution_count": 39,
   "metadata": {
    "id": "Z1DR3PWRsYRd"
   },
   "outputs": [],
   "source": [
    "from sklearn.metrics import confusion_matrix, classification_report, roc_auc_score"
   ]
  },
  {
   "cell_type": "code",
   "execution_count": 40,
   "metadata": {
    "colab": {
     "base_uri": "https://localhost:8080/"
    },
    "id": "mKjr0nMTsf_V",
    "outputId": "14a38e54-801f-40cb-fa37-481433172b35"
   },
   "outputs": [
    {
     "name": "stdout",
     "output_type": "stream",
     "text": [
      "[[368030    558]\n",
      " [   701   1190]]\n"
     ]
    }
   ],
   "source": [
    "cf_matrix = confusion_matrix(y_test, pred)\n",
    "print(cf_matrix)"
   ]
  },
  {
   "cell_type": "code",
   "execution_count": 41,
   "metadata": {
    "id": "4D5O5mcTvBM2"
   },
   "outputs": [],
   "source": [
    "group_name = ['TN', 'FP', 'FN', 'TP']\n",
    "group_counts =  [\"{0:0.0f}\".format(value) for value in cf_matrix.flatten()]\n",
    "group_percent = [\"{0:.2%}\".format(value) for value in (cf_matrix.flatten() / np.sum(cf_matrix))]\n",
    "\n",
    "labels = [f\"{name}\\n{counts}\\n{percent}\" for name, counts, percent in \n",
    "          zip(group_name, group_counts, group_percent)]\n",
    "labels = np.asarray(labels).reshape(2, 2)"
   ]
  },
  {
   "cell_type": "code",
   "execution_count": 42,
   "metadata": {
    "colab": {
     "base_uri": "https://localhost:8080/",
     "height": 279
    },
    "id": "ERHis7_auCSf",
    "outputId": "75fe8477-6a1b-4706-ec8c-ad893c840d89"
   },
   "outputs": [
    {
     "data": {
      "image/png": "[encoded data removed]",
      "text/plain": [
       "<Figure size 640x480 with 2 Axes>"
      ]
     },
     "metadata": {},
     "output_type": "display_data"
    }
   ],
   "source": [
    "sns.heatmap(cf_matrix, annot=labels, fmt='', cmap='coolwarm')\n",
    "\n",
    "plt.ylabel('Actual')\n",
    "plt.xlabel('Predicted')\n",
    "plt.show()"
   ]
  },
  {
   "cell_type": "markdown",
   "metadata": {
    "id": "DJJC9EyOuLuN"
   },
   "source": [
    "- `precision` 정밀도: 1종 오류\n",
    "\n",
    "- `recall` 재현도: 2종 오류\n",
    "\n",
    "- `f1-score`:  전체"
   ]
  },
  {
   "cell_type": "code",
   "execution_count": 43,
   "metadata": {
    "colab": {
     "base_uri": "https://localhost:8080/"
    },
    "id": "cUkyGQQPvk1C",
    "outputId": "bb404d03-a21d-4e43-e423-29080e691261"
   },
   "outputs": [
    {
     "name": "stdout",
     "output_type": "stream",
     "text": [
      "              precision    recall  f1-score   support\n",
      "\n",
      "           0       1.00      1.00      1.00    368588\n",
      "           1       0.68      0.63      0.65      1891\n",
      "\n",
      "    accuracy                           1.00    370479\n",
      "   macro avg       0.84      0.81      0.83    370479\n",
      "weighted avg       1.00      1.00      1.00    370479\n",
      "\n"
     ]
    }
   ],
   "source": [
    "print(classification_report(y_test, pred))"
   ]
  },
  {
   "cell_type": "markdown",
   "metadata": {
    "id": "gf5eMOX9vmVK"
   },
   "source": [
    "### `model.predict_proba()`"
   ]
  },
  {
   "cell_type": "markdown",
   "metadata": {
    "id": "eZensYIFxyOm"
   },
   "source": [
    "- 분류되기 전에 얼만큼의 확률을 보였는지 나타냄"
   ]
  },
  {
   "cell_type": "code",
   "execution_count": 44,
   "metadata": {
    "colab": {
     "base_uri": "https://localhost:8080/"
    },
    "id": "2CvOfMQ0x2Ih",
    "outputId": "a6fb97c6-7850-455f-9d68-57c52f5e3980"
   },
   "outputs": [
    {
     "data": {
      "text/plain": [
       "array([[9.99069879e-01, 9.30120853e-04],\n",
       "       [9.99957475e-01, 4.25253222e-05],\n",
       "       [9.99929953e-01, 7.00468547e-05],\n",
       "       ...,\n",
       "       [9.97326245e-01, 2.67375455e-03],\n",
       "       [9.99684243e-01, 3.15757316e-04],\n",
       "       [9.99924891e-01, 7.51086766e-05]])"
      ]
     },
     "execution_count": 44,
     "metadata": {},
     "output_type": "execute_result"
    }
   ],
   "source": [
    "proba = model.predict_proba(X_test)\n",
    "\n",
    "proba"
   ]
  },
  {
   "cell_type": "markdown",
   "metadata": {
    "id": "vwBsSEHRx8vd"
   },
   "source": [
    "- 각각의 행: 입력받은 test data별\n",
    "\n",
    "    - 1열: 0에 대한 예측값(target이 아닐 예측)\n",
    "\n",
    "    - 2열: 1에 대한 예측값(target일 예측)\n",
    "\n",
    "        - 모든 행의 2열: 1에 대한 예측값: target(이상거래)"
   ]
  },
  {
   "cell_type": "code",
   "execution_count": 45,
   "metadata": {
    "colab": {
     "base_uri": "https://localhost:8080/"
    },
    "id": "_CYOSzYxyRe9",
    "outputId": "6d43f59c-9f8a-4c0a-f19a-9d17e2cf31cc"
   },
   "outputs": [
    {
     "data": {
      "text/plain": [
       "array([9.30120853e-04, 4.25253222e-05, 7.00468547e-05, ...,\n",
       "       2.67375455e-03, 3.15757316e-04, 7.51086766e-05])"
      ]
     },
     "execution_count": 45,
     "metadata": {},
     "output_type": "execute_result"
    }
   ],
   "source": [
    "proba[:, 1]"
   ]
  },
  {
   "cell_type": "code",
   "execution_count": 46,
   "metadata": {
    "id": "FdMl75-Xyz81"
   },
   "outputs": [],
   "source": [
    "proba = proba[:, 1]"
   ]
  },
  {
   "cell_type": "markdown",
   "metadata": {
    "id": "qKEc9MxOy5jF"
   },
   "source": [
    "- default: `0.5` → 50% 초과면 1로 인정\n",
    "\n",
    "    - `0.2`: 20%만 초과해도 1로 인정\n",
    "\n",
    "    - `0.8`: 80%보다 초과해야 1로 인정\n",
    "\n",
    "- `True`, `False` → `1`, `0`: int"
   ]
  },
  {
   "cell_type": "code",
   "execution_count": 47,
   "metadata": {
    "id": "SeDA_gqi05Ye"
   },
   "outputs": [],
   "source": [
    "proba_case1 = (proba > 0.2).astype('int')\n",
    "proba_case2 = (proba > 0.8).astype('int')"
   ]
  },
  {
   "cell_type": "code",
   "execution_count": 48,
   "metadata": {
    "id": "IxnJdvo21K4W"
   },
   "outputs": [],
   "source": [
    "def confusion_matrix_view(y_test, pred):\n",
    "    cf_matrix = confusion_matrix(y_test, pred)\n",
    "    print(cf_matrix)\n",
    "    group_names = ['TN','FP','FN','TP']\n",
    "    group_counts = [\"{0:0.0f}\".format(value) for value in\n",
    "                    cf_matrix.flatten()]\n",
    "    group_percentages = [\"{0:.2%}\".format(value) for value in\n",
    "                        cf_matrix.flatten()/np.sum(cf_matrix)]\n",
    "    labels = [f\"{v1}\\n{v2}\\n{v3}\" for v1, v2, v3 in\n",
    "            zip(group_names,group_counts,group_percentages)]\n",
    "    labels = np.asarray(labels).reshape(2,2)\n",
    "    sns.heatmap(cf_matrix, annot=labels, fmt='', cmap='coolwarm')\n",
    "    plt.ylabel('Actual')\n",
    "    plt.xlabel('Predicted')\n",
    "    plt.show()\n",
    "    print(classification_report(y_test, pred))"
   ]
  },
  {
   "cell_type": "code",
   "execution_count": 49,
   "metadata": {
    "colab": {
     "base_uri": "https://localhost:8080/",
     "height": 470
    },
    "id": "5X83JOA11Lgd",
    "outputId": "8a3c3006-a5c4-4ba2-e594-eca23acfd7be"
   },
   "outputs": [
    {
     "name": "stdout",
     "output_type": "stream",
     "text": [
      "[[368030    558]\n",
      " [   701   1190]]\n"
     ]
    },
    {
     "data": {
      "image/png": "[encoded data removed]",
      "text/plain": [
       "<Figure size 640x480 with 2 Axes>"
      ]
     },
     "metadata": {},
     "output_type": "display_data"
    },
    {
     "name": "stdout",
     "output_type": "stream",
     "text": [
      "              precision    recall  f1-score   support\n",
      "\n",
      "           0       1.00      1.00      1.00    368588\n",
      "           1       0.68      0.63      0.65      1891\n",
      "\n",
      "    accuracy                           1.00    370479\n",
      "   macro avg       0.84      0.81      0.83    370479\n",
      "weighted avg       1.00      1.00      1.00    370479\n",
      "\n"
     ]
    }
   ],
   "source": [
    "confusion_matrix_view(y_test, pred)"
   ]
  },
  {
   "cell_type": "markdown",
   "metadata": {
    "id": "mKiEDRyD1SfO"
   },
   "source": [
    "- case1) `0.2` 초과면 `1`: 1종오류 증가, 2종오류 감소"
   ]
  },
  {
   "cell_type": "code",
   "execution_count": 50,
   "metadata": {
    "colab": {
     "base_uri": "https://localhost:8080/",
     "height": 470
    },
    "id": "BAc8Ef5L1Xvl",
    "outputId": "d5fd3c2c-d765-4ee4-8927-2e1e75dc08f6"
   },
   "outputs": [
    {
     "name": "stdout",
     "output_type": "stream",
     "text": [
      "[[367529   1059]\n",
      " [   552   1339]]\n"
     ]
    },
    {
     "data": {
      "image/png": "[encoded data removed]",
      "text/plain": [
       "<Figure size 640x480 with 2 Axes>"
      ]
     },
     "metadata": {},
     "output_type": "display_data"
    },
    {
     "name": "stdout",
     "output_type": "stream",
     "text": [
      "              precision    recall  f1-score   support\n",
      "\n",
      "           0       1.00      1.00      1.00    368588\n",
      "           1       0.56      0.71      0.62      1891\n",
      "\n",
      "    accuracy                           1.00    370479\n",
      "   macro avg       0.78      0.85      0.81    370479\n",
      "weighted avg       1.00      1.00      1.00    370479\n",
      "\n"
     ]
    }
   ],
   "source": [
    "confusion_matrix_view(y_test, proba_case1)"
   ]
  },
  {
   "cell_type": "markdown",
   "metadata": {
    "id": "7z_3Jyqv1dRm"
   },
   "source": [
    "- case2) `0.8`초과면 `1`: 1종오류 감소, 2종오류 증가"
   ]
  },
  {
   "cell_type": "code",
   "execution_count": 51,
   "metadata": {
    "colab": {
     "base_uri": "https://localhost:8080/",
     "height": 470
    },
    "id": "-zRxF7VC10MX",
    "outputId": "b91dc062-1bd3-4e43-cb97-1ce436dddd23"
   },
   "outputs": [
    {
     "name": "stdout",
     "output_type": "stream",
     "text": [
      "[[368283    305]\n",
      " [   933    958]]\n"
     ]
    },
    {
     "data": {
      "image/png": "[encoded data removed]",
      "text/plain": [
       "<Figure size 640x480 with 2 Axes>"
      ]
     },
     "metadata": {},
     "output_type": "display_data"
    },
    {
     "name": "stdout",
     "output_type": "stream",
     "text": [
      "              precision    recall  f1-score   support\n",
      "\n",
      "           0       1.00      1.00      1.00    368588\n",
      "           1       0.76      0.51      0.61      1891\n",
      "\n",
      "    accuracy                           1.00    370479\n",
      "   macro avg       0.88      0.75      0.80    370479\n",
      "weighted avg       1.00      1.00      1.00    370479\n",
      "\n"
     ]
    }
   ],
   "source": [
    "confusion_matrix_view(y_test, proba_case2)"
   ]
  },
  {
   "cell_type": "markdown",
   "metadata": {
    "id": "fZWgPnp114h-"
   },
   "source": [
    "## ROC 곡선 & AUC"
   ]
  },
  {
   "cell_type": "markdown",
   "metadata": {
    "id": "kiEWP8OD2G3_"
   },
   "source": [
    "- [Reference](https://losskatsu.github.io/machine-learning/stat-roc-curve/#2-%EB%AF%BC%EA%B0%90%EB%8F%84%EC%99%80-%ED%8A%B9%EC%9D%B4%EB%8F%84)\n",
    "\n",
    "- binary classifier model을 평가하는 방법, 기준점에 영향을 받지 않기 때문에 여러 모델을 비교할 때 사용\n",
    "\n",
    "- AUC: ROC 곡선의 아래 면적 → `0.5` ~ `1`, 값이 클수록 좋은 model"
   ]
  },
  {
   "cell_type": "markdown",
   "metadata": {
    "id": "yvRPtFm02JvO"
   },
   "source": [
    "### ROC 곡선\n",
    "\n",
    "> 민감도, 특이도 개념을 활용\n",
    "\n",
    "<br>\n",
    "\n",
    "#### 민감도 (TPR)\n",
    "\n",
    "- $TPR = \\frac{TP}{TP + FN}$\n",
    "\n",
    "- 재현율`recall`과 같은 수식\n",
    "\n",
    "- 실제 1인 것 중 얼만큼 1로 예측되었는지 나타내는 수치\n",
    "\n",
    "- 1에 가까울수록 좋은 값\n",
    "\n",
    "<br>\n",
    "\n",
    "#### 특이도 (TNR)\n",
    "\n",
    "- $TNR = \\frac{TN}{FP + TN}$\n",
    "\n",
    "- 실제 0인 것 중 얼만큼 1로 예측되었는지 나타내는 수치\n",
    "\n",
    "- 0에 가까울수록 좋은 값\n",
    "\n",
    "- $FPR = 1 - TNR$"
   ]
  },
  {
   "cell_type": "markdown",
   "metadata": {
    "id": "KuU4onY7-GH-"
   },
   "source": [
    "![ROC](https://i.imgur.com/euCumVh.png)\n",
    "\n",
    "- 기준점을 바꿨을 때, `TPR`, `FPR`이 바뀌는 모양을 나타낸 그래프\n",
    "\n",
    "- 최악의 경우 (학습이 전혀 안 될 경우): 빨간색 점선\n",
    "\n",
    "### AUC (Area Under the ROC Curve)\n",
    "\n",
    "- ROC 곡선의 아래쪽에 해당하는 면적\n",
    "\n",
    "- `0.5` ~ `1`사이의 값을 가지며 값이 클수록 해당 model이 더 좋은 classifier라는 의미\n",
    "\n",
    "![AUC](https://i.imgur.com/udlCMW4.png)"
   ]
  },
  {
   "cell_type": "markdown",
   "metadata": {
    "id": "roiRA7gj-9mm"
   },
   "source": [
    "## RandomGridSearch\n",
    "\n",
    "- GridSearch: 모든 조합에 대해 modeling\n",
    "\n",
    "    - RandomGridSearch: 더 넓은 영역의 hyperparamter값을 더 짧은 시간에 다양하게 활용 → 일부만 추출해서 사용\n"
   ]
  },
  {
   "cell_type": "code",
   "execution_count": 52,
   "metadata": {
    "id": "JcZGlxZVskhz"
   },
   "outputs": [],
   "source": [
    "from sklearn.model_selection import RandomizedSearchCV"
   ]
  },
  {
   "cell_type": "code",
   "execution_count": 53,
   "metadata": {
    "id": "4B7BHyxesoPA"
   },
   "outputs": [],
   "source": [
    "parameters = {\n",
    "    'n_estimators': [100, 500, 1000],\n",
    "    'learning_rate': [0.01, 0.05, 0.1, 0.25],\n",
    "    'lambda_l1': [0, 10, 20, 30, 50],\n",
    "    'lambda_l2': [0, 10, 20, 30, 50],\n",
    "    'max_depth': [5, 10, 15, 20],\n",
    "    'subsample': [0.5, 0.75, 1]\n",
    "}"
   ]
  },
  {
   "cell_type": "markdown",
   "metadata": {
    "id": "j1GDnfM4tG5Y"
   },
   "source": [
    "### L1 정규화, L2 정규화\n",
    "\n",
    "- 라쏘 회귀(lasso regression): L1 정규화(`lambda_l1`)\n",
    "\n",
    "- 릿지 회귀(ridge regression): L2 정규화(`lambda_l2`)\n",
    "\n",
    "> 매개변수에 패널티를 가해서 영향력(계수)를 감소시키는 방법. 오버피팅 방지 목적."
   ]
  },
  {
   "cell_type": "code",
   "execution_count": 54,
   "metadata": {
    "id": "oaZxqHy9tiuB"
   },
   "outputs": [],
   "source": [
    "new_model = lgb.LGBMClassifier(random_state=np.random.randint(1000))\n",
    "rsCV = RandomizedSearchCV(new_model, param_distributions=parameters, n_iter=30,\n",
    "                          scoring='roc_auc', random_state=np.random.randint(1000), n_jobs=6)"
   ]
  },
  {
   "cell_type": "code",
   "execution_count": 55,
   "metadata": {
    "colab": {
     "base_uri": "https://localhost:8080/",
     "height": 368
    },
    "id": "fXbZyUvSuO1J",
    "outputId": "651e1a80-3dda-4392-b0d1-271059ea1417"
   },
   "outputs": [
    {
     "name": "stdout",
     "output_type": "stream",
     "text": [
      "[LightGBM] [Warning] lambda_l1 is set=0, reg_alpha=0.0 will be ignored. Current value: lambda_l1=0\n",
      "[LightGBM] [Warning] lambda_l2 is set=50, reg_lambda=0.0 will be ignored. Current value: lambda_l2=50\n",
      "1051.4817752838135\n"
     ]
    }
   ],
   "source": [
    "import time\n",
    "\n",
    "start = time.time()\n",
    "\n",
    "rsCV.fit(X_train, y_train)\n",
    "print(time.time() - start)"
   ]
  },
  {
   "cell_type": "code",
   "execution_count": 56,
   "metadata": {
    "id": "onDVJ_6qubXA"
   },
   "outputs": [
    {
     "data": {
      "text/plain": [
       "{'subsample': 0.5,\n",
       " 'n_estimators': 500,\n",
       " 'max_depth': 20,\n",
       " 'learning_rate': 0.25,\n",
       " 'lambda_l2': 50,\n",
       " 'lambda_l1': 0}"
      ]
     },
     "execution_count": 56,
     "metadata": {},
     "output_type": "execute_result"
    }
   ],
   "source": [
    "rsCV.best_params_"
   ]
  },
  {
   "cell_type": "code",
   "execution_count": 57,
   "metadata": {
    "id": "hYspZ0elu5HO"
   },
   "outputs": [],
   "source": [
    "rsCV_proba = rsCV.predict_proba(X_test)"
   ]
  },
  {
   "cell_type": "code",
   "execution_count": 58,
   "metadata": {
    "id": "akDfFwcaud2o"
   },
   "outputs": [
    {
     "data": {
      "text/plain": [
       "0.9964346064160456"
      ]
     },
     "execution_count": 58,
     "metadata": {},
     "output_type": "execute_result"
    }
   ],
   "source": [
    "roc_auc_score(y_test, rsCV_proba[:, 1])"
   ]
  },
  {
   "cell_type": "code",
   "execution_count": 59,
   "metadata": {
    "id": "6CLT6PO1ukzh"
   },
   "outputs": [
    {
     "name": "stdout",
     "output_type": "stream",
     "text": [
      "[[367768    820]\n",
      " [   358   1533]]\n"
     ]
    },
    {
     "data": {
      "image/png": "[encoded data removed]",
      "text/plain": [
       "<Figure size 640x480 with 2 Axes>"
      ]
     },
     "metadata": {},
     "output_type": "display_data"
    },
    {
     "name": "stdout",
     "output_type": "stream",
     "text": [
      "              precision    recall  f1-score   support\n",
      "\n",
      "           0       1.00      1.00      1.00    368588\n",
      "           1       0.65      0.81      0.72      1891\n",
      "\n",
      "    accuracy                           1.00    370479\n",
      "   macro avg       0.83      0.90      0.86    370479\n",
      "weighted avg       1.00      1.00      1.00    370479\n",
      "\n"
     ]
    }
   ],
   "source": [
    "rsCV_proba_int = (rsCV_proba[:, 1] > 0.2).astype('int')\n",
    "confusion_matrix_view(y_test, rsCV_proba_int)"
   ]
  },
  {
   "cell_type": "code",
   "execution_count": 60,
   "metadata": {
    "id": "nT8yUnmSuxMA"
   },
   "outputs": [
    {
     "name": "stdout",
     "output_type": "stream",
     "text": [
      "[[367529   1059]\n",
      " [   552   1339]]\n"
     ]
    },
    {
     "data": {
      "image/png": "[encoded data removed]",
      "text/plain": [
       "<Figure size 640x480 with 2 Axes>"
      ]
     },
     "metadata": {},
     "output_type": "display_data"
    },
    {
     "name": "stdout",
     "output_type": "stream",
     "text": [
      "              precision    recall  f1-score   support\n",
      "\n",
      "           0       1.00      1.00      1.00    368588\n",
      "           1       0.56      0.71      0.62      1891\n",
      "\n",
      "    accuracy                           1.00    370479\n",
      "   macro avg       0.78      0.85      0.81    370479\n",
      "weighted avg       1.00      1.00      1.00    370479\n",
      "\n"
     ]
    }
   ],
   "source": [
    "confusion_matrix_view(y_test, proba_case1)"
   ]
  },
  {
   "cell_type": "code",
   "execution_count": 61,
   "metadata": {
    "id": "8YofjincvGkw"
   },
   "outputs": [
    {
     "name": "stdout",
     "output_type": "stream",
     "text": [
      "[[368283    305]\n",
      " [   933    958]]\n"
     ]
    },
    {
     "data": {
      "image/png": "[encoded data removed]",
      "text/plain": [
       "<Figure size 640x480 with 2 Axes>"
      ]
     },
     "metadata": {},
     "output_type": "display_data"
    },
    {
     "name": "stdout",
     "output_type": "stream",
     "text": [
      "              precision    recall  f1-score   support\n",
      "\n",
      "           0       1.00      1.00      1.00    368588\n",
      "           1       0.76      0.51      0.61      1891\n",
      "\n",
      "    accuracy                           1.00    370479\n",
      "   macro avg       0.88      0.75      0.80    370479\n",
      "weighted avg       1.00      1.00      1.00    370479\n",
      "\n"
     ]
    }
   ],
   "source": [
    "confusion_matrix_view(y_test, proba_case2)"
   ]
  },
  {
   "cell_type": "markdown",
   "metadata": {
    "id": "VbPRNBSPvK0m"
   },
   "source": [
    "## `train()` method"
   ]
  },
  {
   "cell_type": "markdown",
   "metadata": {
    "id": "5K4nTCngvShO"
   },
   "source": [
    "- `model.fit(X_train, y_train)` → output: 학습\n",
    "\n",
    "- `model.train()` ← input: fit\n",
    "\n",
    "\n",
    "||train|fit|\n",
    "|-|-|-|\n",
    "|test set|modeling - test set|test X|\n",
    "|Data Set|DataFrame → 별도 format 변환|DataFrame, Series|\n",
    "|Hyperparameter|default X|default O|\n",
    "|scikit-learn 연동|X|O|\n",
    "\n",
    "- `fit`: 학습 → train set → model → test set \n",
    "\n",
    "- `train`: 학습 → train set과 별개의 validation set → model"
   ]
  },
  {
   "cell_type": "code",
   "execution_count": 62,
   "metadata": {
    "id": "NIS6V0sWviuS"
   },
   "outputs": [],
   "source": [
    "def get_X_y(df):\n",
    "    X = df.drop(columns=['is_fraud'])\n",
    "    y = df['is_fraud']\n",
    "\n",
    "    return (X, y)"
   ]
  },
  {
   "cell_type": "code",
   "execution_count": 76,
   "metadata": {
    "id": "7SdJz_X12UHq"
   },
   "outputs": [],
   "source": [
    "X, y = get_X_y(df)\n",
    "\n",
    "X_train, X_test, y_train, y_test = train_test_split(\n",
    "    X, y, test_size=0.2, random_state=814\n",
    ")\n",
    "\n",
    "X_train, X_val, y_train, y_val = train_test_split(\n",
    "    X_train, y_train, test_size=0.2, random_state=814\n",
    ")"
   ]
  },
  {
   "cell_type": "code",
   "execution_count": 77,
   "metadata": {
    "id": "HeuG0Ml23M0K"
   },
   "outputs": [],
   "source": [
    "data_train = lgb.Dataset(X_train, label=y_train)\n",
    "data_val = lgb.Dataset(X_val, label=y_val)\n",
    "\n",
    "param_set = rsCV.best_params_"
   ]
  },
  {
   "cell_type": "code",
   "execution_count": 78,
   "metadata": {
    "id": "QXnh-7OR3gWR"
   },
   "outputs": [
    {
     "data": {
      "text/plain": [
       "{'subsample': 0.5,\n",
       " 'n_estimators': 500,\n",
       " 'max_depth': 20,\n",
       " 'learning_rate': 0.25,\n",
       " 'lambda_l2': 50,\n",
       " 'lambda_l1': 0,\n",
       " 'metrics': 'auc'}"
      ]
     },
     "execution_count": 78,
     "metadata": {},
     "output_type": "execute_result"
    }
   ],
   "source": [
    "param_set"
   ]
  },
  {
   "cell_type": "code",
   "execution_count": 79,
   "metadata": {
    "id": "aIpdzw-W3rpp"
   },
   "outputs": [
    {
     "name": "stderr",
     "output_type": "stream",
     "text": [
      "C:\\Users\\EthanJ\\anaconda3\\lib\\site-packages\\lightgbm\\engine.py:177: UserWarning: Found `n_estimators` in params. Will use it instead of argument\n",
      "  _log_warning(f\"Found `{alias}` in params. Will use it instead of argument\")\n",
      "C:\\Users\\EthanJ\\anaconda3\\lib\\site-packages\\lightgbm\\engine.py:181: UserWarning: 'early_stopping_rounds' argument is deprecated and will be removed in a future release of LightGBM. Pass 'early_stopping()' callback via 'callbacks' argument instead.\n",
      "  _log_warning(\"'early_stopping_rounds' argument is deprecated and will be removed in a future release of LightGBM. \"\n",
      "C:\\Users\\EthanJ\\anaconda3\\lib\\site-packages\\lightgbm\\engine.py:239: UserWarning: 'verbose_eval' argument is deprecated and will be removed in a future release of LightGBM. Pass 'log_evaluation()' callback via 'callbacks' argument instead.\n",
      "  _log_warning(\"'verbose_eval' argument is deprecated and will be removed in a future release of LightGBM. \"\n"
     ]
    },
    {
     "name": "stdout",
     "output_type": "stream",
     "text": [
      "[LightGBM] [Warning] Accuracy may be bad since you didn't explicitly set num_leaves OR 2^max_depth > num_leaves. (num_leaves=31).\n",
      "[LightGBM] [Warning] Accuracy may be bad since you didn't explicitly set num_leaves OR 2^max_depth > num_leaves. (num_leaves=31).\n",
      "[LightGBM] [Warning] Auto-choosing row-wise multi-threading, the overhead of testing was 0.004016 seconds.\n",
      "You can set `force_row_wise=true` to remove the overhead.\n",
      "And if memory is not enough, you can set `force_col_wise=true`.\n",
      "[LightGBM] [Info] Total Bins 1632\n",
      "[LightGBM] [Info] Number of data points in the train set: 1185532, number of used features: 21\n",
      "[LightGBM] [Warning] Accuracy may be bad since you didn't explicitly set num_leaves OR 2^max_depth > num_leaves. (num_leaves=31).\n",
      "[LightGBM] [Info] Start training from score 0.005262\n",
      "Training until validation scores don't improve for 100 rounds\n",
      "[100]\tvalid_0's auc: 0.993644\n",
      "Early stopping, best iteration is:\n",
      "[97]\tvalid_0's auc: 0.994762\n"
     ]
    }
   ],
   "source": [
    "model_train = lgb.train(param_set, data_train, valid_sets=[data_val],\n",
    "                        # early_stopping_rounds: 학습 시간 제한\n",
    "                        # verbose_eval: 중간결과를 특정 간격으로 출력\n",
    "                        early_stopping_rounds=100, verbose_eval=100)"
   ]
  },
  {
   "cell_type": "code",
   "execution_count": 80,
   "metadata": {
    "id": "D3l8V43z4CfQ"
   },
   "outputs": [],
   "source": [
    "pred_train = model_train.predict(X_test)"
   ]
  },
  {
   "cell_type": "code",
   "execution_count": 81,
   "metadata": {
    "id": "3rKaaV7w4JbS"
   },
   "outputs": [
    {
     "data": {
      "text/plain": [
       "0.9929069517179909"
      ]
     },
     "execution_count": 81,
     "metadata": {},
     "output_type": "execute_result"
    }
   ],
   "source": [
    "roc_auc_score(y_test, pred_train)"
   ]
  },
  {
   "cell_type": "code",
   "execution_count": 82,
   "metadata": {
    "id": "MEAuPkb-4NfB",
    "scrolled": true
   },
   "outputs": [
    {
     "data": {
      "image/png": "[encoded data removed]",
      "text/plain": [
       "<Figure size 2000x1000 with 1 Axes>"
      ]
     },
     "metadata": {},
     "output_type": "display_data"
    }
   ],
   "source": [
    "feature_imptnt = pd.DataFrame({'features': X_train.columns, 'values': model.feature_importances_})\n",
    "plt.figure(figsize=(20, 10))\n",
    "\n",
    "sns.barplot(x='values', y='features',\n",
    "            data=feature_imptnt.sort_values(by='values', ascending=False).head(10))\n",
    "\n",
    "plt.show()"
   ]
  }
 ],
 "metadata": {
  "colab": {
   "authorship_tag": "ABX9TyOr6T89hgrTIFv/Ye6ABKSL",
   "include_colab_link": true,
   "provenance": []
  },
  "kernelspec": {
   "display_name": "Python 3 (ipykernel)",
   "language": "python",
   "name": "python3"
  },
  "language_info": {
   "codemirror_mode": {
    "name": "ipython",
    "version": 3
   },
   "file_extension": ".py",
   "mimetype": "text/x-python",
   "name": "python",
   "nbconvert_exporter": "python",
   "pygments_lexer": "ipython3",
   "version": "3.9.13"
  }
 },
 "nbformat": 4,
 "nbformat_minor": 1
}
