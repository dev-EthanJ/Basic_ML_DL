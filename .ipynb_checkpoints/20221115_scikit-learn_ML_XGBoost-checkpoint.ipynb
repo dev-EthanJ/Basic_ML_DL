{
 "cells": [
  {
   "cell_type": "markdown",
   "metadata": {
    "colab_type": "text",
    "id": "view-in-github"
   },
   "source": [
    "<a href=\"https://colab.research.google.com/github/dev-EthanJ/scikit-learn_Machine_Learning/blob/main/20221115_scikit-learn_ML_XGBoost.ipynb\" target=\"_parent\"><img src=\"https://colab.research.google.com/assets/colab-badge.svg\" alt=\"Open In Colab\"/></a>"
   ]
  },
  {
   "cell_type": "markdown",
   "metadata": {
    "id": "M4fsy2USoOVE"
   },
   "source": [
    "# scikit-learn Machine Learning XGBoost <br> 사이킷런 머신러닝 XGBoost"
   ]
  },
  {
   "cell_type": "code",
   "execution_count": 1,
   "metadata": {
    "id": "QWwRw9uFKpKD"
   },
   "outputs": [],
   "source": [
    "import pandas as pd\n",
    "import numpy as np\n",
    "import matplotlib.pyplot as plt\n",
    "import seaborn as sns"
   ]
  },
  {
   "cell_type": "markdown",
   "metadata": {
    "id": "JrDBy0cKxElc"
   },
   "source": [
    "## Data Collection"
   ]
  },
  {
   "cell_type": "code",
   "execution_count": 2,
   "metadata": {
    "id": "0Cm23z0UOxJw"
   },
   "outputs": [],
   "source": [
    "# https://www.kaggle.com/datasets/annavictoria/speed-dating-experiment\n",
    "\n",
    "file_url = 'https://raw.githubusercontent.com/dev-EthanJ/scikit-learn_Machine_Learning/main/data/'\n",
    "file_name = 'dating.csv'\n",
    "\n",
    "df = pd.read_csv(file_url + file_name)"
   ]
  },
  {
   "cell_type": "code",
   "execution_count": 3,
   "metadata": {
    "colab": {
     "base_uri": "https://localhost:8080/",
     "height": 357
    },
    "id": "aZkNFP-zwgQ9",
    "outputId": "0f7c0c51-d556-4fb6-f217-ee44e60f85c2"
   },
   "outputs": [
    {
     "data": {
      "text/html": [
       "<div>\n",
       "<style scoped>\n",
       "    .dataframe tbody tr th:only-of-type {\n",
       "        vertical-align: middle;\n",
       "    }\n",
       "\n",
       "    .dataframe tbody tr th {\n",
       "        vertical-align: top;\n",
       "    }\n",
       "\n",
       "    .dataframe thead th {\n",
       "        text-align: right;\n",
       "    }\n",
       "</style>\n",
       "<table border=\"1\" class=\"dataframe\">\n",
       "  <thead>\n",
       "    <tr style=\"text-align: right;\">\n",
       "      <th></th>\n",
       "      <th>has_null</th>\n",
       "      <th>gender</th>\n",
       "      <th>age</th>\n",
       "      <th>age_o</th>\n",
       "      <th>race</th>\n",
       "      <th>race_o</th>\n",
       "      <th>importance_same_race</th>\n",
       "      <th>importance_same_religion</th>\n",
       "      <th>pref_o_attractive</th>\n",
       "      <th>pref_o_sincere</th>\n",
       "      <th>...</th>\n",
       "      <th>funny_partner</th>\n",
       "      <th>ambition_partner</th>\n",
       "      <th>shared_interests_partner</th>\n",
       "      <th>interests_correlate</th>\n",
       "      <th>expected_happy_with_sd_people</th>\n",
       "      <th>expected_num_interested_in_me</th>\n",
       "      <th>like</th>\n",
       "      <th>guess_prob_liked</th>\n",
       "      <th>met</th>\n",
       "      <th>match</th>\n",
       "    </tr>\n",
       "  </thead>\n",
       "  <tbody>\n",
       "    <tr>\n",
       "      <th>0</th>\n",
       "      <td>0</td>\n",
       "      <td>female</td>\n",
       "      <td>21.0</td>\n",
       "      <td>27.0</td>\n",
       "      <td>Asian/PacificIslander/Asian-American</td>\n",
       "      <td>European/Caucasian-American</td>\n",
       "      <td>2.0</td>\n",
       "      <td>4.0</td>\n",
       "      <td>35.0</td>\n",
       "      <td>20.0</td>\n",
       "      <td>...</td>\n",
       "      <td>7.0</td>\n",
       "      <td>6.0</td>\n",
       "      <td>5.0</td>\n",
       "      <td>0.14</td>\n",
       "      <td>3.0</td>\n",
       "      <td>2.0</td>\n",
       "      <td>7.0</td>\n",
       "      <td>6.0</td>\n",
       "      <td>0.0</td>\n",
       "      <td>0</td>\n",
       "    </tr>\n",
       "    <tr>\n",
       "      <th>1</th>\n",
       "      <td>0</td>\n",
       "      <td>female</td>\n",
       "      <td>21.0</td>\n",
       "      <td>22.0</td>\n",
       "      <td>Asian/PacificIslander/Asian-American</td>\n",
       "      <td>European/Caucasian-American</td>\n",
       "      <td>2.0</td>\n",
       "      <td>4.0</td>\n",
       "      <td>60.0</td>\n",
       "      <td>0.0</td>\n",
       "      <td>...</td>\n",
       "      <td>8.0</td>\n",
       "      <td>5.0</td>\n",
       "      <td>6.0</td>\n",
       "      <td>0.54</td>\n",
       "      <td>3.0</td>\n",
       "      <td>2.0</td>\n",
       "      <td>7.0</td>\n",
       "      <td>5.0</td>\n",
       "      <td>1.0</td>\n",
       "      <td>0</td>\n",
       "    </tr>\n",
       "    <tr>\n",
       "      <th>2</th>\n",
       "      <td>1</td>\n",
       "      <td>female</td>\n",
       "      <td>21.0</td>\n",
       "      <td>22.0</td>\n",
       "      <td>Asian/PacificIslander/Asian-American</td>\n",
       "      <td>Asian/PacificIslander/Asian-American</td>\n",
       "      <td>2.0</td>\n",
       "      <td>4.0</td>\n",
       "      <td>19.0</td>\n",
       "      <td>18.0</td>\n",
       "      <td>...</td>\n",
       "      <td>8.0</td>\n",
       "      <td>5.0</td>\n",
       "      <td>7.0</td>\n",
       "      <td>0.16</td>\n",
       "      <td>3.0</td>\n",
       "      <td>2.0</td>\n",
       "      <td>7.0</td>\n",
       "      <td>NaN</td>\n",
       "      <td>1.0</td>\n",
       "      <td>1</td>\n",
       "    </tr>\n",
       "    <tr>\n",
       "      <th>3</th>\n",
       "      <td>0</td>\n",
       "      <td>female</td>\n",
       "      <td>21.0</td>\n",
       "      <td>23.0</td>\n",
       "      <td>Asian/PacificIslander/Asian-American</td>\n",
       "      <td>European/Caucasian-American</td>\n",
       "      <td>2.0</td>\n",
       "      <td>4.0</td>\n",
       "      <td>30.0</td>\n",
       "      <td>5.0</td>\n",
       "      <td>...</td>\n",
       "      <td>7.0</td>\n",
       "      <td>6.0</td>\n",
       "      <td>8.0</td>\n",
       "      <td>0.61</td>\n",
       "      <td>3.0</td>\n",
       "      <td>2.0</td>\n",
       "      <td>7.0</td>\n",
       "      <td>6.0</td>\n",
       "      <td>0.0</td>\n",
       "      <td>1</td>\n",
       "    </tr>\n",
       "    <tr>\n",
       "      <th>4</th>\n",
       "      <td>0</td>\n",
       "      <td>female</td>\n",
       "      <td>21.0</td>\n",
       "      <td>24.0</td>\n",
       "      <td>Asian/PacificIslander/Asian-American</td>\n",
       "      <td>Latino/HispanicAmerican</td>\n",
       "      <td>2.0</td>\n",
       "      <td>4.0</td>\n",
       "      <td>30.0</td>\n",
       "      <td>10.0</td>\n",
       "      <td>...</td>\n",
       "      <td>7.0</td>\n",
       "      <td>6.0</td>\n",
       "      <td>6.0</td>\n",
       "      <td>0.21</td>\n",
       "      <td>3.0</td>\n",
       "      <td>2.0</td>\n",
       "      <td>6.0</td>\n",
       "      <td>6.0</td>\n",
       "      <td>0.0</td>\n",
       "      <td>1</td>\n",
       "    </tr>\n",
       "  </tbody>\n",
       "</table>\n",
       "<p>5 rows × 39 columns</p>\n",
       "</div>"
      ],
      "text/plain": [
       "   has_null  gender   age  age_o                                  race  \\\n",
       "0         0  female  21.0   27.0  Asian/PacificIslander/Asian-American   \n",
       "1         0  female  21.0   22.0  Asian/PacificIslander/Asian-American   \n",
       "2         1  female  21.0   22.0  Asian/PacificIslander/Asian-American   \n",
       "3         0  female  21.0   23.0  Asian/PacificIslander/Asian-American   \n",
       "4         0  female  21.0   24.0  Asian/PacificIslander/Asian-American   \n",
       "\n",
       "                                 race_o  importance_same_race  \\\n",
       "0           European/Caucasian-American                   2.0   \n",
       "1           European/Caucasian-American                   2.0   \n",
       "2  Asian/PacificIslander/Asian-American                   2.0   \n",
       "3           European/Caucasian-American                   2.0   \n",
       "4               Latino/HispanicAmerican                   2.0   \n",
       "\n",
       "   importance_same_religion  pref_o_attractive  pref_o_sincere  ...  \\\n",
       "0                       4.0               35.0            20.0  ...   \n",
       "1                       4.0               60.0             0.0  ...   \n",
       "2                       4.0               19.0            18.0  ...   \n",
       "3                       4.0               30.0             5.0  ...   \n",
       "4                       4.0               30.0            10.0  ...   \n",
       "\n",
       "   funny_partner  ambition_partner  shared_interests_partner  \\\n",
       "0            7.0               6.0                       5.0   \n",
       "1            8.0               5.0                       6.0   \n",
       "2            8.0               5.0                       7.0   \n",
       "3            7.0               6.0                       8.0   \n",
       "4            7.0               6.0                       6.0   \n",
       "\n",
       "   interests_correlate  expected_happy_with_sd_people  \\\n",
       "0                 0.14                            3.0   \n",
       "1                 0.54                            3.0   \n",
       "2                 0.16                            3.0   \n",
       "3                 0.61                            3.0   \n",
       "4                 0.21                            3.0   \n",
       "\n",
       "   expected_num_interested_in_me  like  guess_prob_liked  met  match  \n",
       "0                            2.0   7.0               6.0  0.0      0  \n",
       "1                            2.0   7.0               5.0  1.0      0  \n",
       "2                            2.0   7.0               NaN  1.0      1  \n",
       "3                            2.0   7.0               6.0  0.0      1  \n",
       "4                            2.0   6.0               6.0  0.0      1  \n",
       "\n",
       "[5 rows x 39 columns]"
      ]
     },
     "execution_count": 3,
     "metadata": {},
     "output_type": "execute_result"
    }
   ],
   "source": [
    "df.head()"
   ]
  },
  {
   "cell_type": "code",
   "execution_count": 4,
   "metadata": {
    "colab": {
     "base_uri": "https://localhost:8080/",
     "height": 357
    },
    "id": "JQrf6670xDd1",
    "outputId": "849571c3-1436-4729-dc7b-e51c8bea3058"
   },
   "outputs": [
    {
     "data": {
      "text/html": [
       "<div>\n",
       "<style scoped>\n",
       "    .dataframe tbody tr th:only-of-type {\n",
       "        vertical-align: middle;\n",
       "    }\n",
       "\n",
       "    .dataframe tbody tr th {\n",
       "        vertical-align: top;\n",
       "    }\n",
       "\n",
       "    .dataframe thead th {\n",
       "        text-align: right;\n",
       "    }\n",
       "</style>\n",
       "<table border=\"1\" class=\"dataframe\">\n",
       "  <thead>\n",
       "    <tr style=\"text-align: right;\">\n",
       "      <th></th>\n",
       "      <th>has_null</th>\n",
       "      <th>gender</th>\n",
       "      <th>age</th>\n",
       "      <th>age_o</th>\n",
       "      <th>race</th>\n",
       "      <th>race_o</th>\n",
       "      <th>importance_same_race</th>\n",
       "      <th>importance_same_religion</th>\n",
       "      <th>pref_o_attractive</th>\n",
       "      <th>pref_o_sincere</th>\n",
       "      <th>pref_o_intelligence</th>\n",
       "      <th>pref_o_funny</th>\n",
       "      <th>pref_o_ambitious</th>\n",
       "      <th>pref_o_shared_interests</th>\n",
       "      <th>attractive_o</th>\n",
       "      <th>sincere_o</th>\n",
       "      <th>intelligence_o</th>\n",
       "      <th>funny_o</th>\n",
       "      <th>ambitous_o</th>\n",
       "      <th>shared_interests_o</th>\n",
       "      <th>attractive_important</th>\n",
       "      <th>sincere_important</th>\n",
       "      <th>intellicence_important</th>\n",
       "      <th>funny_important</th>\n",
       "      <th>ambtition_important</th>\n",
       "      <th>shared_interests_important</th>\n",
       "      <th>attractive_partner</th>\n",
       "      <th>sincere_partner</th>\n",
       "      <th>intelligence_partner</th>\n",
       "      <th>funny_partner</th>\n",
       "      <th>ambition_partner</th>\n",
       "      <th>shared_interests_partner</th>\n",
       "      <th>interests_correlate</th>\n",
       "      <th>expected_happy_with_sd_people</th>\n",
       "      <th>expected_num_interested_in_me</th>\n",
       "      <th>like</th>\n",
       "      <th>guess_prob_liked</th>\n",
       "      <th>met</th>\n",
       "      <th>match</th>\n",
       "    </tr>\n",
       "  </thead>\n",
       "  <tbody>\n",
       "    <tr>\n",
       "      <th>0</th>\n",
       "      <td>0</td>\n",
       "      <td>female</td>\n",
       "      <td>21.0</td>\n",
       "      <td>27.0</td>\n",
       "      <td>Asian/PacificIslander/Asian-American</td>\n",
       "      <td>European/Caucasian-American</td>\n",
       "      <td>2.0</td>\n",
       "      <td>4.0</td>\n",
       "      <td>35.0</td>\n",
       "      <td>20.0</td>\n",
       "      <td>20.0</td>\n",
       "      <td>20.0</td>\n",
       "      <td>0.0</td>\n",
       "      <td>5.0</td>\n",
       "      <td>6.0</td>\n",
       "      <td>8.0</td>\n",
       "      <td>8.0</td>\n",
       "      <td>8.0</td>\n",
       "      <td>8.0</td>\n",
       "      <td>6.0</td>\n",
       "      <td>15.0</td>\n",
       "      <td>20.0</td>\n",
       "      <td>20.0</td>\n",
       "      <td>15.0</td>\n",
       "      <td>15.0</td>\n",
       "      <td>15.0</td>\n",
       "      <td>6.0</td>\n",
       "      <td>9.0</td>\n",
       "      <td>7.0</td>\n",
       "      <td>7.0</td>\n",
       "      <td>6.0</td>\n",
       "      <td>5.0</td>\n",
       "      <td>0.14</td>\n",
       "      <td>3.0</td>\n",
       "      <td>2.0</td>\n",
       "      <td>7.0</td>\n",
       "      <td>6.0</td>\n",
       "      <td>0.0</td>\n",
       "      <td>0</td>\n",
       "    </tr>\n",
       "    <tr>\n",
       "      <th>1</th>\n",
       "      <td>0</td>\n",
       "      <td>female</td>\n",
       "      <td>21.0</td>\n",
       "      <td>22.0</td>\n",
       "      <td>Asian/PacificIslander/Asian-American</td>\n",
       "      <td>European/Caucasian-American</td>\n",
       "      <td>2.0</td>\n",
       "      <td>4.0</td>\n",
       "      <td>60.0</td>\n",
       "      <td>0.0</td>\n",
       "      <td>0.0</td>\n",
       "      <td>40.0</td>\n",
       "      <td>0.0</td>\n",
       "      <td>0.0</td>\n",
       "      <td>7.0</td>\n",
       "      <td>8.0</td>\n",
       "      <td>10.0</td>\n",
       "      <td>7.0</td>\n",
       "      <td>7.0</td>\n",
       "      <td>5.0</td>\n",
       "      <td>15.0</td>\n",
       "      <td>20.0</td>\n",
       "      <td>20.0</td>\n",
       "      <td>15.0</td>\n",
       "      <td>15.0</td>\n",
       "      <td>15.0</td>\n",
       "      <td>7.0</td>\n",
       "      <td>8.0</td>\n",
       "      <td>7.0</td>\n",
       "      <td>8.0</td>\n",
       "      <td>5.0</td>\n",
       "      <td>6.0</td>\n",
       "      <td>0.54</td>\n",
       "      <td>3.0</td>\n",
       "      <td>2.0</td>\n",
       "      <td>7.0</td>\n",
       "      <td>5.0</td>\n",
       "      <td>1.0</td>\n",
       "      <td>0</td>\n",
       "    </tr>\n",
       "    <tr>\n",
       "      <th>2</th>\n",
       "      <td>1</td>\n",
       "      <td>female</td>\n",
       "      <td>21.0</td>\n",
       "      <td>22.0</td>\n",
       "      <td>Asian/PacificIslander/Asian-American</td>\n",
       "      <td>Asian/PacificIslander/Asian-American</td>\n",
       "      <td>2.0</td>\n",
       "      <td>4.0</td>\n",
       "      <td>19.0</td>\n",
       "      <td>18.0</td>\n",
       "      <td>19.0</td>\n",
       "      <td>18.0</td>\n",
       "      <td>14.0</td>\n",
       "      <td>12.0</td>\n",
       "      <td>10.0</td>\n",
       "      <td>10.0</td>\n",
       "      <td>10.0</td>\n",
       "      <td>10.0</td>\n",
       "      <td>10.0</td>\n",
       "      <td>10.0</td>\n",
       "      <td>15.0</td>\n",
       "      <td>20.0</td>\n",
       "      <td>20.0</td>\n",
       "      <td>15.0</td>\n",
       "      <td>15.0</td>\n",
       "      <td>15.0</td>\n",
       "      <td>5.0</td>\n",
       "      <td>8.0</td>\n",
       "      <td>9.0</td>\n",
       "      <td>8.0</td>\n",
       "      <td>5.0</td>\n",
       "      <td>7.0</td>\n",
       "      <td>0.16</td>\n",
       "      <td>3.0</td>\n",
       "      <td>2.0</td>\n",
       "      <td>7.0</td>\n",
       "      <td>NaN</td>\n",
       "      <td>1.0</td>\n",
       "      <td>1</td>\n",
       "    </tr>\n",
       "    <tr>\n",
       "      <th>3</th>\n",
       "      <td>0</td>\n",
       "      <td>female</td>\n",
       "      <td>21.0</td>\n",
       "      <td>23.0</td>\n",
       "      <td>Asian/PacificIslander/Asian-American</td>\n",
       "      <td>European/Caucasian-American</td>\n",
       "      <td>2.0</td>\n",
       "      <td>4.0</td>\n",
       "      <td>30.0</td>\n",
       "      <td>5.0</td>\n",
       "      <td>15.0</td>\n",
       "      <td>40.0</td>\n",
       "      <td>5.0</td>\n",
       "      <td>5.0</td>\n",
       "      <td>7.0</td>\n",
       "      <td>8.0</td>\n",
       "      <td>9.0</td>\n",
       "      <td>8.0</td>\n",
       "      <td>9.0</td>\n",
       "      <td>8.0</td>\n",
       "      <td>15.0</td>\n",
       "      <td>20.0</td>\n",
       "      <td>20.0</td>\n",
       "      <td>15.0</td>\n",
       "      <td>15.0</td>\n",
       "      <td>15.0</td>\n",
       "      <td>7.0</td>\n",
       "      <td>6.0</td>\n",
       "      <td>8.0</td>\n",
       "      <td>7.0</td>\n",
       "      <td>6.0</td>\n",
       "      <td>8.0</td>\n",
       "      <td>0.61</td>\n",
       "      <td>3.0</td>\n",
       "      <td>2.0</td>\n",
       "      <td>7.0</td>\n",
       "      <td>6.0</td>\n",
       "      <td>0.0</td>\n",
       "      <td>1</td>\n",
       "    </tr>\n",
       "    <tr>\n",
       "      <th>4</th>\n",
       "      <td>0</td>\n",
       "      <td>female</td>\n",
       "      <td>21.0</td>\n",
       "      <td>24.0</td>\n",
       "      <td>Asian/PacificIslander/Asian-American</td>\n",
       "      <td>Latino/HispanicAmerican</td>\n",
       "      <td>2.0</td>\n",
       "      <td>4.0</td>\n",
       "      <td>30.0</td>\n",
       "      <td>10.0</td>\n",
       "      <td>20.0</td>\n",
       "      <td>10.0</td>\n",
       "      <td>10.0</td>\n",
       "      <td>20.0</td>\n",
       "      <td>8.0</td>\n",
       "      <td>7.0</td>\n",
       "      <td>9.0</td>\n",
       "      <td>6.0</td>\n",
       "      <td>9.0</td>\n",
       "      <td>7.0</td>\n",
       "      <td>15.0</td>\n",
       "      <td>20.0</td>\n",
       "      <td>20.0</td>\n",
       "      <td>15.0</td>\n",
       "      <td>15.0</td>\n",
       "      <td>15.0</td>\n",
       "      <td>5.0</td>\n",
       "      <td>6.0</td>\n",
       "      <td>7.0</td>\n",
       "      <td>7.0</td>\n",
       "      <td>6.0</td>\n",
       "      <td>6.0</td>\n",
       "      <td>0.21</td>\n",
       "      <td>3.0</td>\n",
       "      <td>2.0</td>\n",
       "      <td>6.0</td>\n",
       "      <td>6.0</td>\n",
       "      <td>0.0</td>\n",
       "      <td>1</td>\n",
       "    </tr>\n",
       "  </tbody>\n",
       "</table>\n",
       "</div>"
      ],
      "text/plain": [
       "   has_null  gender   age  age_o                                  race  \\\n",
       "0         0  female  21.0   27.0  Asian/PacificIslander/Asian-American   \n",
       "1         0  female  21.0   22.0  Asian/PacificIslander/Asian-American   \n",
       "2         1  female  21.0   22.0  Asian/PacificIslander/Asian-American   \n",
       "3         0  female  21.0   23.0  Asian/PacificIslander/Asian-American   \n",
       "4         0  female  21.0   24.0  Asian/PacificIslander/Asian-American   \n",
       "\n",
       "                                 race_o  importance_same_race  \\\n",
       "0           European/Caucasian-American                   2.0   \n",
       "1           European/Caucasian-American                   2.0   \n",
       "2  Asian/PacificIslander/Asian-American                   2.0   \n",
       "3           European/Caucasian-American                   2.0   \n",
       "4               Latino/HispanicAmerican                   2.0   \n",
       "\n",
       "   importance_same_religion  pref_o_attractive  pref_o_sincere  \\\n",
       "0                       4.0               35.0            20.0   \n",
       "1                       4.0               60.0             0.0   \n",
       "2                       4.0               19.0            18.0   \n",
       "3                       4.0               30.0             5.0   \n",
       "4                       4.0               30.0            10.0   \n",
       "\n",
       "   pref_o_intelligence  pref_o_funny  pref_o_ambitious  \\\n",
       "0                 20.0          20.0               0.0   \n",
       "1                  0.0          40.0               0.0   \n",
       "2                 19.0          18.0              14.0   \n",
       "3                 15.0          40.0               5.0   \n",
       "4                 20.0          10.0              10.0   \n",
       "\n",
       "   pref_o_shared_interests  attractive_o  sincere_o  intelligence_o  funny_o  \\\n",
       "0                      5.0           6.0        8.0             8.0      8.0   \n",
       "1                      0.0           7.0        8.0            10.0      7.0   \n",
       "2                     12.0          10.0       10.0            10.0     10.0   \n",
       "3                      5.0           7.0        8.0             9.0      8.0   \n",
       "4                     20.0           8.0        7.0             9.0      6.0   \n",
       "\n",
       "   ambitous_o  shared_interests_o  attractive_important  sincere_important  \\\n",
       "0         8.0                 6.0                  15.0               20.0   \n",
       "1         7.0                 5.0                  15.0               20.0   \n",
       "2        10.0                10.0                  15.0               20.0   \n",
       "3         9.0                 8.0                  15.0               20.0   \n",
       "4         9.0                 7.0                  15.0               20.0   \n",
       "\n",
       "   intellicence_important  funny_important  ambtition_important  \\\n",
       "0                    20.0             15.0                 15.0   \n",
       "1                    20.0             15.0                 15.0   \n",
       "2                    20.0             15.0                 15.0   \n",
       "3                    20.0             15.0                 15.0   \n",
       "4                    20.0             15.0                 15.0   \n",
       "\n",
       "   shared_interests_important  attractive_partner  sincere_partner  \\\n",
       "0                        15.0                 6.0              9.0   \n",
       "1                        15.0                 7.0              8.0   \n",
       "2                        15.0                 5.0              8.0   \n",
       "3                        15.0                 7.0              6.0   \n",
       "4                        15.0                 5.0              6.0   \n",
       "\n",
       "   intelligence_partner  funny_partner  ambition_partner  \\\n",
       "0                   7.0            7.0               6.0   \n",
       "1                   7.0            8.0               5.0   \n",
       "2                   9.0            8.0               5.0   \n",
       "3                   8.0            7.0               6.0   \n",
       "4                   7.0            7.0               6.0   \n",
       "\n",
       "   shared_interests_partner  interests_correlate  \\\n",
       "0                       5.0                 0.14   \n",
       "1                       6.0                 0.54   \n",
       "2                       7.0                 0.16   \n",
       "3                       8.0                 0.61   \n",
       "4                       6.0                 0.21   \n",
       "\n",
       "   expected_happy_with_sd_people  expected_num_interested_in_me  like  \\\n",
       "0                            3.0                            2.0   7.0   \n",
       "1                            3.0                            2.0   7.0   \n",
       "2                            3.0                            2.0   7.0   \n",
       "3                            3.0                            2.0   7.0   \n",
       "4                            3.0                            2.0   6.0   \n",
       "\n",
       "   guess_prob_liked  met  match  \n",
       "0               6.0  0.0      0  \n",
       "1               5.0  1.0      0  \n",
       "2               NaN  1.0      1  \n",
       "3               6.0  0.0      1  \n",
       "4               6.0  0.0      1  "
      ]
     },
     "execution_count": 4,
     "metadata": {},
     "output_type": "execute_result"
    }
   ],
   "source": [
    "pd.options.display.max_columns = len(df.columns)\n",
    "\n",
    "df.head()"
   ]
  },
  {
   "cell_type": "code",
   "execution_count": 5,
   "metadata": {
    "colab": {
     "base_uri": "https://localhost:8080/"
    },
    "id": "2ZkDzIRmxfoM",
    "outputId": "c3f57599-bc57-4585-e6df-0cecf1aff467"
   },
   "outputs": [
    {
     "name": "stdout",
     "output_type": "stream",
     "text": [
      "<class 'pandas.core.frame.DataFrame'>\n",
      "RangeIndex: 8378 entries, 0 to 8377\n",
      "Data columns (total 39 columns):\n",
      " #   Column                         Non-Null Count  Dtype  \n",
      "---  ------                         --------------  -----  \n",
      " 0   has_null                       8378 non-null   int64  \n",
      " 1   gender                         8378 non-null   object \n",
      " 2   age                            8283 non-null   float64\n",
      " 3   age_o                          8274 non-null   float64\n",
      " 4   race                           8315 non-null   object \n",
      " 5   race_o                         8305 non-null   object \n",
      " 6   importance_same_race           8299 non-null   float64\n",
      " 7   importance_same_religion       8299 non-null   float64\n",
      " 8   pref_o_attractive              8289 non-null   float64\n",
      " 9   pref_o_sincere                 8289 non-null   float64\n",
      " 10  pref_o_intelligence            8289 non-null   float64\n",
      " 11  pref_o_funny                   8280 non-null   float64\n",
      " 12  pref_o_ambitious               8271 non-null   float64\n",
      " 13  pref_o_shared_interests        8249 non-null   float64\n",
      " 14  attractive_o                   8166 non-null   float64\n",
      " 15  sincere_o                      8091 non-null   float64\n",
      " 16  intelligence_o                 8072 non-null   float64\n",
      " 17  funny_o                        8018 non-null   float64\n",
      " 18  ambitous_o                     7656 non-null   float64\n",
      " 19  shared_interests_o             7302 non-null   float64\n",
      " 20  attractive_important           8299 non-null   float64\n",
      " 21  sincere_important              8299 non-null   float64\n",
      " 22  intellicence_important         8299 non-null   float64\n",
      " 23  funny_important                8289 non-null   float64\n",
      " 24  ambtition_important            8279 non-null   float64\n",
      " 25  shared_interests_important     8257 non-null   float64\n",
      " 26  attractive_partner             8176 non-null   float64\n",
      " 27  sincere_partner                8101 non-null   float64\n",
      " 28  intelligence_partner           8082 non-null   float64\n",
      " 29  funny_partner                  8028 non-null   float64\n",
      " 30  ambition_partner               7666 non-null   float64\n",
      " 31  shared_interests_partner       7311 non-null   float64\n",
      " 32  interests_correlate            8220 non-null   float64\n",
      " 33  expected_happy_with_sd_people  8277 non-null   float64\n",
      " 34  expected_num_interested_in_me  1800 non-null   float64\n",
      " 35  like                           8138 non-null   float64\n",
      " 36  guess_prob_liked               8069 non-null   float64\n",
      " 37  met                            8003 non-null   float64\n",
      " 38  match                          8378 non-null   int64  \n",
      "dtypes: float64(34), int64(2), object(3)\n",
      "memory usage: 2.5+ MB\n"
     ]
    }
   ],
   "source": [
    "df.info()"
   ]
  },
  {
   "cell_type": "markdown",
   "metadata": {
    "id": "omuQ5hCxxiGE"
   },
   "source": [
    "## 변수 목록\n",
    "* `has_null`\n",
    "    - 변수 중 Null값이 있는지 여부. 단, 이 데이터는 기존 데이터에서 일부 변수들이 생략된 축소판이기 때문에, 여기서 보이는 Null값 여부와 다소 차이가 있을 수 있음.\n",
    "    - 전반적으로 무응답 항목이 있는지에 대한 정보이므로 그대로 사용\n",
    "* `age` / `age_o` : age는 본인 나이이며 age_o는 상대방 나이.\n",
    "* `race` / `race_o` : 마찬가지로 본인과 상대의 인종 정보.\n",
    "* `importance_same_race` / `importance_same_religion`\n",
    "    * 인종과 종교를 중요시 여기는지에 대한 응답\n",
    "* `attractive(매력적인), sincere(성실한), intelligence(지적), funny(재미난), ambitious(야심찬), shared_ interests(공통관심사)`     \n",
    "이 항목들은 4가지 관점에서 평가되어 총 변수가 24(6 × 4)개\n",
    "    * `pref_o_xxx`( 예 : pref_o_attractive) : 상대방이 xxx 항목을 얼마나 중요하게 생각하는가에 대한 응답\n",
    "    * `xxx_o`(예: attractive_o) : 상대방이 본인에 대한 xxx 항목을 평가한 항목\n",
    "    * `xxx_important`(예 : attractive_important) : xxx 항목에 대해 본인이 얼마나 중요하게 생각하는가에 대한 응답\n",
    "    * `xxx_partner`(예 : attractive_partner) : 본인이 상대방에 대한 xxx 항목을 평가한 항목\n",
    "* `interests_correlate` : 관심사(취미 등) 연관도\n",
    "* `expected_happy_with_sd_people` : 스피드 데이팅을 통해 만난 사람과 함께할 때 얼마나 좋을\n",
    "지에 대한 기대치\n",
    "* `expected_num_interested_in_me` : 얼마나 많은 사람이 나에게 관심을 보일지에 대한 기대치\n",
    "* `like` : 파트너가 마음에 들었는지 여부\n",
    "* `guess_prob_liked` : 파트너가 나를 마음에 들어했을지에 대한 예상\n",
    "* `met`: 파트너를 스피드 데이팅 이벤트 이전에 만난 적이 있는지 여부"
   ]
  },
  {
   "cell_type": "code",
   "execution_count": 6,
   "metadata": {
    "colab": {
     "base_uri": "https://localhost:8080/",
     "height": 364
    },
    "id": "hb12fzebycZz",
    "outputId": "bd0c84b4-fe66-4f06-c5d2-22053210007b"
   },
   "outputs": [
    {
     "data": {
      "text/html": [
       "<div>\n",
       "<style scoped>\n",
       "    .dataframe tbody tr th:only-of-type {\n",
       "        vertical-align: middle;\n",
       "    }\n",
       "\n",
       "    .dataframe tbody tr th {\n",
       "        vertical-align: top;\n",
       "    }\n",
       "\n",
       "    .dataframe thead th {\n",
       "        text-align: right;\n",
       "    }\n",
       "</style>\n",
       "<table border=\"1\" class=\"dataframe\">\n",
       "  <thead>\n",
       "    <tr style=\"text-align: right;\">\n",
       "      <th></th>\n",
       "      <th>has_null</th>\n",
       "      <th>age</th>\n",
       "      <th>age_o</th>\n",
       "      <th>importance_same_race</th>\n",
       "      <th>importance_same_religion</th>\n",
       "      <th>pref_o_attractive</th>\n",
       "      <th>pref_o_sincere</th>\n",
       "      <th>pref_o_intelligence</th>\n",
       "      <th>pref_o_funny</th>\n",
       "      <th>pref_o_ambitious</th>\n",
       "      <th>pref_o_shared_interests</th>\n",
       "      <th>attractive_o</th>\n",
       "      <th>sincere_o</th>\n",
       "      <th>intelligence_o</th>\n",
       "      <th>funny_o</th>\n",
       "      <th>ambitous_o</th>\n",
       "      <th>shared_interests_o</th>\n",
       "      <th>attractive_important</th>\n",
       "      <th>sincere_important</th>\n",
       "      <th>intellicence_important</th>\n",
       "      <th>funny_important</th>\n",
       "      <th>ambtition_important</th>\n",
       "      <th>shared_interests_important</th>\n",
       "      <th>attractive_partner</th>\n",
       "      <th>sincere_partner</th>\n",
       "      <th>intelligence_partner</th>\n",
       "      <th>funny_partner</th>\n",
       "      <th>ambition_partner</th>\n",
       "      <th>shared_interests_partner</th>\n",
       "      <th>interests_correlate</th>\n",
       "      <th>expected_happy_with_sd_people</th>\n",
       "      <th>expected_num_interested_in_me</th>\n",
       "      <th>like</th>\n",
       "      <th>guess_prob_liked</th>\n",
       "      <th>met</th>\n",
       "      <th>match</th>\n",
       "    </tr>\n",
       "  </thead>\n",
       "  <tbody>\n",
       "    <tr>\n",
       "      <th>count</th>\n",
       "      <td>8378.00</td>\n",
       "      <td>8283.00</td>\n",
       "      <td>8274.00</td>\n",
       "      <td>8299.00</td>\n",
       "      <td>8299.00</td>\n",
       "      <td>8289.00</td>\n",
       "      <td>8289.00</td>\n",
       "      <td>8289.00</td>\n",
       "      <td>8280.00</td>\n",
       "      <td>8271.00</td>\n",
       "      <td>8249.00</td>\n",
       "      <td>8166.00</td>\n",
       "      <td>8091.00</td>\n",
       "      <td>8072.00</td>\n",
       "      <td>8018.00</td>\n",
       "      <td>7656.00</td>\n",
       "      <td>7302.00</td>\n",
       "      <td>8299.00</td>\n",
       "      <td>8299.00</td>\n",
       "      <td>8299.00</td>\n",
       "      <td>8289.00</td>\n",
       "      <td>8279.00</td>\n",
       "      <td>8257.00</td>\n",
       "      <td>8176.00</td>\n",
       "      <td>8101.00</td>\n",
       "      <td>8082.00</td>\n",
       "      <td>8028.00</td>\n",
       "      <td>7666.00</td>\n",
       "      <td>7311.00</td>\n",
       "      <td>8220.00</td>\n",
       "      <td>8277.00</td>\n",
       "      <td>1800.00</td>\n",
       "      <td>8138.00</td>\n",
       "      <td>8069.00</td>\n",
       "      <td>8003.00</td>\n",
       "      <td>8378.00</td>\n",
       "    </tr>\n",
       "    <tr>\n",
       "      <th>mean</th>\n",
       "      <td>0.87</td>\n",
       "      <td>26.36</td>\n",
       "      <td>26.36</td>\n",
       "      <td>3.78</td>\n",
       "      <td>3.65</td>\n",
       "      <td>22.50</td>\n",
       "      <td>17.40</td>\n",
       "      <td>20.27</td>\n",
       "      <td>17.46</td>\n",
       "      <td>10.69</td>\n",
       "      <td>11.85</td>\n",
       "      <td>6.19</td>\n",
       "      <td>7.18</td>\n",
       "      <td>7.37</td>\n",
       "      <td>6.40</td>\n",
       "      <td>6.78</td>\n",
       "      <td>5.47</td>\n",
       "      <td>22.51</td>\n",
       "      <td>17.40</td>\n",
       "      <td>20.27</td>\n",
       "      <td>17.46</td>\n",
       "      <td>10.68</td>\n",
       "      <td>11.85</td>\n",
       "      <td>6.19</td>\n",
       "      <td>7.18</td>\n",
       "      <td>7.37</td>\n",
       "      <td>6.40</td>\n",
       "      <td>6.78</td>\n",
       "      <td>5.47</td>\n",
       "      <td>0.20</td>\n",
       "      <td>5.53</td>\n",
       "      <td>5.57</td>\n",
       "      <td>6.13</td>\n",
       "      <td>5.21</td>\n",
       "      <td>0.05</td>\n",
       "      <td>0.16</td>\n",
       "    </tr>\n",
       "    <tr>\n",
       "      <th>std</th>\n",
       "      <td>0.33</td>\n",
       "      <td>3.57</td>\n",
       "      <td>3.56</td>\n",
       "      <td>2.85</td>\n",
       "      <td>2.81</td>\n",
       "      <td>12.57</td>\n",
       "      <td>7.04</td>\n",
       "      <td>6.78</td>\n",
       "      <td>6.09</td>\n",
       "      <td>6.13</td>\n",
       "      <td>6.36</td>\n",
       "      <td>1.95</td>\n",
       "      <td>1.74</td>\n",
       "      <td>1.55</td>\n",
       "      <td>1.95</td>\n",
       "      <td>1.79</td>\n",
       "      <td>2.16</td>\n",
       "      <td>12.59</td>\n",
       "      <td>7.05</td>\n",
       "      <td>6.78</td>\n",
       "      <td>6.09</td>\n",
       "      <td>6.12</td>\n",
       "      <td>6.36</td>\n",
       "      <td>1.95</td>\n",
       "      <td>1.74</td>\n",
       "      <td>1.55</td>\n",
       "      <td>1.95</td>\n",
       "      <td>1.79</td>\n",
       "      <td>2.16</td>\n",
       "      <td>0.30</td>\n",
       "      <td>1.73</td>\n",
       "      <td>4.76</td>\n",
       "      <td>1.84</td>\n",
       "      <td>2.13</td>\n",
       "      <td>0.28</td>\n",
       "      <td>0.37</td>\n",
       "    </tr>\n",
       "    <tr>\n",
       "      <th>min</th>\n",
       "      <td>0.00</td>\n",
       "      <td>18.00</td>\n",
       "      <td>18.00</td>\n",
       "      <td>0.00</td>\n",
       "      <td>1.00</td>\n",
       "      <td>0.00</td>\n",
       "      <td>0.00</td>\n",
       "      <td>0.00</td>\n",
       "      <td>0.00</td>\n",
       "      <td>0.00</td>\n",
       "      <td>0.00</td>\n",
       "      <td>0.00</td>\n",
       "      <td>0.00</td>\n",
       "      <td>0.00</td>\n",
       "      <td>0.00</td>\n",
       "      <td>0.00</td>\n",
       "      <td>0.00</td>\n",
       "      <td>0.00</td>\n",
       "      <td>0.00</td>\n",
       "      <td>0.00</td>\n",
       "      <td>0.00</td>\n",
       "      <td>0.00</td>\n",
       "      <td>0.00</td>\n",
       "      <td>0.00</td>\n",
       "      <td>0.00</td>\n",
       "      <td>0.00</td>\n",
       "      <td>0.00</td>\n",
       "      <td>0.00</td>\n",
       "      <td>0.00</td>\n",
       "      <td>-0.83</td>\n",
       "      <td>1.00</td>\n",
       "      <td>0.00</td>\n",
       "      <td>0.00</td>\n",
       "      <td>0.00</td>\n",
       "      <td>0.00</td>\n",
       "      <td>0.00</td>\n",
       "    </tr>\n",
       "    <tr>\n",
       "      <th>25%</th>\n",
       "      <td>1.00</td>\n",
       "      <td>24.00</td>\n",
       "      <td>24.00</td>\n",
       "      <td>1.00</td>\n",
       "      <td>1.00</td>\n",
       "      <td>15.00</td>\n",
       "      <td>15.00</td>\n",
       "      <td>17.39</td>\n",
       "      <td>15.00</td>\n",
       "      <td>5.00</td>\n",
       "      <td>9.52</td>\n",
       "      <td>5.00</td>\n",
       "      <td>6.00</td>\n",
       "      <td>6.00</td>\n",
       "      <td>5.00</td>\n",
       "      <td>6.00</td>\n",
       "      <td>4.00</td>\n",
       "      <td>15.00</td>\n",
       "      <td>15.00</td>\n",
       "      <td>17.39</td>\n",
       "      <td>15.00</td>\n",
       "      <td>5.00</td>\n",
       "      <td>9.52</td>\n",
       "      <td>5.00</td>\n",
       "      <td>6.00</td>\n",
       "      <td>6.00</td>\n",
       "      <td>5.00</td>\n",
       "      <td>6.00</td>\n",
       "      <td>4.00</td>\n",
       "      <td>-0.02</td>\n",
       "      <td>5.00</td>\n",
       "      <td>2.00</td>\n",
       "      <td>5.00</td>\n",
       "      <td>4.00</td>\n",
       "      <td>0.00</td>\n",
       "      <td>0.00</td>\n",
       "    </tr>\n",
       "    <tr>\n",
       "      <th>50%</th>\n",
       "      <td>1.00</td>\n",
       "      <td>26.00</td>\n",
       "      <td>26.00</td>\n",
       "      <td>3.00</td>\n",
       "      <td>3.00</td>\n",
       "      <td>20.00</td>\n",
       "      <td>18.37</td>\n",
       "      <td>20.00</td>\n",
       "      <td>18.00</td>\n",
       "      <td>10.00</td>\n",
       "      <td>10.64</td>\n",
       "      <td>6.00</td>\n",
       "      <td>7.00</td>\n",
       "      <td>7.00</td>\n",
       "      <td>7.00</td>\n",
       "      <td>7.00</td>\n",
       "      <td>6.00</td>\n",
       "      <td>20.00</td>\n",
       "      <td>18.18</td>\n",
       "      <td>20.00</td>\n",
       "      <td>18.00</td>\n",
       "      <td>10.00</td>\n",
       "      <td>10.64</td>\n",
       "      <td>6.00</td>\n",
       "      <td>7.00</td>\n",
       "      <td>7.00</td>\n",
       "      <td>7.00</td>\n",
       "      <td>7.00</td>\n",
       "      <td>6.00</td>\n",
       "      <td>0.21</td>\n",
       "      <td>6.00</td>\n",
       "      <td>4.00</td>\n",
       "      <td>6.00</td>\n",
       "      <td>5.00</td>\n",
       "      <td>0.00</td>\n",
       "      <td>0.00</td>\n",
       "    </tr>\n",
       "    <tr>\n",
       "      <th>75%</th>\n",
       "      <td>1.00</td>\n",
       "      <td>28.00</td>\n",
       "      <td>28.00</td>\n",
       "      <td>6.00</td>\n",
       "      <td>6.00</td>\n",
       "      <td>25.00</td>\n",
       "      <td>20.00</td>\n",
       "      <td>23.81</td>\n",
       "      <td>20.00</td>\n",
       "      <td>15.00</td>\n",
       "      <td>16.00</td>\n",
       "      <td>8.00</td>\n",
       "      <td>8.00</td>\n",
       "      <td>8.00</td>\n",
       "      <td>8.00</td>\n",
       "      <td>8.00</td>\n",
       "      <td>7.00</td>\n",
       "      <td>25.00</td>\n",
       "      <td>20.00</td>\n",
       "      <td>23.81</td>\n",
       "      <td>20.00</td>\n",
       "      <td>15.00</td>\n",
       "      <td>16.00</td>\n",
       "      <td>8.00</td>\n",
       "      <td>8.00</td>\n",
       "      <td>8.00</td>\n",
       "      <td>8.00</td>\n",
       "      <td>8.00</td>\n",
       "      <td>7.00</td>\n",
       "      <td>0.43</td>\n",
       "      <td>7.00</td>\n",
       "      <td>8.00</td>\n",
       "      <td>7.00</td>\n",
       "      <td>7.00</td>\n",
       "      <td>0.00</td>\n",
       "      <td>0.00</td>\n",
       "    </tr>\n",
       "    <tr>\n",
       "      <th>max</th>\n",
       "      <td>1.00</td>\n",
       "      <td>55.00</td>\n",
       "      <td>55.00</td>\n",
       "      <td>10.00</td>\n",
       "      <td>10.00</td>\n",
       "      <td>100.00</td>\n",
       "      <td>60.00</td>\n",
       "      <td>50.00</td>\n",
       "      <td>50.00</td>\n",
       "      <td>53.00</td>\n",
       "      <td>30.00</td>\n",
       "      <td>10.50</td>\n",
       "      <td>10.00</td>\n",
       "      <td>10.00</td>\n",
       "      <td>11.00</td>\n",
       "      <td>10.00</td>\n",
       "      <td>10.00</td>\n",
       "      <td>100.00</td>\n",
       "      <td>60.00</td>\n",
       "      <td>50.00</td>\n",
       "      <td>50.00</td>\n",
       "      <td>53.00</td>\n",
       "      <td>30.00</td>\n",
       "      <td>10.00</td>\n",
       "      <td>10.00</td>\n",
       "      <td>10.00</td>\n",
       "      <td>10.00</td>\n",
       "      <td>10.00</td>\n",
       "      <td>10.00</td>\n",
       "      <td>0.91</td>\n",
       "      <td>10.00</td>\n",
       "      <td>20.00</td>\n",
       "      <td>10.00</td>\n",
       "      <td>10.00</td>\n",
       "      <td>8.00</td>\n",
       "      <td>1.00</td>\n",
       "    </tr>\n",
       "  </tbody>\n",
       "</table>\n",
       "</div>"
      ],
      "text/plain": [
       "       has_null     age   age_o  importance_same_race  \\\n",
       "count   8378.00 8283.00 8274.00               8299.00   \n",
       "mean       0.87   26.36   26.36                  3.78   \n",
       "std        0.33    3.57    3.56                  2.85   \n",
       "min        0.00   18.00   18.00                  0.00   \n",
       "25%        1.00   24.00   24.00                  1.00   \n",
       "50%        1.00   26.00   26.00                  3.00   \n",
       "75%        1.00   28.00   28.00                  6.00   \n",
       "max        1.00   55.00   55.00                 10.00   \n",
       "\n",
       "       importance_same_religion  pref_o_attractive  pref_o_sincere  \\\n",
       "count                   8299.00            8289.00         8289.00   \n",
       "mean                       3.65              22.50           17.40   \n",
       "std                        2.81              12.57            7.04   \n",
       "min                        1.00               0.00            0.00   \n",
       "25%                        1.00              15.00           15.00   \n",
       "50%                        3.00              20.00           18.37   \n",
       "75%                        6.00              25.00           20.00   \n",
       "max                       10.00             100.00           60.00   \n",
       "\n",
       "       pref_o_intelligence  pref_o_funny  pref_o_ambitious  \\\n",
       "count              8289.00       8280.00           8271.00   \n",
       "mean                 20.27         17.46             10.69   \n",
       "std                   6.78          6.09              6.13   \n",
       "min                   0.00          0.00              0.00   \n",
       "25%                  17.39         15.00              5.00   \n",
       "50%                  20.00         18.00             10.00   \n",
       "75%                  23.81         20.00             15.00   \n",
       "max                  50.00         50.00             53.00   \n",
       "\n",
       "       pref_o_shared_interests  attractive_o  sincere_o  intelligence_o  \\\n",
       "count                  8249.00       8166.00    8091.00         8072.00   \n",
       "mean                     11.85          6.19       7.18            7.37   \n",
       "std                       6.36          1.95       1.74            1.55   \n",
       "min                       0.00          0.00       0.00            0.00   \n",
       "25%                       9.52          5.00       6.00            6.00   \n",
       "50%                      10.64          6.00       7.00            7.00   \n",
       "75%                      16.00          8.00       8.00            8.00   \n",
       "max                      30.00         10.50      10.00           10.00   \n",
       "\n",
       "       funny_o  ambitous_o  shared_interests_o  attractive_important  \\\n",
       "count  8018.00     7656.00             7302.00               8299.00   \n",
       "mean      6.40        6.78                5.47                 22.51   \n",
       "std       1.95        1.79                2.16                 12.59   \n",
       "min       0.00        0.00                0.00                  0.00   \n",
       "25%       5.00        6.00                4.00                 15.00   \n",
       "50%       7.00        7.00                6.00                 20.00   \n",
       "75%       8.00        8.00                7.00                 25.00   \n",
       "max      11.00       10.00               10.00                100.00   \n",
       "\n",
       "       sincere_important  intellicence_important  funny_important  \\\n",
       "count            8299.00                 8299.00          8289.00   \n",
       "mean               17.40                   20.27            17.46   \n",
       "std                 7.05                    6.78             6.09   \n",
       "min                 0.00                    0.00             0.00   \n",
       "25%                15.00                   17.39            15.00   \n",
       "50%                18.18                   20.00            18.00   \n",
       "75%                20.00                   23.81            20.00   \n",
       "max                60.00                   50.00            50.00   \n",
       "\n",
       "       ambtition_important  shared_interests_important  attractive_partner  \\\n",
       "count              8279.00                     8257.00             8176.00   \n",
       "mean                 10.68                       11.85                6.19   \n",
       "std                   6.12                        6.36                1.95   \n",
       "min                   0.00                        0.00                0.00   \n",
       "25%                   5.00                        9.52                5.00   \n",
       "50%                  10.00                       10.64                6.00   \n",
       "75%                  15.00                       16.00                8.00   \n",
       "max                  53.00                       30.00               10.00   \n",
       "\n",
       "       sincere_partner  intelligence_partner  funny_partner  ambition_partner  \\\n",
       "count          8101.00               8082.00        8028.00           7666.00   \n",
       "mean              7.18                  7.37           6.40              6.78   \n",
       "std               1.74                  1.55           1.95              1.79   \n",
       "min               0.00                  0.00           0.00              0.00   \n",
       "25%               6.00                  6.00           5.00              6.00   \n",
       "50%               7.00                  7.00           7.00              7.00   \n",
       "75%               8.00                  8.00           8.00              8.00   \n",
       "max              10.00                 10.00          10.00             10.00   \n",
       "\n",
       "       shared_interests_partner  interests_correlate  \\\n",
       "count                   7311.00              8220.00   \n",
       "mean                       5.47                 0.20   \n",
       "std                        2.16                 0.30   \n",
       "min                        0.00                -0.83   \n",
       "25%                        4.00                -0.02   \n",
       "50%                        6.00                 0.21   \n",
       "75%                        7.00                 0.43   \n",
       "max                       10.00                 0.91   \n",
       "\n",
       "       expected_happy_with_sd_people  expected_num_interested_in_me    like  \\\n",
       "count                        8277.00                        1800.00 8138.00   \n",
       "mean                            5.53                           5.57    6.13   \n",
       "std                             1.73                           4.76    1.84   \n",
       "min                             1.00                           0.00    0.00   \n",
       "25%                             5.00                           2.00    5.00   \n",
       "50%                             6.00                           4.00    6.00   \n",
       "75%                             7.00                           8.00    7.00   \n",
       "max                            10.00                          20.00   10.00   \n",
       "\n",
       "       guess_prob_liked     met   match  \n",
       "count           8069.00 8003.00 8378.00  \n",
       "mean               5.21    0.05    0.16  \n",
       "std                2.13    0.28    0.37  \n",
       "min                0.00    0.00    0.00  \n",
       "25%                4.00    0.00    0.00  \n",
       "50%                5.00    0.00    0.00  \n",
       "75%                7.00    0.00    0.00  \n",
       "max               10.00    8.00    1.00  "
      ]
     },
     "execution_count": 6,
     "metadata": {},
     "output_type": "execute_result"
    }
   ],
   "source": [
    "pd.options.display.float_format = '{:.2f}'.format\n",
    "\n",
    "df.describe()"
   ]
  },
  {
   "cell_type": "markdown",
   "metadata": {
    "id": "HLWToC47y722"
   },
   "source": [
    "## Data pre-processing"
   ]
  },
  {
   "cell_type": "markdown",
   "metadata": {
    "id": "Aq-_PRcXzA48"
   },
   "source": [
    "### missing value"
   ]
  },
  {
   "cell_type": "code",
   "execution_count": 7,
   "metadata": {
    "colab": {
     "base_uri": "https://localhost:8080/"
    },
    "id": "WRJTttGMzDq7",
    "outputId": "b0f370af-17b7-4c85-a4be-244235957bcd"
   },
   "outputs": [
    {
     "data": {
      "text/plain": [
       "expected_num_interested_in_me   0.79\n",
       "shared_interests_o              0.13\n",
       "shared_interests_partner        0.13\n",
       "ambitous_o                      0.09\n",
       "ambition_partner                0.08\n",
       "met                             0.04\n",
       "funny_o                         0.04\n",
       "funny_partner                   0.04\n",
       "guess_prob_liked                0.04\n",
       "intelligence_o                  0.04\n",
       "intelligence_partner            0.04\n",
       "sincere_o                       0.03\n",
       "sincere_partner                 0.03\n",
       "like                            0.03\n",
       "attractive_o                    0.03\n",
       "attractive_partner              0.02\n",
       "interests_correlate             0.02\n",
       "pref_o_shared_interests         0.02\n",
       "shared_interests_important      0.01\n",
       "pref_o_ambitious                0.01\n",
       "age_o                           0.01\n",
       "expected_happy_with_sd_people   0.01\n",
       "ambtition_important             0.01\n",
       "pref_o_funny                    0.01\n",
       "age                             0.01\n",
       "pref_o_sincere                  0.01\n",
       "pref_o_attractive               0.01\n",
       "funny_important                 0.01\n",
       "pref_o_intelligence             0.01\n",
       "attractive_important            0.01\n",
       "intellicence_important          0.01\n",
       "sincere_important               0.01\n",
       "importance_same_religion        0.01\n",
       "importance_same_race            0.01\n",
       "race_o                          0.01\n",
       "race                            0.01\n",
       "has_null                        0.00\n",
       "gender                          0.00\n",
       "match                           0.00\n",
       "dtype: float64"
      ]
     },
     "execution_count": 7,
     "metadata": {},
     "output_type": "execute_result"
    }
   ],
   "source": [
    "df.isna().mean().sort_values(ascending=False)"
   ]
  },
  {
   "cell_type": "code",
   "execution_count": 8,
   "metadata": {
    "colab": {
     "base_uri": "https://localhost:8080/"
    },
    "id": "IOSoDgZnzLO8",
    "outputId": "987521a6-d13e-4700-ee4f-4418dd790af1"
   },
   "outputs": [
    {
     "data": {
      "text/plain": [
       "has_null                            0\n",
       "gender                              0\n",
       "age                                 0\n",
       "age_o                               0\n",
       "race                                0\n",
       "race_o                              0\n",
       "importance_same_race                0\n",
       "importance_same_religion            0\n",
       "pref_o_attractive                   0\n",
       "pref_o_sincere                      0\n",
       "pref_o_intelligence                 0\n",
       "pref_o_funny                        0\n",
       "pref_o_ambitious                    0\n",
       "pref_o_shared_interests             0\n",
       "attractive_o                      176\n",
       "sincere_o                         247\n",
       "intelligence_o                    268\n",
       "funny_o                           321\n",
       "ambitous_o                        678\n",
       "shared_interests_o               1029\n",
       "attractive_important                0\n",
       "sincere_important                   0\n",
       "intellicence_important              0\n",
       "funny_important                     0\n",
       "ambtition_important                 0\n",
       "shared_interests_important          0\n",
       "attractive_partner                176\n",
       "sincere_partner                   247\n",
       "intelligence_partner              268\n",
       "funny_partner                     321\n",
       "ambition_partner                  678\n",
       "shared_interests_partner         1029\n",
       "interests_correlate                 0\n",
       "expected_happy_with_sd_people       0\n",
       "expected_num_interested_in_me    6366\n",
       "like                              213\n",
       "guess_prob_liked                  278\n",
       "met                               343\n",
       "match                               0\n",
       "dtype: int64"
      ]
     },
     "execution_count": 8,
     "metadata": {},
     "output_type": "execute_result"
    }
   ],
   "source": [
    "for col in df.columns:\n",
    "    if df[col].isna().mean() < 0.02:\n",
    "        df = df.dropna(subset=[col])\n",
    "\n",
    "df.isna().sum()"
   ]
  },
  {
   "cell_type": "code",
   "execution_count": 9,
   "metadata": {
    "colab": {
     "base_uri": "https://localhost:8080/"
    },
    "id": "K2GW-i2o6EM0",
    "outputId": "d10f6dd3-b549-4f3b-d593-2f8cc8fc14c3"
   },
   "outputs": [
    {
     "data": {
      "text/plain": [
       "['attractive_o',\n",
       " 'sincere_o',\n",
       " 'intelligence_o',\n",
       " 'funny_o',\n",
       " 'ambitous_o',\n",
       " 'shared_interests_o',\n",
       " 'attractive_partner',\n",
       " 'sincere_partner',\n",
       " 'intelligence_partner',\n",
       " 'funny_partner',\n",
       " 'ambition_partner',\n",
       " 'shared_interests_partner',\n",
       " 'expected_num_interested_in_me',\n",
       " 'like',\n",
       " 'guess_prob_liked',\n",
       " 'met']"
      ]
     },
     "execution_count": 9,
     "metadata": {},
     "output_type": "execute_result"
    }
   ],
   "source": [
    "missing_columns = list()\n",
    "\n",
    "for col in df.columns:\n",
    "    if df[col].isna().sum() > 0:\n",
    "        missing_columns.append(col)\n",
    "\n",
    "missing_columns"
   ]
  },
  {
   "cell_type": "code",
   "execution_count": 10,
   "metadata": {
    "colab": {
     "base_uri": "https://localhost:8080/"
    },
    "id": "qbHI9Oq6z5GE",
    "outputId": "4a909207-f7ce-4b7e-be02-0651a1890ba3"
   },
   "outputs": [
    {
     "name": "stdout",
     "output_type": "stream",
     "text": [
      "<class 'pandas.core.frame.DataFrame'>\n",
      "Int64Index: 8086 entries, 0 to 8377\n",
      "Data columns (total 39 columns):\n",
      " #   Column                         Non-Null Count  Dtype  \n",
      "---  ------                         --------------  -----  \n",
      " 0   has_null                       8086 non-null   int64  \n",
      " 1   gender                         8086 non-null   object \n",
      " 2   age                            8086 non-null   float64\n",
      " 3   age_o                          8086 non-null   float64\n",
      " 4   race                           8086 non-null   object \n",
      " 5   race_o                         8086 non-null   object \n",
      " 6   importance_same_race           8086 non-null   float64\n",
      " 7   importance_same_religion       8086 non-null   float64\n",
      " 8   pref_o_attractive              8086 non-null   float64\n",
      " 9   pref_o_sincere                 8086 non-null   float64\n",
      " 10  pref_o_intelligence            8086 non-null   float64\n",
      " 11  pref_o_funny                   8086 non-null   float64\n",
      " 12  pref_o_ambitious               8086 non-null   float64\n",
      " 13  pref_o_shared_interests        8086 non-null   float64\n",
      " 14  attractive_o                   8086 non-null   float64\n",
      " 15  sincere_o                      8086 non-null   float64\n",
      " 16  intelligence_o                 8086 non-null   float64\n",
      " 17  funny_o                        8086 non-null   float64\n",
      " 18  ambitous_o                     8086 non-null   float64\n",
      " 19  shared_interests_o             8086 non-null   float64\n",
      " 20  attractive_important           8086 non-null   float64\n",
      " 21  sincere_important              8086 non-null   float64\n",
      " 22  intellicence_important         8086 non-null   float64\n",
      " 23  funny_important                8086 non-null   float64\n",
      " 24  ambtition_important            8086 non-null   float64\n",
      " 25  shared_interests_important     8086 non-null   float64\n",
      " 26  attractive_partner             8086 non-null   float64\n",
      " 27  sincere_partner                8086 non-null   float64\n",
      " 28  intelligence_partner           8086 non-null   float64\n",
      " 29  funny_partner                  8086 non-null   float64\n",
      " 30  ambition_partner               8086 non-null   float64\n",
      " 31  shared_interests_partner       8086 non-null   float64\n",
      " 32  interests_correlate            8086 non-null   float64\n",
      " 33  expected_happy_with_sd_people  8086 non-null   float64\n",
      " 34  expected_num_interested_in_me  8086 non-null   float64\n",
      " 35  like                           8086 non-null   float64\n",
      " 36  guess_prob_liked               8086 non-null   float64\n",
      " 37  met                            8086 non-null   float64\n",
      " 38  match                          8086 non-null   int64  \n",
      "dtypes: float64(34), int64(2), object(3)\n",
      "memory usage: 2.5+ MB\n"
     ]
    }
   ],
   "source": [
    "df = df.fillna(-99)\n",
    "\n",
    "df.info()"
   ]
  },
  {
   "cell_type": "code",
   "execution_count": 11,
   "metadata": {
    "colab": {
     "base_uri": "https://localhost:8080/"
    },
    "id": "O2iMV_7L6g6c",
    "outputId": "f08c20f1-2f73-4477-d955-59957a110d5a"
   },
   "outputs": [
    {
     "data": {
      "text/plain": [
       "['attractive_o',\n",
       " 'sincere_o',\n",
       " 'intelligence_o',\n",
       " 'funny_o',\n",
       " 'ambitous_o',\n",
       " 'shared_interests_o',\n",
       " 'attractive_partner',\n",
       " 'sincere_partner',\n",
       " 'intelligence_partner',\n",
       " 'funny_partner',\n",
       " 'ambition_partner',\n",
       " 'shared_interests_partner',\n",
       " 'expected_num_interested_in_me',\n",
       " 'like',\n",
       " 'guess_prob_liked',\n",
       " 'met']"
      ]
     },
     "execution_count": 11,
     "metadata": {},
     "output_type": "execute_result"
    }
   ],
   "source": [
    "missing_columns"
   ]
  },
  {
   "cell_type": "markdown",
   "metadata": {
    "id": "vD4mjJQU3PZd"
   },
   "source": [
    "### Feature Engineering\n",
    "\n",
    "- Feature: 독립변수들 + Engineering: 가공"
   ]
  },
  {
   "cell_type": "markdown",
   "metadata": {
    "id": "Pl5Cq5Nk6QV0"
   },
   "source": [
    "#### `age_gap`\n",
    "\n",
    "- `age`: 본인의 나이\n",
    "\n",
    "- `age_o`: 상대방의 나이"
   ]
  },
  {
   "cell_type": "code",
   "execution_count": 12,
   "metadata": {
    "id": "MqJJr2tO5RE0"
   },
   "outputs": [],
   "source": [
    "def age_gap(row):\n",
    "    # female: (age_o - age)\n",
    "    if row['gender'] == 'female':\n",
    "        return row['age_o'] - row['age']\n",
    "    \n",
    "    # male: (age - age_o)\n",
    "    if row['gender'] == 'male':\n",
    "        return row['age'] - row['age_o']"
   ]
  },
  {
   "cell_type": "code",
   "execution_count": 13,
   "metadata": {
    "colab": {
     "base_uri": "https://localhost:8080/"
    },
    "id": "1Rnymshc8VJt",
    "outputId": "29d73899-e7c0-4b0c-eb68-0117eaf16afc"
   },
   "outputs": [
    {
     "data": {
      "text/plain": [
       "0   6.00\n",
       "1   1.00\n",
       "2   1.00\n",
       "3   2.00\n",
       "4   3.00\n",
       "5   4.00\n",
       "6   9.00\n",
       "7   6.00\n",
       "8   7.00\n",
       "9   3.00\n",
       "Name: age_gap, dtype: float64"
      ]
     },
     "execution_count": 13,
     "metadata": {},
     "output_type": "execute_result"
    }
   ],
   "source": [
    "df['age_gap'] = df.apply(age_gap, axis=1)\n",
    "\n",
    "df['age_gap'].head(10)"
   ]
  },
  {
   "cell_type": "markdown",
   "metadata": {
    "id": "yiOFWhyP8dfe"
   },
   "source": [
    "- 나이 차이의 절대값 column 생성"
   ]
  },
  {
   "cell_type": "code",
   "execution_count": 14,
   "metadata": {
    "colab": {
     "base_uri": "https://localhost:8080/"
    },
    "id": "rJFXRFyF8mIV",
    "outputId": "a1b6d1c7-a2e1-4fad-daf4-4ffb18c1e8f8"
   },
   "outputs": [
    {
     "data": {
      "text/plain": [
       "array([ 6.,  1.,  2.,  3.,  4.,  9.,  7.,  0.,  5.,  8., 12., 13., 10.,\n",
       "       17., 16., 11., 14., 18., 15., 19., 20., 22., 28., 32.])"
      ]
     },
     "execution_count": 14,
     "metadata": {},
     "output_type": "execute_result"
    }
   ],
   "source": [
    "df['age_gap_abs'] = abs(df['age_gap'])\n",
    "\n",
    "df['age_gap_abs'].unique()"
   ]
  },
  {
   "cell_type": "markdown",
   "metadata": {
    "id": "XhG9HgdL80fF"
   },
   "source": [
    "#### `same_race`"
   ]
  },
  {
   "cell_type": "code",
   "execution_count": 15,
   "metadata": {
    "id": "GC4Blxrq8uG-"
   },
   "outputs": [],
   "source": [
    "def check_same_race(record):\n",
    "    if record['race'] == record['race_o']:\n",
    "        return 1\n",
    "    else:\n",
    "        return -1"
   ]
  },
  {
   "cell_type": "code",
   "execution_count": 16,
   "metadata": {
    "colab": {
     "base_uri": "https://localhost:8080/"
    },
    "id": "r5eTGmDs-KJO",
    "outputId": "5d11c753-7e13-4fb8-e94d-eaa7899ddcba"
   },
   "outputs": [
    {
     "data": {
      "text/plain": [
       "array([-1,  1], dtype=int64)"
      ]
     },
     "execution_count": 16,
     "metadata": {},
     "output_type": "execute_result"
    }
   ],
   "source": [
    "df['same_race'] = df.apply(check_same_race, axis=1)\n",
    "\n",
    "df['same_race'].unique()"
   ]
  },
  {
   "cell_type": "code",
   "execution_count": 17,
   "metadata": {
    "colab": {
     "base_uri": "https://localhost:8080/"
    },
    "id": "bKOpAcWx-a0G",
    "outputId": "098c3f73-dd73-4510-ec80-3732b72c4c91"
   },
   "outputs": [
    {
     "data": {
      "text/plain": [
       "1.00     2721\n",
       "3.00      962\n",
       "2.00      935\n",
       "5.00      640\n",
       "8.00      629\n",
       "7.00      533\n",
       "6.00      515\n",
       "4.00      494\n",
       "9.00      403\n",
       "10.00     246\n",
       "0.00        8\n",
       "Name: importance_same_race, dtype: int64"
      ]
     },
     "execution_count": 17,
     "metadata": {},
     "output_type": "execute_result"
    }
   ],
   "source": [
    "df['importance_same_race'].value_counts()"
   ]
  },
  {
   "cell_type": "code",
   "execution_count": 18,
   "metadata": {
    "colab": {
     "base_uri": "https://localhost:8080/"
    },
    "id": "NUysAGDA_SCx",
    "outputId": "71ec9c88-03df-4569-d04d-842bc49e7f5c"
   },
   "outputs": [
    {
     "data": {
      "text/plain": [
       "0"
      ]
     },
     "execution_count": 18,
     "metadata": {},
     "output_type": "execute_result"
    }
   ],
   "source": [
    "df['same_race'].isna().sum()"
   ]
  },
  {
   "cell_type": "code",
   "execution_count": 19,
   "metadata": {
    "colab": {
     "base_uri": "https://localhost:8080/"
    },
    "id": "6nQJXKK6_YlV",
    "outputId": "74469363-61e0-4874-fd6a-6f112d039918"
   },
   "outputs": [
    {
     "data": {
      "text/plain": [
       "False"
      ]
     },
     "execution_count": 19,
     "metadata": {},
     "output_type": "execute_result"
    }
   ],
   "source": [
    "'importance_same_race' in missing_columns"
   ]
  },
  {
   "cell_type": "markdown",
   "metadata": {
    "id": "TODm8Kp0_2bW"
   },
   "source": [
    "#### `same_race_point`\n",
    "\n",
    "- `same_race_point` = `same_race` * `importance_same_race` \n",
    "\n",
    "    - 파생변수 `same_race_point`"
   ]
  },
  {
   "cell_type": "code",
   "execution_count": 20,
   "metadata": {
    "colab": {
     "base_uri": "https://localhost:8080/"
    },
    "id": "7_htuZM1-npP",
    "outputId": "1cf5e7f9-73b0-4cff-b67e-f1684d5f6a72"
   },
   "outputs": [
    {
     "data": {
      "text/plain": [
       "-1.00     1755\n",
       "1.00       966\n",
       "-3.00      610\n",
       "-2.00      573\n",
       "2.00       362\n",
       "-5.00      353\n",
       "3.00       352\n",
       "8.00       320\n",
       "-6.00      316\n",
       "-7.00      310\n",
       "-8.00      309\n",
       "5.00       287\n",
       "-4.00      272\n",
       "7.00       223\n",
       "4.00       222\n",
       "-9.00      210\n",
       "6.00       199\n",
       "9.00       193\n",
       "10.00      130\n",
       "-10.00     116\n",
       "0.00         8\n",
       "Name: same_race_point, dtype: int64"
      ]
     },
     "execution_count": 20,
     "metadata": {},
     "output_type": "execute_result"
    }
   ],
   "source": [
    "df['same_race_point'] = df['same_race'].mul(df['importance_same_race'])\n",
    "\n",
    "df['same_race_point'].value_counts()"
   ]
  },
  {
   "cell_type": "code",
   "execution_count": 21,
   "metadata": {
    "colab": {
     "base_uri": "https://localhost:8080/",
     "height": 581
    },
    "id": "9U-T89UA_ycn",
    "outputId": "84907a82-f3d6-4664-b716-817c58ec202d"
   },
   "outputs": [
    {
     "data": {
      "text/html": [
       "<div>\n",
       "<style scoped>\n",
       "    .dataframe tbody tr th:only-of-type {\n",
       "        vertical-align: middle;\n",
       "    }\n",
       "\n",
       "    .dataframe tbody tr th {\n",
       "        vertical-align: top;\n",
       "    }\n",
       "\n",
       "    .dataframe thead th {\n",
       "        text-align: right;\n",
       "    }\n",
       "</style>\n",
       "<table border=\"1\" class=\"dataframe\">\n",
       "  <thead>\n",
       "    <tr style=\"text-align: right;\">\n",
       "      <th></th>\n",
       "      <th>race</th>\n",
       "      <th>race_o</th>\n",
       "      <th>same_race</th>\n",
       "      <th>importance_same_race</th>\n",
       "      <th>same_race_point</th>\n",
       "    </tr>\n",
       "  </thead>\n",
       "  <tbody>\n",
       "    <tr>\n",
       "      <th>0</th>\n",
       "      <td>Asian/PacificIslander/Asian-American</td>\n",
       "      <td>European/Caucasian-American</td>\n",
       "      <td>-1</td>\n",
       "      <td>2.00</td>\n",
       "      <td>-2.00</td>\n",
       "    </tr>\n",
       "    <tr>\n",
       "      <th>1</th>\n",
       "      <td>Asian/PacificIslander/Asian-American</td>\n",
       "      <td>European/Caucasian-American</td>\n",
       "      <td>-1</td>\n",
       "      <td>2.00</td>\n",
       "      <td>-2.00</td>\n",
       "    </tr>\n",
       "    <tr>\n",
       "      <th>2</th>\n",
       "      <td>Asian/PacificIslander/Asian-American</td>\n",
       "      <td>Asian/PacificIslander/Asian-American</td>\n",
       "      <td>1</td>\n",
       "      <td>2.00</td>\n",
       "      <td>2.00</td>\n",
       "    </tr>\n",
       "    <tr>\n",
       "      <th>3</th>\n",
       "      <td>Asian/PacificIslander/Asian-American</td>\n",
       "      <td>European/Caucasian-American</td>\n",
       "      <td>-1</td>\n",
       "      <td>2.00</td>\n",
       "      <td>-2.00</td>\n",
       "    </tr>\n",
       "    <tr>\n",
       "      <th>4</th>\n",
       "      <td>Asian/PacificIslander/Asian-American</td>\n",
       "      <td>Latino/HispanicAmerican</td>\n",
       "      <td>-1</td>\n",
       "      <td>2.00</td>\n",
       "      <td>-2.00</td>\n",
       "    </tr>\n",
       "    <tr>\n",
       "      <th>5</th>\n",
       "      <td>Asian/PacificIslander/Asian-American</td>\n",
       "      <td>European/Caucasian-American</td>\n",
       "      <td>-1</td>\n",
       "      <td>2.00</td>\n",
       "      <td>-2.00</td>\n",
       "    </tr>\n",
       "    <tr>\n",
       "      <th>6</th>\n",
       "      <td>Asian/PacificIslander/Asian-American</td>\n",
       "      <td>European/Caucasian-American</td>\n",
       "      <td>-1</td>\n",
       "      <td>2.00</td>\n",
       "      <td>-2.00</td>\n",
       "    </tr>\n",
       "    <tr>\n",
       "      <th>7</th>\n",
       "      <td>Asian/PacificIslander/Asian-American</td>\n",
       "      <td>European/Caucasian-American</td>\n",
       "      <td>-1</td>\n",
       "      <td>2.00</td>\n",
       "      <td>-2.00</td>\n",
       "    </tr>\n",
       "    <tr>\n",
       "      <th>8</th>\n",
       "      <td>Asian/PacificIslander/Asian-American</td>\n",
       "      <td>European/Caucasian-American</td>\n",
       "      <td>-1</td>\n",
       "      <td>2.00</td>\n",
       "      <td>-2.00</td>\n",
       "    </tr>\n",
       "    <tr>\n",
       "      <th>9</th>\n",
       "      <td>Asian/PacificIslander/Asian-American</td>\n",
       "      <td>European/Caucasian-American</td>\n",
       "      <td>-1</td>\n",
       "      <td>2.00</td>\n",
       "      <td>-2.00</td>\n",
       "    </tr>\n",
       "  </tbody>\n",
       "</table>\n",
       "</div>"
      ],
      "text/plain": [
       "                                   race                                race_o  \\\n",
       "0  Asian/PacificIslander/Asian-American           European/Caucasian-American   \n",
       "1  Asian/PacificIslander/Asian-American           European/Caucasian-American   \n",
       "2  Asian/PacificIslander/Asian-American  Asian/PacificIslander/Asian-American   \n",
       "3  Asian/PacificIslander/Asian-American           European/Caucasian-American   \n",
       "4  Asian/PacificIslander/Asian-American               Latino/HispanicAmerican   \n",
       "5  Asian/PacificIslander/Asian-American           European/Caucasian-American   \n",
       "6  Asian/PacificIslander/Asian-American           European/Caucasian-American   \n",
       "7  Asian/PacificIslander/Asian-American           European/Caucasian-American   \n",
       "8  Asian/PacificIslander/Asian-American           European/Caucasian-American   \n",
       "9  Asian/PacificIslander/Asian-American           European/Caucasian-American   \n",
       "\n",
       "   same_race  importance_same_race  same_race_point  \n",
       "0         -1                  2.00            -2.00  \n",
       "1         -1                  2.00            -2.00  \n",
       "2          1                  2.00             2.00  \n",
       "3         -1                  2.00            -2.00  \n",
       "4         -1                  2.00            -2.00  \n",
       "5         -1                  2.00            -2.00  \n",
       "6         -1                  2.00            -2.00  \n",
       "7         -1                  2.00            -2.00  \n",
       "8         -1                  2.00            -2.00  \n",
       "9         -1                  2.00            -2.00  "
      ]
     },
     "execution_count": 21,
     "metadata": {},
     "output_type": "execute_result"
    }
   ],
   "source": [
    "df[['race', 'race_o', 'same_race', 'importance_same_race', 'same_race_point']].head(10)"
   ]
  },
  {
   "cell_type": "markdown",
   "metadata": {
    "id": "IEoLxn4XAblF"
   },
   "source": [
    "#### `rating`\n",
    "\n",
    "- `importance` * `score` = `rate`: 파생변수"
   ]
  },
  {
   "cell_type": "code",
   "execution_count": 22,
   "metadata": {
    "id": "3puU9Jg3A3rP"
   },
   "outputs": [],
   "source": [
    "def rating(record, importance, score):\n",
    "    # 결측치 처리\n",
    "    if record[importance] == -99: return None\n",
    "    if record[score] == -99: return None\n",
    "    \n",
    "    return record[importance] * record[score]"
   ]
  },
  {
   "cell_type": "code",
   "execution_count": 23,
   "metadata": {
    "colab": {
     "base_uri": "https://localhost:8080/"
    },
    "id": "WeJ0He7YBL2f",
    "outputId": "270e6c24-59e1-409a-e2d7-4a4424f39c0c"
   },
   "outputs": [
    {
     "data": {
      "text/plain": [
       "Index(['has_null', 'gender', 'age', 'age_o', 'race', 'race_o',\n",
       "       'importance_same_race', 'importance_same_religion', 'pref_o_attractive',\n",
       "       'pref_o_sincere', 'pref_o_intelligence', 'pref_o_funny',\n",
       "       'pref_o_ambitious', 'pref_o_shared_interests', 'attractive_o',\n",
       "       'sincere_o', 'intelligence_o', 'funny_o', 'ambitous_o',\n",
       "       'shared_interests_o', 'attractive_important', 'sincere_important',\n",
       "       'intellicence_important', 'funny_important', 'ambtition_important',\n",
       "       'shared_interests_important', 'attractive_partner', 'sincere_partner',\n",
       "       'intelligence_partner', 'funny_partner', 'ambition_partner',\n",
       "       'shared_interests_partner', 'interests_correlate',\n",
       "       'expected_happy_with_sd_people', 'expected_num_interested_in_me',\n",
       "       'like', 'guess_prob_liked', 'met', 'match', 'age_gap', 'age_gap_abs',\n",
       "       'same_race', 'same_race_point'],\n",
       "      dtype='object')"
      ]
     },
     "execution_count": 23,
     "metadata": {},
     "output_type": "execute_result"
    }
   ],
   "source": [
    "df.columns"
   ]
  },
  {
   "cell_type": "markdown",
   "metadata": {
    "id": "Zlhz_7yHB_5V"
   },
   "source": [
    "- 특성에 대한 상대방의 선호도"
   ]
  },
  {
   "cell_type": "code",
   "execution_count": 24,
   "metadata": {
    "colab": {
     "base_uri": "https://localhost:8080/"
    },
    "id": "eHqU9nIYBNv-",
    "outputId": "892fb0ae-b48c-40a2-9d9b-ca2d1138a76e"
   },
   "outputs": [
    {
     "data": {
      "text/plain": [
       "['pref_o_attractive',\n",
       " 'pref_o_sincere',\n",
       " 'pref_o_intelligence',\n",
       " 'pref_o_funny',\n",
       " 'pref_o_ambitious',\n",
       " 'pref_o_shared_interests']"
      ]
     },
     "execution_count": 24,
     "metadata": {},
     "output_type": "execute_result"
    }
   ],
   "source": [
    "pref_ptnr = [col for col in df.columns if col.split('_')[0] == 'pref']\n",
    "\n",
    "pref_ptnr"
   ]
  },
  {
   "cell_type": "markdown",
   "metadata": {
    "id": "sg6x7XHtBmK3"
   },
   "source": [
    "- (본인의) 특성에 대한 상대방의 평가"
   ]
  },
  {
   "cell_type": "code",
   "execution_count": 25,
   "metadata": {
    "colab": {
     "base_uri": "https://localhost:8080/"
    },
    "id": "AaT6UKsKCcQM",
    "outputId": "d5324459-3e26-4fac-82c0-810fbbcdc2e8"
   },
   "outputs": [
    {
     "data": {
      "text/plain": [
       "['age_o',\n",
       " 'race_o',\n",
       " 'attractive_o',\n",
       " 'sincere_o',\n",
       " 'intelligence_o',\n",
       " 'funny_o',\n",
       " 'ambitous_o',\n",
       " 'shared_interests_o']"
      ]
     },
     "execution_count": 25,
     "metadata": {},
     "output_type": "execute_result"
    }
   ],
   "source": [
    "rate_me = [col for col in df.columns if col[-1] == 'o']\n",
    "\n",
    "rate_me"
   ]
  },
  {
   "cell_type": "code",
   "execution_count": 26,
   "metadata": {
    "colab": {
     "base_uri": "https://localhost:8080/"
    },
    "id": "NuQ7ylfaL47Q",
    "outputId": "c266822b-ba9d-4499-c21d-c7d22fc5ad01"
   },
   "outputs": [
    {
     "data": {
      "text/plain": [
       "['attractive_o',\n",
       " 'sincere_o',\n",
       " 'intelligence_o',\n",
       " 'funny_o',\n",
       " 'ambitous_o',\n",
       " 'shared_interests_o']"
      ]
     },
     "execution_count": 26,
     "metadata": {},
     "output_type": "execute_result"
    }
   ],
   "source": [
    "del rate_me[0:2]\n",
    "\n",
    "rate_me"
   ]
  },
  {
   "cell_type": "markdown",
   "metadata": {
    "id": "r3cVAJLiCtOf"
   },
   "source": [
    "- 특성에 대한 본인의 선호도"
   ]
  },
  {
   "cell_type": "code",
   "execution_count": 27,
   "metadata": {
    "colab": {
     "base_uri": "https://localhost:8080/"
    },
    "id": "J98yqywlH6GG",
    "outputId": "4b7bb8be-6154-4e54-b128-6aeee8b164e7"
   },
   "outputs": [
    {
     "data": {
      "text/plain": [
       "['attractive_important',\n",
       " 'sincere_important',\n",
       " 'intellicence_important',\n",
       " 'funny_important',\n",
       " 'ambtition_important',\n",
       " 'shared_interests_important']"
      ]
     },
     "execution_count": 27,
     "metadata": {},
     "output_type": "execute_result"
    }
   ],
   "source": [
    "pref_me = [col for col in df.columns if col[-9:] == 'important']\n",
    "\n",
    "pref_me"
   ]
  },
  {
   "cell_type": "markdown",
   "metadata": {
    "id": "wKXt4tjjIN14"
   },
   "source": [
    "- (상대방의) 특성에 대한 본인의 평가"
   ]
  },
  {
   "cell_type": "code",
   "execution_count": 28,
   "metadata": {
    "colab": {
     "base_uri": "https://localhost:8080/"
    },
    "id": "3nT3qXDzJYNo",
    "outputId": "a0c0997b-94b8-4b4e-9a65-fea18225e5e9"
   },
   "outputs": [
    {
     "data": {
      "text/plain": [
       "['attractive_partner',\n",
       " 'sincere_partner',\n",
       " 'intelligence_partner',\n",
       " 'funny_partner',\n",
       " 'ambition_partner',\n",
       " 'shared_interests_partner']"
      ]
     },
     "execution_count": 28,
     "metadata": {},
     "output_type": "execute_result"
    }
   ],
   "source": [
    "rate_ptnr = [col for col in df.columns if col[-(len('partner')):] == 'partner']\n",
    "\n",
    "rate_ptnr"
   ]
  },
  {
   "cell_type": "markdown",
   "metadata": {
    "id": "1RRNmUi6JnfH"
   },
   "source": [
    "- 평가 점수 X 중요도 = 새로운 label: `score`\n"
   ]
  },
  {
   "cell_type": "code",
   "execution_count": 29,
   "metadata": {
    "colab": {
     "base_uri": "https://localhost:8080/"
    },
    "id": "NPszxpLnKOZO",
    "outputId": "34c088e7-232f-4aee-e580-0d672fbff6ab"
   },
   "outputs": [
    {
     "name": "stdout",
     "output_type": "stream",
     "text": [
      "['attractive_ptnr', 'sincere_ptnr', 'intelligence_ptnr', 'funny_ptnr', 'ambition_ptnr', 'shared_ptnr']\n",
      "['attractive_me', 'sincere_me', 'intelligence_me', 'funny_me', 'ambition_me', 'shared_me']\n"
     ]
    }
   ],
   "source": [
    "character_list = [ch.split('_')[0] for ch in rate_ptnr]\n",
    "\n",
    "score_ptnr = [ch + '_ptnr' for ch in character_list]\n",
    "score_me = [ch + '_me' for ch in character_list]\n",
    "\n",
    "print(score_ptnr)\n",
    "print(score_me)"
   ]
  },
  {
   "cell_type": "code",
   "execution_count": 30,
   "metadata": {
    "colab": {
     "base_uri": "https://localhost:8080/"
    },
    "id": "GJ6JqvpENwO5",
    "outputId": "1ca46387-004f-45db-8ef9-3970ad066c77"
   },
   "outputs": [
    {
     "name": "stdout",
     "output_type": "stream",
     "text": [
      "0   210.00\n",
      "1   420.00\n",
      "2    95.00\n",
      "3   210.00\n",
      "4   150.00\n",
      "Name: attractive_ptnr, dtype: float64\n",
      "0   180.00\n",
      "1     0.00\n",
      "2   144.00\n",
      "3    30.00\n",
      "4    60.00\n",
      "Name: sincere_ptnr, dtype: float64\n",
      "0   140.00\n",
      "1     0.00\n",
      "2   171.00\n",
      "3   120.00\n",
      "4   140.00\n",
      "Name: intelligence_ptnr, dtype: float64\n",
      "0   140.00\n",
      "1   320.00\n",
      "2   144.00\n",
      "3   280.00\n",
      "4    70.00\n",
      "Name: funny_ptnr, dtype: float64\n",
      "0    0.00\n",
      "1    0.00\n",
      "2   70.00\n",
      "3   30.00\n",
      "4   60.00\n",
      "Name: ambition_ptnr, dtype: float64\n",
      "0    25.00\n",
      "1     0.00\n",
      "2    84.00\n",
      "3    40.00\n",
      "4   120.00\n",
      "Name: shared_ptnr, dtype: float64\n"
     ]
    }
   ],
   "source": [
    "for i, j, k in zip(score_ptnr, pref_ptnr, rate_ptnr):\n",
    "    df[i] = df.apply(lambda x: rating(x, j, k), axis=1)\n",
    "\n",
    "for score in score_ptnr:\n",
    "    print(df[score].head())"
   ]
  },
  {
   "cell_type": "code",
   "execution_count": 31,
   "metadata": {
    "colab": {
     "base_uri": "https://localhost:8080/"
    },
    "id": "ka9a-DZePLT5",
    "outputId": "42431ff4-1c52-4c74-daaa-57f139e11b37"
   },
   "outputs": [
    {
     "name": "stdout",
     "output_type": "stream",
     "text": [
      "0    90.00\n",
      "1   105.00\n",
      "2   150.00\n",
      "3   105.00\n",
      "4   120.00\n",
      "Name: attractive_me, dtype: float64\n",
      "0   160.00\n",
      "1   160.00\n",
      "2   200.00\n",
      "3   160.00\n",
      "4   140.00\n",
      "Name: sincere_me, dtype: float64\n",
      "0   160.00\n",
      "1   200.00\n",
      "2   200.00\n",
      "3   180.00\n",
      "4   180.00\n",
      "Name: intelligence_me, dtype: float64\n",
      "0   120.00\n",
      "1   105.00\n",
      "2   150.00\n",
      "3   120.00\n",
      "4    90.00\n",
      "Name: funny_me, dtype: float64\n",
      "0   120.00\n",
      "1   105.00\n",
      "2   150.00\n",
      "3   135.00\n",
      "4   135.00\n",
      "Name: ambition_me, dtype: float64\n",
      "0    90.00\n",
      "1    75.00\n",
      "2   150.00\n",
      "3   120.00\n",
      "4   105.00\n",
      "Name: shared_me, dtype: float64\n"
     ]
    }
   ],
   "source": [
    "for i, j, k in zip(score_me, pref_me, rate_me):\n",
    "    df[i] = df.apply(lambda x: rating(x, j, k), axis=1)\n",
    "\n",
    "for score in score_me:\n",
    "    print(df[score].head())"
   ]
  },
  {
   "cell_type": "code",
   "execution_count": 32,
   "metadata": {
    "colab": {
     "base_uri": "https://localhost:8080/"
    },
    "id": "z5CyRjO3QwqR",
    "outputId": "3afd77cd-f52f-4581-dd3d-706f01f94f20"
   },
   "outputs": [
    {
     "data": {
      "text/plain": [
       "Index(['has_null', 'gender', 'age', 'age_o', 'race', 'race_o',\n",
       "       'importance_same_race', 'importance_same_religion', 'pref_o_attractive',\n",
       "       'pref_o_sincere', 'pref_o_intelligence', 'pref_o_funny',\n",
       "       'pref_o_ambitious', 'pref_o_shared_interests', 'attractive_o',\n",
       "       'sincere_o', 'intelligence_o', 'funny_o', 'ambitous_o',\n",
       "       'shared_interests_o', 'attractive_important', 'sincere_important',\n",
       "       'intellicence_important', 'funny_important', 'ambtition_important',\n",
       "       'shared_interests_important', 'attractive_partner', 'sincere_partner',\n",
       "       'intelligence_partner', 'funny_partner', 'ambition_partner',\n",
       "       'shared_interests_partner', 'interests_correlate',\n",
       "       'expected_happy_with_sd_people', 'expected_num_interested_in_me',\n",
       "       'like', 'guess_prob_liked', 'met', 'match', 'age_gap', 'age_gap_abs',\n",
       "       'same_race', 'same_race_point', 'attractive_ptnr', 'sincere_ptnr',\n",
       "       'intelligence_ptnr', 'funny_ptnr', 'ambition_ptnr', 'shared_ptnr',\n",
       "       'attractive_me', 'sincere_me', 'intelligence_me', 'funny_me',\n",
       "       'ambition_me', 'shared_me'],\n",
       "      dtype='object')"
      ]
     },
     "execution_count": 32,
     "metadata": {},
     "output_type": "execute_result"
    }
   ],
   "source": [
    "df.columns"
   ]
  },
  {
   "cell_type": "markdown",
   "metadata": {
    "id": "-K1hV2LZQ4IQ"
   },
   "source": [
    "### Categorical Data"
   ]
  },
  {
   "cell_type": "code",
   "execution_count": 33,
   "metadata": {
    "colab": {
     "base_uri": "https://localhost:8080/"
    },
    "id": "a5Sug52PQ730",
    "outputId": "3cd5793a-36b0-45c6-8783-d9a56178a4fd"
   },
   "outputs": [
    {
     "name": "stdout",
     "output_type": "stream",
     "text": [
      "<class 'pandas.core.frame.DataFrame'>\n",
      "Int64Index: 8086 entries, 0 to 8377\n",
      "Data columns (total 55 columns):\n",
      " #   Column                         Non-Null Count  Dtype  \n",
      "---  ------                         --------------  -----  \n",
      " 0   has_null                       8086 non-null   int64  \n",
      " 1   gender                         8086 non-null   object \n",
      " 2   age                            8086 non-null   float64\n",
      " 3   age_o                          8086 non-null   float64\n",
      " 4   race                           8086 non-null   object \n",
      " 5   race_o                         8086 non-null   object \n",
      " 6   importance_same_race           8086 non-null   float64\n",
      " 7   importance_same_religion       8086 non-null   float64\n",
      " 8   pref_o_attractive              8086 non-null   float64\n",
      " 9   pref_o_sincere                 8086 non-null   float64\n",
      " 10  pref_o_intelligence            8086 non-null   float64\n",
      " 11  pref_o_funny                   8086 non-null   float64\n",
      " 12  pref_o_ambitious               8086 non-null   float64\n",
      " 13  pref_o_shared_interests        8086 non-null   float64\n",
      " 14  attractive_o                   8086 non-null   float64\n",
      " 15  sincere_o                      8086 non-null   float64\n",
      " 16  intelligence_o                 8086 non-null   float64\n",
      " 17  funny_o                        8086 non-null   float64\n",
      " 18  ambitous_o                     8086 non-null   float64\n",
      " 19  shared_interests_o             8086 non-null   float64\n",
      " 20  attractive_important           8086 non-null   float64\n",
      " 21  sincere_important              8086 non-null   float64\n",
      " 22  intellicence_important         8086 non-null   float64\n",
      " 23  funny_important                8086 non-null   float64\n",
      " 24  ambtition_important            8086 non-null   float64\n",
      " 25  shared_interests_important     8086 non-null   float64\n",
      " 26  attractive_partner             8086 non-null   float64\n",
      " 27  sincere_partner                8086 non-null   float64\n",
      " 28  intelligence_partner           8086 non-null   float64\n",
      " 29  funny_partner                  8086 non-null   float64\n",
      " 30  ambition_partner               8086 non-null   float64\n",
      " 31  shared_interests_partner       8086 non-null   float64\n",
      " 32  interests_correlate            8086 non-null   float64\n",
      " 33  expected_happy_with_sd_people  8086 non-null   float64\n",
      " 34  expected_num_interested_in_me  8086 non-null   float64\n",
      " 35  like                           8086 non-null   float64\n",
      " 36  guess_prob_liked               8086 non-null   float64\n",
      " 37  met                            8086 non-null   float64\n",
      " 38  match                          8086 non-null   int64  \n",
      " 39  age_gap                        8086 non-null   float64\n",
      " 40  age_gap_abs                    8086 non-null   float64\n",
      " 41  same_race                      8086 non-null   int64  \n",
      " 42  same_race_point                8086 non-null   float64\n",
      " 43  attractive_ptnr                7910 non-null   float64\n",
      " 44  sincere_ptnr                   7839 non-null   float64\n",
      " 45  intelligence_ptnr              7818 non-null   float64\n",
      " 46  funny_ptnr                     7765 non-null   float64\n",
      " 47  ambition_ptnr                  7408 non-null   float64\n",
      " 48  shared_ptnr                    7057 non-null   float64\n",
      " 49  attractive_me                  7910 non-null   float64\n",
      " 50  sincere_me                     7839 non-null   float64\n",
      " 51  intelligence_me                7818 non-null   float64\n",
      " 52  funny_me                       7765 non-null   float64\n",
      " 53  ambition_me                    7408 non-null   float64\n",
      " 54  shared_me                      7057 non-null   float64\n",
      "dtypes: float64(49), int64(3), object(3)\n",
      "memory usage: 3.5+ MB\n"
     ]
    }
   ],
   "source": [
    "df.info()"
   ]
  },
  {
   "cell_type": "code",
   "execution_count": 34,
   "metadata": {
    "colab": {
     "base_uri": "https://localhost:8080/",
     "height": 175
    },
    "id": "9CHd8boORJjg",
    "outputId": "e2d0fc36-fb26-4cb6-e132-f98a4b49a494"
   },
   "outputs": [
    {
     "data": {
      "text/html": [
       "<div>\n",
       "<style scoped>\n",
       "    .dataframe tbody tr th:only-of-type {\n",
       "        vertical-align: middle;\n",
       "    }\n",
       "\n",
       "    .dataframe tbody tr th {\n",
       "        vertical-align: top;\n",
       "    }\n",
       "\n",
       "    .dataframe thead th {\n",
       "        text-align: right;\n",
       "    }\n",
       "</style>\n",
       "<table border=\"1\" class=\"dataframe\">\n",
       "  <thead>\n",
       "    <tr style=\"text-align: right;\">\n",
       "      <th></th>\n",
       "      <th>gender</th>\n",
       "      <th>race</th>\n",
       "      <th>race_o</th>\n",
       "    </tr>\n",
       "  </thead>\n",
       "  <tbody>\n",
       "    <tr>\n",
       "      <th>count</th>\n",
       "      <td>8086</td>\n",
       "      <td>8086</td>\n",
       "      <td>8086</td>\n",
       "    </tr>\n",
       "    <tr>\n",
       "      <th>unique</th>\n",
       "      <td>2</td>\n",
       "      <td>5</td>\n",
       "      <td>5</td>\n",
       "    </tr>\n",
       "    <tr>\n",
       "      <th>top</th>\n",
       "      <td>female</td>\n",
       "      <td>European/Caucasian-American</td>\n",
       "      <td>European/Caucasian-American</td>\n",
       "    </tr>\n",
       "    <tr>\n",
       "      <th>freq</th>\n",
       "      <td>4043</td>\n",
       "      <td>4594</td>\n",
       "      <td>4594</td>\n",
       "    </tr>\n",
       "  </tbody>\n",
       "</table>\n",
       "</div>"
      ],
      "text/plain": [
       "        gender                         race                       race_o\n",
       "count     8086                         8086                         8086\n",
       "unique       2                            5                            5\n",
       "top     female  European/Caucasian-American  European/Caucasian-American\n",
       "freq      4043                         4594                         4594"
      ]
     },
     "execution_count": 34,
     "metadata": {},
     "output_type": "execute_result"
    }
   ],
   "source": [
    "df.describe(include=['O'])"
   ]
  },
  {
   "cell_type": "code",
   "execution_count": 35,
   "metadata": {
    "colab": {
     "base_uri": "https://localhost:8080/"
    },
    "id": "-8jBSlW9RRJw",
    "outputId": "5145495d-8a86-408d-b365-c1a49d67d59e"
   },
   "outputs": [
    {
     "name": "stdout",
     "output_type": "stream",
     "text": [
      "<class 'pandas.core.frame.DataFrame'>\n",
      "Int64Index: 8086 entries, 0 to 8377\n",
      "Data columns (total 61 columns):\n",
      " #   Column                              Non-Null Count  Dtype  \n",
      "---  ------                              --------------  -----  \n",
      " 0   has_null                            8086 non-null   int64  \n",
      " 1   age                                 8086 non-null   float64\n",
      " 2   age_o                               8086 non-null   float64\n",
      " 3   importance_same_race                8086 non-null   float64\n",
      " 4   importance_same_religion            8086 non-null   float64\n",
      " 5   pref_o_attractive                   8086 non-null   float64\n",
      " 6   pref_o_sincere                      8086 non-null   float64\n",
      " 7   pref_o_intelligence                 8086 non-null   float64\n",
      " 8   pref_o_funny                        8086 non-null   float64\n",
      " 9   pref_o_ambitious                    8086 non-null   float64\n",
      " 10  pref_o_shared_interests             8086 non-null   float64\n",
      " 11  attractive_o                        8086 non-null   float64\n",
      " 12  sincere_o                           8086 non-null   float64\n",
      " 13  intelligence_o                      8086 non-null   float64\n",
      " 14  funny_o                             8086 non-null   float64\n",
      " 15  ambitous_o                          8086 non-null   float64\n",
      " 16  shared_interests_o                  8086 non-null   float64\n",
      " 17  attractive_important                8086 non-null   float64\n",
      " 18  sincere_important                   8086 non-null   float64\n",
      " 19  intellicence_important              8086 non-null   float64\n",
      " 20  funny_important                     8086 non-null   float64\n",
      " 21  ambtition_important                 8086 non-null   float64\n",
      " 22  shared_interests_important          8086 non-null   float64\n",
      " 23  attractive_partner                  8086 non-null   float64\n",
      " 24  sincere_partner                     8086 non-null   float64\n",
      " 25  intelligence_partner                8086 non-null   float64\n",
      " 26  funny_partner                       8086 non-null   float64\n",
      " 27  ambition_partner                    8086 non-null   float64\n",
      " 28  shared_interests_partner            8086 non-null   float64\n",
      " 29  interests_correlate                 8086 non-null   float64\n",
      " 30  expected_happy_with_sd_people       8086 non-null   float64\n",
      " 31  expected_num_interested_in_me       8086 non-null   float64\n",
      " 32  like                                8086 non-null   float64\n",
      " 33  guess_prob_liked                    8086 non-null   float64\n",
      " 34  met                                 8086 non-null   float64\n",
      " 35  match                               8086 non-null   int64  \n",
      " 36  age_gap                             8086 non-null   float64\n",
      " 37  age_gap_abs                         8086 non-null   float64\n",
      " 38  same_race                           8086 non-null   int64  \n",
      " 39  same_race_point                     8086 non-null   float64\n",
      " 40  attractive_ptnr                     7910 non-null   float64\n",
      " 41  sincere_ptnr                        7839 non-null   float64\n",
      " 42  intelligence_ptnr                   7818 non-null   float64\n",
      " 43  funny_ptnr                          7765 non-null   float64\n",
      " 44  ambition_ptnr                       7408 non-null   float64\n",
      " 45  shared_ptnr                         7057 non-null   float64\n",
      " 46  attractive_me                       7910 non-null   float64\n",
      " 47  sincere_me                          7839 non-null   float64\n",
      " 48  intelligence_me                     7818 non-null   float64\n",
      " 49  funny_me                            7765 non-null   float64\n",
      " 50  ambition_me                         7408 non-null   float64\n",
      " 51  shared_me                           7057 non-null   float64\n",
      " 52  gender_male                         8086 non-null   uint8  \n",
      " 53  race_Black/AfricanAmerican          8086 non-null   uint8  \n",
      " 54  race_European/Caucasian-American    8086 non-null   uint8  \n",
      " 55  race_Latino/HispanicAmerican        8086 non-null   uint8  \n",
      " 56  race_Other                          8086 non-null   uint8  \n",
      " 57  race_o_Black/AfricanAmerican        8086 non-null   uint8  \n",
      " 58  race_o_European/Caucasian-American  8086 non-null   uint8  \n",
      " 59  race_o_Latino/HispanicAmerican      8086 non-null   uint8  \n",
      " 60  race_o_Other                        8086 non-null   uint8  \n",
      "dtypes: float64(49), int64(3), uint8(9)\n",
      "memory usage: 3.3 MB\n"
     ]
    }
   ],
   "source": [
    "df = pd.get_dummies(df, columns=['gender', 'race', 'race_o'], drop_first=True)\n",
    "\n",
    "df.info()"
   ]
  },
  {
   "cell_type": "markdown",
   "metadata": {
    "id": "PX2E7MH3RhEh"
   },
   "source": [
    "## Training Model"
   ]
  },
  {
   "cell_type": "markdown",
   "metadata": {
    "id": "vd20rPtXSZMI"
   },
   "source": [
    "### train set, test set"
   ]
  },
  {
   "cell_type": "code",
   "execution_count": 36,
   "metadata": {
    "id": "2xM1Is-ARlJJ"
   },
   "outputs": [],
   "source": [
    "from sklearn.model_selection import train_test_split\n",
    "\n",
    "X = df.drop(columns=['match'])\n",
    "y = df['match']\n",
    "\n",
    "X_train, X_test, y_train, y_test = train_test_split(\n",
    "    X, y, test_size=0.25, random_state=814\n",
    ")"
   ]
  },
  {
   "cell_type": "markdown",
   "metadata": {
    "id": "kkOiv-HCSSrZ"
   },
   "source": [
    "### Modeling"
   ]
  },
  {
   "cell_type": "code",
   "execution_count": 56,
   "metadata": {
    "colab": {
     "base_uri": "https://localhost:8080/"
    },
    "id": "CLoa49WKSf2o",
    "outputId": "123b724a-da53-4d7d-dca4-efb375926448"
   },
   "outputs": [
    {
     "name": "stderr",
     "output_type": "stream",
     "text": [
      "C:\\Users\\EthanJ\\anaconda3\\lib\\site-packages\\xgboost\\sklearn.py:1224: UserWarning: The use of label encoder in XGBClassifier is deprecated and will be removed in a future release. To remove this warning, do the following: 1) Pass option use_label_encoder=False when constructing XGBClassifier object; and 2) Encode your labels (y) as integers starting with 0, i.e. 0, 1, 2, ..., [num_class - 1].\n",
      "  warnings.warn(label_encoder_deprecation_msg, UserWarning)\n",
      "C:\\Users\\EthanJ\\anaconda3\\lib\\site-packages\\xgboost\\data.py:250: FutureWarning: pandas.Int64Index is deprecated and will be removed from pandas in a future version. Use pandas.Index with the appropriate dtype instead.\n",
      "  elif isinstance(data.columns, (pd.Int64Index, pd.RangeIndex)):\n"
     ]
    },
    {
     "name": "stdout",
     "output_type": "stream",
     "text": [
      "[17:56:14] WARNING: C:\\Windows\\Temp\\abs_557yfx631l\\croots\\recipe\\xgboost-split_1659548953302\\work\\src\\learner.cc:1115: Starting in XGBoost 1.3.0, the default evaluation metric used with the objective 'binary:logistic' was changed from 'error' to 'logloss'. Explicitly set eval_metric if you'd like to restore the old behavior.\n"
     ]
    },
    {
     "data": {
      "text/plain": [
       "array([0, 0, 0, ..., 0, 1, 0], dtype=int64)"
      ]
     },
     "execution_count": 56,
     "metadata": {},
     "output_type": "execute_result"
    }
   ],
   "source": [
    "import xgboost as xgb\n",
    "\n",
    "model = xgb.XGBClassifier(n_estimators=500, max_depth=5, random_state=np.random.randint(1000))\n",
    "\n",
    "model.fit(X_train, y_train)\n",
    "pred = model.predict(X_test)\n",
    "\n",
    "pred"
   ]
  },
  {
   "cell_type": "markdown",
   "metadata": {
    "id": "hOJ-vExYSyoB"
   },
   "source": [
    "## Evaluating Model"
   ]
  },
  {
   "cell_type": "code",
   "execution_count": 57,
   "metadata": {
    "colab": {
     "base_uri": "https://localhost:8080/"
    },
    "id": "2iA9J44JS5ho",
    "outputId": "9479acf5-81f6-4555-fddc-55ad0a36eae1"
   },
   "outputs": [
    {
     "name": "stdout",
     "output_type": "stream",
     "text": [
      "0.16547118476378928\n",
      "0.8345288152362107\n",
      "\n",
      "0.8768545994065282\n"
     ]
    }
   ],
   "source": [
    "from sklearn.metrics import accuracy_score, confusion_matrix, classification_report\n",
    "\n",
    "\n",
    "# 매칭 여부\n",
    "match_mean = df['match'].mean()\n",
    "\n",
    "print(match_mean)\n",
    "# 데이터의 편향성\n",
    "print(1 - match_mean)\n",
    "print()\n",
    "\n",
    "print(accuracy_score(y_test, pred))"
   ]
  },
  {
   "cell_type": "markdown",
   "metadata": {
    "id": "ir1wGftITcqB"
   },
   "source": [
    "### Confusion Matrix\n",
    "\n",
    "- 1종 오류: Actual 0, Predicted 1 = False Positive(FP)\n",
    "- 2종 오류: Actual 1, Predicted 0 = False Negative(FN)"
   ]
  },
  {
   "cell_type": "code",
   "execution_count": 58,
   "metadata": {
    "colab": {
     "base_uri": "https://localhost:8080/"
    },
    "id": "AcKSWXeWWOgx",
    "outputId": "0f0eaa35-4ff6-45d8-e37c-129238133cf5"
   },
   "outputs": [
    {
     "name": "stdout",
     "output_type": "stream",
     "text": [
      "[[1622   72]\n",
      " [ 177  151]]\n"
     ]
    }
   ],
   "source": [
    "print(confusion_matrix(y_test, pred))"
   ]
  },
  {
   "cell_type": "code",
   "execution_count": 59,
   "metadata": {
    "colab": {
     "base_uri": "https://localhost:8080/"
    },
    "id": "YacrSrWxWj8Z",
    "outputId": "6ef9607e-5a52-436b-966c-4473616f8164"
   },
   "outputs": [
    {
     "data": {
      "text/plain": [
       "array([[1622,   72],\n",
       "       [ 177,  151]], dtype=int64)"
      ]
     },
     "execution_count": 59,
     "metadata": {},
     "output_type": "execute_result"
    }
   ],
   "source": [
    "cf_matrix = confusion_matrix(y_test, pred)\n",
    "\n",
    "cf_matrix"
   ]
  },
  {
   "cell_type": "code",
   "execution_count": 60,
   "metadata": {
    "colab": {
     "base_uri": "https://localhost:8080/",
     "height": 279
    },
    "id": "oQINoaruWtoq",
    "outputId": "ac5cf721-b793-4897-b973-2f846427fb88"
   },
   "outputs": [
    {
     "data": {
      "image/png": "[encoded data removed]",
      "text/plain": [
       "<Figure size 640x480 with 2 Axes>"
      ]
     },
     "metadata": {},
     "output_type": "display_data"
    }
   ],
   "source": [
    "group_name = ['TN', 'FP', 'FN', 'TP']\n",
    "group_counts = [\"{0:0.0f}\".format(value) for value in cf_matrix.flatten()]\n",
    "group_percent =  [\"{0:.2%}\".format(value) for value in cf_matrix.flatten() / np.sum(cf_matrix)]\n",
    "\n",
    "labels = [f\"{name}\\n{count}\\n{percent}\" for name, count, percent\n",
    "          in zip(group_name, group_counts, group_percent)]\n",
    "labels = np.asarray(labels).reshape(2, 2)          \n",
    "\n",
    "sns.heatmap(cf_matrix, annot=labels, fmt='', cmap='coolwarm')\n",
    "plt.ylabel('Actual')\n",
    "plt.xlabel('Predicted')\n",
    "\n",
    "plt.show()"
   ]
  },
  {
   "cell_type": "markdown",
   "metadata": {
    "id": "sc0LDp93fO3Z"
   },
   "source": [
    "### `classification_report(y_true, y_pred)`\n",
    "\n",
    "- 종속변수(y)의 값인 `0`과 `1` 각각에 대해 나타남\n",
    "\n",
    "- 예측하려는 경우인 `1`에 대한 값을 주로 해석한다.\n",
    "\n",
    "    - `precision`: 정밀도\n",
    "\n",
    "    - `recall`: 재현율\n",
    "\n",
    "    - `f1-score`: F1-점수\n",
    "\n",
    "    - `support`: index"
   ]
  },
  {
   "cell_type": "code",
   "execution_count": 61,
   "metadata": {
    "colab": {
     "base_uri": "https://localhost:8080/"
    },
    "id": "UesDUME5gj3Q",
    "outputId": "755282c9-75b2-49b2-c5d8-5e855fb53b14"
   },
   "outputs": [
    {
     "name": "stdout",
     "output_type": "stream",
     "text": [
      "              precision    recall  f1-score   support\n",
      "\n",
      "           0       0.90      0.96      0.93      1694\n",
      "           1       0.68      0.46      0.55       328\n",
      "\n",
      "    accuracy                           0.88      2022\n",
      "   macro avg       0.79      0.71      0.74      2022\n",
      "weighted avg       0.87      0.88      0.87      2022\n",
      "\n"
     ]
    }
   ],
   "source": [
    "print(classification_report(y_test, pred))"
   ]
  },
  {
   "cell_type": "markdown",
   "metadata": {
    "id": "IstoxZeMgQAD"
   },
   "source": [
    "#### 정밀도(precision)\n",
    "* 1로 예측한 경우 중, 얼마만큼이 실제로 1인지를 나타냄<br>\n",
    "$TP\\over(TP+FP)$=$\\frac{TP}{Predicted True}$\n",
    "> FP(1종 오류)가 커질수록 분모가 커지기 때문에 정밀도는 낮아짐"
   ]
  },
  {
   "cell_type": "markdown",
   "metadata": {
    "id": "hb4E769RgjsH"
   },
   "source": [
    "#### 재현율(recall)\n",
    "* 실제 1 중에, 얼마만큼을 1로 예측했는지 나타냄<br>\n",
    "$TP\\over(TP+FN)$=$\\frac{TP}{ActualTrue}$\n",
    "> FN(2종 오류)가 커질수록 분모가 커지기 때문에 재현율은 낮아짐"
   ]
  },
  {
   "cell_type": "markdown",
   "metadata": {
    "id": "oYPxsCz6jUDD"
   },
   "source": [
    "#### F1-점수(f1-score)\n",
    "* 정밀도와 재현율의 조화평균<br>\n",
    "    * 조화평균 : 주어진 수들의 역수의 산술평균의 역수   \n",
    "    $H = \\frac{2a_1a_2}{a_1 + a_2}$\n",
    "\n",
    "- F1-score = $2 \\times \\frac{precision \\times recall}{precesion + recall}$=$2 \\times \\frac{정밀도 \\times 재현율}{정밀도 + 재현율}$\n",
    "> 1종 오류가 중요하면 `precision`, 2종 오류가 중요하면 `recall`   \n",
    "> 딱히 중요한 것 없으면 `F1-score`"
   ]
  },
  {
   "cell_type": "markdown",
   "metadata": {
    "id": "Cyq99T9Hj2jD"
   },
   "source": [
    "## Hyperparameter tuning"
   ]
  },
  {
   "cell_type": "markdown",
   "metadata": {
    "id": "bIs3djFUlZ0p"
   },
   "source": [
    "### 경사하강법(Gradient descent)\n",
    "\n",
    "- XGBoost 등에서 Machine Learning을 학습시킬 때 최소의 오차를 찾는 방법\n",
    "\n",
    "- 오차 함수에 대한 경사도(미분계수, 기울기, Gradient)를 기준으로 매개변수를 반복해서 이동하며 오차의 최소값을 찾음\n",
    "\n",
    "    - 매개변수: 선형 회귀에서의 계수(변수에 대한 기울기 값)\n",
    "\n",
    "#### 경사하강법과 보폭\n",
    "\n",
    "- Gradient Boosting의 핵심개념, model이 최소 오차값을 만드는 매개변수들을 학습하는 방법론\n",
    "\n",
    "- 오차식에 대한 미분계수를 통해 매개변수의 이동 방향과 보폭을 결정\n",
    "\n",
    "    - 보폭: 매개변수의 이동량\n",
    "\n",
    "#### 미분계수(기울기)\n",
    "\n",
    "- 평균변화율에서 x의 증가량이 0에 무한히 가까워질 때 ($x → 0$) 평균변화율 값\n",
    "\n",
    "- 그래프상에서의 접선의 기울기, 계수"
   ]
  },
  {
   "cell_type": "markdown",
   "metadata": {
    "id": "J-QILhKCoije"
   },
   "source": [
    "### GirdSearchCV\n",
    "\n",
    "- 사용자가 직접 model의 hyperparameter의 값을 list로 입력하면 값에 대한 경우의 수마다    \n",
    "예측 성능을 측정 평가, 비교하면서 최적의 hyperparameter 값을 찾는 과정을 진행\n",
    "\n",
    "#### Hyperparameter 종류\n",
    "\n",
    "- `learning_rate`(학습률) \n",
    "\n",
    "    - Gradient descent에서 'parameter'를 얼만큼씩 이동하면서 오차 최소값을 찾을 지 보폭의 크기를 결정\n",
    "\n",
    "    - 기본적으로 보폭은 미분계수에 의해 결정되지만, `learning_rate`에 비례해서 보폭이 증감됨.\n",
    "\n",
    "    - 학습률과 보폭: `learning_rate` = input → 보폭 = output\n",
    "        - 과도하게 작은 `learning_rate`: 상당한 시간 소모, overfitting 발생\n",
    "\n",
    "        - 과도하게 큰 `learning_rate`: 결여된 학습\n",
    "\n",
    "        - 적절한 크기의 학습률을 사용해야 적당한 시간에 최소 오차 지점을 찾을 수 있음\n",
    "\n",
    "- `max_depth`: 각 tree의 깊이 제한\n",
    "\n",
    "- `subsample`: 모델을 학습시킬 때 전체 데이터 대비 트리에 사용할 데이터 량의 값\n",
    "\n",
    "    - 0.5면 데이터의 절반씩 랜덤 추출\n",
    "\n",
    "    - overfitting을 방지하는 데 도움을 준다.\n",
    "\n",
    "- `n_estimators`: 전체 tree의 개수"
   ]
  },
  {
   "cell_type": "code",
   "execution_count": 43,
   "metadata": {
    "id": "-xFVocRTqnJC"
   },
   "outputs": [],
   "source": [
    "gsCV_parameter = {\n",
    "    'learning_rate': [0.01, 0.1, 0.2],\n",
    "    'max_depth': [3, 6, 9],\n",
    "    'subsample': [0.5, 0.75, 1],\n",
    "    'n_estimators': [250, 500, 1000]\n",
    "}"
   ]
  },
  {
   "cell_type": "code",
   "execution_count": 44,
   "metadata": {
    "id": "G_LSGBzZvetU"
   },
   "outputs": [
    {
     "name": "stderr",
     "output_type": "stream",
     "text": [
      "C:\\Users\\EthanJ\\anaconda3\\lib\\site-packages\\xgboost\\sklearn.py:1224: UserWarning: The use of label encoder in XGBClassifier is deprecated and will be removed in a future release. To remove this warning, do the following: 1) Pass option use_label_encoder=False when constructing XGBClassifier object; and 2) Encode your labels (y) as integers starting with 0, i.e. 0, 1, 2, ..., [num_class - 1].\n",
      "  warnings.warn(label_encoder_deprecation_msg, UserWarning)\n",
      "C:\\Users\\EthanJ\\anaconda3\\lib\\site-packages\\xgboost\\data.py:250: FutureWarning: pandas.Int64Index is deprecated and will be removed from pandas in a future version. Use pandas.Index with the appropriate dtype instead.\n",
      "  elif isinstance(data.columns, (pd.Int64Index, pd.RangeIndex)):\n"
     ]
    },
    {
     "name": "stdout",
     "output_type": "stream",
     "text": [
      "[17:49:37] WARNING: C:\\Windows\\Temp\\abs_557yfx631l\\croots\\recipe\\xgboost-split_1659548953302\\work\\src\\learner.cc:1115: Starting in XGBoost 1.3.0, the default evaluation metric used with the objective 'binary:logistic' was changed from 'error' to 'logloss'. Explicitly set eval_metric if you'd like to restore the old behavior.\n"
     ]
    },
    {
     "data": {
      "text/plain": [
       "GridSearchCV(cv=5,\n",
       "             estimator=XGBClassifier(base_score=None, booster=None,\n",
       "                                     colsample_bylevel=None,\n",
       "                                     colsample_bynode=None,\n",
       "                                     colsample_bytree=None,\n",
       "                                     enable_categorical=False, gamma=None,\n",
       "                                     gpu_id=None, importance_type=None,\n",
       "                                     interaction_constraints=None,\n",
       "                                     learning_rate=None, max_delta_step=None,\n",
       "                                     max_depth=None, min_child_weight=None,\n",
       "                                     missing=nan, monotone_constraints=None,\n",
       "                                     n_estimators=100, n_jobs=None,\n",
       "                                     num_parallel_tree=None, predictor=None,\n",
       "                                     random_state=None, reg_alpha=None,\n",
       "                                     reg_lambda=None, scale_pos_weight=None,\n",
       "                                     subsample=None, tree_method=None,\n",
       "                                     validate_parameters=None, verbosity=None),\n",
       "             n_jobs=6,\n",
       "             param_grid={'learning_rate': [0.01, 0.1, 0.2],\n",
       "                         'max_depth': [3, 6, 9],\n",
       "                         'n_estimators': [250, 500, 1000],\n",
       "                         'subsample': [0.5, 0.75, 1]},\n",
       "             scoring='f1')"
      ]
     },
     "execution_count": 44,
     "metadata": {},
     "output_type": "execute_result"
    }
   ],
   "source": [
    "from sklearn.model_selection import GridSearchCV\n",
    "\n",
    "model = xgb.XGBClassifier()\n",
    "gs_model = GridSearchCV(model, gsCV_parameter, n_jobs=6, scoring='f1', cv=5)\n",
    "\n",
    "gs_model.fit(X_train, y_train)"
   ]
  },
  {
   "cell_type": "code",
   "execution_count": 45,
   "metadata": {
    "id": "LPf8FsiEyKwl"
   },
   "outputs": [
    {
     "data": {
      "text/plain": [
       "['XGBoost_GridSearchCV_model.pkl']"
      ]
     },
     "execution_count": 45,
     "metadata": {},
     "output_type": "execute_result"
    }
   ],
   "source": [
    "import joblib\n",
    "\n",
    "joblib.dump(gs_model, 'XGBoost_GridSearchCV_model.pkl')"
   ]
  },
  {
   "cell_type": "markdown",
   "metadata": {
    "id": "aUEdt2AKycPd"
   },
   "source": [
    "- 가장 높은 정확도의 paramter set"
   ]
  },
  {
   "cell_type": "code",
   "execution_count": 46,
   "metadata": {
    "id": "PpRlLQlWyY0N"
   },
   "outputs": [
    {
     "data": {
      "text/plain": [
       "{'learning_rate': 0.2, 'max_depth': 3, 'n_estimators': 1000, 'subsample': 0.75}"
      ]
     },
     "execution_count": 46,
     "metadata": {},
     "output_type": "execute_result"
    }
   ],
   "source": [
    "gs_model.best_params_"
   ]
  },
  {
   "cell_type": "code",
   "execution_count": 47,
   "metadata": {
    "id": "DQ_D1JdZyf4V"
   },
   "outputs": [
    {
     "name": "stdout",
     "output_type": "stream",
     "text": [
      "accuracy_score =  0.8684470820969338\n",
      "              precision    recall  f1-score   support\n",
      "\n",
      "           0       0.90      0.95      0.92      1694\n",
      "           1       0.63      0.45      0.53       328\n",
      "\n",
      "    accuracy                           0.87      2022\n",
      "   macro avg       0.77      0.70      0.73      2022\n",
      "weighted avg       0.86      0.87      0.86      2022\n",
      "\n"
     ]
    }
   ],
   "source": [
    "pred = gs_model.predict(X_test)\n",
    "\n",
    "print(\"accuracy_score = \", accuracy_score(y_test, pred))\n",
    "print(classification_report(y_test, pred))"
   ]
  },
  {
   "cell_type": "markdown",
   "metadata": {
    "id": "tgoJiM13yv6e"
   },
   "source": [
    "### 변수의 영향력: 중요 변수 확인"
   ]
  },
  {
   "cell_type": "code",
   "execution_count": 48,
   "metadata": {
    "id": "8n8XsE1Py4SQ"
   },
   "outputs": [
    {
     "name": "stdout",
     "output_type": "stream",
     "text": [
      "[17:49:39] WARNING: C:\\Windows\\Temp\\abs_557yfx631l\\croots\\recipe\\xgboost-split_1659548953302\\work\\src\\learner.cc:1115: Starting in XGBoost 1.3.0, the default evaluation metric used with the objective 'binary:logistic' was changed from 'error' to 'logloss'. Explicitly set eval_metric if you'd like to restore the old behavior.\n"
     ]
    },
    {
     "name": "stderr",
     "output_type": "stream",
     "text": [
      "C:\\Users\\EthanJ\\anaconda3\\lib\\site-packages\\xgboost\\sklearn.py:1224: UserWarning: The use of label encoder in XGBClassifier is deprecated and will be removed in a future release. To remove this warning, do the following: 1) Pass option use_label_encoder=False when constructing XGBClassifier object; and 2) Encode your labels (y) as integers starting with 0, i.e. 0, 1, 2, ..., [num_class - 1].\n",
      "  warnings.warn(label_encoder_deprecation_msg, UserWarning)\n",
      "C:\\Users\\EthanJ\\anaconda3\\lib\\site-packages\\xgboost\\data.py:250: FutureWarning: pandas.Int64Index is deprecated and will be removed from pandas in a future version. Use pandas.Index with the appropriate dtype instead.\n",
      "  elif isinstance(data.columns, (pd.Int64Index, pd.RangeIndex)):\n"
     ]
    },
    {
     "data": {
      "text/plain": [
       "XGBClassifier(base_score=0.5, booster='gbtree', colsample_bylevel=1,\n",
       "              colsample_bynode=1, colsample_bytree=1, enable_categorical=False,\n",
       "              gamma=0, gpu_id=-1, importance_type=None,\n",
       "              interaction_constraints='', learning_rate=0.3, max_delta_step=0,\n",
       "              max_depth=5, min_child_weight=1, missing=nan,\n",
       "              monotone_constraints='()', n_estimators=1000, n_jobs=16,\n",
       "              num_parallel_tree=1, predictor='auto', random_state=100,\n",
       "              reg_alpha=0, reg_lambda=1, scale_pos_weight=1, subsample=0.5,\n",
       "              tree_method='exact', validate_parameters=1, verbosity=None)"
      ]
     },
     "execution_count": 48,
     "metadata": {},
     "output_type": "execute_result"
    }
   ],
   "source": [
    "model = xgb.XGBClassifier(\n",
    "    learning_rate=0.3, max_depth=5, n_estimators=1000, subsample=0.5, random_state=100\n",
    ")\n",
    "\n",
    "model.fit(X_train, y_train)"
   ]
  },
  {
   "cell_type": "markdown",
   "metadata": {
    "id": "7K8ajlgCzGEG"
   },
   "source": [
    "- 중요 변수"
   ]
  },
  {
   "cell_type": "code",
   "execution_count": 49,
   "metadata": {
    "id": "Gtgf7nNrzH70"
   },
   "outputs": [
    {
     "data": {
      "text/plain": [
       "array([0.038919  , 0.01267713, 0.01225787, 0.01050511, 0.01163761,\n",
       "       0.01353427, 0.00933271, 0.01493725, 0.01142371, 0.01449663,\n",
       "       0.0147713 , 0.04279777, 0.01034376, 0.01216397, 0.03188165,\n",
       "       0.01175237, 0.02284922, 0.01379388, 0.01223848, 0.0172476 ,\n",
       "       0.00816719, 0.01348241, 0.01095861, 0.02659101, 0.01436962,\n",
       "       0.01164547, 0.0322113 , 0.01552235, 0.01792656, 0.0112018 ,\n",
       "       0.01060445, 0.01817431, 0.05123057, 0.0214917 , 0.04232735,\n",
       "       0.01247919, 0.01064138, 0.00784212, 0.01521082, 0.01216283,\n",
       "       0.01189425, 0.01306549, 0.01088845, 0.00932857, 0.0105593 ,\n",
       "       0.0122491 , 0.01156548, 0.01200127, 0.01363443, 0.01050587,\n",
       "       0.01028389, 0.01061128, 0.02285919, 0.01164282, 0.0304599 ,\n",
       "       0.02732371, 0.01601311, 0.01338804, 0.02446358, 0.01346002],\n",
       "      dtype=float32)"
      ]
     },
     "execution_count": 49,
     "metadata": {},
     "output_type": "execute_result"
    }
   ],
   "source": [
    "model.feature_importances_"
   ]
  },
  {
   "cell_type": "code",
   "execution_count": 53,
   "metadata": {
    "id": "kXFG_HdGzKUC"
   },
   "outputs": [
    {
     "data": {
      "text/html": [
       "<div>\n",
       "<style scoped>\n",
       "    .dataframe tbody tr th:only-of-type {\n",
       "        vertical-align: middle;\n",
       "    }\n",
       "\n",
       "    .dataframe tbody tr th {\n",
       "        vertical-align: top;\n",
       "    }\n",
       "\n",
       "    .dataframe thead th {\n",
       "        text-align: right;\n",
       "    }\n",
       "</style>\n",
       "<table border=\"1\" class=\"dataframe\">\n",
       "  <thead>\n",
       "    <tr style=\"text-align: right;\">\n",
       "      <th></th>\n",
       "      <th>features</th>\n",
       "      <th>values</th>\n",
       "    </tr>\n",
       "  </thead>\n",
       "  <tbody>\n",
       "    <tr>\n",
       "      <th>32</th>\n",
       "      <td>like</td>\n",
       "      <td>0.051231</td>\n",
       "    </tr>\n",
       "    <tr>\n",
       "      <th>11</th>\n",
       "      <td>attractive_o</td>\n",
       "      <td>0.042798</td>\n",
       "    </tr>\n",
       "    <tr>\n",
       "      <th>34</th>\n",
       "      <td>met</td>\n",
       "      <td>0.042327</td>\n",
       "    </tr>\n",
       "    <tr>\n",
       "      <th>0</th>\n",
       "      <td>has_null</td>\n",
       "      <td>0.038919</td>\n",
       "    </tr>\n",
       "    <tr>\n",
       "      <th>26</th>\n",
       "      <td>funny_partner</td>\n",
       "      <td>0.032211</td>\n",
       "    </tr>\n",
       "    <tr>\n",
       "      <th>14</th>\n",
       "      <td>funny_o</td>\n",
       "      <td>0.031882</td>\n",
       "    </tr>\n",
       "    <tr>\n",
       "      <th>54</th>\n",
       "      <td>race_Latino/HispanicAmerican</td>\n",
       "      <td>0.030460</td>\n",
       "    </tr>\n",
       "    <tr>\n",
       "      <th>55</th>\n",
       "      <td>race_Other</td>\n",
       "      <td>0.027324</td>\n",
       "    </tr>\n",
       "    <tr>\n",
       "      <th>23</th>\n",
       "      <td>attractive_partner</td>\n",
       "      <td>0.026591</td>\n",
       "    </tr>\n",
       "    <tr>\n",
       "      <th>58</th>\n",
       "      <td>race_o_Latino/HispanicAmerican</td>\n",
       "      <td>0.024464</td>\n",
       "    </tr>\n",
       "    <tr>\n",
       "      <th>52</th>\n",
       "      <td>race_Black/AfricanAmerican</td>\n",
       "      <td>0.022859</td>\n",
       "    </tr>\n",
       "    <tr>\n",
       "      <th>16</th>\n",
       "      <td>shared_interests_o</td>\n",
       "      <td>0.022849</td>\n",
       "    </tr>\n",
       "    <tr>\n",
       "      <th>33</th>\n",
       "      <td>guess_prob_liked</td>\n",
       "      <td>0.021492</td>\n",
       "    </tr>\n",
       "    <tr>\n",
       "      <th>31</th>\n",
       "      <td>expected_num_interested_in_me</td>\n",
       "      <td>0.018174</td>\n",
       "    </tr>\n",
       "    <tr>\n",
       "      <th>28</th>\n",
       "      <td>shared_interests_partner</td>\n",
       "      <td>0.017927</td>\n",
       "    </tr>\n",
       "    <tr>\n",
       "      <th>19</th>\n",
       "      <td>intellicence_important</td>\n",
       "      <td>0.017248</td>\n",
       "    </tr>\n",
       "    <tr>\n",
       "      <th>56</th>\n",
       "      <td>race_o_Black/AfricanAmerican</td>\n",
       "      <td>0.016013</td>\n",
       "    </tr>\n",
       "    <tr>\n",
       "      <th>27</th>\n",
       "      <td>ambition_partner</td>\n",
       "      <td>0.015522</td>\n",
       "    </tr>\n",
       "    <tr>\n",
       "      <th>38</th>\n",
       "      <td>same_race_point</td>\n",
       "      <td>0.015211</td>\n",
       "    </tr>\n",
       "    <tr>\n",
       "      <th>7</th>\n",
       "      <td>pref_o_intelligence</td>\n",
       "      <td>0.014937</td>\n",
       "    </tr>\n",
       "    <tr>\n",
       "      <th>10</th>\n",
       "      <td>pref_o_shared_interests</td>\n",
       "      <td>0.014771</td>\n",
       "    </tr>\n",
       "    <tr>\n",
       "      <th>9</th>\n",
       "      <td>pref_o_ambitious</td>\n",
       "      <td>0.014497</td>\n",
       "    </tr>\n",
       "    <tr>\n",
       "      <th>24</th>\n",
       "      <td>sincere_partner</td>\n",
       "      <td>0.014370</td>\n",
       "    </tr>\n",
       "    <tr>\n",
       "      <th>17</th>\n",
       "      <td>attractive_important</td>\n",
       "      <td>0.013794</td>\n",
       "    </tr>\n",
       "    <tr>\n",
       "      <th>48</th>\n",
       "      <td>funny_me</td>\n",
       "      <td>0.013634</td>\n",
       "    </tr>\n",
       "    <tr>\n",
       "      <th>5</th>\n",
       "      <td>pref_o_attractive</td>\n",
       "      <td>0.013534</td>\n",
       "    </tr>\n",
       "    <tr>\n",
       "      <th>21</th>\n",
       "      <td>ambtition_important</td>\n",
       "      <td>0.013482</td>\n",
       "    </tr>\n",
       "    <tr>\n",
       "      <th>59</th>\n",
       "      <td>race_o_Other</td>\n",
       "      <td>0.013460</td>\n",
       "    </tr>\n",
       "    <tr>\n",
       "      <th>57</th>\n",
       "      <td>race_o_European/Caucasian-American</td>\n",
       "      <td>0.013388</td>\n",
       "    </tr>\n",
       "    <tr>\n",
       "      <th>41</th>\n",
       "      <td>intelligence_ptnr</td>\n",
       "      <td>0.013065</td>\n",
       "    </tr>\n",
       "    <tr>\n",
       "      <th>1</th>\n",
       "      <td>age</td>\n",
       "      <td>0.012677</td>\n",
       "    </tr>\n",
       "    <tr>\n",
       "      <th>35</th>\n",
       "      <td>age_gap</td>\n",
       "      <td>0.012479</td>\n",
       "    </tr>\n",
       "    <tr>\n",
       "      <th>2</th>\n",
       "      <td>age_o</td>\n",
       "      <td>0.012258</td>\n",
       "    </tr>\n",
       "    <tr>\n",
       "      <th>45</th>\n",
       "      <td>attractive_me</td>\n",
       "      <td>0.012249</td>\n",
       "    </tr>\n",
       "    <tr>\n",
       "      <th>18</th>\n",
       "      <td>sincere_important</td>\n",
       "      <td>0.012238</td>\n",
       "    </tr>\n",
       "    <tr>\n",
       "      <th>13</th>\n",
       "      <td>intelligence_o</td>\n",
       "      <td>0.012164</td>\n",
       "    </tr>\n",
       "    <tr>\n",
       "      <th>39</th>\n",
       "      <td>attractive_ptnr</td>\n",
       "      <td>0.012163</td>\n",
       "    </tr>\n",
       "    <tr>\n",
       "      <th>47</th>\n",
       "      <td>intelligence_me</td>\n",
       "      <td>0.012001</td>\n",
       "    </tr>\n",
       "    <tr>\n",
       "      <th>40</th>\n",
       "      <td>sincere_ptnr</td>\n",
       "      <td>0.011894</td>\n",
       "    </tr>\n",
       "    <tr>\n",
       "      <th>15</th>\n",
       "      <td>ambitous_o</td>\n",
       "      <td>0.011752</td>\n",
       "    </tr>\n",
       "    <tr>\n",
       "      <th>25</th>\n",
       "      <td>intelligence_partner</td>\n",
       "      <td>0.011645</td>\n",
       "    </tr>\n",
       "    <tr>\n",
       "      <th>53</th>\n",
       "      <td>race_European/Caucasian-American</td>\n",
       "      <td>0.011643</td>\n",
       "    </tr>\n",
       "    <tr>\n",
       "      <th>4</th>\n",
       "      <td>importance_same_religion</td>\n",
       "      <td>0.011638</td>\n",
       "    </tr>\n",
       "    <tr>\n",
       "      <th>46</th>\n",
       "      <td>sincere_me</td>\n",
       "      <td>0.011565</td>\n",
       "    </tr>\n",
       "    <tr>\n",
       "      <th>8</th>\n",
       "      <td>pref_o_funny</td>\n",
       "      <td>0.011424</td>\n",
       "    </tr>\n",
       "    <tr>\n",
       "      <th>29</th>\n",
       "      <td>interests_correlate</td>\n",
       "      <td>0.011202</td>\n",
       "    </tr>\n",
       "    <tr>\n",
       "      <th>22</th>\n",
       "      <td>shared_interests_important</td>\n",
       "      <td>0.010959</td>\n",
       "    </tr>\n",
       "    <tr>\n",
       "      <th>42</th>\n",
       "      <td>funny_ptnr</td>\n",
       "      <td>0.010888</td>\n",
       "    </tr>\n",
       "    <tr>\n",
       "      <th>36</th>\n",
       "      <td>age_gap_abs</td>\n",
       "      <td>0.010641</td>\n",
       "    </tr>\n",
       "    <tr>\n",
       "      <th>51</th>\n",
       "      <td>gender_male</td>\n",
       "      <td>0.010611</td>\n",
       "    </tr>\n",
       "    <tr>\n",
       "      <th>30</th>\n",
       "      <td>expected_happy_with_sd_people</td>\n",
       "      <td>0.010604</td>\n",
       "    </tr>\n",
       "    <tr>\n",
       "      <th>44</th>\n",
       "      <td>shared_ptnr</td>\n",
       "      <td>0.010559</td>\n",
       "    </tr>\n",
       "    <tr>\n",
       "      <th>49</th>\n",
       "      <td>ambition_me</td>\n",
       "      <td>0.010506</td>\n",
       "    </tr>\n",
       "    <tr>\n",
       "      <th>3</th>\n",
       "      <td>importance_same_race</td>\n",
       "      <td>0.010505</td>\n",
       "    </tr>\n",
       "    <tr>\n",
       "      <th>12</th>\n",
       "      <td>sincere_o</td>\n",
       "      <td>0.010344</td>\n",
       "    </tr>\n",
       "    <tr>\n",
       "      <th>50</th>\n",
       "      <td>shared_me</td>\n",
       "      <td>0.010284</td>\n",
       "    </tr>\n",
       "    <tr>\n",
       "      <th>6</th>\n",
       "      <td>pref_o_sincere</td>\n",
       "      <td>0.009333</td>\n",
       "    </tr>\n",
       "    <tr>\n",
       "      <th>43</th>\n",
       "      <td>ambition_ptnr</td>\n",
       "      <td>0.009329</td>\n",
       "    </tr>\n",
       "    <tr>\n",
       "      <th>20</th>\n",
       "      <td>funny_important</td>\n",
       "      <td>0.008167</td>\n",
       "    </tr>\n",
       "    <tr>\n",
       "      <th>37</th>\n",
       "      <td>same_race</td>\n",
       "      <td>0.007842</td>\n",
       "    </tr>\n",
       "  </tbody>\n",
       "</table>\n",
       "</div>"
      ],
      "text/plain": [
       "                              features   values\n",
       "32                                like 0.051231\n",
       "11                        attractive_o 0.042798\n",
       "34                                 met 0.042327\n",
       "0                             has_null 0.038919\n",
       "26                       funny_partner 0.032211\n",
       "14                             funny_o 0.031882\n",
       "54        race_Latino/HispanicAmerican 0.030460\n",
       "55                          race_Other 0.027324\n",
       "23                  attractive_partner 0.026591\n",
       "58      race_o_Latino/HispanicAmerican 0.024464\n",
       "52          race_Black/AfricanAmerican 0.022859\n",
       "16                  shared_interests_o 0.022849\n",
       "33                    guess_prob_liked 0.021492\n",
       "31       expected_num_interested_in_me 0.018174\n",
       "28            shared_interests_partner 0.017927\n",
       "19              intellicence_important 0.017248\n",
       "56        race_o_Black/AfricanAmerican 0.016013\n",
       "27                    ambition_partner 0.015522\n",
       "38                     same_race_point 0.015211\n",
       "7                  pref_o_intelligence 0.014937\n",
       "10             pref_o_shared_interests 0.014771\n",
       "9                     pref_o_ambitious 0.014497\n",
       "24                     sincere_partner 0.014370\n",
       "17                attractive_important 0.013794\n",
       "48                            funny_me 0.013634\n",
       "5                    pref_o_attractive 0.013534\n",
       "21                 ambtition_important 0.013482\n",
       "59                        race_o_Other 0.013460\n",
       "57  race_o_European/Caucasian-American 0.013388\n",
       "41                   intelligence_ptnr 0.013065\n",
       "1                                  age 0.012677\n",
       "35                             age_gap 0.012479\n",
       "2                                age_o 0.012258\n",
       "45                       attractive_me 0.012249\n",
       "18                   sincere_important 0.012238\n",
       "13                      intelligence_o 0.012164\n",
       "39                     attractive_ptnr 0.012163\n",
       "47                     intelligence_me 0.012001\n",
       "40                        sincere_ptnr 0.011894\n",
       "15                          ambitous_o 0.011752\n",
       "25                intelligence_partner 0.011645\n",
       "53    race_European/Caucasian-American 0.011643\n",
       "4             importance_same_religion 0.011638\n",
       "46                          sincere_me 0.011565\n",
       "8                         pref_o_funny 0.011424\n",
       "29                 interests_correlate 0.011202\n",
       "22          shared_interests_important 0.010959\n",
       "42                          funny_ptnr 0.010888\n",
       "36                         age_gap_abs 0.010641\n",
       "51                         gender_male 0.010611\n",
       "30       expected_happy_with_sd_people 0.010604\n",
       "44                         shared_ptnr 0.010559\n",
       "49                         ambition_me 0.010506\n",
       "3                 importance_same_race 0.010505\n",
       "12                           sincere_o 0.010344\n",
       "50                           shared_me 0.010284\n",
       "6                       pref_o_sincere 0.009333\n",
       "43                       ambition_ptnr 0.009329\n",
       "20                     funny_important 0.008167\n",
       "37                           same_race 0.007842"
      ]
     },
     "execution_count": 53,
     "metadata": {},
     "output_type": "execute_result"
    }
   ],
   "source": [
    "important_feature = pd.DataFrame({'features': X_train.columns, 'values': model.feature_importances_})\n",
    "\n",
    "pd.options.display.float_format = '{:.6f}'.format\n",
    "important_feature.sort_values(by='values', ascending=False)"
   ]
  },
  {
   "cell_type": "code",
   "execution_count": 54,
   "metadata": {
    "id": "JU81H3nezmCl"
   },
   "outputs": [
    {
     "data": {
      "text/plain": [
       "<Figure size 10000x20000 with 0 Axes>"
      ]
     },
     "metadata": {},
     "output_type": "display_data"
    },
    {
     "data": {
      "image/png": "[encoded data removed]",
      "text/plain": [
       "<Figure size 640x480 with 1 Axes>"
      ]
     },
     "metadata": {},
     "output_type": "display_data"
    }
   ],
   "source": [
    "plt.figure(figsize=(100, 200))\n",
    "\n",
    "important_feature.sort_values(by='values', ascending=True).plot(kind='bar')\n",
    "plt.show()"
   ]
  },
  {
   "cell_type": "code",
   "execution_count": 55,
   "metadata": {
    "id": "yn_oB9l_z5_0"
   },
   "outputs": [
    {
     "data": {
      "image/png": "[encoded data removed]",
      "text/plain": [
       "<Figure size 2000x1000 with 1 Axes>"
      ]
     },
     "metadata": {},
     "output_type": "display_data"
    }
   ],
   "source": [
    "plt.figure(figsize=(20, 10))\n",
    "sns.barplot(\n",
    "    x='values', y='features', data=important_feature.sort_values(by='values', ascending=False).head()\n",
    ")\n",
    "\n",
    "plt.show()"
   ]
  }
 ],
 "metadata": {
  "colab": {
   "authorship_tag": "ABX9TyN6z0BfrtzhOAHouUWPdenO",
   "include_colab_link": true,
   "provenance": []
  },
  "kernelspec": {
   "display_name": "Python 3 (ipykernel)",
   "language": "python",
   "name": "python3"
  },
  "language_info": {
   "codemirror_mode": {
    "name": "ipython",
    "version": 3
   },
   "file_extension": ".py",
   "mimetype": "text/x-python",
   "name": "python",
   "nbconvert_exporter": "python",
   "pygments_lexer": "ipython3",
   "version": "3.9.13"
  }
 },
 "nbformat": 4,
 "nbformat_minor": 1
}
