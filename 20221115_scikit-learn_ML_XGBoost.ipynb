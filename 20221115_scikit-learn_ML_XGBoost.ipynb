{
  "nbformat": 4,
  "nbformat_minor": 0,
  "metadata": {
    "colab": {
      "provenance": [],
      "authorship_tag": "ABX9TyN6z0BfrtzhOAHouUWPdenO",
      "include_colab_link": true
    },
    "kernelspec": {
      "name": "python3",
      "display_name": "Python 3"
    },
    "language_info": {
      "name": "python"
    }
  },
  "cells": [
    {
      "cell_type": "markdown",
      "metadata": {
        "id": "view-in-github",
        "colab_type": "text"
      },
      "source": [
        "<a href=\"https://colab.research.google.com/github/dev-EthanJ/scikit-learn_Machine_Learning/blob/main/20221115_scikit-learn_ML_XGBoost.ipynb\" target=\"_parent\"><img src=\"https://colab.research.google.com/assets/colab-badge.svg\" alt=\"Open In Colab\"/></a>"
      ]
    },
    {
      "cell_type": "markdown",
      "source": [
        "# scikit-learn Machine Learning XGBoost <br> 사이킷런 머신러닝 XGBoost"
      ],
      "metadata": {
        "id": "M4fsy2USoOVE"
      }
    },
    {
      "cell_type": "code",
      "source": [
        "import pandas as pd\n",
        "import numpy as np\n",
        "import matplotlib.pyplot as plt\n",
        "import seaborn as sns"
      ],
      "metadata": {
        "id": "QWwRw9uFKpKD"
      },
      "execution_count": 34,
      "outputs": []
    },
    {
      "cell_type": "markdown",
      "source": [
        "## Data Collection"
      ],
      "metadata": {
        "id": "JrDBy0cKxElc"
      }
    },
    {
      "cell_type": "code",
      "source": [
        "# https://www.kaggle.com/datasets/annavictoria/speed-dating-experiment\n",
        "\n",
        "file_url = 'https://raw.githubusercontent.com/dev-EthanJ/scikit-learn_Machine_Learning/main/data/'\n",
        "file_name = 'dating.csv'\n",
        "\n",
        "df = pd.read_csv(file_url + file_name)"
      ],
      "metadata": {
        "id": "0Cm23z0UOxJw"
      },
      "execution_count": 44,
      "outputs": []
    },
    {
      "cell_type": "code",
      "source": [
        "df.head()"
      ],
      "metadata": {
        "colab": {
          "base_uri": "https://localhost:8080/",
          "height": 357
        },
        "id": "aZkNFP-zwgQ9",
        "outputId": "0f7c0c51-d556-4fb6-f217-ee44e60f85c2"
      },
      "execution_count": 45,
      "outputs": [
        {
          "output_type": "execute_result",
          "data": {
            "text/plain": [
              "   has_null  gender   age  age_o                                  race  \\\n",
              "0         0  female 21.00  27.00  Asian/PacificIslander/Asian-American   \n",
              "1         0  female 21.00  22.00  Asian/PacificIslander/Asian-American   \n",
              "2         1  female 21.00  22.00  Asian/PacificIslander/Asian-American   \n",
              "3         0  female 21.00  23.00  Asian/PacificIslander/Asian-American   \n",
              "4         0  female 21.00  24.00  Asian/PacificIslander/Asian-American   \n",
              "\n",
              "                                 race_o  importance_same_race  \\\n",
              "0           European/Caucasian-American                  2.00   \n",
              "1           European/Caucasian-American                  2.00   \n",
              "2  Asian/PacificIslander/Asian-American                  2.00   \n",
              "3           European/Caucasian-American                  2.00   \n",
              "4               Latino/HispanicAmerican                  2.00   \n",
              "\n",
              "   importance_same_religion  pref_o_attractive  pref_o_sincere  \\\n",
              "0                      4.00              35.00           20.00   \n",
              "1                      4.00              60.00            0.00   \n",
              "2                      4.00              19.00           18.00   \n",
              "3                      4.00              30.00            5.00   \n",
              "4                      4.00              30.00           10.00   \n",
              "\n",
              "   pref_o_intelligence  pref_o_funny  pref_o_ambitious  \\\n",
              "0                20.00         20.00              0.00   \n",
              "1                 0.00         40.00              0.00   \n",
              "2                19.00         18.00             14.00   \n",
              "3                15.00         40.00              5.00   \n",
              "4                20.00         10.00             10.00   \n",
              "\n",
              "   pref_o_shared_interests  attractive_o  sincere_o  intelligence_o  funny_o  \\\n",
              "0                     5.00          6.00       8.00            8.00     8.00   \n",
              "1                     0.00          7.00       8.00           10.00     7.00   \n",
              "2                    12.00         10.00      10.00           10.00    10.00   \n",
              "3                     5.00          7.00       8.00            9.00     8.00   \n",
              "4                    20.00          8.00       7.00            9.00     6.00   \n",
              "\n",
              "   ambitous_o  shared_interests_o  attractive_important  sincere_important  \\\n",
              "0        8.00                6.00                 15.00              20.00   \n",
              "1        7.00                5.00                 15.00              20.00   \n",
              "2       10.00               10.00                 15.00              20.00   \n",
              "3        9.00                8.00                 15.00              20.00   \n",
              "4        9.00                7.00                 15.00              20.00   \n",
              "\n",
              "   intellicence_important  funny_important  ambtition_important  \\\n",
              "0                   20.00            15.00                15.00   \n",
              "1                   20.00            15.00                15.00   \n",
              "2                   20.00            15.00                15.00   \n",
              "3                   20.00            15.00                15.00   \n",
              "4                   20.00            15.00                15.00   \n",
              "\n",
              "   shared_interests_important  attractive_partner  sincere_partner  \\\n",
              "0                       15.00                6.00             9.00   \n",
              "1                       15.00                7.00             8.00   \n",
              "2                       15.00                5.00             8.00   \n",
              "3                       15.00                7.00             6.00   \n",
              "4                       15.00                5.00             6.00   \n",
              "\n",
              "   intelligence_partner  funny_partner  ambition_partner  \\\n",
              "0                  7.00           7.00              6.00   \n",
              "1                  7.00           8.00              5.00   \n",
              "2                  9.00           8.00              5.00   \n",
              "3                  8.00           7.00              6.00   \n",
              "4                  7.00           7.00              6.00   \n",
              "\n",
              "   shared_interests_partner  interests_correlate  \\\n",
              "0                      5.00                 0.14   \n",
              "1                      6.00                 0.54   \n",
              "2                      7.00                 0.16   \n",
              "3                      8.00                 0.61   \n",
              "4                      6.00                 0.21   \n",
              "\n",
              "   expected_happy_with_sd_people  expected_num_interested_in_me  like  \\\n",
              "0                           3.00                           2.00  7.00   \n",
              "1                           3.00                           2.00  7.00   \n",
              "2                           3.00                           2.00  7.00   \n",
              "3                           3.00                           2.00  7.00   \n",
              "4                           3.00                           2.00  6.00   \n",
              "\n",
              "   guess_prob_liked  met  match  \n",
              "0              6.00 0.00      0  \n",
              "1              5.00 1.00      0  \n",
              "2               NaN 1.00      1  \n",
              "3              6.00 0.00      1  \n",
              "4              6.00 0.00      1  "
            ],
            "text/html": [
              "\n",
              "  <div id=\"df-5faa5c23-047d-416e-a3e9-ee0924fcecc1\">\n",
              "    <div class=\"colab-df-container\">\n",
              "      <div>\n",
              "<style scoped>\n",
              "    .dataframe tbody tr th:only-of-type {\n",
              "        vertical-align: middle;\n",
              "    }\n",
              "\n",
              "    .dataframe tbody tr th {\n",
              "        vertical-align: top;\n",
              "    }\n",
              "\n",
              "    .dataframe thead th {\n",
              "        text-align: right;\n",
              "    }\n",
              "</style>\n",
              "<table border=\"1\" class=\"dataframe\">\n",
              "  <thead>\n",
              "    <tr style=\"text-align: right;\">\n",
              "      <th></th>\n",
              "      <th>has_null</th>\n",
              "      <th>gender</th>\n",
              "      <th>age</th>\n",
              "      <th>age_o</th>\n",
              "      <th>race</th>\n",
              "      <th>race_o</th>\n",
              "      <th>importance_same_race</th>\n",
              "      <th>importance_same_religion</th>\n",
              "      <th>pref_o_attractive</th>\n",
              "      <th>pref_o_sincere</th>\n",
              "      <th>pref_o_intelligence</th>\n",
              "      <th>pref_o_funny</th>\n",
              "      <th>pref_o_ambitious</th>\n",
              "      <th>pref_o_shared_interests</th>\n",
              "      <th>attractive_o</th>\n",
              "      <th>sincere_o</th>\n",
              "      <th>intelligence_o</th>\n",
              "      <th>funny_o</th>\n",
              "      <th>ambitous_o</th>\n",
              "      <th>shared_interests_o</th>\n",
              "      <th>attractive_important</th>\n",
              "      <th>sincere_important</th>\n",
              "      <th>intellicence_important</th>\n",
              "      <th>funny_important</th>\n",
              "      <th>ambtition_important</th>\n",
              "      <th>shared_interests_important</th>\n",
              "      <th>attractive_partner</th>\n",
              "      <th>sincere_partner</th>\n",
              "      <th>intelligence_partner</th>\n",
              "      <th>funny_partner</th>\n",
              "      <th>ambition_partner</th>\n",
              "      <th>shared_interests_partner</th>\n",
              "      <th>interests_correlate</th>\n",
              "      <th>expected_happy_with_sd_people</th>\n",
              "      <th>expected_num_interested_in_me</th>\n",
              "      <th>like</th>\n",
              "      <th>guess_prob_liked</th>\n",
              "      <th>met</th>\n",
              "      <th>match</th>\n",
              "    </tr>\n",
              "  </thead>\n",
              "  <tbody>\n",
              "    <tr>\n",
              "      <th>0</th>\n",
              "      <td>0</td>\n",
              "      <td>female</td>\n",
              "      <td>21.00</td>\n",
              "      <td>27.00</td>\n",
              "      <td>Asian/PacificIslander/Asian-American</td>\n",
              "      <td>European/Caucasian-American</td>\n",
              "      <td>2.00</td>\n",
              "      <td>4.00</td>\n",
              "      <td>35.00</td>\n",
              "      <td>20.00</td>\n",
              "      <td>20.00</td>\n",
              "      <td>20.00</td>\n",
              "      <td>0.00</td>\n",
              "      <td>5.00</td>\n",
              "      <td>6.00</td>\n",
              "      <td>8.00</td>\n",
              "      <td>8.00</td>\n",
              "      <td>8.00</td>\n",
              "      <td>8.00</td>\n",
              "      <td>6.00</td>\n",
              "      <td>15.00</td>\n",
              "      <td>20.00</td>\n",
              "      <td>20.00</td>\n",
              "      <td>15.00</td>\n",
              "      <td>15.00</td>\n",
              "      <td>15.00</td>\n",
              "      <td>6.00</td>\n",
              "      <td>9.00</td>\n",
              "      <td>7.00</td>\n",
              "      <td>7.00</td>\n",
              "      <td>6.00</td>\n",
              "      <td>5.00</td>\n",
              "      <td>0.14</td>\n",
              "      <td>3.00</td>\n",
              "      <td>2.00</td>\n",
              "      <td>7.00</td>\n",
              "      <td>6.00</td>\n",
              "      <td>0.00</td>\n",
              "      <td>0</td>\n",
              "    </tr>\n",
              "    <tr>\n",
              "      <th>1</th>\n",
              "      <td>0</td>\n",
              "      <td>female</td>\n",
              "      <td>21.00</td>\n",
              "      <td>22.00</td>\n",
              "      <td>Asian/PacificIslander/Asian-American</td>\n",
              "      <td>European/Caucasian-American</td>\n",
              "      <td>2.00</td>\n",
              "      <td>4.00</td>\n",
              "      <td>60.00</td>\n",
              "      <td>0.00</td>\n",
              "      <td>0.00</td>\n",
              "      <td>40.00</td>\n",
              "      <td>0.00</td>\n",
              "      <td>0.00</td>\n",
              "      <td>7.00</td>\n",
              "      <td>8.00</td>\n",
              "      <td>10.00</td>\n",
              "      <td>7.00</td>\n",
              "      <td>7.00</td>\n",
              "      <td>5.00</td>\n",
              "      <td>15.00</td>\n",
              "      <td>20.00</td>\n",
              "      <td>20.00</td>\n",
              "      <td>15.00</td>\n",
              "      <td>15.00</td>\n",
              "      <td>15.00</td>\n",
              "      <td>7.00</td>\n",
              "      <td>8.00</td>\n",
              "      <td>7.00</td>\n",
              "      <td>8.00</td>\n",
              "      <td>5.00</td>\n",
              "      <td>6.00</td>\n",
              "      <td>0.54</td>\n",
              "      <td>3.00</td>\n",
              "      <td>2.00</td>\n",
              "      <td>7.00</td>\n",
              "      <td>5.00</td>\n",
              "      <td>1.00</td>\n",
              "      <td>0</td>\n",
              "    </tr>\n",
              "    <tr>\n",
              "      <th>2</th>\n",
              "      <td>1</td>\n",
              "      <td>female</td>\n",
              "      <td>21.00</td>\n",
              "      <td>22.00</td>\n",
              "      <td>Asian/PacificIslander/Asian-American</td>\n",
              "      <td>Asian/PacificIslander/Asian-American</td>\n",
              "      <td>2.00</td>\n",
              "      <td>4.00</td>\n",
              "      <td>19.00</td>\n",
              "      <td>18.00</td>\n",
              "      <td>19.00</td>\n",
              "      <td>18.00</td>\n",
              "      <td>14.00</td>\n",
              "      <td>12.00</td>\n",
              "      <td>10.00</td>\n",
              "      <td>10.00</td>\n",
              "      <td>10.00</td>\n",
              "      <td>10.00</td>\n",
              "      <td>10.00</td>\n",
              "      <td>10.00</td>\n",
              "      <td>15.00</td>\n",
              "      <td>20.00</td>\n",
              "      <td>20.00</td>\n",
              "      <td>15.00</td>\n",
              "      <td>15.00</td>\n",
              "      <td>15.00</td>\n",
              "      <td>5.00</td>\n",
              "      <td>8.00</td>\n",
              "      <td>9.00</td>\n",
              "      <td>8.00</td>\n",
              "      <td>5.00</td>\n",
              "      <td>7.00</td>\n",
              "      <td>0.16</td>\n",
              "      <td>3.00</td>\n",
              "      <td>2.00</td>\n",
              "      <td>7.00</td>\n",
              "      <td>NaN</td>\n",
              "      <td>1.00</td>\n",
              "      <td>1</td>\n",
              "    </tr>\n",
              "    <tr>\n",
              "      <th>3</th>\n",
              "      <td>0</td>\n",
              "      <td>female</td>\n",
              "      <td>21.00</td>\n",
              "      <td>23.00</td>\n",
              "      <td>Asian/PacificIslander/Asian-American</td>\n",
              "      <td>European/Caucasian-American</td>\n",
              "      <td>2.00</td>\n",
              "      <td>4.00</td>\n",
              "      <td>30.00</td>\n",
              "      <td>5.00</td>\n",
              "      <td>15.00</td>\n",
              "      <td>40.00</td>\n",
              "      <td>5.00</td>\n",
              "      <td>5.00</td>\n",
              "      <td>7.00</td>\n",
              "      <td>8.00</td>\n",
              "      <td>9.00</td>\n",
              "      <td>8.00</td>\n",
              "      <td>9.00</td>\n",
              "      <td>8.00</td>\n",
              "      <td>15.00</td>\n",
              "      <td>20.00</td>\n",
              "      <td>20.00</td>\n",
              "      <td>15.00</td>\n",
              "      <td>15.00</td>\n",
              "      <td>15.00</td>\n",
              "      <td>7.00</td>\n",
              "      <td>6.00</td>\n",
              "      <td>8.00</td>\n",
              "      <td>7.00</td>\n",
              "      <td>6.00</td>\n",
              "      <td>8.00</td>\n",
              "      <td>0.61</td>\n",
              "      <td>3.00</td>\n",
              "      <td>2.00</td>\n",
              "      <td>7.00</td>\n",
              "      <td>6.00</td>\n",
              "      <td>0.00</td>\n",
              "      <td>1</td>\n",
              "    </tr>\n",
              "    <tr>\n",
              "      <th>4</th>\n",
              "      <td>0</td>\n",
              "      <td>female</td>\n",
              "      <td>21.00</td>\n",
              "      <td>24.00</td>\n",
              "      <td>Asian/PacificIslander/Asian-American</td>\n",
              "      <td>Latino/HispanicAmerican</td>\n",
              "      <td>2.00</td>\n",
              "      <td>4.00</td>\n",
              "      <td>30.00</td>\n",
              "      <td>10.00</td>\n",
              "      <td>20.00</td>\n",
              "      <td>10.00</td>\n",
              "      <td>10.00</td>\n",
              "      <td>20.00</td>\n",
              "      <td>8.00</td>\n",
              "      <td>7.00</td>\n",
              "      <td>9.00</td>\n",
              "      <td>6.00</td>\n",
              "      <td>9.00</td>\n",
              "      <td>7.00</td>\n",
              "      <td>15.00</td>\n",
              "      <td>20.00</td>\n",
              "      <td>20.00</td>\n",
              "      <td>15.00</td>\n",
              "      <td>15.00</td>\n",
              "      <td>15.00</td>\n",
              "      <td>5.00</td>\n",
              "      <td>6.00</td>\n",
              "      <td>7.00</td>\n",
              "      <td>7.00</td>\n",
              "      <td>6.00</td>\n",
              "      <td>6.00</td>\n",
              "      <td>0.21</td>\n",
              "      <td>3.00</td>\n",
              "      <td>2.00</td>\n",
              "      <td>6.00</td>\n",
              "      <td>6.00</td>\n",
              "      <td>0.00</td>\n",
              "      <td>1</td>\n",
              "    </tr>\n",
              "  </tbody>\n",
              "</table>\n",
              "</div>\n",
              "      <button class=\"colab-df-convert\" onclick=\"convertToInteractive('df-5faa5c23-047d-416e-a3e9-ee0924fcecc1')\"\n",
              "              title=\"Convert this dataframe to an interactive table.\"\n",
              "              style=\"display:none;\">\n",
              "        \n",
              "  <svg xmlns=\"http://www.w3.org/2000/svg\" height=\"24px\"viewBox=\"0 0 24 24\"\n",
              "       width=\"24px\">\n",
              "    <path d=\"M0 0h24v24H0V0z\" fill=\"none\"/>\n",
              "    <path d=\"M18.56 5.44l.94 2.06.94-2.06 2.06-.94-2.06-.94-.94-2.06-.94 2.06-2.06.94zm-11 1L8.5 8.5l.94-2.06 2.06-.94-2.06-.94L8.5 2.5l-.94 2.06-2.06.94zm10 10l.94 2.06.94-2.06 2.06-.94-2.06-.94-.94-2.06-.94 2.06-2.06.94z\"/><path d=\"M17.41 7.96l-1.37-1.37c-.4-.4-.92-.59-1.43-.59-.52 0-1.04.2-1.43.59L10.3 9.45l-7.72 7.72c-.78.78-.78 2.05 0 2.83L4 21.41c.39.39.9.59 1.41.59.51 0 1.02-.2 1.41-.59l7.78-7.78 2.81-2.81c.8-.78.8-2.07 0-2.86zM5.41 20L4 18.59l7.72-7.72 1.47 1.35L5.41 20z\"/>\n",
              "  </svg>\n",
              "      </button>\n",
              "      \n",
              "  <style>\n",
              "    .colab-df-container {\n",
              "      display:flex;\n",
              "      flex-wrap:wrap;\n",
              "      gap: 12px;\n",
              "    }\n",
              "\n",
              "    .colab-df-convert {\n",
              "      background-color: #E8F0FE;\n",
              "      border: none;\n",
              "      border-radius: 50%;\n",
              "      cursor: pointer;\n",
              "      display: none;\n",
              "      fill: #1967D2;\n",
              "      height: 32px;\n",
              "      padding: 0 0 0 0;\n",
              "      width: 32px;\n",
              "    }\n",
              "\n",
              "    .colab-df-convert:hover {\n",
              "      background-color: #E2EBFA;\n",
              "      box-shadow: 0px 1px 2px rgba(60, 64, 67, 0.3), 0px 1px 3px 1px rgba(60, 64, 67, 0.15);\n",
              "      fill: #174EA6;\n",
              "    }\n",
              "\n",
              "    [theme=dark] .colab-df-convert {\n",
              "      background-color: #3B4455;\n",
              "      fill: #D2E3FC;\n",
              "    }\n",
              "\n",
              "    [theme=dark] .colab-df-convert:hover {\n",
              "      background-color: #434B5C;\n",
              "      box-shadow: 0px 1px 3px 1px rgba(0, 0, 0, 0.15);\n",
              "      filter: drop-shadow(0px 1px 2px rgba(0, 0, 0, 0.3));\n",
              "      fill: #FFFFFF;\n",
              "    }\n",
              "  </style>\n",
              "\n",
              "      <script>\n",
              "        const buttonEl =\n",
              "          document.querySelector('#df-5faa5c23-047d-416e-a3e9-ee0924fcecc1 button.colab-df-convert');\n",
              "        buttonEl.style.display =\n",
              "          google.colab.kernel.accessAllowed ? 'block' : 'none';\n",
              "\n",
              "        async function convertToInteractive(key) {\n",
              "          const element = document.querySelector('#df-5faa5c23-047d-416e-a3e9-ee0924fcecc1');\n",
              "          const dataTable =\n",
              "            await google.colab.kernel.invokeFunction('convertToInteractive',\n",
              "                                                     [key], {});\n",
              "          if (!dataTable) return;\n",
              "\n",
              "          const docLinkHtml = 'Like what you see? Visit the ' +\n",
              "            '<a target=\"_blank\" href=https://colab.research.google.com/notebooks/data_table.ipynb>data table notebook</a>'\n",
              "            + ' to learn more about interactive tables.';\n",
              "          element.innerHTML = '';\n",
              "          dataTable['output_type'] = 'display_data';\n",
              "          await google.colab.output.renderOutput(dataTable, element);\n",
              "          const docLink = document.createElement('div');\n",
              "          docLink.innerHTML = docLinkHtml;\n",
              "          element.appendChild(docLink);\n",
              "        }\n",
              "      </script>\n",
              "    </div>\n",
              "  </div>\n",
              "  "
            ]
          },
          "metadata": {},
          "execution_count": 45
        }
      ]
    },
    {
      "cell_type": "code",
      "source": [
        "pd.options.display.max_columns = len(df.columns)\n",
        "\n",
        "df.head()"
      ],
      "metadata": {
        "colab": {
          "base_uri": "https://localhost:8080/",
          "height": 357
        },
        "id": "JQrf6670xDd1",
        "outputId": "849571c3-1436-4729-dc7b-e51c8bea3058"
      },
      "execution_count": 46,
      "outputs": [
        {
          "output_type": "execute_result",
          "data": {
            "text/plain": [
              "   has_null  gender   age  age_o                                  race  \\\n",
              "0         0  female 21.00  27.00  Asian/PacificIslander/Asian-American   \n",
              "1         0  female 21.00  22.00  Asian/PacificIslander/Asian-American   \n",
              "2         1  female 21.00  22.00  Asian/PacificIslander/Asian-American   \n",
              "3         0  female 21.00  23.00  Asian/PacificIslander/Asian-American   \n",
              "4         0  female 21.00  24.00  Asian/PacificIslander/Asian-American   \n",
              "\n",
              "                                 race_o  importance_same_race  \\\n",
              "0           European/Caucasian-American                  2.00   \n",
              "1           European/Caucasian-American                  2.00   \n",
              "2  Asian/PacificIslander/Asian-American                  2.00   \n",
              "3           European/Caucasian-American                  2.00   \n",
              "4               Latino/HispanicAmerican                  2.00   \n",
              "\n",
              "   importance_same_religion  pref_o_attractive  pref_o_sincere  \\\n",
              "0                      4.00              35.00           20.00   \n",
              "1                      4.00              60.00            0.00   \n",
              "2                      4.00              19.00           18.00   \n",
              "3                      4.00              30.00            5.00   \n",
              "4                      4.00              30.00           10.00   \n",
              "\n",
              "   pref_o_intelligence  pref_o_funny  pref_o_ambitious  \\\n",
              "0                20.00         20.00              0.00   \n",
              "1                 0.00         40.00              0.00   \n",
              "2                19.00         18.00             14.00   \n",
              "3                15.00         40.00              5.00   \n",
              "4                20.00         10.00             10.00   \n",
              "\n",
              "   pref_o_shared_interests  attractive_o  sincere_o  intelligence_o  funny_o  \\\n",
              "0                     5.00          6.00       8.00            8.00     8.00   \n",
              "1                     0.00          7.00       8.00           10.00     7.00   \n",
              "2                    12.00         10.00      10.00           10.00    10.00   \n",
              "3                     5.00          7.00       8.00            9.00     8.00   \n",
              "4                    20.00          8.00       7.00            9.00     6.00   \n",
              "\n",
              "   ambitous_o  shared_interests_o  attractive_important  sincere_important  \\\n",
              "0        8.00                6.00                 15.00              20.00   \n",
              "1        7.00                5.00                 15.00              20.00   \n",
              "2       10.00               10.00                 15.00              20.00   \n",
              "3        9.00                8.00                 15.00              20.00   \n",
              "4        9.00                7.00                 15.00              20.00   \n",
              "\n",
              "   intellicence_important  funny_important  ambtition_important  \\\n",
              "0                   20.00            15.00                15.00   \n",
              "1                   20.00            15.00                15.00   \n",
              "2                   20.00            15.00                15.00   \n",
              "3                   20.00            15.00                15.00   \n",
              "4                   20.00            15.00                15.00   \n",
              "\n",
              "   shared_interests_important  attractive_partner  sincere_partner  \\\n",
              "0                       15.00                6.00             9.00   \n",
              "1                       15.00                7.00             8.00   \n",
              "2                       15.00                5.00             8.00   \n",
              "3                       15.00                7.00             6.00   \n",
              "4                       15.00                5.00             6.00   \n",
              "\n",
              "   intelligence_partner  funny_partner  ambition_partner  \\\n",
              "0                  7.00           7.00              6.00   \n",
              "1                  7.00           8.00              5.00   \n",
              "2                  9.00           8.00              5.00   \n",
              "3                  8.00           7.00              6.00   \n",
              "4                  7.00           7.00              6.00   \n",
              "\n",
              "   shared_interests_partner  interests_correlate  \\\n",
              "0                      5.00                 0.14   \n",
              "1                      6.00                 0.54   \n",
              "2                      7.00                 0.16   \n",
              "3                      8.00                 0.61   \n",
              "4                      6.00                 0.21   \n",
              "\n",
              "   expected_happy_with_sd_people  expected_num_interested_in_me  like  \\\n",
              "0                           3.00                           2.00  7.00   \n",
              "1                           3.00                           2.00  7.00   \n",
              "2                           3.00                           2.00  7.00   \n",
              "3                           3.00                           2.00  7.00   \n",
              "4                           3.00                           2.00  6.00   \n",
              "\n",
              "   guess_prob_liked  met  match  \n",
              "0              6.00 0.00      0  \n",
              "1              5.00 1.00      0  \n",
              "2               NaN 1.00      1  \n",
              "3              6.00 0.00      1  \n",
              "4              6.00 0.00      1  "
            ],
            "text/html": [
              "\n",
              "  <div id=\"df-0b058b41-5ff2-4ff1-b3d6-c7e1b291572b\">\n",
              "    <div class=\"colab-df-container\">\n",
              "      <div>\n",
              "<style scoped>\n",
              "    .dataframe tbody tr th:only-of-type {\n",
              "        vertical-align: middle;\n",
              "    }\n",
              "\n",
              "    .dataframe tbody tr th {\n",
              "        vertical-align: top;\n",
              "    }\n",
              "\n",
              "    .dataframe thead th {\n",
              "        text-align: right;\n",
              "    }\n",
              "</style>\n",
              "<table border=\"1\" class=\"dataframe\">\n",
              "  <thead>\n",
              "    <tr style=\"text-align: right;\">\n",
              "      <th></th>\n",
              "      <th>has_null</th>\n",
              "      <th>gender</th>\n",
              "      <th>age</th>\n",
              "      <th>age_o</th>\n",
              "      <th>race</th>\n",
              "      <th>race_o</th>\n",
              "      <th>importance_same_race</th>\n",
              "      <th>importance_same_religion</th>\n",
              "      <th>pref_o_attractive</th>\n",
              "      <th>pref_o_sincere</th>\n",
              "      <th>pref_o_intelligence</th>\n",
              "      <th>pref_o_funny</th>\n",
              "      <th>pref_o_ambitious</th>\n",
              "      <th>pref_o_shared_interests</th>\n",
              "      <th>attractive_o</th>\n",
              "      <th>sincere_o</th>\n",
              "      <th>intelligence_o</th>\n",
              "      <th>funny_o</th>\n",
              "      <th>ambitous_o</th>\n",
              "      <th>shared_interests_o</th>\n",
              "      <th>attractive_important</th>\n",
              "      <th>sincere_important</th>\n",
              "      <th>intellicence_important</th>\n",
              "      <th>funny_important</th>\n",
              "      <th>ambtition_important</th>\n",
              "      <th>shared_interests_important</th>\n",
              "      <th>attractive_partner</th>\n",
              "      <th>sincere_partner</th>\n",
              "      <th>intelligence_partner</th>\n",
              "      <th>funny_partner</th>\n",
              "      <th>ambition_partner</th>\n",
              "      <th>shared_interests_partner</th>\n",
              "      <th>interests_correlate</th>\n",
              "      <th>expected_happy_with_sd_people</th>\n",
              "      <th>expected_num_interested_in_me</th>\n",
              "      <th>like</th>\n",
              "      <th>guess_prob_liked</th>\n",
              "      <th>met</th>\n",
              "      <th>match</th>\n",
              "    </tr>\n",
              "  </thead>\n",
              "  <tbody>\n",
              "    <tr>\n",
              "      <th>0</th>\n",
              "      <td>0</td>\n",
              "      <td>female</td>\n",
              "      <td>21.00</td>\n",
              "      <td>27.00</td>\n",
              "      <td>Asian/PacificIslander/Asian-American</td>\n",
              "      <td>European/Caucasian-American</td>\n",
              "      <td>2.00</td>\n",
              "      <td>4.00</td>\n",
              "      <td>35.00</td>\n",
              "      <td>20.00</td>\n",
              "      <td>20.00</td>\n",
              "      <td>20.00</td>\n",
              "      <td>0.00</td>\n",
              "      <td>5.00</td>\n",
              "      <td>6.00</td>\n",
              "      <td>8.00</td>\n",
              "      <td>8.00</td>\n",
              "      <td>8.00</td>\n",
              "      <td>8.00</td>\n",
              "      <td>6.00</td>\n",
              "      <td>15.00</td>\n",
              "      <td>20.00</td>\n",
              "      <td>20.00</td>\n",
              "      <td>15.00</td>\n",
              "      <td>15.00</td>\n",
              "      <td>15.00</td>\n",
              "      <td>6.00</td>\n",
              "      <td>9.00</td>\n",
              "      <td>7.00</td>\n",
              "      <td>7.00</td>\n",
              "      <td>6.00</td>\n",
              "      <td>5.00</td>\n",
              "      <td>0.14</td>\n",
              "      <td>3.00</td>\n",
              "      <td>2.00</td>\n",
              "      <td>7.00</td>\n",
              "      <td>6.00</td>\n",
              "      <td>0.00</td>\n",
              "      <td>0</td>\n",
              "    </tr>\n",
              "    <tr>\n",
              "      <th>1</th>\n",
              "      <td>0</td>\n",
              "      <td>female</td>\n",
              "      <td>21.00</td>\n",
              "      <td>22.00</td>\n",
              "      <td>Asian/PacificIslander/Asian-American</td>\n",
              "      <td>European/Caucasian-American</td>\n",
              "      <td>2.00</td>\n",
              "      <td>4.00</td>\n",
              "      <td>60.00</td>\n",
              "      <td>0.00</td>\n",
              "      <td>0.00</td>\n",
              "      <td>40.00</td>\n",
              "      <td>0.00</td>\n",
              "      <td>0.00</td>\n",
              "      <td>7.00</td>\n",
              "      <td>8.00</td>\n",
              "      <td>10.00</td>\n",
              "      <td>7.00</td>\n",
              "      <td>7.00</td>\n",
              "      <td>5.00</td>\n",
              "      <td>15.00</td>\n",
              "      <td>20.00</td>\n",
              "      <td>20.00</td>\n",
              "      <td>15.00</td>\n",
              "      <td>15.00</td>\n",
              "      <td>15.00</td>\n",
              "      <td>7.00</td>\n",
              "      <td>8.00</td>\n",
              "      <td>7.00</td>\n",
              "      <td>8.00</td>\n",
              "      <td>5.00</td>\n",
              "      <td>6.00</td>\n",
              "      <td>0.54</td>\n",
              "      <td>3.00</td>\n",
              "      <td>2.00</td>\n",
              "      <td>7.00</td>\n",
              "      <td>5.00</td>\n",
              "      <td>1.00</td>\n",
              "      <td>0</td>\n",
              "    </tr>\n",
              "    <tr>\n",
              "      <th>2</th>\n",
              "      <td>1</td>\n",
              "      <td>female</td>\n",
              "      <td>21.00</td>\n",
              "      <td>22.00</td>\n",
              "      <td>Asian/PacificIslander/Asian-American</td>\n",
              "      <td>Asian/PacificIslander/Asian-American</td>\n",
              "      <td>2.00</td>\n",
              "      <td>4.00</td>\n",
              "      <td>19.00</td>\n",
              "      <td>18.00</td>\n",
              "      <td>19.00</td>\n",
              "      <td>18.00</td>\n",
              "      <td>14.00</td>\n",
              "      <td>12.00</td>\n",
              "      <td>10.00</td>\n",
              "      <td>10.00</td>\n",
              "      <td>10.00</td>\n",
              "      <td>10.00</td>\n",
              "      <td>10.00</td>\n",
              "      <td>10.00</td>\n",
              "      <td>15.00</td>\n",
              "      <td>20.00</td>\n",
              "      <td>20.00</td>\n",
              "      <td>15.00</td>\n",
              "      <td>15.00</td>\n",
              "      <td>15.00</td>\n",
              "      <td>5.00</td>\n",
              "      <td>8.00</td>\n",
              "      <td>9.00</td>\n",
              "      <td>8.00</td>\n",
              "      <td>5.00</td>\n",
              "      <td>7.00</td>\n",
              "      <td>0.16</td>\n",
              "      <td>3.00</td>\n",
              "      <td>2.00</td>\n",
              "      <td>7.00</td>\n",
              "      <td>NaN</td>\n",
              "      <td>1.00</td>\n",
              "      <td>1</td>\n",
              "    </tr>\n",
              "    <tr>\n",
              "      <th>3</th>\n",
              "      <td>0</td>\n",
              "      <td>female</td>\n",
              "      <td>21.00</td>\n",
              "      <td>23.00</td>\n",
              "      <td>Asian/PacificIslander/Asian-American</td>\n",
              "      <td>European/Caucasian-American</td>\n",
              "      <td>2.00</td>\n",
              "      <td>4.00</td>\n",
              "      <td>30.00</td>\n",
              "      <td>5.00</td>\n",
              "      <td>15.00</td>\n",
              "      <td>40.00</td>\n",
              "      <td>5.00</td>\n",
              "      <td>5.00</td>\n",
              "      <td>7.00</td>\n",
              "      <td>8.00</td>\n",
              "      <td>9.00</td>\n",
              "      <td>8.00</td>\n",
              "      <td>9.00</td>\n",
              "      <td>8.00</td>\n",
              "      <td>15.00</td>\n",
              "      <td>20.00</td>\n",
              "      <td>20.00</td>\n",
              "      <td>15.00</td>\n",
              "      <td>15.00</td>\n",
              "      <td>15.00</td>\n",
              "      <td>7.00</td>\n",
              "      <td>6.00</td>\n",
              "      <td>8.00</td>\n",
              "      <td>7.00</td>\n",
              "      <td>6.00</td>\n",
              "      <td>8.00</td>\n",
              "      <td>0.61</td>\n",
              "      <td>3.00</td>\n",
              "      <td>2.00</td>\n",
              "      <td>7.00</td>\n",
              "      <td>6.00</td>\n",
              "      <td>0.00</td>\n",
              "      <td>1</td>\n",
              "    </tr>\n",
              "    <tr>\n",
              "      <th>4</th>\n",
              "      <td>0</td>\n",
              "      <td>female</td>\n",
              "      <td>21.00</td>\n",
              "      <td>24.00</td>\n",
              "      <td>Asian/PacificIslander/Asian-American</td>\n",
              "      <td>Latino/HispanicAmerican</td>\n",
              "      <td>2.00</td>\n",
              "      <td>4.00</td>\n",
              "      <td>30.00</td>\n",
              "      <td>10.00</td>\n",
              "      <td>20.00</td>\n",
              "      <td>10.00</td>\n",
              "      <td>10.00</td>\n",
              "      <td>20.00</td>\n",
              "      <td>8.00</td>\n",
              "      <td>7.00</td>\n",
              "      <td>9.00</td>\n",
              "      <td>6.00</td>\n",
              "      <td>9.00</td>\n",
              "      <td>7.00</td>\n",
              "      <td>15.00</td>\n",
              "      <td>20.00</td>\n",
              "      <td>20.00</td>\n",
              "      <td>15.00</td>\n",
              "      <td>15.00</td>\n",
              "      <td>15.00</td>\n",
              "      <td>5.00</td>\n",
              "      <td>6.00</td>\n",
              "      <td>7.00</td>\n",
              "      <td>7.00</td>\n",
              "      <td>6.00</td>\n",
              "      <td>6.00</td>\n",
              "      <td>0.21</td>\n",
              "      <td>3.00</td>\n",
              "      <td>2.00</td>\n",
              "      <td>6.00</td>\n",
              "      <td>6.00</td>\n",
              "      <td>0.00</td>\n",
              "      <td>1</td>\n",
              "    </tr>\n",
              "  </tbody>\n",
              "</table>\n",
              "</div>\n",
              "      <button class=\"colab-df-convert\" onclick=\"convertToInteractive('df-0b058b41-5ff2-4ff1-b3d6-c7e1b291572b')\"\n",
              "              title=\"Convert this dataframe to an interactive table.\"\n",
              "              style=\"display:none;\">\n",
              "        \n",
              "  <svg xmlns=\"http://www.w3.org/2000/svg\" height=\"24px\"viewBox=\"0 0 24 24\"\n",
              "       width=\"24px\">\n",
              "    <path d=\"M0 0h24v24H0V0z\" fill=\"none\"/>\n",
              "    <path d=\"M18.56 5.44l.94 2.06.94-2.06 2.06-.94-2.06-.94-.94-2.06-.94 2.06-2.06.94zm-11 1L8.5 8.5l.94-2.06 2.06-.94-2.06-.94L8.5 2.5l-.94 2.06-2.06.94zm10 10l.94 2.06.94-2.06 2.06-.94-2.06-.94-.94-2.06-.94 2.06-2.06.94z\"/><path d=\"M17.41 7.96l-1.37-1.37c-.4-.4-.92-.59-1.43-.59-.52 0-1.04.2-1.43.59L10.3 9.45l-7.72 7.72c-.78.78-.78 2.05 0 2.83L4 21.41c.39.39.9.59 1.41.59.51 0 1.02-.2 1.41-.59l7.78-7.78 2.81-2.81c.8-.78.8-2.07 0-2.86zM5.41 20L4 18.59l7.72-7.72 1.47 1.35L5.41 20z\"/>\n",
              "  </svg>\n",
              "      </button>\n",
              "      \n",
              "  <style>\n",
              "    .colab-df-container {\n",
              "      display:flex;\n",
              "      flex-wrap:wrap;\n",
              "      gap: 12px;\n",
              "    }\n",
              "\n",
              "    .colab-df-convert {\n",
              "      background-color: #E8F0FE;\n",
              "      border: none;\n",
              "      border-radius: 50%;\n",
              "      cursor: pointer;\n",
              "      display: none;\n",
              "      fill: #1967D2;\n",
              "      height: 32px;\n",
              "      padding: 0 0 0 0;\n",
              "      width: 32px;\n",
              "    }\n",
              "\n",
              "    .colab-df-convert:hover {\n",
              "      background-color: #E2EBFA;\n",
              "      box-shadow: 0px 1px 2px rgba(60, 64, 67, 0.3), 0px 1px 3px 1px rgba(60, 64, 67, 0.15);\n",
              "      fill: #174EA6;\n",
              "    }\n",
              "\n",
              "    [theme=dark] .colab-df-convert {\n",
              "      background-color: #3B4455;\n",
              "      fill: #D2E3FC;\n",
              "    }\n",
              "\n",
              "    [theme=dark] .colab-df-convert:hover {\n",
              "      background-color: #434B5C;\n",
              "      box-shadow: 0px 1px 3px 1px rgba(0, 0, 0, 0.15);\n",
              "      filter: drop-shadow(0px 1px 2px rgba(0, 0, 0, 0.3));\n",
              "      fill: #FFFFFF;\n",
              "    }\n",
              "  </style>\n",
              "\n",
              "      <script>\n",
              "        const buttonEl =\n",
              "          document.querySelector('#df-0b058b41-5ff2-4ff1-b3d6-c7e1b291572b button.colab-df-convert');\n",
              "        buttonEl.style.display =\n",
              "          google.colab.kernel.accessAllowed ? 'block' : 'none';\n",
              "\n",
              "        async function convertToInteractive(key) {\n",
              "          const element = document.querySelector('#df-0b058b41-5ff2-4ff1-b3d6-c7e1b291572b');\n",
              "          const dataTable =\n",
              "            await google.colab.kernel.invokeFunction('convertToInteractive',\n",
              "                                                     [key], {});\n",
              "          if (!dataTable) return;\n",
              "\n",
              "          const docLinkHtml = 'Like what you see? Visit the ' +\n",
              "            '<a target=\"_blank\" href=https://colab.research.google.com/notebooks/data_table.ipynb>data table notebook</a>'\n",
              "            + ' to learn more about interactive tables.';\n",
              "          element.innerHTML = '';\n",
              "          dataTable['output_type'] = 'display_data';\n",
              "          await google.colab.output.renderOutput(dataTable, element);\n",
              "          const docLink = document.createElement('div');\n",
              "          docLink.innerHTML = docLinkHtml;\n",
              "          element.appendChild(docLink);\n",
              "        }\n",
              "      </script>\n",
              "    </div>\n",
              "  </div>\n",
              "  "
            ]
          },
          "metadata": {},
          "execution_count": 46
        }
      ]
    },
    {
      "cell_type": "code",
      "source": [
        "df.info()"
      ],
      "metadata": {
        "colab": {
          "base_uri": "https://localhost:8080/"
        },
        "id": "2ZkDzIRmxfoM",
        "outputId": "c3f57599-bc57-4585-e6df-0cecf1aff467"
      },
      "execution_count": 47,
      "outputs": [
        {
          "output_type": "stream",
          "name": "stdout",
          "text": [
            "<class 'pandas.core.frame.DataFrame'>\n",
            "RangeIndex: 8378 entries, 0 to 8377\n",
            "Data columns (total 39 columns):\n",
            " #   Column                         Non-Null Count  Dtype  \n",
            "---  ------                         --------------  -----  \n",
            " 0   has_null                       8378 non-null   int64  \n",
            " 1   gender                         8378 non-null   object \n",
            " 2   age                            8283 non-null   float64\n",
            " 3   age_o                          8274 non-null   float64\n",
            " 4   race                           8315 non-null   object \n",
            " 5   race_o                         8305 non-null   object \n",
            " 6   importance_same_race           8299 non-null   float64\n",
            " 7   importance_same_religion       8299 non-null   float64\n",
            " 8   pref_o_attractive              8289 non-null   float64\n",
            " 9   pref_o_sincere                 8289 non-null   float64\n",
            " 10  pref_o_intelligence            8289 non-null   float64\n",
            " 11  pref_o_funny                   8280 non-null   float64\n",
            " 12  pref_o_ambitious               8271 non-null   float64\n",
            " 13  pref_o_shared_interests        8249 non-null   float64\n",
            " 14  attractive_o                   8166 non-null   float64\n",
            " 15  sincere_o                      8091 non-null   float64\n",
            " 16  intelligence_o                 8072 non-null   float64\n",
            " 17  funny_o                        8018 non-null   float64\n",
            " 18  ambitous_o                     7656 non-null   float64\n",
            " 19  shared_interests_o             7302 non-null   float64\n",
            " 20  attractive_important           8299 non-null   float64\n",
            " 21  sincere_important              8299 non-null   float64\n",
            " 22  intellicence_important         8299 non-null   float64\n",
            " 23  funny_important                8289 non-null   float64\n",
            " 24  ambtition_important            8279 non-null   float64\n",
            " 25  shared_interests_important     8257 non-null   float64\n",
            " 26  attractive_partner             8176 non-null   float64\n",
            " 27  sincere_partner                8101 non-null   float64\n",
            " 28  intelligence_partner           8082 non-null   float64\n",
            " 29  funny_partner                  8028 non-null   float64\n",
            " 30  ambition_partner               7666 non-null   float64\n",
            " 31  shared_interests_partner       7311 non-null   float64\n",
            " 32  interests_correlate            8220 non-null   float64\n",
            " 33  expected_happy_with_sd_people  8277 non-null   float64\n",
            " 34  expected_num_interested_in_me  1800 non-null   float64\n",
            " 35  like                           8138 non-null   float64\n",
            " 36  guess_prob_liked               8069 non-null   float64\n",
            " 37  met                            8003 non-null   float64\n",
            " 38  match                          8378 non-null   int64  \n",
            "dtypes: float64(34), int64(2), object(3)\n",
            "memory usage: 2.5+ MB\n"
          ]
        }
      ]
    },
    {
      "cell_type": "markdown",
      "source": [
        "## 변수 목록\n",
        "* `has_null`\n",
        "    - 변수 중 Null값이 있는지 여부. 단, 이 데이터는 기존 데이터에서 일부 변수들이 생략된 축소판이기 때문에, 여기서 보이는 Null값 여부와 다소 차이가 있을 수 있음.\n",
        "    - 전반적으로 무응답 항목이 있는지에 대한 정보이므로 그대로 사용\n",
        "* `age` / `age_o` : age는 본인 나이이며 age_o는 상대방 나이.\n",
        "* `race` / `race_o` : 마찬가지로 본인과 상대의 인종 정보.\n",
        "* `importance_same_race` / `importance_same_religion`\n",
        "    * 인종과 종교를 중요시 여기는지에 대한 응답\n",
        "* `attractive(매력적인), sincere(성실한), intelligence(지적), funny(재미난), ambitious(야심찬), shared_ interests(공통관심사)`     \n",
        "이 항목들은 4가지 관점에서 평가되어 총 변수가 24(6 × 4)개\n",
        "    * `pref_o_xxx`( 예 : pref_o_attractive) : 상대방이 xxx 항목을 얼마나 중요하게 생각하는가에 대한 응답\n",
        "    * `xxx_o`(예: attractive_o) : 상대방이 본인에 대한 xxx 항목을 평가한 항목\n",
        "    * `xxx_important`(예 : attractive_important) : xxx 항목에 대해 본인이 얼마나 중요하게 생각하는가에 대한 응답\n",
        "    * `xxx_partner`(예 : attractive_partner) : 본인이 상대방에 대한 xxx 항목을 평가한 항목\n",
        "* `interests_correlate` : 관심사(취미 등) 연관도\n",
        "* `expected_happy_with_sd_people` : 스피드 데이팅을 통해 만난 사람과 함께할 때 얼마나 좋을\n",
        "지에 대한 기대치\n",
        "* `expected_num_interested_in_me` : 얼마나 많은 사람이 나에게 관심을 보일지에 대한 기대치\n",
        "* `like` : 파트너가 마음에 들었는지 여부\n",
        "* `guess_prob_liked` : 파트너가 나를 마음에 들어했을지에 대한 예상\n",
        "* `met`: 파트너를 스피드 데이팅 이벤트 이전에 만난 적이 있는지 여부"
      ],
      "metadata": {
        "id": "omuQ5hCxxiGE"
      }
    },
    {
      "cell_type": "code",
      "source": [
        "pd.options.display.float_format = '{:.2f}'.format\n",
        "\n",
        "df.describe()"
      ],
      "metadata": {
        "colab": {
          "base_uri": "https://localhost:8080/",
          "height": 364
        },
        "id": "hb12fzebycZz",
        "outputId": "bd0c84b4-fe66-4f06-c5d2-22053210007b"
      },
      "execution_count": 48,
      "outputs": [
        {
          "output_type": "execute_result",
          "data": {
            "text/plain": [
              "       has_null     age   age_o  importance_same_race  \\\n",
              "count   8378.00 8283.00 8274.00               8299.00   \n",
              "mean       0.87   26.36   26.36                  3.78   \n",
              "std        0.33    3.57    3.56                  2.85   \n",
              "min        0.00   18.00   18.00                  0.00   \n",
              "25%        1.00   24.00   24.00                  1.00   \n",
              "50%        1.00   26.00   26.00                  3.00   \n",
              "75%        1.00   28.00   28.00                  6.00   \n",
              "max        1.00   55.00   55.00                 10.00   \n",
              "\n",
              "       importance_same_religion  pref_o_attractive  pref_o_sincere  \\\n",
              "count                   8299.00            8289.00         8289.00   \n",
              "mean                       3.65              22.50           17.40   \n",
              "std                        2.81              12.57            7.04   \n",
              "min                        1.00               0.00            0.00   \n",
              "25%                        1.00              15.00           15.00   \n",
              "50%                        3.00              20.00           18.37   \n",
              "75%                        6.00              25.00           20.00   \n",
              "max                       10.00             100.00           60.00   \n",
              "\n",
              "       pref_o_intelligence  pref_o_funny  pref_o_ambitious  \\\n",
              "count              8289.00       8280.00           8271.00   \n",
              "mean                 20.27         17.46             10.69   \n",
              "std                   6.78          6.09              6.13   \n",
              "min                   0.00          0.00              0.00   \n",
              "25%                  17.39         15.00              5.00   \n",
              "50%                  20.00         18.00             10.00   \n",
              "75%                  23.81         20.00             15.00   \n",
              "max                  50.00         50.00             53.00   \n",
              "\n",
              "       pref_o_shared_interests  attractive_o  sincere_o  intelligence_o  \\\n",
              "count                  8249.00       8166.00    8091.00         8072.00   \n",
              "mean                     11.85          6.19       7.18            7.37   \n",
              "std                       6.36          1.95       1.74            1.55   \n",
              "min                       0.00          0.00       0.00            0.00   \n",
              "25%                       9.52          5.00       6.00            6.00   \n",
              "50%                      10.64          6.00       7.00            7.00   \n",
              "75%                      16.00          8.00       8.00            8.00   \n",
              "max                      30.00         10.50      10.00           10.00   \n",
              "\n",
              "       funny_o  ambitous_o  shared_interests_o  attractive_important  \\\n",
              "count  8018.00     7656.00             7302.00               8299.00   \n",
              "mean      6.40        6.78                5.47                 22.51   \n",
              "std       1.95        1.79                2.16                 12.59   \n",
              "min       0.00        0.00                0.00                  0.00   \n",
              "25%       5.00        6.00                4.00                 15.00   \n",
              "50%       7.00        7.00                6.00                 20.00   \n",
              "75%       8.00        8.00                7.00                 25.00   \n",
              "max      11.00       10.00               10.00                100.00   \n",
              "\n",
              "       sincere_important  intellicence_important  funny_important  \\\n",
              "count            8299.00                 8299.00          8289.00   \n",
              "mean               17.40                   20.27            17.46   \n",
              "std                 7.05                    6.78             6.09   \n",
              "min                 0.00                    0.00             0.00   \n",
              "25%                15.00                   17.39            15.00   \n",
              "50%                18.18                   20.00            18.00   \n",
              "75%                20.00                   23.81            20.00   \n",
              "max                60.00                   50.00            50.00   \n",
              "\n",
              "       ambtition_important  shared_interests_important  attractive_partner  \\\n",
              "count              8279.00                     8257.00             8176.00   \n",
              "mean                 10.68                       11.85                6.19   \n",
              "std                   6.12                        6.36                1.95   \n",
              "min                   0.00                        0.00                0.00   \n",
              "25%                   5.00                        9.52                5.00   \n",
              "50%                  10.00                       10.64                6.00   \n",
              "75%                  15.00                       16.00                8.00   \n",
              "max                  53.00                       30.00               10.00   \n",
              "\n",
              "       sincere_partner  intelligence_partner  funny_partner  ambition_partner  \\\n",
              "count          8101.00               8082.00        8028.00           7666.00   \n",
              "mean              7.18                  7.37           6.40              6.78   \n",
              "std               1.74                  1.55           1.95              1.79   \n",
              "min               0.00                  0.00           0.00              0.00   \n",
              "25%               6.00                  6.00           5.00              6.00   \n",
              "50%               7.00                  7.00           7.00              7.00   \n",
              "75%               8.00                  8.00           8.00              8.00   \n",
              "max              10.00                 10.00          10.00             10.00   \n",
              "\n",
              "       shared_interests_partner  interests_correlate  \\\n",
              "count                   7311.00              8220.00   \n",
              "mean                       5.47                 0.20   \n",
              "std                        2.16                 0.30   \n",
              "min                        0.00                -0.83   \n",
              "25%                        4.00                -0.02   \n",
              "50%                        6.00                 0.21   \n",
              "75%                        7.00                 0.43   \n",
              "max                       10.00                 0.91   \n",
              "\n",
              "       expected_happy_with_sd_people  expected_num_interested_in_me    like  \\\n",
              "count                        8277.00                        1800.00 8138.00   \n",
              "mean                            5.53                           5.57    6.13   \n",
              "std                             1.73                           4.76    1.84   \n",
              "min                             1.00                           0.00    0.00   \n",
              "25%                             5.00                           2.00    5.00   \n",
              "50%                             6.00                           4.00    6.00   \n",
              "75%                             7.00                           8.00    7.00   \n",
              "max                            10.00                          20.00   10.00   \n",
              "\n",
              "       guess_prob_liked     met   match  \n",
              "count           8069.00 8003.00 8378.00  \n",
              "mean               5.21    0.05    0.16  \n",
              "std                2.13    0.28    0.37  \n",
              "min                0.00    0.00    0.00  \n",
              "25%                4.00    0.00    0.00  \n",
              "50%                5.00    0.00    0.00  \n",
              "75%                7.00    0.00    0.00  \n",
              "max               10.00    8.00    1.00  "
            ],
            "text/html": [
              "\n",
              "  <div id=\"df-eada2d18-afa6-41e7-b6f0-cffcf130910f\">\n",
              "    <div class=\"colab-df-container\">\n",
              "      <div>\n",
              "<style scoped>\n",
              "    .dataframe tbody tr th:only-of-type {\n",
              "        vertical-align: middle;\n",
              "    }\n",
              "\n",
              "    .dataframe tbody tr th {\n",
              "        vertical-align: top;\n",
              "    }\n",
              "\n",
              "    .dataframe thead th {\n",
              "        text-align: right;\n",
              "    }\n",
              "</style>\n",
              "<table border=\"1\" class=\"dataframe\">\n",
              "  <thead>\n",
              "    <tr style=\"text-align: right;\">\n",
              "      <th></th>\n",
              "      <th>has_null</th>\n",
              "      <th>age</th>\n",
              "      <th>age_o</th>\n",
              "      <th>importance_same_race</th>\n",
              "      <th>importance_same_religion</th>\n",
              "      <th>pref_o_attractive</th>\n",
              "      <th>pref_o_sincere</th>\n",
              "      <th>pref_o_intelligence</th>\n",
              "      <th>pref_o_funny</th>\n",
              "      <th>pref_o_ambitious</th>\n",
              "      <th>pref_o_shared_interests</th>\n",
              "      <th>attractive_o</th>\n",
              "      <th>sincere_o</th>\n",
              "      <th>intelligence_o</th>\n",
              "      <th>funny_o</th>\n",
              "      <th>ambitous_o</th>\n",
              "      <th>shared_interests_o</th>\n",
              "      <th>attractive_important</th>\n",
              "      <th>sincere_important</th>\n",
              "      <th>intellicence_important</th>\n",
              "      <th>funny_important</th>\n",
              "      <th>ambtition_important</th>\n",
              "      <th>shared_interests_important</th>\n",
              "      <th>attractive_partner</th>\n",
              "      <th>sincere_partner</th>\n",
              "      <th>intelligence_partner</th>\n",
              "      <th>funny_partner</th>\n",
              "      <th>ambition_partner</th>\n",
              "      <th>shared_interests_partner</th>\n",
              "      <th>interests_correlate</th>\n",
              "      <th>expected_happy_with_sd_people</th>\n",
              "      <th>expected_num_interested_in_me</th>\n",
              "      <th>like</th>\n",
              "      <th>guess_prob_liked</th>\n",
              "      <th>met</th>\n",
              "      <th>match</th>\n",
              "    </tr>\n",
              "  </thead>\n",
              "  <tbody>\n",
              "    <tr>\n",
              "      <th>count</th>\n",
              "      <td>8378.00</td>\n",
              "      <td>8283.00</td>\n",
              "      <td>8274.00</td>\n",
              "      <td>8299.00</td>\n",
              "      <td>8299.00</td>\n",
              "      <td>8289.00</td>\n",
              "      <td>8289.00</td>\n",
              "      <td>8289.00</td>\n",
              "      <td>8280.00</td>\n",
              "      <td>8271.00</td>\n",
              "      <td>8249.00</td>\n",
              "      <td>8166.00</td>\n",
              "      <td>8091.00</td>\n",
              "      <td>8072.00</td>\n",
              "      <td>8018.00</td>\n",
              "      <td>7656.00</td>\n",
              "      <td>7302.00</td>\n",
              "      <td>8299.00</td>\n",
              "      <td>8299.00</td>\n",
              "      <td>8299.00</td>\n",
              "      <td>8289.00</td>\n",
              "      <td>8279.00</td>\n",
              "      <td>8257.00</td>\n",
              "      <td>8176.00</td>\n",
              "      <td>8101.00</td>\n",
              "      <td>8082.00</td>\n",
              "      <td>8028.00</td>\n",
              "      <td>7666.00</td>\n",
              "      <td>7311.00</td>\n",
              "      <td>8220.00</td>\n",
              "      <td>8277.00</td>\n",
              "      <td>1800.00</td>\n",
              "      <td>8138.00</td>\n",
              "      <td>8069.00</td>\n",
              "      <td>8003.00</td>\n",
              "      <td>8378.00</td>\n",
              "    </tr>\n",
              "    <tr>\n",
              "      <th>mean</th>\n",
              "      <td>0.87</td>\n",
              "      <td>26.36</td>\n",
              "      <td>26.36</td>\n",
              "      <td>3.78</td>\n",
              "      <td>3.65</td>\n",
              "      <td>22.50</td>\n",
              "      <td>17.40</td>\n",
              "      <td>20.27</td>\n",
              "      <td>17.46</td>\n",
              "      <td>10.69</td>\n",
              "      <td>11.85</td>\n",
              "      <td>6.19</td>\n",
              "      <td>7.18</td>\n",
              "      <td>7.37</td>\n",
              "      <td>6.40</td>\n",
              "      <td>6.78</td>\n",
              "      <td>5.47</td>\n",
              "      <td>22.51</td>\n",
              "      <td>17.40</td>\n",
              "      <td>20.27</td>\n",
              "      <td>17.46</td>\n",
              "      <td>10.68</td>\n",
              "      <td>11.85</td>\n",
              "      <td>6.19</td>\n",
              "      <td>7.18</td>\n",
              "      <td>7.37</td>\n",
              "      <td>6.40</td>\n",
              "      <td>6.78</td>\n",
              "      <td>5.47</td>\n",
              "      <td>0.20</td>\n",
              "      <td>5.53</td>\n",
              "      <td>5.57</td>\n",
              "      <td>6.13</td>\n",
              "      <td>5.21</td>\n",
              "      <td>0.05</td>\n",
              "      <td>0.16</td>\n",
              "    </tr>\n",
              "    <tr>\n",
              "      <th>std</th>\n",
              "      <td>0.33</td>\n",
              "      <td>3.57</td>\n",
              "      <td>3.56</td>\n",
              "      <td>2.85</td>\n",
              "      <td>2.81</td>\n",
              "      <td>12.57</td>\n",
              "      <td>7.04</td>\n",
              "      <td>6.78</td>\n",
              "      <td>6.09</td>\n",
              "      <td>6.13</td>\n",
              "      <td>6.36</td>\n",
              "      <td>1.95</td>\n",
              "      <td>1.74</td>\n",
              "      <td>1.55</td>\n",
              "      <td>1.95</td>\n",
              "      <td>1.79</td>\n",
              "      <td>2.16</td>\n",
              "      <td>12.59</td>\n",
              "      <td>7.05</td>\n",
              "      <td>6.78</td>\n",
              "      <td>6.09</td>\n",
              "      <td>6.12</td>\n",
              "      <td>6.36</td>\n",
              "      <td>1.95</td>\n",
              "      <td>1.74</td>\n",
              "      <td>1.55</td>\n",
              "      <td>1.95</td>\n",
              "      <td>1.79</td>\n",
              "      <td>2.16</td>\n",
              "      <td>0.30</td>\n",
              "      <td>1.73</td>\n",
              "      <td>4.76</td>\n",
              "      <td>1.84</td>\n",
              "      <td>2.13</td>\n",
              "      <td>0.28</td>\n",
              "      <td>0.37</td>\n",
              "    </tr>\n",
              "    <tr>\n",
              "      <th>min</th>\n",
              "      <td>0.00</td>\n",
              "      <td>18.00</td>\n",
              "      <td>18.00</td>\n",
              "      <td>0.00</td>\n",
              "      <td>1.00</td>\n",
              "      <td>0.00</td>\n",
              "      <td>0.00</td>\n",
              "      <td>0.00</td>\n",
              "      <td>0.00</td>\n",
              "      <td>0.00</td>\n",
              "      <td>0.00</td>\n",
              "      <td>0.00</td>\n",
              "      <td>0.00</td>\n",
              "      <td>0.00</td>\n",
              "      <td>0.00</td>\n",
              "      <td>0.00</td>\n",
              "      <td>0.00</td>\n",
              "      <td>0.00</td>\n",
              "      <td>0.00</td>\n",
              "      <td>0.00</td>\n",
              "      <td>0.00</td>\n",
              "      <td>0.00</td>\n",
              "      <td>0.00</td>\n",
              "      <td>0.00</td>\n",
              "      <td>0.00</td>\n",
              "      <td>0.00</td>\n",
              "      <td>0.00</td>\n",
              "      <td>0.00</td>\n",
              "      <td>0.00</td>\n",
              "      <td>-0.83</td>\n",
              "      <td>1.00</td>\n",
              "      <td>0.00</td>\n",
              "      <td>0.00</td>\n",
              "      <td>0.00</td>\n",
              "      <td>0.00</td>\n",
              "      <td>0.00</td>\n",
              "    </tr>\n",
              "    <tr>\n",
              "      <th>25%</th>\n",
              "      <td>1.00</td>\n",
              "      <td>24.00</td>\n",
              "      <td>24.00</td>\n",
              "      <td>1.00</td>\n",
              "      <td>1.00</td>\n",
              "      <td>15.00</td>\n",
              "      <td>15.00</td>\n",
              "      <td>17.39</td>\n",
              "      <td>15.00</td>\n",
              "      <td>5.00</td>\n",
              "      <td>9.52</td>\n",
              "      <td>5.00</td>\n",
              "      <td>6.00</td>\n",
              "      <td>6.00</td>\n",
              "      <td>5.00</td>\n",
              "      <td>6.00</td>\n",
              "      <td>4.00</td>\n",
              "      <td>15.00</td>\n",
              "      <td>15.00</td>\n",
              "      <td>17.39</td>\n",
              "      <td>15.00</td>\n",
              "      <td>5.00</td>\n",
              "      <td>9.52</td>\n",
              "      <td>5.00</td>\n",
              "      <td>6.00</td>\n",
              "      <td>6.00</td>\n",
              "      <td>5.00</td>\n",
              "      <td>6.00</td>\n",
              "      <td>4.00</td>\n",
              "      <td>-0.02</td>\n",
              "      <td>5.00</td>\n",
              "      <td>2.00</td>\n",
              "      <td>5.00</td>\n",
              "      <td>4.00</td>\n",
              "      <td>0.00</td>\n",
              "      <td>0.00</td>\n",
              "    </tr>\n",
              "    <tr>\n",
              "      <th>50%</th>\n",
              "      <td>1.00</td>\n",
              "      <td>26.00</td>\n",
              "      <td>26.00</td>\n",
              "      <td>3.00</td>\n",
              "      <td>3.00</td>\n",
              "      <td>20.00</td>\n",
              "      <td>18.37</td>\n",
              "      <td>20.00</td>\n",
              "      <td>18.00</td>\n",
              "      <td>10.00</td>\n",
              "      <td>10.64</td>\n",
              "      <td>6.00</td>\n",
              "      <td>7.00</td>\n",
              "      <td>7.00</td>\n",
              "      <td>7.00</td>\n",
              "      <td>7.00</td>\n",
              "      <td>6.00</td>\n",
              "      <td>20.00</td>\n",
              "      <td>18.18</td>\n",
              "      <td>20.00</td>\n",
              "      <td>18.00</td>\n",
              "      <td>10.00</td>\n",
              "      <td>10.64</td>\n",
              "      <td>6.00</td>\n",
              "      <td>7.00</td>\n",
              "      <td>7.00</td>\n",
              "      <td>7.00</td>\n",
              "      <td>7.00</td>\n",
              "      <td>6.00</td>\n",
              "      <td>0.21</td>\n",
              "      <td>6.00</td>\n",
              "      <td>4.00</td>\n",
              "      <td>6.00</td>\n",
              "      <td>5.00</td>\n",
              "      <td>0.00</td>\n",
              "      <td>0.00</td>\n",
              "    </tr>\n",
              "    <tr>\n",
              "      <th>75%</th>\n",
              "      <td>1.00</td>\n",
              "      <td>28.00</td>\n",
              "      <td>28.00</td>\n",
              "      <td>6.00</td>\n",
              "      <td>6.00</td>\n",
              "      <td>25.00</td>\n",
              "      <td>20.00</td>\n",
              "      <td>23.81</td>\n",
              "      <td>20.00</td>\n",
              "      <td>15.00</td>\n",
              "      <td>16.00</td>\n",
              "      <td>8.00</td>\n",
              "      <td>8.00</td>\n",
              "      <td>8.00</td>\n",
              "      <td>8.00</td>\n",
              "      <td>8.00</td>\n",
              "      <td>7.00</td>\n",
              "      <td>25.00</td>\n",
              "      <td>20.00</td>\n",
              "      <td>23.81</td>\n",
              "      <td>20.00</td>\n",
              "      <td>15.00</td>\n",
              "      <td>16.00</td>\n",
              "      <td>8.00</td>\n",
              "      <td>8.00</td>\n",
              "      <td>8.00</td>\n",
              "      <td>8.00</td>\n",
              "      <td>8.00</td>\n",
              "      <td>7.00</td>\n",
              "      <td>0.43</td>\n",
              "      <td>7.00</td>\n",
              "      <td>8.00</td>\n",
              "      <td>7.00</td>\n",
              "      <td>7.00</td>\n",
              "      <td>0.00</td>\n",
              "      <td>0.00</td>\n",
              "    </tr>\n",
              "    <tr>\n",
              "      <th>max</th>\n",
              "      <td>1.00</td>\n",
              "      <td>55.00</td>\n",
              "      <td>55.00</td>\n",
              "      <td>10.00</td>\n",
              "      <td>10.00</td>\n",
              "      <td>100.00</td>\n",
              "      <td>60.00</td>\n",
              "      <td>50.00</td>\n",
              "      <td>50.00</td>\n",
              "      <td>53.00</td>\n",
              "      <td>30.00</td>\n",
              "      <td>10.50</td>\n",
              "      <td>10.00</td>\n",
              "      <td>10.00</td>\n",
              "      <td>11.00</td>\n",
              "      <td>10.00</td>\n",
              "      <td>10.00</td>\n",
              "      <td>100.00</td>\n",
              "      <td>60.00</td>\n",
              "      <td>50.00</td>\n",
              "      <td>50.00</td>\n",
              "      <td>53.00</td>\n",
              "      <td>30.00</td>\n",
              "      <td>10.00</td>\n",
              "      <td>10.00</td>\n",
              "      <td>10.00</td>\n",
              "      <td>10.00</td>\n",
              "      <td>10.00</td>\n",
              "      <td>10.00</td>\n",
              "      <td>0.91</td>\n",
              "      <td>10.00</td>\n",
              "      <td>20.00</td>\n",
              "      <td>10.00</td>\n",
              "      <td>10.00</td>\n",
              "      <td>8.00</td>\n",
              "      <td>1.00</td>\n",
              "    </tr>\n",
              "  </tbody>\n",
              "</table>\n",
              "</div>\n",
              "      <button class=\"colab-df-convert\" onclick=\"convertToInteractive('df-eada2d18-afa6-41e7-b6f0-cffcf130910f')\"\n",
              "              title=\"Convert this dataframe to an interactive table.\"\n",
              "              style=\"display:none;\">\n",
              "        \n",
              "  <svg xmlns=\"http://www.w3.org/2000/svg\" height=\"24px\"viewBox=\"0 0 24 24\"\n",
              "       width=\"24px\">\n",
              "    <path d=\"M0 0h24v24H0V0z\" fill=\"none\"/>\n",
              "    <path d=\"M18.56 5.44l.94 2.06.94-2.06 2.06-.94-2.06-.94-.94-2.06-.94 2.06-2.06.94zm-11 1L8.5 8.5l.94-2.06 2.06-.94-2.06-.94L8.5 2.5l-.94 2.06-2.06.94zm10 10l.94 2.06.94-2.06 2.06-.94-2.06-.94-.94-2.06-.94 2.06-2.06.94z\"/><path d=\"M17.41 7.96l-1.37-1.37c-.4-.4-.92-.59-1.43-.59-.52 0-1.04.2-1.43.59L10.3 9.45l-7.72 7.72c-.78.78-.78 2.05 0 2.83L4 21.41c.39.39.9.59 1.41.59.51 0 1.02-.2 1.41-.59l7.78-7.78 2.81-2.81c.8-.78.8-2.07 0-2.86zM5.41 20L4 18.59l7.72-7.72 1.47 1.35L5.41 20z\"/>\n",
              "  </svg>\n",
              "      </button>\n",
              "      \n",
              "  <style>\n",
              "    .colab-df-container {\n",
              "      display:flex;\n",
              "      flex-wrap:wrap;\n",
              "      gap: 12px;\n",
              "    }\n",
              "\n",
              "    .colab-df-convert {\n",
              "      background-color: #E8F0FE;\n",
              "      border: none;\n",
              "      border-radius: 50%;\n",
              "      cursor: pointer;\n",
              "      display: none;\n",
              "      fill: #1967D2;\n",
              "      height: 32px;\n",
              "      padding: 0 0 0 0;\n",
              "      width: 32px;\n",
              "    }\n",
              "\n",
              "    .colab-df-convert:hover {\n",
              "      background-color: #E2EBFA;\n",
              "      box-shadow: 0px 1px 2px rgba(60, 64, 67, 0.3), 0px 1px 3px 1px rgba(60, 64, 67, 0.15);\n",
              "      fill: #174EA6;\n",
              "    }\n",
              "\n",
              "    [theme=dark] .colab-df-convert {\n",
              "      background-color: #3B4455;\n",
              "      fill: #D2E3FC;\n",
              "    }\n",
              "\n",
              "    [theme=dark] .colab-df-convert:hover {\n",
              "      background-color: #434B5C;\n",
              "      box-shadow: 0px 1px 3px 1px rgba(0, 0, 0, 0.15);\n",
              "      filter: drop-shadow(0px 1px 2px rgba(0, 0, 0, 0.3));\n",
              "      fill: #FFFFFF;\n",
              "    }\n",
              "  </style>\n",
              "\n",
              "      <script>\n",
              "        const buttonEl =\n",
              "          document.querySelector('#df-eada2d18-afa6-41e7-b6f0-cffcf130910f button.colab-df-convert');\n",
              "        buttonEl.style.display =\n",
              "          google.colab.kernel.accessAllowed ? 'block' : 'none';\n",
              "\n",
              "        async function convertToInteractive(key) {\n",
              "          const element = document.querySelector('#df-eada2d18-afa6-41e7-b6f0-cffcf130910f');\n",
              "          const dataTable =\n",
              "            await google.colab.kernel.invokeFunction('convertToInteractive',\n",
              "                                                     [key], {});\n",
              "          if (!dataTable) return;\n",
              "\n",
              "          const docLinkHtml = 'Like what you see? Visit the ' +\n",
              "            '<a target=\"_blank\" href=https://colab.research.google.com/notebooks/data_table.ipynb>data table notebook</a>'\n",
              "            + ' to learn more about interactive tables.';\n",
              "          element.innerHTML = '';\n",
              "          dataTable['output_type'] = 'display_data';\n",
              "          await google.colab.output.renderOutput(dataTable, element);\n",
              "          const docLink = document.createElement('div');\n",
              "          docLink.innerHTML = docLinkHtml;\n",
              "          element.appendChild(docLink);\n",
              "        }\n",
              "      </script>\n",
              "    </div>\n",
              "  </div>\n",
              "  "
            ]
          },
          "metadata": {},
          "execution_count": 48
        }
      ]
    },
    {
      "cell_type": "markdown",
      "source": [
        "## Data pre-processing"
      ],
      "metadata": {
        "id": "HLWToC47y722"
      }
    },
    {
      "cell_type": "markdown",
      "source": [
        "### missing value"
      ],
      "metadata": {
        "id": "Aq-_PRcXzA48"
      }
    },
    {
      "cell_type": "code",
      "source": [
        "df.isna().mean().sort_values(ascending=False)"
      ],
      "metadata": {
        "colab": {
          "base_uri": "https://localhost:8080/"
        },
        "id": "WRJTttGMzDq7",
        "outputId": "b0f370af-17b7-4c85-a4be-244235957bcd"
      },
      "execution_count": 49,
      "outputs": [
        {
          "output_type": "execute_result",
          "data": {
            "text/plain": [
              "expected_num_interested_in_me   0.79\n",
              "shared_interests_o              0.13\n",
              "shared_interests_partner        0.13\n",
              "ambitous_o                      0.09\n",
              "ambition_partner                0.08\n",
              "met                             0.04\n",
              "funny_o                         0.04\n",
              "funny_partner                   0.04\n",
              "guess_prob_liked                0.04\n",
              "intelligence_o                  0.04\n",
              "intelligence_partner            0.04\n",
              "sincere_o                       0.03\n",
              "sincere_partner                 0.03\n",
              "like                            0.03\n",
              "attractive_o                    0.03\n",
              "attractive_partner              0.02\n",
              "interests_correlate             0.02\n",
              "pref_o_shared_interests         0.02\n",
              "shared_interests_important      0.01\n",
              "pref_o_ambitious                0.01\n",
              "age_o                           0.01\n",
              "expected_happy_with_sd_people   0.01\n",
              "ambtition_important             0.01\n",
              "pref_o_funny                    0.01\n",
              "age                             0.01\n",
              "pref_o_sincere                  0.01\n",
              "pref_o_attractive               0.01\n",
              "funny_important                 0.01\n",
              "pref_o_intelligence             0.01\n",
              "attractive_important            0.01\n",
              "intellicence_important          0.01\n",
              "sincere_important               0.01\n",
              "importance_same_religion        0.01\n",
              "importance_same_race            0.01\n",
              "race_o                          0.01\n",
              "race                            0.01\n",
              "has_null                        0.00\n",
              "gender                          0.00\n",
              "match                           0.00\n",
              "dtype: float64"
            ]
          },
          "metadata": {},
          "execution_count": 49
        }
      ]
    },
    {
      "cell_type": "code",
      "source": [
        "for col in df.columns:\n",
        "    if df[col].isna().mean() < 0.02:\n",
        "        df = df.dropna(subset=[col])\n",
        "\n",
        "df.isna().sum()"
      ],
      "metadata": {
        "colab": {
          "base_uri": "https://localhost:8080/"
        },
        "id": "IOSoDgZnzLO8",
        "outputId": "987521a6-d13e-4700-ee4f-4418dd790af1"
      },
      "execution_count": 50,
      "outputs": [
        {
          "output_type": "execute_result",
          "data": {
            "text/plain": [
              "has_null                            0\n",
              "gender                              0\n",
              "age                                 0\n",
              "age_o                               0\n",
              "race                                0\n",
              "race_o                              0\n",
              "importance_same_race                0\n",
              "importance_same_religion            0\n",
              "pref_o_attractive                   0\n",
              "pref_o_sincere                      0\n",
              "pref_o_intelligence                 0\n",
              "pref_o_funny                        0\n",
              "pref_o_ambitious                    0\n",
              "pref_o_shared_interests             0\n",
              "attractive_o                      176\n",
              "sincere_o                         247\n",
              "intelligence_o                    268\n",
              "funny_o                           321\n",
              "ambitous_o                        678\n",
              "shared_interests_o               1029\n",
              "attractive_important                0\n",
              "sincere_important                   0\n",
              "intellicence_important              0\n",
              "funny_important                     0\n",
              "ambtition_important                 0\n",
              "shared_interests_important          0\n",
              "attractive_partner                176\n",
              "sincere_partner                   247\n",
              "intelligence_partner              268\n",
              "funny_partner                     321\n",
              "ambition_partner                  678\n",
              "shared_interests_partner         1029\n",
              "interests_correlate                 0\n",
              "expected_happy_with_sd_people       0\n",
              "expected_num_interested_in_me    6366\n",
              "like                              213\n",
              "guess_prob_liked                  278\n",
              "met                               343\n",
              "match                               0\n",
              "dtype: int64"
            ]
          },
          "metadata": {},
          "execution_count": 50
        }
      ]
    },
    {
      "cell_type": "code",
      "source": [
        "missing_columns = list()\n",
        "\n",
        "for col in df.columns:\n",
        "    if df[col].isna().sum() > 0:\n",
        "        missing_columns.append(col)\n",
        "\n",
        "missing_columns"
      ],
      "metadata": {
        "colab": {
          "base_uri": "https://localhost:8080/"
        },
        "id": "K2GW-i2o6EM0",
        "outputId": "d10f6dd3-b549-4f3b-d593-2f8cc8fc14c3"
      },
      "execution_count": 51,
      "outputs": [
        {
          "output_type": "execute_result",
          "data": {
            "text/plain": [
              "['attractive_o',\n",
              " 'sincere_o',\n",
              " 'intelligence_o',\n",
              " 'funny_o',\n",
              " 'ambitous_o',\n",
              " 'shared_interests_o',\n",
              " 'attractive_partner',\n",
              " 'sincere_partner',\n",
              " 'intelligence_partner',\n",
              " 'funny_partner',\n",
              " 'ambition_partner',\n",
              " 'shared_interests_partner',\n",
              " 'expected_num_interested_in_me',\n",
              " 'like',\n",
              " 'guess_prob_liked',\n",
              " 'met']"
            ]
          },
          "metadata": {},
          "execution_count": 51
        }
      ]
    },
    {
      "cell_type": "code",
      "source": [
        "df = df.fillna(-99)\n",
        "\n",
        "df.info()"
      ],
      "metadata": {
        "colab": {
          "base_uri": "https://localhost:8080/"
        },
        "id": "qbHI9Oq6z5GE",
        "outputId": "4a909207-f7ce-4b7e-be02-0651a1890ba3"
      },
      "execution_count": 52,
      "outputs": [
        {
          "output_type": "stream",
          "name": "stdout",
          "text": [
            "<class 'pandas.core.frame.DataFrame'>\n",
            "Int64Index: 8086 entries, 0 to 8377\n",
            "Data columns (total 39 columns):\n",
            " #   Column                         Non-Null Count  Dtype  \n",
            "---  ------                         --------------  -----  \n",
            " 0   has_null                       8086 non-null   int64  \n",
            " 1   gender                         8086 non-null   object \n",
            " 2   age                            8086 non-null   float64\n",
            " 3   age_o                          8086 non-null   float64\n",
            " 4   race                           8086 non-null   object \n",
            " 5   race_o                         8086 non-null   object \n",
            " 6   importance_same_race           8086 non-null   float64\n",
            " 7   importance_same_religion       8086 non-null   float64\n",
            " 8   pref_o_attractive              8086 non-null   float64\n",
            " 9   pref_o_sincere                 8086 non-null   float64\n",
            " 10  pref_o_intelligence            8086 non-null   float64\n",
            " 11  pref_o_funny                   8086 non-null   float64\n",
            " 12  pref_o_ambitious               8086 non-null   float64\n",
            " 13  pref_o_shared_interests        8086 non-null   float64\n",
            " 14  attractive_o                   8086 non-null   float64\n",
            " 15  sincere_o                      8086 non-null   float64\n",
            " 16  intelligence_o                 8086 non-null   float64\n",
            " 17  funny_o                        8086 non-null   float64\n",
            " 18  ambitous_o                     8086 non-null   float64\n",
            " 19  shared_interests_o             8086 non-null   float64\n",
            " 20  attractive_important           8086 non-null   float64\n",
            " 21  sincere_important              8086 non-null   float64\n",
            " 22  intellicence_important         8086 non-null   float64\n",
            " 23  funny_important                8086 non-null   float64\n",
            " 24  ambtition_important            8086 non-null   float64\n",
            " 25  shared_interests_important     8086 non-null   float64\n",
            " 26  attractive_partner             8086 non-null   float64\n",
            " 27  sincere_partner                8086 non-null   float64\n",
            " 28  intelligence_partner           8086 non-null   float64\n",
            " 29  funny_partner                  8086 non-null   float64\n",
            " 30  ambition_partner               8086 non-null   float64\n",
            " 31  shared_interests_partner       8086 non-null   float64\n",
            " 32  interests_correlate            8086 non-null   float64\n",
            " 33  expected_happy_with_sd_people  8086 non-null   float64\n",
            " 34  expected_num_interested_in_me  8086 non-null   float64\n",
            " 35  like                           8086 non-null   float64\n",
            " 36  guess_prob_liked               8086 non-null   float64\n",
            " 37  met                            8086 non-null   float64\n",
            " 38  match                          8086 non-null   int64  \n",
            "dtypes: float64(34), int64(2), object(3)\n",
            "memory usage: 2.5+ MB\n"
          ]
        }
      ]
    },
    {
      "cell_type": "code",
      "source": [
        "missing_columns"
      ],
      "metadata": {
        "colab": {
          "base_uri": "https://localhost:8080/"
        },
        "id": "O2iMV_7L6g6c",
        "outputId": "f08c20f1-2f73-4477-d955-59957a110d5a"
      },
      "execution_count": 53,
      "outputs": [
        {
          "output_type": "execute_result",
          "data": {
            "text/plain": [
              "['attractive_o',\n",
              " 'sincere_o',\n",
              " 'intelligence_o',\n",
              " 'funny_o',\n",
              " 'ambitous_o',\n",
              " 'shared_interests_o',\n",
              " 'attractive_partner',\n",
              " 'sincere_partner',\n",
              " 'intelligence_partner',\n",
              " 'funny_partner',\n",
              " 'ambition_partner',\n",
              " 'shared_interests_partner',\n",
              " 'expected_num_interested_in_me',\n",
              " 'like',\n",
              " 'guess_prob_liked',\n",
              " 'met']"
            ]
          },
          "metadata": {},
          "execution_count": 53
        }
      ]
    },
    {
      "cell_type": "markdown",
      "source": [
        "### Feature Engineering\n",
        "\n",
        "- Feature: 독립변수들 + Engineering: 가공"
      ],
      "metadata": {
        "id": "vD4mjJQU3PZd"
      }
    },
    {
      "cell_type": "markdown",
      "source": [
        "#### `age_gap`\n",
        "\n",
        "- `age`: 본인의 나이\n",
        "\n",
        "- `age_o`: 상대방의 나이"
      ],
      "metadata": {
        "id": "Pl5Cq5Nk6QV0"
      }
    },
    {
      "cell_type": "code",
      "source": [
        "def age_gap(row):\n",
        "    # female: (age_o - age)\n",
        "    if row['gender'] == 'female':\n",
        "        return row['age_o'] - row['age']\n",
        "    \n",
        "    # male: (age - age_o)\n",
        "    if row['gender'] == 'male':\n",
        "        return row['age'] - row['age_o']"
      ],
      "metadata": {
        "id": "MqJJr2tO5RE0"
      },
      "execution_count": 54,
      "outputs": []
    },
    {
      "cell_type": "code",
      "source": [
        "df['age_gap'] = df.apply(age_gap, axis=1)\n",
        "\n",
        "df['age_gap'].head(10)"
      ],
      "metadata": {
        "colab": {
          "base_uri": "https://localhost:8080/"
        },
        "id": "1Rnymshc8VJt",
        "outputId": "29d73899-e7c0-4b0c-eb68-0117eaf16afc"
      },
      "execution_count": 56,
      "outputs": [
        {
          "output_type": "execute_result",
          "data": {
            "text/plain": [
              "0   6.00\n",
              "1   1.00\n",
              "2   1.00\n",
              "3   2.00\n",
              "4   3.00\n",
              "5   4.00\n",
              "6   9.00\n",
              "7   6.00\n",
              "8   7.00\n",
              "9   3.00\n",
              "Name: age_gap, dtype: float64"
            ]
          },
          "metadata": {},
          "execution_count": 56
        }
      ]
    },
    {
      "cell_type": "markdown",
      "source": [
        "- 나이 차이의 절대값 column 생성"
      ],
      "metadata": {
        "id": "yiOFWhyP8dfe"
      }
    },
    {
      "cell_type": "code",
      "source": [
        "df['age_gap_abs'] = abs(df['age_gap'])\n",
        "\n",
        "df['age_gap_abs'].unique()"
      ],
      "metadata": {
        "colab": {
          "base_uri": "https://localhost:8080/"
        },
        "id": "rJFXRFyF8mIV",
        "outputId": "a1b6d1c7-a2e1-4fad-daf4-4ffb18c1e8f8"
      },
      "execution_count": 57,
      "outputs": [
        {
          "output_type": "execute_result",
          "data": {
            "text/plain": [
              "array([ 6.,  1.,  2.,  3.,  4.,  9.,  7.,  0.,  5.,  8., 12., 13., 10.,\n",
              "       17., 16., 11., 14., 18., 15., 19., 20., 22., 28., 32.])"
            ]
          },
          "metadata": {},
          "execution_count": 57
        }
      ]
    },
    {
      "cell_type": "markdown",
      "source": [
        "#### `same_race`"
      ],
      "metadata": {
        "id": "XhG9HgdL80fF"
      }
    },
    {
      "cell_type": "code",
      "source": [
        "def check_same_race(record):\n",
        "    if record['race'] == record['race_o']:\n",
        "        return 1\n",
        "    else:\n",
        "        return -1"
      ],
      "metadata": {
        "id": "GC4Blxrq8uG-"
      },
      "execution_count": 61,
      "outputs": []
    },
    {
      "cell_type": "code",
      "source": [
        "df['same_race'] = df.apply(check_same_race, axis=1)\n",
        "\n",
        "df['same_race'].unique()"
      ],
      "metadata": {
        "colab": {
          "base_uri": "https://localhost:8080/"
        },
        "id": "r5eTGmDs-KJO",
        "outputId": "5d11c753-7e13-4fb8-e94d-eaa7899ddcba"
      },
      "execution_count": 62,
      "outputs": [
        {
          "output_type": "execute_result",
          "data": {
            "text/plain": [
              "array([-1,  1])"
            ]
          },
          "metadata": {},
          "execution_count": 62
        }
      ]
    },
    {
      "cell_type": "code",
      "source": [
        "df['importance_same_race'].value_counts()"
      ],
      "metadata": {
        "colab": {
          "base_uri": "https://localhost:8080/"
        },
        "id": "bKOpAcWx-a0G",
        "outputId": "098c3f73-dd73-4510-ec80-3732b72c4c91"
      },
      "execution_count": 63,
      "outputs": [
        {
          "output_type": "execute_result",
          "data": {
            "text/plain": [
              "1.00     2721\n",
              "3.00      962\n",
              "2.00      935\n",
              "5.00      640\n",
              "8.00      629\n",
              "7.00      533\n",
              "6.00      515\n",
              "4.00      494\n",
              "9.00      403\n",
              "10.00     246\n",
              "0.00        8\n",
              "Name: importance_same_race, dtype: int64"
            ]
          },
          "metadata": {},
          "execution_count": 63
        }
      ]
    },
    {
      "cell_type": "code",
      "source": [
        "df['same_race'].isna().sum()"
      ],
      "metadata": {
        "colab": {
          "base_uri": "https://localhost:8080/"
        },
        "id": "NUysAGDA_SCx",
        "outputId": "71ec9c88-03df-4569-d04d-842bc49e7f5c"
      },
      "execution_count": 64,
      "outputs": [
        {
          "output_type": "execute_result",
          "data": {
            "text/plain": [
              "0"
            ]
          },
          "metadata": {},
          "execution_count": 64
        }
      ]
    },
    {
      "cell_type": "code",
      "source": [
        "'importance_same_race' in missing_columns"
      ],
      "metadata": {
        "colab": {
          "base_uri": "https://localhost:8080/"
        },
        "id": "6nQJXKK6_YlV",
        "outputId": "74469363-61e0-4874-fd6a-6f112d039918"
      },
      "execution_count": 65,
      "outputs": [
        {
          "output_type": "execute_result",
          "data": {
            "text/plain": [
              "False"
            ]
          },
          "metadata": {},
          "execution_count": 65
        }
      ]
    },
    {
      "cell_type": "markdown",
      "source": [
        "#### `same_race_point`\n",
        "\n",
        "- `same_race_point` = `same_race` * `importance_same_race` \n",
        "\n",
        "    - 파생변수 `same_race_point`"
      ],
      "metadata": {
        "id": "TODm8Kp0_2bW"
      }
    },
    {
      "cell_type": "code",
      "source": [
        "df['same_race_point'] = df['same_race'].mul(df['importance_same_race'])\n",
        "\n",
        "df['same_race_point'].value_counts()"
      ],
      "metadata": {
        "colab": {
          "base_uri": "https://localhost:8080/"
        },
        "id": "7_htuZM1-npP",
        "outputId": "1cf5e7f9-73b0-4cff-b67e-f1684d5f6a72"
      },
      "execution_count": 66,
      "outputs": [
        {
          "output_type": "execute_result",
          "data": {
            "text/plain": [
              "-1.00     1755\n",
              "1.00       966\n",
              "-3.00      610\n",
              "-2.00      573\n",
              "2.00       362\n",
              "-5.00      353\n",
              "3.00       352\n",
              "8.00       320\n",
              "-6.00      316\n",
              "-7.00      310\n",
              "-8.00      309\n",
              "5.00       287\n",
              "-4.00      272\n",
              "7.00       223\n",
              "4.00       222\n",
              "-9.00      210\n",
              "6.00       199\n",
              "9.00       193\n",
              "10.00      130\n",
              "-10.00     116\n",
              "0.00         8\n",
              "Name: same_race_point, dtype: int64"
            ]
          },
          "metadata": {},
          "execution_count": 66
        }
      ]
    },
    {
      "cell_type": "code",
      "source": [
        "df[['race', 'race_o', 'same_race', 'importance_same_race', 'same_race_point']].head(10)"
      ],
      "metadata": {
        "colab": {
          "base_uri": "https://localhost:8080/",
          "height": 581
        },
        "id": "9U-T89UA_ycn",
        "outputId": "84907a82-f3d6-4664-b716-817c58ec202d"
      },
      "execution_count": 68,
      "outputs": [
        {
          "output_type": "execute_result",
          "data": {
            "text/plain": [
              "                                   race                                race_o  \\\n",
              "0  Asian/PacificIslander/Asian-American           European/Caucasian-American   \n",
              "1  Asian/PacificIslander/Asian-American           European/Caucasian-American   \n",
              "2  Asian/PacificIslander/Asian-American  Asian/PacificIslander/Asian-American   \n",
              "3  Asian/PacificIslander/Asian-American           European/Caucasian-American   \n",
              "4  Asian/PacificIslander/Asian-American               Latino/HispanicAmerican   \n",
              "5  Asian/PacificIslander/Asian-American           European/Caucasian-American   \n",
              "6  Asian/PacificIslander/Asian-American           European/Caucasian-American   \n",
              "7  Asian/PacificIslander/Asian-American           European/Caucasian-American   \n",
              "8  Asian/PacificIslander/Asian-American           European/Caucasian-American   \n",
              "9  Asian/PacificIslander/Asian-American           European/Caucasian-American   \n",
              "\n",
              "   same_race  importance_same_race  same_race_point  \n",
              "0         -1                  2.00            -2.00  \n",
              "1         -1                  2.00            -2.00  \n",
              "2          1                  2.00             2.00  \n",
              "3         -1                  2.00            -2.00  \n",
              "4         -1                  2.00            -2.00  \n",
              "5         -1                  2.00            -2.00  \n",
              "6         -1                  2.00            -2.00  \n",
              "7         -1                  2.00            -2.00  \n",
              "8         -1                  2.00            -2.00  \n",
              "9         -1                  2.00            -2.00  "
            ],
            "text/html": [
              "\n",
              "  <div id=\"df-72a1f3a7-b496-4ce2-9798-3b20781dc53e\">\n",
              "    <div class=\"colab-df-container\">\n",
              "      <div>\n",
              "<style scoped>\n",
              "    .dataframe tbody tr th:only-of-type {\n",
              "        vertical-align: middle;\n",
              "    }\n",
              "\n",
              "    .dataframe tbody tr th {\n",
              "        vertical-align: top;\n",
              "    }\n",
              "\n",
              "    .dataframe thead th {\n",
              "        text-align: right;\n",
              "    }\n",
              "</style>\n",
              "<table border=\"1\" class=\"dataframe\">\n",
              "  <thead>\n",
              "    <tr style=\"text-align: right;\">\n",
              "      <th></th>\n",
              "      <th>race</th>\n",
              "      <th>race_o</th>\n",
              "      <th>same_race</th>\n",
              "      <th>importance_same_race</th>\n",
              "      <th>same_race_point</th>\n",
              "    </tr>\n",
              "  </thead>\n",
              "  <tbody>\n",
              "    <tr>\n",
              "      <th>0</th>\n",
              "      <td>Asian/PacificIslander/Asian-American</td>\n",
              "      <td>European/Caucasian-American</td>\n",
              "      <td>-1</td>\n",
              "      <td>2.00</td>\n",
              "      <td>-2.00</td>\n",
              "    </tr>\n",
              "    <tr>\n",
              "      <th>1</th>\n",
              "      <td>Asian/PacificIslander/Asian-American</td>\n",
              "      <td>European/Caucasian-American</td>\n",
              "      <td>-1</td>\n",
              "      <td>2.00</td>\n",
              "      <td>-2.00</td>\n",
              "    </tr>\n",
              "    <tr>\n",
              "      <th>2</th>\n",
              "      <td>Asian/PacificIslander/Asian-American</td>\n",
              "      <td>Asian/PacificIslander/Asian-American</td>\n",
              "      <td>1</td>\n",
              "      <td>2.00</td>\n",
              "      <td>2.00</td>\n",
              "    </tr>\n",
              "    <tr>\n",
              "      <th>3</th>\n",
              "      <td>Asian/PacificIslander/Asian-American</td>\n",
              "      <td>European/Caucasian-American</td>\n",
              "      <td>-1</td>\n",
              "      <td>2.00</td>\n",
              "      <td>-2.00</td>\n",
              "    </tr>\n",
              "    <tr>\n",
              "      <th>4</th>\n",
              "      <td>Asian/PacificIslander/Asian-American</td>\n",
              "      <td>Latino/HispanicAmerican</td>\n",
              "      <td>-1</td>\n",
              "      <td>2.00</td>\n",
              "      <td>-2.00</td>\n",
              "    </tr>\n",
              "    <tr>\n",
              "      <th>5</th>\n",
              "      <td>Asian/PacificIslander/Asian-American</td>\n",
              "      <td>European/Caucasian-American</td>\n",
              "      <td>-1</td>\n",
              "      <td>2.00</td>\n",
              "      <td>-2.00</td>\n",
              "    </tr>\n",
              "    <tr>\n",
              "      <th>6</th>\n",
              "      <td>Asian/PacificIslander/Asian-American</td>\n",
              "      <td>European/Caucasian-American</td>\n",
              "      <td>-1</td>\n",
              "      <td>2.00</td>\n",
              "      <td>-2.00</td>\n",
              "    </tr>\n",
              "    <tr>\n",
              "      <th>7</th>\n",
              "      <td>Asian/PacificIslander/Asian-American</td>\n",
              "      <td>European/Caucasian-American</td>\n",
              "      <td>-1</td>\n",
              "      <td>2.00</td>\n",
              "      <td>-2.00</td>\n",
              "    </tr>\n",
              "    <tr>\n",
              "      <th>8</th>\n",
              "      <td>Asian/PacificIslander/Asian-American</td>\n",
              "      <td>European/Caucasian-American</td>\n",
              "      <td>-1</td>\n",
              "      <td>2.00</td>\n",
              "      <td>-2.00</td>\n",
              "    </tr>\n",
              "    <tr>\n",
              "      <th>9</th>\n",
              "      <td>Asian/PacificIslander/Asian-American</td>\n",
              "      <td>European/Caucasian-American</td>\n",
              "      <td>-1</td>\n",
              "      <td>2.00</td>\n",
              "      <td>-2.00</td>\n",
              "    </tr>\n",
              "  </tbody>\n",
              "</table>\n",
              "</div>\n",
              "      <button class=\"colab-df-convert\" onclick=\"convertToInteractive('df-72a1f3a7-b496-4ce2-9798-3b20781dc53e')\"\n",
              "              title=\"Convert this dataframe to an interactive table.\"\n",
              "              style=\"display:none;\">\n",
              "        \n",
              "  <svg xmlns=\"http://www.w3.org/2000/svg\" height=\"24px\"viewBox=\"0 0 24 24\"\n",
              "       width=\"24px\">\n",
              "    <path d=\"M0 0h24v24H0V0z\" fill=\"none\"/>\n",
              "    <path d=\"M18.56 5.44l.94 2.06.94-2.06 2.06-.94-2.06-.94-.94-2.06-.94 2.06-2.06.94zm-11 1L8.5 8.5l.94-2.06 2.06-.94-2.06-.94L8.5 2.5l-.94 2.06-2.06.94zm10 10l.94 2.06.94-2.06 2.06-.94-2.06-.94-.94-2.06-.94 2.06-2.06.94z\"/><path d=\"M17.41 7.96l-1.37-1.37c-.4-.4-.92-.59-1.43-.59-.52 0-1.04.2-1.43.59L10.3 9.45l-7.72 7.72c-.78.78-.78 2.05 0 2.83L4 21.41c.39.39.9.59 1.41.59.51 0 1.02-.2 1.41-.59l7.78-7.78 2.81-2.81c.8-.78.8-2.07 0-2.86zM5.41 20L4 18.59l7.72-7.72 1.47 1.35L5.41 20z\"/>\n",
              "  </svg>\n",
              "      </button>\n",
              "      \n",
              "  <style>\n",
              "    .colab-df-container {\n",
              "      display:flex;\n",
              "      flex-wrap:wrap;\n",
              "      gap: 12px;\n",
              "    }\n",
              "\n",
              "    .colab-df-convert {\n",
              "      background-color: #E8F0FE;\n",
              "      border: none;\n",
              "      border-radius: 50%;\n",
              "      cursor: pointer;\n",
              "      display: none;\n",
              "      fill: #1967D2;\n",
              "      height: 32px;\n",
              "      padding: 0 0 0 0;\n",
              "      width: 32px;\n",
              "    }\n",
              "\n",
              "    .colab-df-convert:hover {\n",
              "      background-color: #E2EBFA;\n",
              "      box-shadow: 0px 1px 2px rgba(60, 64, 67, 0.3), 0px 1px 3px 1px rgba(60, 64, 67, 0.15);\n",
              "      fill: #174EA6;\n",
              "    }\n",
              "\n",
              "    [theme=dark] .colab-df-convert {\n",
              "      background-color: #3B4455;\n",
              "      fill: #D2E3FC;\n",
              "    }\n",
              "\n",
              "    [theme=dark] .colab-df-convert:hover {\n",
              "      background-color: #434B5C;\n",
              "      box-shadow: 0px 1px 3px 1px rgba(0, 0, 0, 0.15);\n",
              "      filter: drop-shadow(0px 1px 2px rgba(0, 0, 0, 0.3));\n",
              "      fill: #FFFFFF;\n",
              "    }\n",
              "  </style>\n",
              "\n",
              "      <script>\n",
              "        const buttonEl =\n",
              "          document.querySelector('#df-72a1f3a7-b496-4ce2-9798-3b20781dc53e button.colab-df-convert');\n",
              "        buttonEl.style.display =\n",
              "          google.colab.kernel.accessAllowed ? 'block' : 'none';\n",
              "\n",
              "        async function convertToInteractive(key) {\n",
              "          const element = document.querySelector('#df-72a1f3a7-b496-4ce2-9798-3b20781dc53e');\n",
              "          const dataTable =\n",
              "            await google.colab.kernel.invokeFunction('convertToInteractive',\n",
              "                                                     [key], {});\n",
              "          if (!dataTable) return;\n",
              "\n",
              "          const docLinkHtml = 'Like what you see? Visit the ' +\n",
              "            '<a target=\"_blank\" href=https://colab.research.google.com/notebooks/data_table.ipynb>data table notebook</a>'\n",
              "            + ' to learn more about interactive tables.';\n",
              "          element.innerHTML = '';\n",
              "          dataTable['output_type'] = 'display_data';\n",
              "          await google.colab.output.renderOutput(dataTable, element);\n",
              "          const docLink = document.createElement('div');\n",
              "          docLink.innerHTML = docLinkHtml;\n",
              "          element.appendChild(docLink);\n",
              "        }\n",
              "      </script>\n",
              "    </div>\n",
              "  </div>\n",
              "  "
            ]
          },
          "metadata": {},
          "execution_count": 68
        }
      ]
    },
    {
      "cell_type": "markdown",
      "source": [
        "#### `rating`\n",
        "\n",
        "- `importance` * `score` = `rate`: 파생변수"
      ],
      "metadata": {
        "id": "IEoLxn4XAblF"
      }
    },
    {
      "cell_type": "code",
      "source": [
        "def rating(record, importance, score):\n",
        "    # 결측치 처리\n",
        "    if record[importance] == -99: return None\n",
        "    if record[score] == -99: return None\n",
        "    \n",
        "    return record[importance] * record[score]"
      ],
      "metadata": {
        "id": "3puU9Jg3A3rP"
      },
      "execution_count": 126,
      "outputs": []
    },
    {
      "cell_type": "code",
      "source": [
        "df.columns"
      ],
      "metadata": {
        "colab": {
          "base_uri": "https://localhost:8080/"
        },
        "id": "WeJ0He7YBL2f",
        "outputId": "270e6c24-59e1-409a-e2d7-4a4424f39c0c"
      },
      "execution_count": 73,
      "outputs": [
        {
          "output_type": "execute_result",
          "data": {
            "text/plain": [
              "Index(['has_null', 'gender', 'age', 'age_o', 'race', 'race_o',\n",
              "       'importance_same_race', 'importance_same_religion', 'pref_o_attractive',\n",
              "       'pref_o_sincere', 'pref_o_intelligence', 'pref_o_funny',\n",
              "       'pref_o_ambitious', 'pref_o_shared_interests', 'attractive_o',\n",
              "       'sincere_o', 'intelligence_o', 'funny_o', 'ambitous_o',\n",
              "       'shared_interests_o', 'attractive_important', 'sincere_important',\n",
              "       'intellicence_important', 'funny_important', 'ambtition_important',\n",
              "       'shared_interests_important', 'attractive_partner', 'sincere_partner',\n",
              "       'intelligence_partner', 'funny_partner', 'ambition_partner',\n",
              "       'shared_interests_partner', 'interests_correlate',\n",
              "       'expected_happy_with_sd_people', 'expected_num_interested_in_me',\n",
              "       'like', 'guess_prob_liked', 'met', 'match', 'age_gap', 'age_gap_abs',\n",
              "       'same_race', 'same_race_point'],\n",
              "      dtype='object')"
            ]
          },
          "metadata": {},
          "execution_count": 73
        }
      ]
    },
    {
      "cell_type": "markdown",
      "source": [
        "- 특성에 대한 상대방의 선호도"
      ],
      "metadata": {
        "id": "Zlhz_7yHB_5V"
      }
    },
    {
      "cell_type": "code",
      "source": [
        "pref_ptnr = [col for col in df.columns if col.split('_')[0] == 'pref']\n",
        "\n",
        "pref_ptnr"
      ],
      "metadata": {
        "colab": {
          "base_uri": "https://localhost:8080/"
        },
        "id": "eHqU9nIYBNv-",
        "outputId": "892fb0ae-b48c-40a2-9d9b-ca2d1138a76e"
      },
      "execution_count": 114,
      "outputs": [
        {
          "output_type": "execute_result",
          "data": {
            "text/plain": [
              "['pref_o_attractive',\n",
              " 'pref_o_sincere',\n",
              " 'pref_o_intelligence',\n",
              " 'pref_o_funny',\n",
              " 'pref_o_ambitious',\n",
              " 'pref_o_shared_interests']"
            ]
          },
          "metadata": {},
          "execution_count": 114
        }
      ]
    },
    {
      "cell_type": "markdown",
      "source": [
        "- (본인의) 특성에 대한 상대방의 평가"
      ],
      "metadata": {
        "id": "sg6x7XHtBmK3"
      }
    },
    {
      "cell_type": "code",
      "source": [
        "rate_me = [col for col in df.columns if col[-1] == 'o']\n",
        "\n",
        "rate_me"
      ],
      "metadata": {
        "colab": {
          "base_uri": "https://localhost:8080/"
        },
        "id": "AaT6UKsKCcQM",
        "outputId": "d5324459-3e26-4fac-82c0-810fbbcdc2e8"
      },
      "execution_count": 121,
      "outputs": [
        {
          "output_type": "execute_result",
          "data": {
            "text/plain": [
              "['age_o',\n",
              " 'race_o',\n",
              " 'attractive_o',\n",
              " 'sincere_o',\n",
              " 'intelligence_o',\n",
              " 'funny_o',\n",
              " 'ambitous_o',\n",
              " 'shared_interests_o']"
            ]
          },
          "metadata": {},
          "execution_count": 121
        }
      ]
    },
    {
      "cell_type": "code",
      "source": [
        "del rate_me[0:2]\n",
        "\n",
        "rate_me"
      ],
      "metadata": {
        "colab": {
          "base_uri": "https://localhost:8080/"
        },
        "id": "NuQ7ylfaL47Q",
        "outputId": "c266822b-ba9d-4499-c21d-c7d22fc5ad01"
      },
      "execution_count": 122,
      "outputs": [
        {
          "output_type": "execute_result",
          "data": {
            "text/plain": [
              "['attractive_o',\n",
              " 'sincere_o',\n",
              " 'intelligence_o',\n",
              " 'funny_o',\n",
              " 'ambitous_o',\n",
              " 'shared_interests_o']"
            ]
          },
          "metadata": {},
          "execution_count": 122
        }
      ]
    },
    {
      "cell_type": "markdown",
      "source": [
        "- 특성에 대한 본인의 선호도"
      ],
      "metadata": {
        "id": "r3cVAJLiCtOf"
      }
    },
    {
      "cell_type": "code",
      "source": [
        "pref_me = [col for col in df.columns if col[-9:] == 'important']\n",
        "\n",
        "pref_me"
      ],
      "metadata": {
        "colab": {
          "base_uri": "https://localhost:8080/"
        },
        "id": "J98yqywlH6GG",
        "outputId": "4b7bb8be-6154-4e54-b128-6aeee8b164e7"
      },
      "execution_count": 116,
      "outputs": [
        {
          "output_type": "execute_result",
          "data": {
            "text/plain": [
              "['attractive_important',\n",
              " 'sincere_important',\n",
              " 'intellicence_important',\n",
              " 'funny_important',\n",
              " 'ambtition_important',\n",
              " 'shared_interests_important']"
            ]
          },
          "metadata": {},
          "execution_count": 116
        }
      ]
    },
    {
      "cell_type": "markdown",
      "source": [
        "- (상대방의) 특성에 대한 본인의 평가"
      ],
      "metadata": {
        "id": "wKXt4tjjIN14"
      }
    },
    {
      "cell_type": "code",
      "source": [
        "rate_ptnr = [col for col in df.columns if col[-(len('partner')):] == 'partner']\n",
        "\n",
        "rate_ptnr"
      ],
      "metadata": {
        "colab": {
          "base_uri": "https://localhost:8080/"
        },
        "id": "3nT3qXDzJYNo",
        "outputId": "a0c0997b-94b8-4b4e-9a65-fea18225e5e9"
      },
      "execution_count": 112,
      "outputs": [
        {
          "output_type": "execute_result",
          "data": {
            "text/plain": [
              "['attractive_partner',\n",
              " 'sincere_partner',\n",
              " 'intelligence_partner',\n",
              " 'funny_partner',\n",
              " 'ambition_partner',\n",
              " 'shared_interests_partner']"
            ]
          },
          "metadata": {},
          "execution_count": 112
        }
      ]
    },
    {
      "cell_type": "markdown",
      "source": [
        "- 평가 점수 X 중요도 = 새로운 label: `score`\n"
      ],
      "metadata": {
        "id": "1RRNmUi6JnfH"
      }
    },
    {
      "cell_type": "code",
      "source": [
        "character_list = [ch.split('_')[0] for ch in rate_ptnr]\n",
        "\n",
        "score_ptnr = [ch + '_ptnr' for ch in character_list]\n",
        "score_me = [ch + '_me' for ch in character_list]\n",
        "\n",
        "print(score_ptnr)\n",
        "print(score_me)"
      ],
      "metadata": {
        "colab": {
          "base_uri": "https://localhost:8080/"
        },
        "id": "NPszxpLnKOZO",
        "outputId": "34c088e7-232f-4aee-e580-0d672fbff6ab"
      },
      "execution_count": 123,
      "outputs": [
        {
          "output_type": "stream",
          "name": "stdout",
          "text": [
            "['attractive_ptnr', 'sincere_ptnr', 'intelligence_ptnr', 'funny_ptnr', 'ambition_ptnr', 'shared_ptnr']\n",
            "['attractive_me', 'sincere_me', 'intelligence_me', 'funny_me', 'ambition_me', 'shared_me']\n"
          ]
        }
      ]
    },
    {
      "cell_type": "code",
      "source": [
        "for i, j, k in zip(score_ptnr, pref_ptnr, rate_ptnr):\n",
        "    df[i] = df.apply(lambda x: rating(x, j, k), axis=1)\n",
        "\n",
        "for score in score_ptnr:\n",
        "    print(df[score].head())"
      ],
      "metadata": {
        "colab": {
          "base_uri": "https://localhost:8080/"
        },
        "id": "GJ6JqvpENwO5",
        "outputId": "1ca46387-004f-45db-8ef9-3970ad066c77"
      },
      "execution_count": 128,
      "outputs": [
        {
          "output_type": "stream",
          "name": "stdout",
          "text": [
            "0   210.00\n",
            "1   420.00\n",
            "2    95.00\n",
            "3   210.00\n",
            "4   150.00\n",
            "Name: attractive_ptnr, dtype: float64\n",
            "0   180.00\n",
            "1     0.00\n",
            "2   144.00\n",
            "3    30.00\n",
            "4    60.00\n",
            "Name: sincere_ptnr, dtype: float64\n",
            "0   140.00\n",
            "1     0.00\n",
            "2   171.00\n",
            "3   120.00\n",
            "4   140.00\n",
            "Name: intelligence_ptnr, dtype: float64\n",
            "0   140.00\n",
            "1   320.00\n",
            "2   144.00\n",
            "3   280.00\n",
            "4    70.00\n",
            "Name: funny_ptnr, dtype: float64\n",
            "0    0.00\n",
            "1    0.00\n",
            "2   70.00\n",
            "3   30.00\n",
            "4   60.00\n",
            "Name: ambition_ptnr, dtype: float64\n",
            "0    25.00\n",
            "1     0.00\n",
            "2    84.00\n",
            "3    40.00\n",
            "4   120.00\n",
            "Name: shared_ptnr, dtype: float64\n"
          ]
        }
      ]
    },
    {
      "cell_type": "code",
      "source": [
        "for i, j, k in zip(score_me, pref_me, rate_me):\n",
        "    df[i] = df.apply(lambda x: rating(x, j, k), axis=1)\n",
        "\n",
        "for score in score_me:\n",
        "    print(df[score].head())"
      ],
      "metadata": {
        "colab": {
          "base_uri": "https://localhost:8080/"
        },
        "id": "ka9a-DZePLT5",
        "outputId": "42431ff4-1c52-4c74-daaa-57f139e11b37"
      },
      "execution_count": 130,
      "outputs": [
        {
          "output_type": "stream",
          "name": "stdout",
          "text": [
            "0    90.00\n",
            "1   105.00\n",
            "2   150.00\n",
            "3   105.00\n",
            "4   120.00\n",
            "Name: attractive_me, dtype: float64\n",
            "0   160.00\n",
            "1   160.00\n",
            "2   200.00\n",
            "3   160.00\n",
            "4   140.00\n",
            "Name: sincere_me, dtype: float64\n",
            "0   160.00\n",
            "1   200.00\n",
            "2   200.00\n",
            "3   180.00\n",
            "4   180.00\n",
            "Name: intelligence_me, dtype: float64\n",
            "0   120.00\n",
            "1   105.00\n",
            "2   150.00\n",
            "3   120.00\n",
            "4    90.00\n",
            "Name: funny_me, dtype: float64\n",
            "0   120.00\n",
            "1   105.00\n",
            "2   150.00\n",
            "3   135.00\n",
            "4   135.00\n",
            "Name: ambition_me, dtype: float64\n",
            "0    90.00\n",
            "1    75.00\n",
            "2   150.00\n",
            "3   120.00\n",
            "4   105.00\n",
            "Name: shared_me, dtype: float64\n"
          ]
        }
      ]
    },
    {
      "cell_type": "code",
      "source": [
        "df.columns"
      ],
      "metadata": {
        "colab": {
          "base_uri": "https://localhost:8080/"
        },
        "id": "z5CyRjO3QwqR",
        "outputId": "3afd77cd-f52f-4581-dd3d-706f01f94f20"
      },
      "execution_count": 131,
      "outputs": [
        {
          "output_type": "execute_result",
          "data": {
            "text/plain": [
              "Index(['has_null', 'gender', 'age', 'age_o', 'race', 'race_o',\n",
              "       'importance_same_race', 'importance_same_religion', 'pref_o_attractive',\n",
              "       'pref_o_sincere', 'pref_o_intelligence', 'pref_o_funny',\n",
              "       'pref_o_ambitious', 'pref_o_shared_interests', 'attractive_o',\n",
              "       'sincere_o', 'intelligence_o', 'funny_o', 'ambitous_o',\n",
              "       'shared_interests_o', 'attractive_important', 'sincere_important',\n",
              "       'intellicence_important', 'funny_important', 'ambtition_important',\n",
              "       'shared_interests_important', 'attractive_partner', 'sincere_partner',\n",
              "       'intelligence_partner', 'funny_partner', 'ambition_partner',\n",
              "       'shared_interests_partner', 'interests_correlate',\n",
              "       'expected_happy_with_sd_people', 'expected_num_interested_in_me',\n",
              "       'like', 'guess_prob_liked', 'met', 'match', 'age_gap', 'age_gap_abs',\n",
              "       'same_race', 'same_race_point', 'attractive_ptnr', 'sincere_ptnr',\n",
              "       'intelligence_ptnr', 'funny_ptnr', 'ambition_ptnr', 'shared_ptnr',\n",
              "       'attractive_me', 'sincere_me', 'intelligence_me', 'funny_me',\n",
              "       'ambition_me', 'shared_me'],\n",
              "      dtype='object')"
            ]
          },
          "metadata": {},
          "execution_count": 131
        }
      ]
    },
    {
      "cell_type": "markdown",
      "source": [
        "### Categorical Data"
      ],
      "metadata": {
        "id": "-K1hV2LZQ4IQ"
      }
    },
    {
      "cell_type": "code",
      "source": [
        "df.info()"
      ],
      "metadata": {
        "colab": {
          "base_uri": "https://localhost:8080/"
        },
        "id": "a5Sug52PQ730",
        "outputId": "3cd5793a-36b0-45c6-8783-d9a56178a4fd"
      },
      "execution_count": 133,
      "outputs": [
        {
          "output_type": "stream",
          "name": "stdout",
          "text": [
            "<class 'pandas.core.frame.DataFrame'>\n",
            "Int64Index: 8086 entries, 0 to 8377\n",
            "Data columns (total 55 columns):\n",
            " #   Column                         Non-Null Count  Dtype  \n",
            "---  ------                         --------------  -----  \n",
            " 0   has_null                       8086 non-null   int64  \n",
            " 1   gender                         8086 non-null   object \n",
            " 2   age                            8086 non-null   float64\n",
            " 3   age_o                          8086 non-null   float64\n",
            " 4   race                           8086 non-null   object \n",
            " 5   race_o                         8086 non-null   object \n",
            " 6   importance_same_race           8086 non-null   float64\n",
            " 7   importance_same_religion       8086 non-null   float64\n",
            " 8   pref_o_attractive              8086 non-null   float64\n",
            " 9   pref_o_sincere                 8086 non-null   float64\n",
            " 10  pref_o_intelligence            8086 non-null   float64\n",
            " 11  pref_o_funny                   8086 non-null   float64\n",
            " 12  pref_o_ambitious               8086 non-null   float64\n",
            " 13  pref_o_shared_interests        8086 non-null   float64\n",
            " 14  attractive_o                   8086 non-null   float64\n",
            " 15  sincere_o                      8086 non-null   float64\n",
            " 16  intelligence_o                 8086 non-null   float64\n",
            " 17  funny_o                        8086 non-null   float64\n",
            " 18  ambitous_o                     8086 non-null   float64\n",
            " 19  shared_interests_o             8086 non-null   float64\n",
            " 20  attractive_important           8086 non-null   float64\n",
            " 21  sincere_important              8086 non-null   float64\n",
            " 22  intellicence_important         8086 non-null   float64\n",
            " 23  funny_important                8086 non-null   float64\n",
            " 24  ambtition_important            8086 non-null   float64\n",
            " 25  shared_interests_important     8086 non-null   float64\n",
            " 26  attractive_partner             8086 non-null   float64\n",
            " 27  sincere_partner                8086 non-null   float64\n",
            " 28  intelligence_partner           8086 non-null   float64\n",
            " 29  funny_partner                  8086 non-null   float64\n",
            " 30  ambition_partner               8086 non-null   float64\n",
            " 31  shared_interests_partner       8086 non-null   float64\n",
            " 32  interests_correlate            8086 non-null   float64\n",
            " 33  expected_happy_with_sd_people  8086 non-null   float64\n",
            " 34  expected_num_interested_in_me  8086 non-null   float64\n",
            " 35  like                           8086 non-null   float64\n",
            " 36  guess_prob_liked               8086 non-null   float64\n",
            " 37  met                            8086 non-null   float64\n",
            " 38  match                          8086 non-null   int64  \n",
            " 39  age_gap                        8086 non-null   float64\n",
            " 40  age_gap_abs                    8086 non-null   float64\n",
            " 41  same_race                      8086 non-null   int64  \n",
            " 42  same_race_point                8086 non-null   float64\n",
            " 43  attractive_ptnr                8086 non-null   float64\n",
            " 44  sincere_ptnr                   8086 non-null   float64\n",
            " 45  intelligence_ptnr              8086 non-null   float64\n",
            " 46  funny_ptnr                     8086 non-null   float64\n",
            " 47  ambition_ptnr                  8086 non-null   float64\n",
            " 48  shared_ptnr                    8086 non-null   float64\n",
            " 49  attractive_me                  8086 non-null   float64\n",
            " 50  sincere_me                     8086 non-null   float64\n",
            " 51  intelligence_me                8086 non-null   float64\n",
            " 52  funny_me                       8086 non-null   float64\n",
            " 53  ambition_me                    8086 non-null   float64\n",
            " 54  shared_me                      8086 non-null   float64\n",
            "dtypes: float64(49), int64(3), object(3)\n",
            "memory usage: 3.5+ MB\n"
          ]
        }
      ]
    },
    {
      "cell_type": "code",
      "source": [
        "df.describe(include=['O'])"
      ],
      "metadata": {
        "colab": {
          "base_uri": "https://localhost:8080/",
          "height": 175
        },
        "id": "9CHd8boORJjg",
        "outputId": "e2d0fc36-fb26-4cb6-e132-f98a4b49a494"
      },
      "execution_count": 135,
      "outputs": [
        {
          "output_type": "execute_result",
          "data": {
            "text/plain": [
              "        gender                         race                       race_o\n",
              "count     8086                         8086                         8086\n",
              "unique       2                            5                            5\n",
              "top     female  European/Caucasian-American  European/Caucasian-American\n",
              "freq      4043                         4594                         4594"
            ],
            "text/html": [
              "\n",
              "  <div id=\"df-b5e9ba4f-d2eb-4afe-b7b7-a9a0e0f96391\">\n",
              "    <div class=\"colab-df-container\">\n",
              "      <div>\n",
              "<style scoped>\n",
              "    .dataframe tbody tr th:only-of-type {\n",
              "        vertical-align: middle;\n",
              "    }\n",
              "\n",
              "    .dataframe tbody tr th {\n",
              "        vertical-align: top;\n",
              "    }\n",
              "\n",
              "    .dataframe thead th {\n",
              "        text-align: right;\n",
              "    }\n",
              "</style>\n",
              "<table border=\"1\" class=\"dataframe\">\n",
              "  <thead>\n",
              "    <tr style=\"text-align: right;\">\n",
              "      <th></th>\n",
              "      <th>gender</th>\n",
              "      <th>race</th>\n",
              "      <th>race_o</th>\n",
              "    </tr>\n",
              "  </thead>\n",
              "  <tbody>\n",
              "    <tr>\n",
              "      <th>count</th>\n",
              "      <td>8086</td>\n",
              "      <td>8086</td>\n",
              "      <td>8086</td>\n",
              "    </tr>\n",
              "    <tr>\n",
              "      <th>unique</th>\n",
              "      <td>2</td>\n",
              "      <td>5</td>\n",
              "      <td>5</td>\n",
              "    </tr>\n",
              "    <tr>\n",
              "      <th>top</th>\n",
              "      <td>female</td>\n",
              "      <td>European/Caucasian-American</td>\n",
              "      <td>European/Caucasian-American</td>\n",
              "    </tr>\n",
              "    <tr>\n",
              "      <th>freq</th>\n",
              "      <td>4043</td>\n",
              "      <td>4594</td>\n",
              "      <td>4594</td>\n",
              "    </tr>\n",
              "  </tbody>\n",
              "</table>\n",
              "</div>\n",
              "      <button class=\"colab-df-convert\" onclick=\"convertToInteractive('df-b5e9ba4f-d2eb-4afe-b7b7-a9a0e0f96391')\"\n",
              "              title=\"Convert this dataframe to an interactive table.\"\n",
              "              style=\"display:none;\">\n",
              "        \n",
              "  <svg xmlns=\"http://www.w3.org/2000/svg\" height=\"24px\"viewBox=\"0 0 24 24\"\n",
              "       width=\"24px\">\n",
              "    <path d=\"M0 0h24v24H0V0z\" fill=\"none\"/>\n",
              "    <path d=\"M18.56 5.44l.94 2.06.94-2.06 2.06-.94-2.06-.94-.94-2.06-.94 2.06-2.06.94zm-11 1L8.5 8.5l.94-2.06 2.06-.94-2.06-.94L8.5 2.5l-.94 2.06-2.06.94zm10 10l.94 2.06.94-2.06 2.06-.94-2.06-.94-.94-2.06-.94 2.06-2.06.94z\"/><path d=\"M17.41 7.96l-1.37-1.37c-.4-.4-.92-.59-1.43-.59-.52 0-1.04.2-1.43.59L10.3 9.45l-7.72 7.72c-.78.78-.78 2.05 0 2.83L4 21.41c.39.39.9.59 1.41.59.51 0 1.02-.2 1.41-.59l7.78-7.78 2.81-2.81c.8-.78.8-2.07 0-2.86zM5.41 20L4 18.59l7.72-7.72 1.47 1.35L5.41 20z\"/>\n",
              "  </svg>\n",
              "      </button>\n",
              "      \n",
              "  <style>\n",
              "    .colab-df-container {\n",
              "      display:flex;\n",
              "      flex-wrap:wrap;\n",
              "      gap: 12px;\n",
              "    }\n",
              "\n",
              "    .colab-df-convert {\n",
              "      background-color: #E8F0FE;\n",
              "      border: none;\n",
              "      border-radius: 50%;\n",
              "      cursor: pointer;\n",
              "      display: none;\n",
              "      fill: #1967D2;\n",
              "      height: 32px;\n",
              "      padding: 0 0 0 0;\n",
              "      width: 32px;\n",
              "    }\n",
              "\n",
              "    .colab-df-convert:hover {\n",
              "      background-color: #E2EBFA;\n",
              "      box-shadow: 0px 1px 2px rgba(60, 64, 67, 0.3), 0px 1px 3px 1px rgba(60, 64, 67, 0.15);\n",
              "      fill: #174EA6;\n",
              "    }\n",
              "\n",
              "    [theme=dark] .colab-df-convert {\n",
              "      background-color: #3B4455;\n",
              "      fill: #D2E3FC;\n",
              "    }\n",
              "\n",
              "    [theme=dark] .colab-df-convert:hover {\n",
              "      background-color: #434B5C;\n",
              "      box-shadow: 0px 1px 3px 1px rgba(0, 0, 0, 0.15);\n",
              "      filter: drop-shadow(0px 1px 2px rgba(0, 0, 0, 0.3));\n",
              "      fill: #FFFFFF;\n",
              "    }\n",
              "  </style>\n",
              "\n",
              "      <script>\n",
              "        const buttonEl =\n",
              "          document.querySelector('#df-b5e9ba4f-d2eb-4afe-b7b7-a9a0e0f96391 button.colab-df-convert');\n",
              "        buttonEl.style.display =\n",
              "          google.colab.kernel.accessAllowed ? 'block' : 'none';\n",
              "\n",
              "        async function convertToInteractive(key) {\n",
              "          const element = document.querySelector('#df-b5e9ba4f-d2eb-4afe-b7b7-a9a0e0f96391');\n",
              "          const dataTable =\n",
              "            await google.colab.kernel.invokeFunction('convertToInteractive',\n",
              "                                                     [key], {});\n",
              "          if (!dataTable) return;\n",
              "\n",
              "          const docLinkHtml = 'Like what you see? Visit the ' +\n",
              "            '<a target=\"_blank\" href=https://colab.research.google.com/notebooks/data_table.ipynb>data table notebook</a>'\n",
              "            + ' to learn more about interactive tables.';\n",
              "          element.innerHTML = '';\n",
              "          dataTable['output_type'] = 'display_data';\n",
              "          await google.colab.output.renderOutput(dataTable, element);\n",
              "          const docLink = document.createElement('div');\n",
              "          docLink.innerHTML = docLinkHtml;\n",
              "          element.appendChild(docLink);\n",
              "        }\n",
              "      </script>\n",
              "    </div>\n",
              "  </div>\n",
              "  "
            ]
          },
          "metadata": {},
          "execution_count": 135
        }
      ]
    },
    {
      "cell_type": "code",
      "source": [
        "df = pd.get_dummies(df, columns=['gender', 'race', 'race_o'], drop_first=True)\n",
        "\n",
        "df.info()"
      ],
      "metadata": {
        "colab": {
          "base_uri": "https://localhost:8080/"
        },
        "id": "-8jBSlW9RRJw",
        "outputId": "5145495d-8a86-408d-b365-c1a49d67d59e"
      },
      "execution_count": 136,
      "outputs": [
        {
          "output_type": "stream",
          "name": "stdout",
          "text": [
            "<class 'pandas.core.frame.DataFrame'>\n",
            "Int64Index: 8086 entries, 0 to 8377\n",
            "Data columns (total 61 columns):\n",
            " #   Column                              Non-Null Count  Dtype  \n",
            "---  ------                              --------------  -----  \n",
            " 0   has_null                            8086 non-null   int64  \n",
            " 1   age                                 8086 non-null   float64\n",
            " 2   age_o                               8086 non-null   float64\n",
            " 3   importance_same_race                8086 non-null   float64\n",
            " 4   importance_same_religion            8086 non-null   float64\n",
            " 5   pref_o_attractive                   8086 non-null   float64\n",
            " 6   pref_o_sincere                      8086 non-null   float64\n",
            " 7   pref_o_intelligence                 8086 non-null   float64\n",
            " 8   pref_o_funny                        8086 non-null   float64\n",
            " 9   pref_o_ambitious                    8086 non-null   float64\n",
            " 10  pref_o_shared_interests             8086 non-null   float64\n",
            " 11  attractive_o                        8086 non-null   float64\n",
            " 12  sincere_o                           8086 non-null   float64\n",
            " 13  intelligence_o                      8086 non-null   float64\n",
            " 14  funny_o                             8086 non-null   float64\n",
            " 15  ambitous_o                          8086 non-null   float64\n",
            " 16  shared_interests_o                  8086 non-null   float64\n",
            " 17  attractive_important                8086 non-null   float64\n",
            " 18  sincere_important                   8086 non-null   float64\n",
            " 19  intellicence_important              8086 non-null   float64\n",
            " 20  funny_important                     8086 non-null   float64\n",
            " 21  ambtition_important                 8086 non-null   float64\n",
            " 22  shared_interests_important          8086 non-null   float64\n",
            " 23  attractive_partner                  8086 non-null   float64\n",
            " 24  sincere_partner                     8086 non-null   float64\n",
            " 25  intelligence_partner                8086 non-null   float64\n",
            " 26  funny_partner                       8086 non-null   float64\n",
            " 27  ambition_partner                    8086 non-null   float64\n",
            " 28  shared_interests_partner            8086 non-null   float64\n",
            " 29  interests_correlate                 8086 non-null   float64\n",
            " 30  expected_happy_with_sd_people       8086 non-null   float64\n",
            " 31  expected_num_interested_in_me       8086 non-null   float64\n",
            " 32  like                                8086 non-null   float64\n",
            " 33  guess_prob_liked                    8086 non-null   float64\n",
            " 34  met                                 8086 non-null   float64\n",
            " 35  match                               8086 non-null   int64  \n",
            " 36  age_gap                             8086 non-null   float64\n",
            " 37  age_gap_abs                         8086 non-null   float64\n",
            " 38  same_race                           8086 non-null   int64  \n",
            " 39  same_race_point                     8086 non-null   float64\n",
            " 40  attractive_ptnr                     8086 non-null   float64\n",
            " 41  sincere_ptnr                        8086 non-null   float64\n",
            " 42  intelligence_ptnr                   8086 non-null   float64\n",
            " 43  funny_ptnr                          8086 non-null   float64\n",
            " 44  ambition_ptnr                       8086 non-null   float64\n",
            " 45  shared_ptnr                         8086 non-null   float64\n",
            " 46  attractive_me                       8086 non-null   float64\n",
            " 47  sincere_me                          8086 non-null   float64\n",
            " 48  intelligence_me                     8086 non-null   float64\n",
            " 49  funny_me                            8086 non-null   float64\n",
            " 50  ambition_me                         8086 non-null   float64\n",
            " 51  shared_me                           8086 non-null   float64\n",
            " 52  gender_male                         8086 non-null   uint8  \n",
            " 53  race_Black/AfricanAmerican          8086 non-null   uint8  \n",
            " 54  race_European/Caucasian-American    8086 non-null   uint8  \n",
            " 55  race_Latino/HispanicAmerican        8086 non-null   uint8  \n",
            " 56  race_Other                          8086 non-null   uint8  \n",
            " 57  race_o_Black/AfricanAmerican        8086 non-null   uint8  \n",
            " 58  race_o_European/Caucasian-American  8086 non-null   uint8  \n",
            " 59  race_o_Latino/HispanicAmerican      8086 non-null   uint8  \n",
            " 60  race_o_Other                        8086 non-null   uint8  \n",
            "dtypes: float64(49), int64(3), uint8(9)\n",
            "memory usage: 3.3 MB\n"
          ]
        }
      ]
    },
    {
      "cell_type": "markdown",
      "source": [
        "## Training Model"
      ],
      "metadata": {
        "id": "PX2E7MH3RhEh"
      }
    },
    {
      "cell_type": "markdown",
      "source": [
        "### train set, test set"
      ],
      "metadata": {
        "id": "vd20rPtXSZMI"
      }
    },
    {
      "cell_type": "code",
      "source": [
        "from sklearn.model_selection import train_test_split\n",
        "\n",
        "X = df.drop(columns=['match'])\n",
        "y = df['match']\n",
        "\n",
        "X_train, X_test, y_train, y_test = train_test_split(\n",
        "    X, y, test_size=0.25, random_state=814\n",
        ")"
      ],
      "metadata": {
        "id": "2xM1Is-ARlJJ"
      },
      "execution_count": 140,
      "outputs": []
    },
    {
      "cell_type": "markdown",
      "source": [
        "### Modeling"
      ],
      "metadata": {
        "id": "kkOiv-HCSSrZ"
      }
    },
    {
      "cell_type": "code",
      "source": [
        "import xgboost as xgb\n",
        "\n",
        "model = xgb.XGBClassifier(n_estimatiors=500, max_depth=5, random_state=np.random.randint(1000))\n",
        "\n",
        "model.fit(X_train, y_train)\n",
        "pred = model.predict(X_test)\n",
        "\n",
        "pred"
      ],
      "metadata": {
        "colab": {
          "base_uri": "https://localhost:8080/"
        },
        "id": "CLoa49WKSf2o",
        "outputId": "123b724a-da53-4d7d-dca4-efb375926448"
      },
      "execution_count": 141,
      "outputs": [
        {
          "output_type": "execute_result",
          "data": {
            "text/plain": [
              "array([0, 0, 0, ..., 0, 0, 0])"
            ]
          },
          "metadata": {},
          "execution_count": 141
        }
      ]
    },
    {
      "cell_type": "markdown",
      "source": [
        "## Evaluating Model"
      ],
      "metadata": {
        "id": "hOJ-vExYSyoB"
      }
    },
    {
      "cell_type": "code",
      "source": [
        "from sklearn.metrics import accuracy_score, confusion_matrix, classification_report\n",
        "\n",
        "\n",
        "# 매칭 여부\n",
        "match_mean = df['match'].mean()\n",
        "\n",
        "print(match_mean)\n",
        "# 데이터의 편향성\n",
        "print(1 - match_mean)\n",
        "print()\n",
        "\n",
        "print(accuracy_score(y_test, pred))"
      ],
      "metadata": {
        "colab": {
          "base_uri": "https://localhost:8080/"
        },
        "id": "2iA9J44JS5ho",
        "outputId": "9479acf5-81f6-4555-fddc-55ad0a36eae1"
      },
      "execution_count": 142,
      "outputs": [
        {
          "output_type": "stream",
          "name": "stdout",
          "text": [
            "0.16547118476378928\n",
            "0.8345288152362107\n",
            "\n",
            "0.8763600395647874\n"
          ]
        }
      ]
    },
    {
      "cell_type": "markdown",
      "source": [
        "### Confusion Matrix\n",
        "\n",
        "- 1종 오류: Actual 0, Predicted 1 = False Positive(FP)\n",
        "- 2종 오류: Actual 1, Predicted 0 = False Negative(FN)"
      ],
      "metadata": {
        "id": "ir1wGftITcqB"
      }
    },
    {
      "cell_type": "code",
      "source": [
        "print(confusion_matrix(y_test, pred))"
      ],
      "metadata": {
        "colab": {
          "base_uri": "https://localhost:8080/"
        },
        "id": "AcKSWXeWWOgx",
        "outputId": "0f0eaa35-4ff6-45d8-e37c-129238133cf5"
      },
      "execution_count": 146,
      "outputs": [
        {
          "output_type": "stream",
          "name": "stdout",
          "text": [
            "[[1638   56]\n",
            " [ 194  134]]\n"
          ]
        }
      ]
    },
    {
      "cell_type": "code",
      "source": [
        "cf_matrix = confusion_matrix(y_test, pred)\n",
        "\n",
        "cf_matrix"
      ],
      "metadata": {
        "colab": {
          "base_uri": "https://localhost:8080/"
        },
        "id": "YacrSrWxWj8Z",
        "outputId": "6ef9607e-5a52-436b-966c-4473616f8164"
      },
      "execution_count": 147,
      "outputs": [
        {
          "output_type": "execute_result",
          "data": {
            "text/plain": [
              "array([[1638,   56],\n",
              "       [ 194,  134]])"
            ]
          },
          "metadata": {},
          "execution_count": 147
        }
      ]
    },
    {
      "cell_type": "code",
      "source": [
        "group_name = ['TN', 'FP', 'FN', 'TP']\n",
        "group_counts = [\"{0:0.0f}\".format(value) for value in cf_matrix.flatten()]\n",
        "group_percent =  [\"{0:.2%}\".format(value) for value in cf_matrix.flatten() / np.sum(cf_matrix)]\n",
        "\n",
        "labels = [f\"{name}\\n{count}\\n{percent}\" for name, count, percent\n",
        "          in zip(group_name, group_counts, group_percent)]\n",
        "labels = np.asarray(labels).reshape(2, 2)          \n",
        "\n",
        "sns.heatmap(cf_matrix, annot=labels, fmt='', cmap='coolwarm')\n",
        "plt.ylabel('Actual')\n",
        "plt.xlabel('Predicted')\n",
        "\n",
        "plt.show()"
      ],
      "metadata": {
        "colab": {
          "base_uri": "https://localhost:8080/",
          "height": 279
        },
        "id": "oQINoaruWtoq",
        "outputId": "ac5cf721-b793-4897-b973-2f846427fb88"
      },
      "execution_count": 149,
      "outputs": [
        {
          "output_type": "display_data",
          "data": {
            "text/plain": [
              "<Figure size 432x288 with 2 Axes>"
            ],
            "image/png": "[encoded data removed]"
          },
          "metadata": {
            "needs_background": "light"
          }
        }
      ]
    },
    {
      "cell_type": "markdown",
      "source": [
        "### `classification_report(y_true, y_pred)`\n",
        "\n",
        "- 종속변수(y)의 값인 `0`과 `1` 각각에 대해 나타남\n",
        "\n",
        "- 예측하려는 경우인 `1`에 대한 값을 주로 해석한다.\n",
        "\n",
        "    - `precision`: 정밀도\n",
        "\n",
        "    - `recall`: 재현율\n",
        "\n",
        "    - `f1-score`: F1-점수\n",
        "\n",
        "    - `support`: index"
      ],
      "metadata": {
        "id": "sc0LDp93fO3Z"
      }
    },
    {
      "cell_type": "code",
      "source": [
        "print(classification_report(y_test, pred))"
      ],
      "metadata": {
        "colab": {
          "base_uri": "https://localhost:8080/"
        },
        "id": "UesDUME5gj3Q",
        "outputId": "755282c9-75b2-49b2-c5d8-5e855fb53b14"
      },
      "execution_count": 154,
      "outputs": [
        {
          "output_type": "stream",
          "name": "stdout",
          "text": [
            "              precision    recall  f1-score   support\n",
            "\n",
            "           0       0.89      0.97      0.93      1694\n",
            "           1       0.71      0.41      0.52       328\n",
            "\n",
            "    accuracy                           0.88      2022\n",
            "   macro avg       0.80      0.69      0.72      2022\n",
            "weighted avg       0.86      0.88      0.86      2022\n",
            "\n"
          ]
        }
      ]
    },
    {
      "cell_type": "markdown",
      "source": [
        "#### 정밀도(precision)\n",
        "* 1로 예측한 경우 중, 얼마만큼이 실제로 1인지를 나타냄<br>\n",
        "$TP\\over(TP+FP)$\n",
        "=\n",
        "$\\frac{TP}{Predicted True}$\n",
        "> FP(1종 오류)가 커질수록 분모가 커지기 때문에 정밀도는 낮아짐"
      ],
      "metadata": {
        "id": "IstoxZeMgQAD"
      }
    },
    {
      "cell_type": "markdown",
      "source": [
        "#### 재현율(recall)\n",
        "* 실제 1 중에, 얼마만큼을 1로 예측했는지 나타냄<br>\n",
        "$TP\\over(TP+FN)$\n",
        "=\n",
        "$\\frac{TP}{ActualTrue}$\n",
        "> FN(2종 오류)가 커질수록 분모가 커지기 때문에 재현율은 낮아짐"
      ],
      "metadata": {
        "id": "hb4E769RgjsH"
      }
    },
    {
      "cell_type": "markdown",
      "source": [
        "#### F1-점수(f1-score)\n",
        "* 정밀도와 재현율의 조화평균<br>\n",
        "    * 조화평균 : 주어진 수들의 역수의 산술평균의 역수   \n",
        "    $H = \\frac{2a_1a_2}{a_1 + a_2}$\n",
        "\n",
        "- F1-score = $2 \\times \\frac{precision \\times recall}{precesion + recall}$\n",
        "=\n",
        "$2 \\times \\frac{정밀도 \\times 재현율}{정밀도 + 재현율}$\n",
        "> 1종 오류가 중요하면 `precision`, 2종 오류가 중요하면 `recall`   \n",
        "> 딱히 중요한 것 없으면 `F1-score`"
      ],
      "metadata": {
        "id": "oYPxsCz6jUDD"
      }
    },
    {
      "cell_type": "markdown",
      "source": [
        "## Hyperparameter tuning"
      ],
      "metadata": {
        "id": "Cyq99T9Hj2jD"
      }
    },
    {
      "cell_type": "markdown",
      "source": [
        "### 경사하강법(Gradient descent)\n",
        "\n",
        "- XGBoost 등에서 Machine Learning을 학습시킬 때 최소의 오차를 찾는 방법\n",
        "\n",
        "- 오차 함수에 대한 경사도(미분계수, 기울기, Gradient)를 기준으로 매개변수를 반복해서 이동하며 오차의 최소값을 찾음\n",
        "\n",
        "    - 매개변수: 선형 회귀에서의 계수(변수에 대한 기울기 값)\n",
        "\n",
        "#### 경사하강법과 보폭\n",
        "\n",
        "- Gradient Boosting의 핵심개념, model이 최소 오차값을 만드는 매개변수들을 학습하는 방법론\n",
        "\n",
        "- 오차식에 대한 미분계수를 통해 매개변수의 이동 방향과 보폭을 결정\n",
        "\n",
        "    - 보폭: 매개변수의 이동량\n",
        "\n",
        "#### 미분계수(기울기)\n",
        "\n",
        "- 평균변화율에서 x의 증가량이 0에 무한히 가까워질 때 ($x → 0$) 평균변화율 값\n",
        "\n",
        "- 그래프상에서의 접선의 기울기, 계수"
      ],
      "metadata": {
        "id": "bIs3djFUlZ0p"
      }
    },
    {
      "cell_type": "markdown",
      "source": [
        "### GirdSearchCV\n",
        "\n",
        "- 사용자가 직접 model의 hyperparameter의 값을 list로 입력하면 값에 대한 경우의 수마다    \n",
        "예측 성능을 측정 평가, 비교하면서 최적의 hyperparameter 값을 찾는 과정을 진행\n",
        "\n",
        "#### Hyperparameter 종류\n",
        "\n",
        "- `learning_rate`(학습률) \n",
        "\n",
        "    - Gradient descent에서 'parameter'를 얼만큼씩 이동하면서 오차 최소값을 찾을 지 보폭의 크기를 결정\n",
        "\n",
        "    - 기본적으로 보폭은 미분계수에 의해 결정되지만, `learning_rate`에 비례해서 보폭이 증감됨.\n",
        "\n",
        "    - 학습률과 보폭: `learning_rate` = input → 보폭 = output\n",
        "        - 과도하게 작은 `learning_rate`: 상당한 시간 소모, overfitting 발생\n",
        "\n",
        "        - 과도하게 큰 `learning_rate`: 결여된 학습\n",
        "\n",
        "        - 적절한 크기의 학습률을 사용해야 적당한 시간에 최소 오차 지점을 찾을 수 있음\n",
        "\n",
        "- `max_depth`: 각 tree의 깊이 제한\n",
        "\n",
        "- `subsample`: 모델을 학습시킬 때 전체 데이터 대비 트리에 사용할 데이터 량의 값\n",
        "\n",
        "    - 0.5면 데이터의 절반씩 랜덤 추출\n",
        "\n",
        "    - overfitting을 방지하는 데 도움을 준다.\n",
        "\n",
        "- `n_estimators`: 전체 tree의 개수"
      ],
      "metadata": {
        "id": "J-QILhKCoije"
      }
    },
    {
      "cell_type": "code",
      "source": [
        "gsCV_parameter = {\n",
        "    'learning_rate': [0.01, 0.1, 0.2],\n",
        "    'max_depth': [3, 6, 9],\n",
        "    'subsample': [0.5, 0.75, 1],\n",
        "    'n_estimators': [250, 500, 1000]\n",
        "}"
      ],
      "metadata": {
        "id": "-xFVocRTqnJC"
      },
      "execution_count": 158,
      "outputs": []
    },
    {
      "cell_type": "code",
      "source": [
        "from sklearn.model_selection import GridSearchCV\n",
        "\n",
        "model = xgb.XGBClassifier()\n",
        "gs_model = GridSearchCV(model, gsCV_parameter, n_jobs=-1, scoring='f1', cv=5)\n",
        "\n",
        "gs_model.fit(X_train, y_train)"
      ],
      "metadata": {
        "id": "G_LSGBzZvetU"
      },
      "execution_count": null,
      "outputs": []
    },
    {
      "cell_type": "code",
      "source": [
        "import joblib\n",
        "\n",
        "joblib.dump(gs_model, 'XGBoost_GridSearchCV_model.pkl')"
      ],
      "metadata": {
        "id": "LPf8FsiEyKwl"
      },
      "execution_count": null,
      "outputs": []
    },
    {
      "cell_type": "markdown",
      "source": [
        "- 가장 높은 정확도의 paramter set"
      ],
      "metadata": {
        "id": "aUEdt2AKycPd"
      }
    },
    {
      "cell_type": "code",
      "source": [
        "gs_model.best_params_"
      ],
      "metadata": {
        "id": "PpRlLQlWyY0N"
      },
      "execution_count": null,
      "outputs": []
    },
    {
      "cell_type": "code",
      "source": [
        "pred = gs_model.predict(X_test)\n",
        "\n",
        "print(\"accuracy_score = \", accuracy_score(y_test, pred))\n",
        "print(classification_report(y_test, pred))"
      ],
      "metadata": {
        "id": "DQ_D1JdZyf4V"
      },
      "execution_count": null,
      "outputs": []
    },
    {
      "cell_type": "markdown",
      "source": [
        "### 변수의 영향력: 중요 변수 확인"
      ],
      "metadata": {
        "id": "tgoJiM13yv6e"
      }
    },
    {
      "cell_type": "code",
      "source": [
        "model = xgb.XGBClassifier(\n",
        "    learning_rate=0.3, max_depth=5, n_estimators=1000, subsample=0.5, random_state=100\n",
        ")\n",
        "\n",
        "model.fit(X_train, y_train)"
      ],
      "metadata": {
        "id": "8n8XsE1Py4SQ"
      },
      "execution_count": null,
      "outputs": []
    },
    {
      "cell_type": "markdown",
      "source": [
        "- 중요 변수"
      ],
      "metadata": {
        "id": "7K8ajlgCzGEG"
      }
    },
    {
      "cell_type": "code",
      "source": [
        "model.feature_importances_"
      ],
      "metadata": {
        "id": "Gtgf7nNrzH70"
      },
      "execution_count": null,
      "outputs": []
    },
    {
      "cell_type": "code",
      "source": [
        "important_feature = pd.DataFrame({'featurs': X_train.columns, 'values': model.feature_importances_})\n",
        "\n",
        "pd.options.display.float_format = '{:.6f}'.format\n",
        "important_feature.sort_values(by='values', ascending=False)"
      ],
      "metadata": {
        "id": "kXFG_HdGzKUC"
      },
      "execution_count": null,
      "outputs": []
    },
    {
      "cell_type": "code",
      "source": [
        "plt.figure(figsize=(100, 200))\n",
        "\n",
        "important_feature.sort_values(by='values', ascending=True).plot(kind='bar')\n",
        "plt.show()"
      ],
      "metadata": {
        "id": "JU81H3nezmCl"
      },
      "execution_count": null,
      "outputs": []
    },
    {
      "cell_type": "code",
      "source": [
        "plt.figure(figsize=(20, 10))\n",
        "sns.barplot(\n",
        "    x='values', y='features', data=important_feature.sort_values(by='values', ascending=False).head()\n",
        ")\n",
        "\n",
        "plt.show()"
      ],
      "metadata": {
        "id": "yn_oB9l_z5_0"
      },
      "execution_count": null,
      "outputs": []
    },
    {
      "cell_type": "code",
      "source": [],
      "metadata": {
        "id": "bYQW3fY50xUv"
      },
      "execution_count": null,
      "outputs": []
    }
  ]
}